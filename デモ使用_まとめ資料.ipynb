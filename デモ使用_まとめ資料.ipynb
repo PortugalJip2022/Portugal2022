{
  "cells": [
    {
      "cell_type": "markdown",
      "metadata": {
        "id": "view-in-github",
        "colab_type": "text"
      },
      "source": [
        "<a href=\"https://colab.research.google.com/github/PortugalJip2022/Portugal2022/blob/main/%E3%83%87%E3%83%A2%E4%BD%BF%E7%94%A8_%E3%81%BE%E3%81%A8%E3%82%81%E8%B3%87%E6%96%99.ipynb\" target=\"_parent\"><img src=\"https://colab.research.google.com/assets/colab-badge.svg\" alt=\"Open In Colab\"/></a>"
      ]
    },
    {
      "cell_type": "markdown",
      "metadata": {
        "id": "VBEL5g6yNWMq"
      },
      "source": [
        "# 準備"
      ]
    },
    {
      "cell_type": "markdown",
      "metadata": {
        "id": "1qzdT8VueyEE"
      },
      "source": [
        "## パッケージインストール"
      ]
    },
    {
      "cell_type": "code",
      "execution_count": null,
      "metadata": {
        "colab": {
          "base_uri": "https://localhost:8080/"
        },
        "id": "gr4akiGQqYmL",
        "outputId": "c16fa95f-b5cb-49aa-dfb7-bf6ccb849595"
      },
      "outputs": [
        {
          "output_type": "display_data",
          "data": {
            "text/html": [
              "<style>\n",
              ".list-inline {list-style: none; margin:0; padding: 0}\n",
              ".list-inline>li {display: inline-block}\n",
              ".list-inline>li:not(:last-child)::after {content: \"\\00b7\"; padding: 0 .5ex}\n",
              "</style>\n",
              "<ol class=list-inline><li>'abind'</li><li>'bitops'</li><li>'car'</li><li>'carData'</li><li>'caTools'</li><li>'checkmate'</li><li>'deldir'</li><li>'e1071'</li><li>'effects'</li><li>'estimability'</li><li>'Formula'</li><li>'gplots'</li><li>'gridExtra'</li><li>'gtools'</li><li>'Hmisc'</li><li>'htmlTable'</li><li>'htmlwidgets'</li><li>'insight'</li><li>'interp'</li><li>'IRdisplay'</li><li>'IRkernel'</li><li>'jpeg'</li><li>'latticeExtra'</li><li>'lme4'</li><li>'maptools'</li><li>'MatrixModels'</li><li>'minqa'</li><li>'mitools'</li><li>'nloptr'</li><li>'nortest'</li><li>'numDeriv'</li><li>'pbdZMQ'</li><li>'pbkrtest'</li><li>'png'</li><li>'proxy'</li><li>'quantreg'</li><li>'Rcmdr'</li><li>'RcmdrMisc'</li><li>'Rcpp'</li><li>'RcppEigen'</li><li>'readstata13'</li><li>'relimp'</li><li>'repr'</li><li>'ROCR'</li><li>'sandwich'</li><li>'sp'</li><li>'SparseM'</li><li>'survey'</li><li>'tcltk2'</li><li>'viridis'</li><li>'zoo'</li><li>'askpass'</li><li>'assertthat'</li><li>'backports'</li><li>'base64enc'</li><li>'bit'</li><li>'bit64'</li><li>'blob'</li><li>'brew'</li><li>'brio'</li><li>'broom'</li><li>'bslib'</li><li>'cachem'</li><li>'callr'</li><li>'cellranger'</li><li>'cli'</li><li>'clipr'</li><li>'colorspace'</li><li>'commonmark'</li><li>'cpp11'</li><li>'crayon'</li><li>'credentials'</li><li>'curl'</li><li>'data.table'</li><li>'DBI'</li><li>'dbplyr'</li><li>'desc'</li><li>'devtools'</li><li>'diffobj'</li><li>'digest'</li><li>'dplyr'</li><li>'dtplyr'</li><li>'ellipsis'</li><li>'evaluate'</li><li>'fansi'</li><li>'farver'</li><li>'fastmap'</li><li>'forcats'</li><li>'fs'</li><li>'gargle'</li><li>'generics'</li><li>'gert'</li><li>'ggplot2'</li><li>'gh'</li><li>'gitcreds'</li><li>'glue'</li><li>'googledrive'</li><li>'googlesheets4'</li><li>'gtable'</li><li>'haven'</li><li>'highr'</li><li>'hms'</li><li>'htmltools'</li><li>'httr'</li><li>'ids'</li><li>'ini'</li><li>'isoband'</li><li>'jquerylib'</li><li>'jsonlite'</li><li>'knitr'</li><li>'labeling'</li><li>'lifecycle'</li><li>'lubridate'</li><li>'magrittr'</li><li>'memoise'</li><li>'mime'</li><li>'modelr'</li><li>'munsell'</li><li>'openssl'</li><li>'pillar'</li><li>'pkgbuild'</li><li>'pkgconfig'</li><li>'pkgload'</li><li>'praise'</li><li>'prettyunits'</li><li>'processx'</li><li>'progress'</li><li>'ps'</li><li>'purrr'</li><li>'R6'</li><li>'rappdirs'</li><li>'rcmdcheck'</li><li>'RColorBrewer'</li><li>'readr'</li><li>'readxl'</li><li>'rematch'</li><li>'rematch2'</li><li>'remotes'</li><li>'reprex'</li><li>'rlang'</li><li>'rmarkdown'</li><li>'roxygen2'</li><li>'rprojroot'</li><li>'rstudioapi'</li><li>'rversions'</li><li>'rvest'</li><li>'sass'</li><li>'scales'</li><li>'selectr'</li><li>'sessioninfo'</li><li>'stringi'</li><li>'stringr'</li><li>'svglite'</li><li>'sys'</li><li>'systemfonts'</li><li>'testthat'</li><li>'tibble'</li><li>'tidyr'</li><li>'tidyselect'</li><li>'tidyverse'</li><li>'tinytex'</li><li>'tzdb'</li><li>'usethis'</li><li>'utf8'</li><li>'uuid'</li><li>'vctrs'</li><li>'viridisLite'</li><li>'vroom'</li><li>'waldo'</li><li>'whisker'</li><li>'withr'</li><li>'xfun'</li><li>'xml2'</li><li>'xopen'</li><li>'yaml'</li><li>'zip'</li><li>'base'</li><li>'boot'</li><li>'class'</li><li>'cluster'</li><li>'codetools'</li><li>'compiler'</li><li>'datasets'</li><li>'foreign'</li><li>'graphics'</li><li>'grDevices'</li><li>'grid'</li><li>'KernSmooth'</li><li>'lattice'</li><li>'MASS'</li><li>'Matrix'</li><li>'methods'</li><li>'mgcv'</li><li>'nlme'</li><li>'nnet'</li><li>'parallel'</li><li>'rpart'</li><li>'spatial'</li><li>'splines'</li><li>'stats'</li><li>'stats4'</li><li>'survival'</li><li>'tcltk'</li><li>'tools'</li><li>'utils'</li></ol>\n"
            ],
            "text/markdown": "1. 'abind'\n2. 'bitops'\n3. 'car'\n4. 'carData'\n5. 'caTools'\n6. 'checkmate'\n7. 'deldir'\n8. 'e1071'\n9. 'effects'\n10. 'estimability'\n11. 'Formula'\n12. 'gplots'\n13. 'gridExtra'\n14. 'gtools'\n15. 'Hmisc'\n16. 'htmlTable'\n17. 'htmlwidgets'\n18. 'insight'\n19. 'interp'\n20. 'IRdisplay'\n21. 'IRkernel'\n22. 'jpeg'\n23. 'latticeExtra'\n24. 'lme4'\n25. 'maptools'\n26. 'MatrixModels'\n27. 'minqa'\n28. 'mitools'\n29. 'nloptr'\n30. 'nortest'\n31. 'numDeriv'\n32. 'pbdZMQ'\n33. 'pbkrtest'\n34. 'png'\n35. 'proxy'\n36. 'quantreg'\n37. 'Rcmdr'\n38. 'RcmdrMisc'\n39. 'Rcpp'\n40. 'RcppEigen'\n41. 'readstata13'\n42. 'relimp'\n43. 'repr'\n44. 'ROCR'\n45. 'sandwich'\n46. 'sp'\n47. 'SparseM'\n48. 'survey'\n49. 'tcltk2'\n50. 'viridis'\n51. 'zoo'\n52. 'askpass'\n53. 'assertthat'\n54. 'backports'\n55. 'base64enc'\n56. 'bit'\n57. 'bit64'\n58. 'blob'\n59. 'brew'\n60. 'brio'\n61. 'broom'\n62. 'bslib'\n63. 'cachem'\n64. 'callr'\n65. 'cellranger'\n66. 'cli'\n67. 'clipr'\n68. 'colorspace'\n69. 'commonmark'\n70. 'cpp11'\n71. 'crayon'\n72. 'credentials'\n73. 'curl'\n74. 'data.table'\n75. 'DBI'\n76. 'dbplyr'\n77. 'desc'\n78. 'devtools'\n79. 'diffobj'\n80. 'digest'\n81. 'dplyr'\n82. 'dtplyr'\n83. 'ellipsis'\n84. 'evaluate'\n85. 'fansi'\n86. 'farver'\n87. 'fastmap'\n88. 'forcats'\n89. 'fs'\n90. 'gargle'\n91. 'generics'\n92. 'gert'\n93. 'ggplot2'\n94. 'gh'\n95. 'gitcreds'\n96. 'glue'\n97. 'googledrive'\n98. 'googlesheets4'\n99. 'gtable'\n100. 'haven'\n101. 'highr'\n102. 'hms'\n103. 'htmltools'\n104. 'httr'\n105. 'ids'\n106. 'ini'\n107. 'isoband'\n108. 'jquerylib'\n109. 'jsonlite'\n110. 'knitr'\n111. 'labeling'\n112. 'lifecycle'\n113. 'lubridate'\n114. 'magrittr'\n115. 'memoise'\n116. 'mime'\n117. 'modelr'\n118. 'munsell'\n119. 'openssl'\n120. 'pillar'\n121. 'pkgbuild'\n122. 'pkgconfig'\n123. 'pkgload'\n124. 'praise'\n125. 'prettyunits'\n126. 'processx'\n127. 'progress'\n128. 'ps'\n129. 'purrr'\n130. 'R6'\n131. 'rappdirs'\n132. 'rcmdcheck'\n133. 'RColorBrewer'\n134. 'readr'\n135. 'readxl'\n136. 'rematch'\n137. 'rematch2'\n138. 'remotes'\n139. 'reprex'\n140. 'rlang'\n141. 'rmarkdown'\n142. 'roxygen2'\n143. 'rprojroot'\n144. 'rstudioapi'\n145. 'rversions'\n146. 'rvest'\n147. 'sass'\n148. 'scales'\n149. 'selectr'\n150. 'sessioninfo'\n151. 'stringi'\n152. 'stringr'\n153. 'svglite'\n154. 'sys'\n155. 'systemfonts'\n156. 'testthat'\n157. 'tibble'\n158. 'tidyr'\n159. 'tidyselect'\n160. 'tidyverse'\n161. 'tinytex'\n162. 'tzdb'\n163. 'usethis'\n164. 'utf8'\n165. 'uuid'\n166. 'vctrs'\n167. 'viridisLite'\n168. 'vroom'\n169. 'waldo'\n170. 'whisker'\n171. 'withr'\n172. 'xfun'\n173. 'xml2'\n174. 'xopen'\n175. 'yaml'\n176. 'zip'\n177. 'base'\n178. 'boot'\n179. 'class'\n180. 'cluster'\n181. 'codetools'\n182. 'compiler'\n183. 'datasets'\n184. 'foreign'\n185. 'graphics'\n186. 'grDevices'\n187. 'grid'\n188. 'KernSmooth'\n189. 'lattice'\n190. 'MASS'\n191. 'Matrix'\n192. 'methods'\n193. 'mgcv'\n194. 'nlme'\n195. 'nnet'\n196. 'parallel'\n197. 'rpart'\n198. 'spatial'\n199. 'splines'\n200. 'stats'\n201. 'stats4'\n202. 'survival'\n203. 'tcltk'\n204. 'tools'\n205. 'utils'\n\n\n",
            "text/latex": "\\begin{enumerate*}\n\\item 'abind'\n\\item 'bitops'\n\\item 'car'\n\\item 'carData'\n\\item 'caTools'\n\\item 'checkmate'\n\\item 'deldir'\n\\item 'e1071'\n\\item 'effects'\n\\item 'estimability'\n\\item 'Formula'\n\\item 'gplots'\n\\item 'gridExtra'\n\\item 'gtools'\n\\item 'Hmisc'\n\\item 'htmlTable'\n\\item 'htmlwidgets'\n\\item 'insight'\n\\item 'interp'\n\\item 'IRdisplay'\n\\item 'IRkernel'\n\\item 'jpeg'\n\\item 'latticeExtra'\n\\item 'lme4'\n\\item 'maptools'\n\\item 'MatrixModels'\n\\item 'minqa'\n\\item 'mitools'\n\\item 'nloptr'\n\\item 'nortest'\n\\item 'numDeriv'\n\\item 'pbdZMQ'\n\\item 'pbkrtest'\n\\item 'png'\n\\item 'proxy'\n\\item 'quantreg'\n\\item 'Rcmdr'\n\\item 'RcmdrMisc'\n\\item 'Rcpp'\n\\item 'RcppEigen'\n\\item 'readstata13'\n\\item 'relimp'\n\\item 'repr'\n\\item 'ROCR'\n\\item 'sandwich'\n\\item 'sp'\n\\item 'SparseM'\n\\item 'survey'\n\\item 'tcltk2'\n\\item 'viridis'\n\\item 'zoo'\n\\item 'askpass'\n\\item 'assertthat'\n\\item 'backports'\n\\item 'base64enc'\n\\item 'bit'\n\\item 'bit64'\n\\item 'blob'\n\\item 'brew'\n\\item 'brio'\n\\item 'broom'\n\\item 'bslib'\n\\item 'cachem'\n\\item 'callr'\n\\item 'cellranger'\n\\item 'cli'\n\\item 'clipr'\n\\item 'colorspace'\n\\item 'commonmark'\n\\item 'cpp11'\n\\item 'crayon'\n\\item 'credentials'\n\\item 'curl'\n\\item 'data.table'\n\\item 'DBI'\n\\item 'dbplyr'\n\\item 'desc'\n\\item 'devtools'\n\\item 'diffobj'\n\\item 'digest'\n\\item 'dplyr'\n\\item 'dtplyr'\n\\item 'ellipsis'\n\\item 'evaluate'\n\\item 'fansi'\n\\item 'farver'\n\\item 'fastmap'\n\\item 'forcats'\n\\item 'fs'\n\\item 'gargle'\n\\item 'generics'\n\\item 'gert'\n\\item 'ggplot2'\n\\item 'gh'\n\\item 'gitcreds'\n\\item 'glue'\n\\item 'googledrive'\n\\item 'googlesheets4'\n\\item 'gtable'\n\\item 'haven'\n\\item 'highr'\n\\item 'hms'\n\\item 'htmltools'\n\\item 'httr'\n\\item 'ids'\n\\item 'ini'\n\\item 'isoband'\n\\item 'jquerylib'\n\\item 'jsonlite'\n\\item 'knitr'\n\\item 'labeling'\n\\item 'lifecycle'\n\\item 'lubridate'\n\\item 'magrittr'\n\\item 'memoise'\n\\item 'mime'\n\\item 'modelr'\n\\item 'munsell'\n\\item 'openssl'\n\\item 'pillar'\n\\item 'pkgbuild'\n\\item 'pkgconfig'\n\\item 'pkgload'\n\\item 'praise'\n\\item 'prettyunits'\n\\item 'processx'\n\\item 'progress'\n\\item 'ps'\n\\item 'purrr'\n\\item 'R6'\n\\item 'rappdirs'\n\\item 'rcmdcheck'\n\\item 'RColorBrewer'\n\\item 'readr'\n\\item 'readxl'\n\\item 'rematch'\n\\item 'rematch2'\n\\item 'remotes'\n\\item 'reprex'\n\\item 'rlang'\n\\item 'rmarkdown'\n\\item 'roxygen2'\n\\item 'rprojroot'\n\\item 'rstudioapi'\n\\item 'rversions'\n\\item 'rvest'\n\\item 'sass'\n\\item 'scales'\n\\item 'selectr'\n\\item 'sessioninfo'\n\\item 'stringi'\n\\item 'stringr'\n\\item 'svglite'\n\\item 'sys'\n\\item 'systemfonts'\n\\item 'testthat'\n\\item 'tibble'\n\\item 'tidyr'\n\\item 'tidyselect'\n\\item 'tidyverse'\n\\item 'tinytex'\n\\item 'tzdb'\n\\item 'usethis'\n\\item 'utf8'\n\\item 'uuid'\n\\item 'vctrs'\n\\item 'viridisLite'\n\\item 'vroom'\n\\item 'waldo'\n\\item 'whisker'\n\\item 'withr'\n\\item 'xfun'\n\\item 'xml2'\n\\item 'xopen'\n\\item 'yaml'\n\\item 'zip'\n\\item 'base'\n\\item 'boot'\n\\item 'class'\n\\item 'cluster'\n\\item 'codetools'\n\\item 'compiler'\n\\item 'datasets'\n\\item 'foreign'\n\\item 'graphics'\n\\item 'grDevices'\n\\item 'grid'\n\\item 'KernSmooth'\n\\item 'lattice'\n\\item 'MASS'\n\\item 'Matrix'\n\\item 'methods'\n\\item 'mgcv'\n\\item 'nlme'\n\\item 'nnet'\n\\item 'parallel'\n\\item 'rpart'\n\\item 'spatial'\n\\item 'splines'\n\\item 'stats'\n\\item 'stats4'\n\\item 'survival'\n\\item 'tcltk'\n\\item 'tools'\n\\item 'utils'\n\\end{enumerate*}\n",
            "text/plain": [
              "  [1] \"abind\"         \"bitops\"        \"car\"           \"carData\"      \n",
              "  [5] \"caTools\"       \"checkmate\"     \"deldir\"        \"e1071\"        \n",
              "  [9] \"effects\"       \"estimability\"  \"Formula\"       \"gplots\"       \n",
              " [13] \"gridExtra\"     \"gtools\"        \"Hmisc\"         \"htmlTable\"    \n",
              " [17] \"htmlwidgets\"   \"insight\"       \"interp\"        \"IRdisplay\"    \n",
              " [21] \"IRkernel\"      \"jpeg\"          \"latticeExtra\"  \"lme4\"         \n",
              " [25] \"maptools\"      \"MatrixModels\"  \"minqa\"         \"mitools\"      \n",
              " [29] \"nloptr\"        \"nortest\"       \"numDeriv\"      \"pbdZMQ\"       \n",
              " [33] \"pbkrtest\"      \"png\"           \"proxy\"         \"quantreg\"     \n",
              " [37] \"Rcmdr\"         \"RcmdrMisc\"     \"Rcpp\"          \"RcppEigen\"    \n",
              " [41] \"readstata13\"   \"relimp\"        \"repr\"          \"ROCR\"         \n",
              " [45] \"sandwich\"      \"sp\"            \"SparseM\"       \"survey\"       \n",
              " [49] \"tcltk2\"        \"viridis\"       \"zoo\"           \"askpass\"      \n",
              " [53] \"assertthat\"    \"backports\"     \"base64enc\"     \"bit\"          \n",
              " [57] \"bit64\"         \"blob\"          \"brew\"          \"brio\"         \n",
              " [61] \"broom\"         \"bslib\"         \"cachem\"        \"callr\"        \n",
              " [65] \"cellranger\"    \"cli\"           \"clipr\"         \"colorspace\"   \n",
              " [69] \"commonmark\"    \"cpp11\"         \"crayon\"        \"credentials\"  \n",
              " [73] \"curl\"          \"data.table\"    \"DBI\"           \"dbplyr\"       \n",
              " [77] \"desc\"          \"devtools\"      \"diffobj\"       \"digest\"       \n",
              " [81] \"dplyr\"         \"dtplyr\"        \"ellipsis\"      \"evaluate\"     \n",
              " [85] \"fansi\"         \"farver\"        \"fastmap\"       \"forcats\"      \n",
              " [89] \"fs\"            \"gargle\"        \"generics\"      \"gert\"         \n",
              " [93] \"ggplot2\"       \"gh\"            \"gitcreds\"      \"glue\"         \n",
              " [97] \"googledrive\"   \"googlesheets4\" \"gtable\"        \"haven\"        \n",
              "[101] \"highr\"         \"hms\"           \"htmltools\"     \"httr\"         \n",
              "[105] \"ids\"           \"ini\"           \"isoband\"       \"jquerylib\"    \n",
              "[109] \"jsonlite\"      \"knitr\"         \"labeling\"      \"lifecycle\"    \n",
              "[113] \"lubridate\"     \"magrittr\"      \"memoise\"       \"mime\"         \n",
              "[117] \"modelr\"        \"munsell\"       \"openssl\"       \"pillar\"       \n",
              "[121] \"pkgbuild\"      \"pkgconfig\"     \"pkgload\"       \"praise\"       \n",
              "[125] \"prettyunits\"   \"processx\"      \"progress\"      \"ps\"           \n",
              "[129] \"purrr\"         \"R6\"            \"rappdirs\"      \"rcmdcheck\"    \n",
              "[133] \"RColorBrewer\"  \"readr\"         \"readxl\"        \"rematch\"      \n",
              "[137] \"rematch2\"      \"remotes\"       \"reprex\"        \"rlang\"        \n",
              "[141] \"rmarkdown\"     \"roxygen2\"      \"rprojroot\"     \"rstudioapi\"   \n",
              "[145] \"rversions\"     \"rvest\"         \"sass\"          \"scales\"       \n",
              "[149] \"selectr\"       \"sessioninfo\"   \"stringi\"       \"stringr\"      \n",
              "[153] \"svglite\"       \"sys\"           \"systemfonts\"   \"testthat\"     \n",
              "[157] \"tibble\"        \"tidyr\"         \"tidyselect\"    \"tidyverse\"    \n",
              "[161] \"tinytex\"       \"tzdb\"          \"usethis\"       \"utf8\"         \n",
              "[165] \"uuid\"          \"vctrs\"         \"viridisLite\"   \"vroom\"        \n",
              "[169] \"waldo\"         \"whisker\"       \"withr\"         \"xfun\"         \n",
              "[173] \"xml2\"          \"xopen\"         \"yaml\"          \"zip\"          \n",
              "[177] \"base\"          \"boot\"          \"class\"         \"cluster\"      \n",
              "[181] \"codetools\"     \"compiler\"      \"datasets\"      \"foreign\"      \n",
              "[185] \"graphics\"      \"grDevices\"     \"grid\"          \"KernSmooth\"   \n",
              "[189] \"lattice\"       \"MASS\"          \"Matrix\"        \"methods\"      \n",
              "[193] \"mgcv\"          \"nlme\"          \"nnet\"          \"parallel\"     \n",
              "[197] \"rpart\"         \"spatial\"       \"splines\"       \"stats\"        \n",
              "[201] \"stats4\"        \"survival\"      \"tcltk\"         \"tools\"        \n",
              "[205] \"utils\"        "
            ]
          },
          "metadata": {}
        }
      ],
      "source": [
        "p = installed.packages()\n",
        "rownames( p )"
      ]
    },
    {
      "cell_type": "code",
      "execution_count": null,
      "metadata": {
        "colab": {
          "base_uri": "https://localhost:8080/"
        },
        "id": "P07SZxhJvzNG",
        "outputId": "4a5c7ac3-315a-43e0-8164-4a79426362c2"
      },
      "outputs": [
        {
          "output_type": "stream",
          "name": "stderr",
          "text": [
            "Installing package into ‘/usr/local/lib/R/site-library’\n",
            "(as ‘lib’ is unspecified)\n",
            "\n"
          ]
        }
      ],
      "source": [
        "install.packages( \"Rcmdr\" )"
      ]
    },
    {
      "cell_type": "code",
      "execution_count": null,
      "metadata": {
        "id": "2O1yVJmWZ7du"
      },
      "outputs": [],
      "source": [
        "library(\"Rcmdr\")"
      ]
    },
    {
      "cell_type": "code",
      "execution_count": null,
      "metadata": {
        "colab": {
          "base_uri": "https://localhost:8080/"
        },
        "id": "t4B0LtN3ezzh",
        "outputId": "2a3e7a98-e46e-4b14-8cfe-4270e59d6a2a"
      },
      "outputs": [
        {
          "output_type": "stream",
          "name": "stderr",
          "text": [
            "Installing package into ‘/usr/local/lib/R/site-library’\n",
            "(as ‘lib’ is unspecified)\n",
            "\n"
          ]
        }
      ],
      "source": [
        "install.packages( \"ROCR\" )"
      ]
    },
    {
      "cell_type": "code",
      "execution_count": null,
      "metadata": {
        "id": "qqWoPL_1mUbm"
      },
      "outputs": [],
      "source": [
        "llrt <- function(mfull,m){\n",
        "  loglik_full <- sum(mfull$y * log(mfull$fitted.values) + (1 - mfull$y) * log(1-mfull$fitted.values))\n",
        "  logLik_dvar <- sum(m$y * log(m$fitted.values) + (1 - m$y) * log(1-m$fitted.values))\n",
        "  chisq <- -2 * (logLik_dvar  - loglik_full)\n",
        "  df <- summary(mfull)$df[1] - summary(m)$df[1]\n",
        "  p <- 1- pchisq(chisq,df)\n",
        "  round(c(chisq , df ,p ),3)\n",
        "  }"
      ]
    },
    {
      "cell_type": "code",
      "execution_count": null,
      "metadata": {
        "id": "8gshsY9cTgBp"
      },
      "outputs": [],
      "source": [
        "library(Rcmdr)\n",
        "# library(Boruta)\n",
        "library(dplyr)\n",
        "library(ROCR)\n",
        "library(splines)\n",
        "library(stringr)"
      ]
    },
    {
      "cell_type": "code",
      "execution_count": null,
      "metadata": {
        "id": "W3zzA_2WPc_F"
      },
      "outputs": [],
      "source": [
        "library(Rcmdr)\n",
        "library(dplyr)\n",
        "library(ROCR)\n",
        "library(splines)\n",
        "library(stringr)"
      ]
    },
    {
      "cell_type": "markdown",
      "metadata": {
        "id": "KoWcNLGqAiJ1"
      },
      "source": [
        "##データ準備\n"
      ]
    },
    {
      "cell_type": "code",
      "execution_count": null,
      "metadata": {
        "id": "8FC76fWEAiJ2"
      },
      "outputs": [],
      "source": [
        "samp <-\n",
        "  read.table(\"https://raw.githubusercontent.com/PortugalJip2022/Portugal2022/main/bank-full.csv\",\n",
        "                  header=TRUE, stringsAsFactors=TRUE, sep=\";\", na.strings=\"NA\", dec=\".\",\n",
        "             strip.white=TRUE)"
      ]
    },
    {
      "cell_type": "code",
      "execution_count": null,
      "metadata": {
        "id": "CJQPnVl8AiJ2"
      },
      "outputs": [],
      "source": [
        "#頭にidをふる\n",
        "samp$id <- 1:nrow(samp)"
      ]
    },
    {
      "cell_type": "markdown",
      "metadata": {
        "id": "oXEO-lIuAiJ3"
      },
      "source": [
        "##モデル投入用変数の作成"
      ]
    },
    {
      "cell_type": "code",
      "execution_count": null,
      "metadata": {
        "id": "7Ad5uDA0fw7d"
      },
      "outputs": [],
      "source": [
        "# カテゴリ変数作成\n",
        "\n",
        "samp$C_job <- as.factor(samp$job)\n",
        "samp$C_marital <- as.factor(samp$marital)\n",
        "samp$C_education <- as.factor(samp$education)\n",
        "samp$C_default <- as.factor(samp$default)\n",
        "samp$C_housing <- as.factor(samp$housing)\n",
        "samp$C_loan<- as.factor(samp$loan)\n",
        "samp$C_contact <- as.factor(samp$contact)\n",
        "samp$C_day <- as.factor(samp$day)\n",
        "samp$C_month <- as.factor(samp$month)\n",
        "samp$C_poutcome <- as.factor(samp$poutcome)\n",
        "samp$C_y <- as.factor(samp$y)\n",
        "\n",
        "#目的変数をフラグに\n",
        "samp$yF <- if_else(samp$y == \"yes\",1,0)\n",
        "samp$C_yF <- as.factor(samp$yF)\n"
      ]
    },
    {
      "cell_type": "code",
      "execution_count": null,
      "metadata": {
        "id": "O9niZEluVGt6"
      },
      "outputs": [],
      "source": [
        "# 連続値作成\n",
        "\n",
        "##年齢\n",
        "samp$age_60 <- pmin(samp$age,60)\n",
        "\n",
        "#＃平均残高\n",
        "samp$balance_5000 <- pmax(samp$balance,-1)\n",
        "samp$balance_5000 <- pmin(samp$balance_5000,5000)\n",
        "\n",
        "##現在のマーケティングキャンペーンにおける顧客への連絡回数\n",
        "samp$campaign_11 <- pmin(samp$campaign,11)\n",
        "\n",
        "##以前のマーケティングキャンペーンにおける顧客への最終連絡日からの経過日数\n",
        "samp$pdays_120 <- pmin(samp$pdays,120)\n",
        "\n",
        "##以前のマーケティングキャンペーンにおける顧客への連絡回数\n",
        "samp$previous_11 <- pmin(samp$previous,11)\n",
        "\n",
        "\n",
        "#平滑化\n",
        "library(splines)\n",
        "i <- 3\n",
        "\n",
        "B_age <- bs(samp$age_60,df=i)\n",
        "B_balance <- bs(samp$balance_5000,df = i)\n",
        "B_campaign <- bs(samp$campaign_11,df = i)\n",
        "B_pdays <- bs(samp$pdays_120,df = i)\n",
        "B_previous <- bs(samp$previous_11,df = i)\n",
        "\n",
        "samp[,\"B_age\"] <- B_age\n",
        "samp[,\"B_balance\"] <- B_balance\n",
        "samp[,\"B_campaign\"] <- B_campaign\n",
        "samp[,\"B_pdays\"] <- B_pdays\n",
        "samp[,\"B_previous\"] <- B_previous\n"
      ]
    },
    {
      "cell_type": "markdown",
      "metadata": {
        "id": "TBbPXoX4RnGb"
      },
      "source": [
        "上記データをインサンプルデータとアウトサンプルデータに分割させる。"
      ]
    },
    {
      "cell_type": "code",
      "execution_count": null,
      "metadata": {
        "id": "7Kc51XM-jIM1"
      },
      "outputs": [],
      "source": [
        "# インサンプル作成\n",
        "set.seed(3)\n",
        "samp_i <- samp %>% sample_frac(0.5)\n",
        "\n",
        "# アウトサンプル作成\n",
        "samp_o <- samp[!(samp$id %in% samp_i$id), ]"
      ]
    },
    {
      "cell_type": "markdown",
      "metadata": {
        "id": "EDUwEy7JPcn1"
      },
      "source": [
        "# デモ（実行部分）  \n",
        "ロジスティック回帰モデル実行、説明力算出"
      ]
    },
    {
      "cell_type": "code",
      "execution_count": null,
      "metadata": {
        "colab": {
          "base_uri": "https://localhost:8080/"
        },
        "id": "OugB4VqgLa5Y",
        "outputId": "c3108348-8115-43ba-c1a2-50e266208596"
      },
      "outputs": [
        {
          "output_type": "stream",
          "name": "stderr",
          "text": [
            "Warning message:\n",
            "“glm.fit: fitted probabilities numerically 0 or 1 occurred”\n"
          ]
        }
      ],
      "source": [
        "#ステップワイズ最終結果 モデル作成\n",
        "\n",
        "mbs2 <- glm(yF  ~\n",
        "            B_previous + C_poutcome + C_month + C_day + C_contact +\n",
        "    C_loan + C_housing + C_education + C_marital + B_pdays +\n",
        "    B_campaign + B_balance + B_age + B_previous:C_contact + C_poutcome:B_pdays +\n",
        "    C_month:B_pdays + C_loan:B_pdays + C_housing:B_pdays + C_month:B_campaign +\n",
        "    C_contact:B_campaign + C_housing:B_campaign + C_education:B_campaign +\n",
        "    C_poutcome:B_balance + C_poutcome:B_age + C_contact:B_age\n",
        "            , data=samp_i,family=binomial(link=logit))"
      ]
    },
    {
      "cell_type": "code",
      "execution_count": null,
      "metadata": {
        "colab": {
          "base_uri": "https://localhost:8080/",
          "height": 1000
        },
        "id": "X3wNx6wg2pM9",
        "outputId": "4a220ab6-4b1f-40ef-e9a1-5d635867524d"
      },
      "outputs": [
        {
          "data": {
            "text/plain": [
              "\n",
              "Call:  glm(formula = yF ~ B_previous + C_poutcome + C_month + C_day + \n",
              "    C_contact + C_loan + C_housing + C_education + C_marital + \n",
              "    B_pdays + B_campaign + B_balance + B_age + B_previous:C_contact + \n",
              "    C_poutcome:B_pdays + C_month:B_pdays + C_loan:B_pdays + C_housing:B_pdays + \n",
              "    C_month:B_campaign + C_contact:B_campaign + C_housing:B_campaign + \n",
              "    C_education:B_campaign + C_poutcome:B_balance + C_poutcome:B_age + \n",
              "    C_contact:B_age, family = binomial(link = logit), data = samp_i)\n",
              "\n",
              "Coefficients:\n",
              "                     (Intercept)                       B_previous1  \n",
              "                       6.857e-02                         2.214e-01  \n",
              "                     B_previous2                       B_previous3  \n",
              "                       5.882e-01                         5.525e-01  \n",
              "                 C_poutcomeother                 C_poutcomesuccess  \n",
              "                      -4.174e+00                         2.423e+00  \n",
              "               C_poutcomeunknown                        C_monthaug  \n",
              "                      -2.789e-01                        -7.623e-01  \n",
              "                      C_monthdec                        C_monthfeb  \n",
              "                       5.756e-01                        -6.226e-01  \n",
              "                      C_monthjan                        C_monthjul  \n",
              "                      -1.011e+00                        -1.176e+00  \n",
              "                      C_monthjun                        C_monthmar  \n",
              "                       4.722e-02                         1.109e+00  \n",
              "                      C_monthmay                        C_monthnov  \n",
              "                      -6.209e-01                        -6.671e-01  \n",
              "                      C_monthoct                        C_monthsep  \n",
              "                       8.008e-01                         3.051e-01  \n",
              "                          C_day2                            C_day3  \n",
              "                      -6.021e-02                         6.706e-02  \n",
              "                          C_day4                            C_day5  \n",
              "                      -1.672e-01                        -1.056e-01  \n",
              "                          C_day6                            C_day7  \n",
              "                      -7.754e-03                        -3.638e-01  \n",
              "                          C_day8                            C_day9  \n",
              "                      -2.586e-01                         2.166e-02  \n",
              "                         C_day10                           C_day11  \n",
              "                       7.898e-02                        -1.639e-01  \n",
              "                         C_day12                           C_day13  \n",
              "                       2.348e-01                         1.884e-01  \n",
              "                         C_day14                           C_day15  \n",
              "                       1.302e-01                         1.043e-01  \n",
              "                         C_day16                           C_day17  \n",
              "                       4.928e-02                        -4.246e-01  \n",
              "                         C_day18                           C_day19  \n",
              "                      -1.829e-01                        -4.033e-01  \n",
              "                         C_day20                           C_day21  \n",
              "                      -3.304e-01                         4.491e-03  \n",
              "                         C_day22                           C_day23  \n",
              "                       2.207e-01                         2.817e-01  \n",
              "                         C_day24                           C_day25  \n",
              "                      -3.428e-01                         2.774e-01  \n",
              "                         C_day26                           C_day27  \n",
              "                       5.260e-03                         4.065e-01  \n",
              "                         C_day28                           C_day29  \n",
              "                      -2.651e-01                        -4.059e-01  \n",
              "                         C_day30                           C_day31  \n",
              "                       3.276e-01                        -2.260e-01  \n",
              "              C_contacttelephone                  C_contactunknown  \n",
              "                      -2.686e+00                        -2.104e+00  \n",
              "                       C_loanyes                      C_housingyes  \n",
              "                      -3.684e-01                        -4.561e-01  \n",
              "            C_educationsecondary               C_educationtertiary  \n",
              "                       1.858e-01                         1.414e-01  \n",
              "              C_educationunknown                  C_maritalmarried  \n",
              "                      -9.735e-02                        -2.935e-01  \n",
              "                 C_maritalsingle                          B_pdays1  \n",
              "                       2.221e-02                        -3.692e+00  \n",
              "                        B_pdays2                          B_pdays3  \n",
              "                       1.268e+00                        -3.705e-01  \n",
              "                     B_campaign1                       B_campaign2  \n",
              "                      -9.664e-01                         3.231e+00  \n",
              "                     B_campaign3                        B_balance1  \n",
              "                      -6.218e+00                        -8.568e-02  \n",
              "                      B_balance2                        B_balance3  \n",
              "                       9.348e-01                         2.144e-01  \n",
              "                          B_age1                            B_age2  \n",
              "                      -1.991e+00                        -6.016e-01  \n",
              "                          B_age3    B_previous1:C_contacttelephone  \n",
              "                      -1.340e+00                         1.904e+00  \n",
              "  B_previous2:C_contacttelephone    B_previous3:C_contacttelephone  \n",
              "                      -3.108e+00                        -3.158e-01  \n",
              "    B_previous1:C_contactunknown      B_previous2:C_contactunknown  \n",
              "                       7.077e+00                         7.722e+01  \n",
              "    B_previous3:C_contactunknown          C_poutcomeother:B_pdays1  \n",
              "                      -1.302e+03                         6.556e+00  \n",
              "      C_poutcomesuccess:B_pdays1        C_poutcomeunknown:B_pdays1  \n",
              "                      -1.361e+00                         1.407e+02  \n",
              "        C_poutcomeother:B_pdays2        C_poutcomesuccess:B_pdays2  \n",
              "                       2.490e+00                        -3.444e-01  \n",
              "      C_poutcomeunknown:B_pdays2          C_poutcomeother:B_pdays3  \n",
              "                              NA                         2.460e+00  \n",
              "      C_poutcomesuccess:B_pdays3        C_poutcomeunknown:B_pdays3  \n",
              "                      -3.633e-01                         1.884e+01  \n",
              "             C_monthaug:B_pdays1               C_monthdec:B_pdays1  \n",
              "                       7.779e+00                        -5.018e+03  \n",
              "             C_monthfeb:B_pdays1               C_monthjan:B_pdays1  \n",
              "                      -7.812e-01                         5.471e+00  \n",
              "             C_monthjul:B_pdays1               C_monthjun:B_pdays1  \n",
              "                       1.342e+01                         4.856e+00  \n",
              "             C_monthmar:B_pdays1               C_monthmay:B_pdays1  \n",
              "                       2.303e+01                         5.573e+00  \n",
              "             C_monthnov:B_pdays1               C_monthoct:B_pdays1  \n",
              "                       9.019e+00                         7.315e+00  \n",
              "             C_monthsep:B_pdays1               C_monthaug:B_pdays2  \n",
              "                       1.582e+00                        -3.665e+00  \n",
              "             C_monthdec:B_pdays2               C_monthfeb:B_pdays2  \n",
              "                       3.293e+02                         2.132e+00  \n",
              "             C_monthjan:B_pdays2               C_monthjul:B_pdays2  \n",
              "                      -7.390e-01                        -5.534e+00  \n",
              "             C_monthjun:B_pdays2               C_monthmar:B_pdays2  \n",
              "                      -3.695e+00                        -5.951e+00  \n",
              "             C_monthmay:B_pdays2               C_monthnov:B_pdays2  \n",
              "                      -1.712e+00                        -1.585e+00  \n",
              "             C_monthoct:B_pdays2               C_monthsep:B_pdays2  \n",
              "                      -5.184e+00                        -4.626e-01  \n",
              "             C_monthaug:B_pdays3               C_monthdec:B_pdays3  \n",
              "                       2.095e+00                        -7.256e-01  \n",
              "             C_monthfeb:B_pdays3               C_monthjan:B_pdays3  \n",
              "                       4.101e-01                        -8.701e-02  \n",
              "             C_monthjul:B_pdays3               C_monthjun:B_pdays3  \n",
              "                       1.976e+00                         1.239e+00  \n",
              "             C_monthmar:B_pdays3               C_monthmay:B_pdays3  \n",
              "                       4.047e-01                         2.294e-01  \n",
              "             C_monthnov:B_pdays3               C_monthoct:B_pdays3  \n",
              "                       4.468e-01                         1.107e-01  \n",
              "             C_monthsep:B_pdays3                C_loanyes:B_pdays1  \n",
              "                       4.452e-01                         5.377e+00  \n",
              "              C_loanyes:B_pdays2                C_loanyes:B_pdays3  \n",
              "                      -4.389e+00                         1.861e-02  \n",
              "           C_housingyes:B_pdays1             C_housingyes:B_pdays2  \n",
              "                      -3.012e+00                         1.413e+00  \n",
              "           C_housingyes:B_pdays3            C_monthaug:B_campaign1  \n",
              "                      -6.075e-01                        -1.528e+00  \n",
              "          C_monthdec:B_campaign1            C_monthfeb:B_campaign1  \n",
              "                       6.920e+00                         8.637e-01  \n",
              "          C_monthjan:B_campaign1            C_monthjul:B_campaign1  \n",
              "                       4.506e-01                         1.001e+00  \n",
              "          C_monthjun:B_campaign1            C_monthmar:B_campaign1  \n",
              "                       1.351e-01                        -1.034e+00  \n",
              "          C_monthmay:B_campaign1            C_monthnov:B_campaign1  \n",
              "                       8.225e-01                        -1.315e+00  \n",
              "          C_monthoct:B_campaign1            C_monthsep:B_campaign1  \n",
              "                      -8.974e+00                         1.728e+00  \n",
              "          C_monthaug:B_campaign2            C_monthdec:B_campaign2  \n",
              "                      -1.517e+00                        -2.328e+01  \n",
              "          C_monthfeb:B_campaign2            C_monthjan:B_campaign2  \n",
              "                      -3.588e+00                        -1.107e+00  \n",
              "          C_monthjul:B_campaign2            C_monthjun:B_campaign2  \n",
              "                      -1.960e+00                         8.721e-01  \n",
              "          C_monthmar:B_campaign2            C_monthmay:B_campaign2  \n",
              "                       1.177e+01                        -2.632e+00  \n",
              "          C_monthnov:B_campaign2            C_monthoct:B_campaign2  \n",
              "                       3.349e+00                         8.780e+01  \n",
              "          C_monthsep:B_campaign2            C_monthaug:B_campaign3  \n",
              "                      -3.320e+00                         1.778e+00  \n",
              "          C_monthdec:B_campaign3            C_monthfeb:B_campaign3  \n",
              "                       4.131e+01                         1.622e+00  \n",
              "          C_monthjan:B_campaign3            C_monthjul:B_campaign3  \n",
              "                       9.592e+00                         2.112e+00  \n",
              "          C_monthjun:B_campaign3            C_monthmar:B_campaign3  \n",
              "                       1.387e+00                        -7.194e+01  \n",
              "          C_monthmay:B_campaign3            C_monthnov:B_campaign3  \n",
              "                       8.676e-01                        -2.322e+01  \n",
              "          C_monthoct:B_campaign3            C_monthsep:B_campaign3  \n",
              "                      -5.168e+02                         3.218e+00  \n",
              "  C_contacttelephone:B_campaign1      C_contactunknown:B_campaign1  \n",
              "                      -8.467e-01                         2.407e-02  \n",
              "  C_contacttelephone:B_campaign2      C_contactunknown:B_campaign2  \n",
              "                       1.226e+00                        -1.713e+00  \n",
              "  C_contacttelephone:B_campaign3      C_contactunknown:B_campaign3  \n",
              "                       1.581e+00                         1.319e+00  \n",
              "        C_housingyes:B_campaign1          C_housingyes:B_campaign2  \n",
              "                       3.883e-01                        -3.510e-01  \n",
              "        C_housingyes:B_campaign3  C_educationsecondary:B_campaign1  \n",
              "                       1.452e+00                         2.215e-01  \n",
              " C_educationtertiary:B_campaign1    C_educationunknown:B_campaign1  \n",
              "                       6.998e-01                         1.127e+00  \n",
              "C_educationsecondary:B_campaign2   C_educationtertiary:B_campaign2  \n",
              "                      -2.232e+00                        -5.765e-01  \n",
              "  C_educationunknown:B_campaign2  C_educationsecondary:B_campaign3  \n",
              "                      -1.399e+00                         2.395e+00  \n",
              " C_educationtertiary:B_campaign3    C_educationunknown:B_campaign3  \n",
              "                       2.112e+00                         2.922e+00  \n",
              "      C_poutcomeother:B_balance1      C_poutcomesuccess:B_balance1  \n",
              "                      -1.068e+00                        -7.935e-01  \n",
              "    C_poutcomeunknown:B_balance1        C_poutcomeother:B_balance2  \n",
              "                       8.990e-01                         1.564e+00  \n",
              "    C_poutcomesuccess:B_balance2      C_poutcomeunknown:B_balance2  \n",
              "                      -1.885e+00                        -4.375e-01  \n",
              "      C_poutcomeother:B_balance3      C_poutcomesuccess:B_balance3  \n",
              "                      -6.056e-01                        -6.321e-01  \n",
              "    C_poutcomeunknown:B_balance3            C_poutcomeother:B_age1  \n",
              "                       2.361e-01                         3.623e+00  \n",
              "        C_poutcomesuccess:B_age1          C_poutcomeunknown:B_age1  \n",
              "                      -5.101e-01                         4.981e-01  \n",
              "          C_poutcomeother:B_age2          C_poutcomesuccess:B_age2  \n",
              "                       1.215e+00                         1.266e+00  \n",
              "        C_poutcomeunknown:B_age2            C_poutcomeother:B_age3  \n",
              "                      -8.126e-01                         2.106e+00  \n",
              "        C_poutcomesuccess:B_age3          C_poutcomeunknown:B_age3  \n",
              "                       6.965e-01                         8.334e-01  \n",
              "       C_contacttelephone:B_age1           C_contactunknown:B_age1  \n",
              "                       4.539e+00                         1.728e+00  \n",
              "       C_contacttelephone:B_age2           C_contactunknown:B_age2  \n",
              "                       1.641e+00                         4.512e-01  \n",
              "       C_contacttelephone:B_age3           C_contactunknown:B_age3  \n",
              "                       2.340e+00                         3.123e-02  \n",
              "\n",
              "Degrees of Freedom: 22605 Total (i.e. Null);  22409 Residual\n",
              "Null Deviance:\t    16260 \n",
              "Residual Deviance: 12910 \tAIC: 13300"
            ]
          },
          "metadata": {},
          "output_type": "display_data"
        }
      ],
      "source": [
        "mbs2"
      ]
    },
    {
      "cell_type": "markdown",
      "metadata": {
        "id": "wfgXf4mC0zkL"
      },
      "source": [
        "mbs2 記入して実行（中身見せる）"
      ]
    },
    {
      "cell_type": "code",
      "execution_count": null,
      "metadata": {
        "colab": {
          "base_uri": "https://localhost:8080/",
          "height": 69
        },
        "id": "meMt-pxdUbLK",
        "outputId": "a9c5973e-a545-41e4-fb74-013bd5212bba"
      },
      "outputs": [
        {
          "output_type": "stream",
          "name": "stderr",
          "text": [
            "Warning message in predict.lm(object, newdata, se.fit, scale = 1, type = if (type == :\n",
            "“prediction from a rank-deficient fit may be misleading”\n"
          ]
        },
        {
          "output_type": "display_data",
          "data": {
            "text/html": [
              "<style>\n",
              ".list-inline {list-style: none; margin:0; padding: 0}\n",
              ".list-inline>li {display: inline-block}\n",
              ".list-inline>li:not(:last-child)::after {content: \"\\00b7\"; padding: 0 .5ex}\n",
              "</style>\n",
              "<ol class=list-inline><li>55.41</li><li>58.1</li><li>68.11</li><li>89.58</li></ol>\n"
            ],
            "text/markdown": "1. 55.41\n2. 58.1\n3. 68.11\n4. 89.58\n\n\n",
            "text/latex": "\\begin{enumerate*}\n\\item 55.41\n\\item 58.1\n\\item 68.11\n\\item 89.58\n\\end{enumerate*}\n",
            "text/plain": [
              "[1] 55.41 58.10 68.11 89.58"
            ]
          },
          "metadata": {}
        }
      ],
      "source": [
        "# アウトサンプル 説明力算出\n",
        "\n",
        "df_o_out <- data.frame(samp_o,p=predict(mbs2,newdata = samp_o,type=\"response\"))\n",
        "\n",
        "d_arcap <- df_o_out\n",
        "\n",
        "#目的変数名\n",
        "targetName <- \"yF\"\n",
        "targetPred <- d_arcap[,targetName]\n",
        "\n",
        "#ソートする変数、予測確率、GNO、CR\n",
        "sortName <- \"p\"\n",
        "sortPred <- d_arcap[,sortName]\n",
        "\n",
        "#ARの計算\n",
        "pred <- prediction(sortPred,targetPred)\n",
        "AUC <- as.numeric( performance(pred,\"auc\")@y.values )\n",
        "AR <- 2 *(AUC-0.5) * 100 #AR値\n",
        "\n",
        "#CAP値の計算\n",
        "#予測確率（GNO、CR）を照準に件数等分１０分類\n",
        "d_arcap$CP10 <- bin.var( sortPred, bins=10, method='proportions',labels =FALSE)\n",
        "\n",
        "#区分別のデフォルト件数\n",
        "dcount <- tapply(targetPred,list(CP10=d_arcap$CP10),sum,na.rm=TRUE)\n",
        "\n",
        "#CAP20値\n",
        "CAP20 <- sum(dcount[9:10]) / sum(dcount) * 100\n",
        "\n",
        "#CAP30値\n",
        "CAP30 <- sum(dcount[8:10]) / sum(dcount) * 100\n",
        "\n",
        "#CAP70値\n",
        "CAP70 <- sum(dcount[4:10]) / sum(dcount) * 100\n",
        "\n",
        "#アウトサンプル説明力結果\n",
        "round(c(AR,CAP20,CAP30,CAP70),2)"
      ]
    },
    {
      "cell_type": "markdown",
      "metadata": {
        "id": "mnXFSVnTSz55"
      },
      "source": [
        "# 表示用資料"
      ]
    },
    {
      "cell_type": "markdown",
      "metadata": {
        "id": "bHwN70nhgE9-"
      },
      "source": [
        "##各変数の効き  "
      ]
    },
    {
      "cell_type": "code",
      "execution_count": null,
      "metadata": {
        "colab": {
          "base_uri": "https://localhost:8080/"
        },
        "id": "76OdkyOVAiKJ",
        "outputId": "087109d6-f258-4f8b-8bc0-83657207a1c0"
      },
      "outputs": [
        {
          "name": "stderr",
          "output_type": "stream",
          "text": [
            "Warning message:\n",
            "“glm.fit: fitted probabilities numerically 0 or 1 occurred”\n"
          ]
        }
      ],
      "source": [
        "#モデル作成_ステップワイズ結果版（ロジスティック回帰）\n",
        "\n",
        "mbs <- glm(yF  ~\n",
        "            B_previous + C_poutcome + C_month + C_day + C_contact +\n",
        "    C_loan + C_housing + C_education + C_marital + B_pdays +\n",
        "    B_campaign + B_balance + B_age + B_previous:C_contact + C_poutcome:B_pdays +\n",
        "    C_month:B_pdays + C_loan:B_pdays + C_housing:B_pdays + C_month:B_campaign +\n",
        "    C_contact:B_campaign + C_housing:B_campaign + C_education:B_campaign +\n",
        "    C_poutcome:B_balance + C_poutcome:B_age + C_contact:B_age\n",
        "            , data=samp_i,family=binomial(link=logit))"
      ]
    },
    {
      "cell_type": "code",
      "execution_count": null,
      "metadata": {
        "colab": {
          "background_save": true,
          "base_uri": "https://localhost:8080/"
        },
        "id": "Jq8xVC5MAiKK",
        "outputId": "08ed2b12-fc93-47db-8755-ecd046b2e961"
      },
      "outputs": [
        {
          "name": "stderr",
          "output_type": "stream",
          "text": [
            "Warning message:\n",
            "“glm.fit: fitted probabilities numerically 0 or 1 occurred”\n",
            "Warning message:\n",
            "“glm.fit: fitted probabilities numerically 0 or 1 occurred”\n",
            "Warning message:\n",
            "“glm.fit: fitted probabilities numerically 0 or 1 occurred”\n",
            "Warning message:\n",
            "“glm.fit: fitted probabilities numerically 0 or 1 occurred”\n",
            "Warning message:\n",
            "“glm.fit: fitted probabilities numerically 0 or 1 occurred”\n",
            "Warning message:\n",
            "“glm.fit: fitted probabilities numerically 0 or 1 occurred”\n",
            "Warning message:\n",
            "“glm.fit: fitted probabilities numerically 0 or 1 occurred”\n",
            "Warning message:\n",
            "“glm.fit: fitted probabilities numerically 0 or 1 occurred”\n",
            "Warning message:\n",
            "“glm.fit: fitted probabilities numerically 0 or 1 occurred”\n",
            "Warning message:\n",
            "“glm.fit: fitted probabilities numerically 0 or 1 occurred”\n",
            "Warning message:\n",
            "“glm.fit: fitted probabilities numerically 0 or 1 occurred”\n",
            "Warning message:\n",
            "“glm.fit: fitted probabilities numerically 0 or 1 occurred”\n",
            "Warning message:\n",
            "“glm.fit: fitted probabilities numerically 0 or 1 occurred”\n",
            "Warning message:\n",
            "“glm.fit: fitted probabilities numerically 0 or 1 occurred”\n",
            "Warning message:\n",
            "“glm.fit: fitted probabilities numerically 0 or 1 occurred”\n",
            "Warning message:\n",
            "“glm.fit: fitted probabilities numerically 0 or 1 occurred”\n",
            "Warning message:\n",
            "“glm.fit: fitted probabilities numerically 0 or 1 occurred”\n",
            "Warning message:\n",
            "“glm.fit: fitted probabilities numerically 0 or 1 occurred”\n",
            "Warning message:\n",
            "“glm.fit: fitted probabilities numerically 0 or 1 occurred”\n",
            "Warning message:\n",
            "“glm.fit: fitted probabilities numerically 0 or 1 occurred”\n",
            "Warning message:\n",
            "“glm.fit: fitted probabilities numerically 0 or 1 occurred”\n",
            "Warning message:\n",
            "“glm.fit: fitted probabilities numerically 0 or 1 occurred”\n",
            "Warning message:\n",
            "“glm.fit: fitted probabilities numerically 0 or 1 occurred”\n",
            "Warning message:\n",
            "“glm.fit: fitted probabilities numerically 0 or 1 occurred”\n",
            "Warning message:\n",
            "“glm.fit: fitted probabilities numerically 0 or 1 occurred”\n",
            "Warning message:\n",
            "“glm.fit: fitted probabilities numerically 0 or 1 occurred”\n",
            "Warning message:\n",
            "“glm.fit: fitted probabilities numerically 0 or 1 occurred”\n",
            "Warning message:\n",
            "“glm.fit: fitted probabilities numerically 0 or 1 occurred”\n",
            "Warning message:\n",
            "“glm.fit: fitted probabilities numerically 0 or 1 occurred”\n",
            "Warning message:\n",
            "“glm.fit: fitted probabilities numerically 0 or 1 occurred”\n",
            "Warning message:\n",
            "“glm.fit: fitted probabilities numerically 0 or 1 occurred”\n",
            "Warning message:\n",
            "“glm.fit: fitted probabilities numerically 0 or 1 occurred”\n",
            "Warning message:\n",
            "“glm.fit: fitted probabilities numerically 0 or 1 occurred”\n",
            "Warning message:\n",
            "“glm.fit: fitted probabilities numerically 0 or 1 occurred”\n",
            "Warning message:\n",
            "“glm.fit: fitted probabilities numerically 0 or 1 occurred”\n",
            "Warning message:\n",
            "“glm.fit: fitted probabilities numerically 0 or 1 occurred”\n"
          ]
        },
        {
          "data": {
            "text/html": [
              "<table class=\"dataframe\">\n",
              "<caption>A anova: 25 × 3</caption>\n",
              "<thead>\n",
              "\t<tr><th></th><th scope=col>LR Chisq</th><th scope=col>Df</th><th scope=col>Pr(&gt;Chisq)</th></tr>\n",
              "\t<tr><th></th><th scope=col>&lt;dbl&gt;</th><th scope=col>&lt;dbl&gt;</th><th scope=col>&lt;dbl&gt;</th></tr>\n",
              "</thead>\n",
              "<tbody>\n",
              "\t<tr><th scope=row>B_previous</th><td>  4.773367</td><td> 3</td><td>1.891647e-01</td></tr>\n",
              "\t<tr><th scope=row>C_poutcome</th><td>314.751080</td><td> 3</td><td>6.382171e-68</td></tr>\n",
              "\t<tr><th scope=row>C_month</th><td>357.893400</td><td>11</td><td>5.174079e-70</td></tr>\n",
              "\t<tr><th scope=row>C_day</th><td> 89.238950</td><td>30</td><td>8.561608e-08</td></tr>\n",
              "\t<tr><th scope=row>C_contact</th><td>241.749787</td><td> 2</td><td>3.196691e-53</td></tr>\n",
              "\t<tr><th scope=row>C_loan</th><td> 25.502347</td><td> 1</td><td>4.418451e-07</td></tr>\n",
              "\t<tr><th scope=row>C_housing</th><td> 79.126940</td><td> 1</td><td>5.824464e-19</td></tr>\n",
              "\t<tr><th scope=row>C_education</th><td> 12.886837</td><td> 3</td><td>4.887829e-03</td></tr>\n",
              "\t<tr><th scope=row>C_marital</th><td> 35.647564</td><td> 2</td><td>1.816477e-08</td></tr>\n",
              "\t<tr><th scope=row>B_pdays</th><td>  7.371004</td><td> 3</td><td>6.096720e-02</td></tr>\n",
              "\t<tr><th scope=row>B_campaign</th><td> 38.346878</td><td> 3</td><td>2.386704e-08</td></tr>\n",
              "\t<tr><th scope=row>B_balance</th><td> 40.012148</td><td> 3</td><td>1.059210e-08</td></tr>\n",
              "\t<tr><th scope=row>B_age</th><td> 26.144481</td><td> 3</td><td>8.895633e-06</td></tr>\n",
              "\t<tr><th scope=row>B_previous:C_contact</th><td> 19.195113</td><td> 6</td><td>3.846499e-03</td></tr>\n",
              "\t<tr><th scope=row>C_poutcome:B_pdays</th><td> 16.384891</td><td> 8</td><td>3.719099e-02</td></tr>\n",
              "\t<tr><th scope=row>C_month:B_pdays</th><td>148.435672</td><td>33</td><td>1.396957e-16</td></tr>\n",
              "\t<tr><th scope=row>C_loan:B_pdays</th><td>  6.049852</td><td> 3</td><td>1.092098e-01</td></tr>\n",
              "\t<tr><th scope=row>C_housing:B_pdays</th><td> 19.727508</td><td> 3</td><td>1.933057e-04</td></tr>\n",
              "\t<tr><th scope=row>C_month:B_campaign</th><td> 92.656064</td><td>33</td><td>1.431720e-07</td></tr>\n",
              "\t<tr><th scope=row>C_contact:B_campaign</th><td> 12.800772</td><td> 6</td><td>4.631109e-02</td></tr>\n",
              "\t<tr><th scope=row>C_housing:B_campaign</th><td>  8.565111</td><td> 3</td><td>3.566824e-02</td></tr>\n",
              "\t<tr><th scope=row>C_education:B_campaign</th><td> 23.385127</td><td> 9</td><td>5.386936e-03</td></tr>\n",
              "\t<tr><th scope=row>C_poutcome:B_balance</th><td> 29.541480</td><td> 9</td><td>5.248707e-04</td></tr>\n",
              "\t<tr><th scope=row>C_poutcome:B_age</th><td> 25.619468</td><td> 9</td><td>2.357168e-03</td></tr>\n",
              "\t<tr><th scope=row>C_contact:B_age</th><td> 19.492923</td><td> 6</td><td>3.407304e-03</td></tr>\n",
              "</tbody>\n",
              "</table>\n"
            ],
            "text/latex": "A anova: 25 × 3\n\\begin{tabular}{r|lll}\n  & LR Chisq & Df & Pr(>Chisq)\\\\\n  & <dbl> & <dbl> & <dbl>\\\\\n\\hline\n\tB\\_previous &   4.773367 &  3 & 1.891647e-01\\\\\n\tC\\_poutcome & 314.751080 &  3 & 6.382171e-68\\\\\n\tC\\_month & 357.893400 & 11 & 5.174079e-70\\\\\n\tC\\_day &  89.238950 & 30 & 8.561608e-08\\\\\n\tC\\_contact & 241.749787 &  2 & 3.196691e-53\\\\\n\tC\\_loan &  25.502347 &  1 & 4.418451e-07\\\\\n\tC\\_housing &  79.126940 &  1 & 5.824464e-19\\\\\n\tC\\_education &  12.886837 &  3 & 4.887829e-03\\\\\n\tC\\_marital &  35.647564 &  2 & 1.816477e-08\\\\\n\tB\\_pdays &   7.371004 &  3 & 6.096720e-02\\\\\n\tB\\_campaign &  38.346878 &  3 & 2.386704e-08\\\\\n\tB\\_balance &  40.012148 &  3 & 1.059210e-08\\\\\n\tB\\_age &  26.144481 &  3 & 8.895633e-06\\\\\n\tB\\_previous:C\\_contact &  19.195113 &  6 & 3.846499e-03\\\\\n\tC\\_poutcome:B\\_pdays &  16.384891 &  8 & 3.719099e-02\\\\\n\tC\\_month:B\\_pdays & 148.435672 & 33 & 1.396957e-16\\\\\n\tC\\_loan:B\\_pdays &   6.049852 &  3 & 1.092098e-01\\\\\n\tC\\_housing:B\\_pdays &  19.727508 &  3 & 1.933057e-04\\\\\n\tC\\_month:B\\_campaign &  92.656064 & 33 & 1.431720e-07\\\\\n\tC\\_contact:B\\_campaign &  12.800772 &  6 & 4.631109e-02\\\\\n\tC\\_housing:B\\_campaign &   8.565111 &  3 & 3.566824e-02\\\\\n\tC\\_education:B\\_campaign &  23.385127 &  9 & 5.386936e-03\\\\\n\tC\\_poutcome:B\\_balance &  29.541480 &  9 & 5.248707e-04\\\\\n\tC\\_poutcome:B\\_age &  25.619468 &  9 & 2.357168e-03\\\\\n\tC\\_contact:B\\_age &  19.492923 &  6 & 3.407304e-03\\\\\n\\end{tabular}\n",
            "text/markdown": "\nA anova: 25 × 3\n\n| <!--/--> | LR Chisq &lt;dbl&gt; | Df &lt;dbl&gt; | Pr(&gt;Chisq) &lt;dbl&gt; |\n|---|---|---|---|\n| B_previous |   4.773367 |  3 | 1.891647e-01 |\n| C_poutcome | 314.751080 |  3 | 6.382171e-68 |\n| C_month | 357.893400 | 11 | 5.174079e-70 |\n| C_day |  89.238950 | 30 | 8.561608e-08 |\n| C_contact | 241.749787 |  2 | 3.196691e-53 |\n| C_loan |  25.502347 |  1 | 4.418451e-07 |\n| C_housing |  79.126940 |  1 | 5.824464e-19 |\n| C_education |  12.886837 |  3 | 4.887829e-03 |\n| C_marital |  35.647564 |  2 | 1.816477e-08 |\n| B_pdays |   7.371004 |  3 | 6.096720e-02 |\n| B_campaign |  38.346878 |  3 | 2.386704e-08 |\n| B_balance |  40.012148 |  3 | 1.059210e-08 |\n| B_age |  26.144481 |  3 | 8.895633e-06 |\n| B_previous:C_contact |  19.195113 |  6 | 3.846499e-03 |\n| C_poutcome:B_pdays |  16.384891 |  8 | 3.719099e-02 |\n| C_month:B_pdays | 148.435672 | 33 | 1.396957e-16 |\n| C_loan:B_pdays |   6.049852 |  3 | 1.092098e-01 |\n| C_housing:B_pdays |  19.727508 |  3 | 1.933057e-04 |\n| C_month:B_campaign |  92.656064 | 33 | 1.431720e-07 |\n| C_contact:B_campaign |  12.800772 |  6 | 4.631109e-02 |\n| C_housing:B_campaign |   8.565111 |  3 | 3.566824e-02 |\n| C_education:B_campaign |  23.385127 |  9 | 5.386936e-03 |\n| C_poutcome:B_balance |  29.541480 |  9 | 5.248707e-04 |\n| C_poutcome:B_age |  25.619468 |  9 | 2.357168e-03 |\n| C_contact:B_age |  19.492923 |  6 | 3.407304e-03 |\n\n",
            "text/plain": [
              "                       LR Chisq   Df Pr(>Chisq)  \n",
              "B_previous               4.773367  3 1.891647e-01\n",
              "C_poutcome             314.751080  3 6.382171e-68\n",
              "C_month                357.893400 11 5.174079e-70\n",
              "C_day                   89.238950 30 8.561608e-08\n",
              "C_contact              241.749787  2 3.196691e-53\n",
              "C_loan                  25.502347  1 4.418451e-07\n",
              "C_housing               79.126940  1 5.824464e-19\n",
              "C_education             12.886837  3 4.887829e-03\n",
              "C_marital               35.647564  2 1.816477e-08\n",
              "B_pdays                  7.371004  3 6.096720e-02\n",
              "B_campaign              38.346878  3 2.386704e-08\n",
              "B_balance               40.012148  3 1.059210e-08\n",
              "B_age                   26.144481  3 8.895633e-06\n",
              "B_previous:C_contact    19.195113  6 3.846499e-03\n",
              "C_poutcome:B_pdays      16.384891  8 3.719099e-02\n",
              "C_month:B_pdays        148.435672 33 1.396957e-16\n",
              "C_loan:B_pdays           6.049852  3 1.092098e-01\n",
              "C_housing:B_pdays       19.727508  3 1.933057e-04\n",
              "C_month:B_campaign      92.656064 33 1.431720e-07\n",
              "C_contact:B_campaign    12.800772  6 4.631109e-02\n",
              "C_housing:B_campaign     8.565111  3 3.566824e-02\n",
              "C_education:B_campaign  23.385127  9 5.386936e-03\n",
              "C_poutcome:B_balance    29.541480  9 5.248707e-04\n",
              "C_poutcome:B_age        25.619468  9 2.357168e-03\n",
              "C_contact:B_age         19.492923  6 3.407304e-03"
            ]
          },
          "metadata": {},
          "output_type": "display_data"
        }
      ],
      "source": [
        "Anova(mbs)\n"
      ]
    },
    {
      "cell_type": "markdown",
      "metadata": {
        "id": "q0gQOFdQHIiy"
      },
      "source": [
        "##作業先まとめ\n",
        "[ロジスティック回帰の流れ](https://colab.research.google.com/drive/1TxruPYC9N0TIrfII38BA7TLLMWEj0ZT1#scrollTo=4SNmOA7PAiKH)    \n",
        "[試した機会学習手法](https://colab.research.google.com/drive/1-_nX4H7RSJvf8SK8QFQKjUtdd61MFBIG#scrollTo=Av5K4D2_7fUs)"
      ]
    }
  ],
  "metadata": {
    "colab": {
      "collapsed_sections": [
        "VBEL5g6yNWMq",
        "KoWcNLGqAiJ1"
      ],
      "provenance": [],
      "include_colab_link": true
    },
    "kernelspec": {
      "display_name": "R",
      "name": "ir"
    },
    "language_info": {
      "name": "python"
    }
  },
  "nbformat": 4,
  "nbformat_minor": 0
}