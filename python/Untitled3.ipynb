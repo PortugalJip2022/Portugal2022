{
  "nbformat": 4,
  "nbformat_minor": 0,
  "metadata": {
    "colab": {
      "provenance": [],
      "toc_visible": true,
      "include_colab_link": true
    },
    "kernelspec": {
      "name": "ir",
      "display_name": "R"
    },
    "language_info": {
      "name": "python"
    },
    "gpuClass": "standard"
  },
  "cells": [
    {
      "cell_type": "markdown",
      "metadata": {
        "id": "view-in-github",
        "colab_type": "text"
      },
      "source": [
        "<a href=\"https://colab.research.google.com/github/PortugalJip2022/Portugal2022/blob/main/Untitled3.ipynb\" target=\"_parent\"><img src=\"https://colab.research.google.com/assets/colab-badge.svg\" alt=\"Open In Colab\"/></a>"
      ]
    },
    {
      "cell_type": "code",
      "execution_count": null,
      "metadata": {
        "id": "PKdv7egEG1nb"
      },
      "outputs": [],
      "source": []
    },
    {
      "cell_type": "markdown",
      "source": [
        "# 01-1.パッケージの準備"
      ],
      "metadata": {
        "id": "wgO07u0n5FUj"
      }
    },
    {
      "cell_type": "code",
      "source": [
        "#事前準備\n",
        "p = installed.packages()\n",
        "rownames( p )"
      ],
      "metadata": {
        "colab": {
          "base_uri": "https://localhost:8080/",
          "height": 243
        },
        "id": "eJRvfwCFwcIL",
        "outputId": "6e901ed0-8fde-426d-daf6-49a71d91e606"
      },
      "execution_count": null,
      "outputs": [
        {
          "output_type": "display_data",
          "data": {
            "text/html": [
              "<style>\n",
              ".list-inline {list-style: none; margin:0; padding: 0}\n",
              ".list-inline>li {display: inline-block}\n",
              ".list-inline>li:not(:last-child)::after {content: \"\\00b7\"; padding: 0 .5ex}\n",
              "</style>\n",
              "<ol class=list-inline><li>'IRdisplay'</li><li>'IRkernel'</li><li>'pbdZMQ'</li><li>'repr'</li><li>'askpass'</li><li>'assertthat'</li><li>'backports'</li><li>'base64enc'</li><li>'bit'</li><li>'bit64'</li><li>'blob'</li><li>'brew'</li><li>'brio'</li><li>'broom'</li><li>'bslib'</li><li>'cachem'</li><li>'callr'</li><li>'cellranger'</li><li>'cli'</li><li>'clipr'</li><li>'colorspace'</li><li>'commonmark'</li><li>'cpp11'</li><li>'crayon'</li><li>'credentials'</li><li>'curl'</li><li>'data.table'</li><li>'DBI'</li><li>'dbplyr'</li><li>'desc'</li><li>'devtools'</li><li>'diffobj'</li><li>'digest'</li><li>'dplyr'</li><li>'dtplyr'</li><li>'ellipsis'</li><li>'evaluate'</li><li>'fansi'</li><li>'farver'</li><li>'fastmap'</li><li>'forcats'</li><li>'fs'</li><li>'gargle'</li><li>'generics'</li><li>'gert'</li><li>'ggplot2'</li><li>'gh'</li><li>'gitcreds'</li><li>'glue'</li><li>'googledrive'</li><li>'googlesheets4'</li><li>'gtable'</li><li>'haven'</li><li>'highr'</li><li>'hms'</li><li>'htmltools'</li><li>'httr'</li><li>'ids'</li><li>'ini'</li><li>'isoband'</li><li>'jquerylib'</li><li>'jsonlite'</li><li>'knitr'</li><li>'labeling'</li><li>'lifecycle'</li><li>'lubridate'</li><li>'magrittr'</li><li>'memoise'</li><li>'mime'</li><li>'modelr'</li><li>'munsell'</li><li>'openssl'</li><li>'pillar'</li><li>'pkgbuild'</li><li>'pkgconfig'</li><li>'pkgload'</li><li>'praise'</li><li>'prettyunits'</li><li>'processx'</li><li>'progress'</li><li>'ps'</li><li>'purrr'</li><li>'R6'</li><li>'rappdirs'</li><li>'rcmdcheck'</li><li>'RColorBrewer'</li><li>'readr'</li><li>'readxl'</li><li>'rematch'</li><li>'rematch2'</li><li>'remotes'</li><li>'reprex'</li><li>'rlang'</li><li>'rmarkdown'</li><li>'roxygen2'</li><li>'rprojroot'</li><li>'rstudioapi'</li><li>'rversions'</li><li>'rvest'</li><li>'sass'</li><li>'scales'</li><li>'selectr'</li><li>'sessioninfo'</li><li>'stringi'</li><li>'stringr'</li><li>'svglite'</li><li>'sys'</li><li>'systemfonts'</li><li>'testthat'</li><li>'tibble'</li><li>'tidyr'</li><li>'tidyselect'</li><li>'tidyverse'</li><li>'tinytex'</li><li>'tzdb'</li><li>'usethis'</li><li>'utf8'</li><li>'uuid'</li><li>'vctrs'</li><li>'viridisLite'</li><li>'vroom'</li><li>'waldo'</li><li>'whisker'</li><li>'withr'</li><li>'xfun'</li><li>'xml2'</li><li>'xopen'</li><li>'yaml'</li><li>'zip'</li><li>'base'</li><li>'boot'</li><li>'class'</li><li>'cluster'</li><li>'codetools'</li><li>'compiler'</li><li>'datasets'</li><li>'foreign'</li><li>'graphics'</li><li>'grDevices'</li><li>'grid'</li><li>'KernSmooth'</li><li>'lattice'</li><li>'MASS'</li><li>'Matrix'</li><li>'methods'</li><li>'mgcv'</li><li>'nlme'</li><li>'nnet'</li><li>'parallel'</li><li>'rpart'</li><li>'spatial'</li><li>'splines'</li><li>'stats'</li><li>'stats4'</li><li>'survival'</li><li>'tcltk'</li><li>'tools'</li><li>'utils'</li></ol>\n"
            ],
            "text/markdown": "1. 'IRdisplay'\n2. 'IRkernel'\n3. 'pbdZMQ'\n4. 'repr'\n5. 'askpass'\n6. 'assertthat'\n7. 'backports'\n8. 'base64enc'\n9. 'bit'\n10. 'bit64'\n11. 'blob'\n12. 'brew'\n13. 'brio'\n14. 'broom'\n15. 'bslib'\n16. 'cachem'\n17. 'callr'\n18. 'cellranger'\n19. 'cli'\n20. 'clipr'\n21. 'colorspace'\n22. 'commonmark'\n23. 'cpp11'\n24. 'crayon'\n25. 'credentials'\n26. 'curl'\n27. 'data.table'\n28. 'DBI'\n29. 'dbplyr'\n30. 'desc'\n31. 'devtools'\n32. 'diffobj'\n33. 'digest'\n34. 'dplyr'\n35. 'dtplyr'\n36. 'ellipsis'\n37. 'evaluate'\n38. 'fansi'\n39. 'farver'\n40. 'fastmap'\n41. 'forcats'\n42. 'fs'\n43. 'gargle'\n44. 'generics'\n45. 'gert'\n46. 'ggplot2'\n47. 'gh'\n48. 'gitcreds'\n49. 'glue'\n50. 'googledrive'\n51. 'googlesheets4'\n52. 'gtable'\n53. 'haven'\n54. 'highr'\n55. 'hms'\n56. 'htmltools'\n57. 'httr'\n58. 'ids'\n59. 'ini'\n60. 'isoband'\n61. 'jquerylib'\n62. 'jsonlite'\n63. 'knitr'\n64. 'labeling'\n65. 'lifecycle'\n66. 'lubridate'\n67. 'magrittr'\n68. 'memoise'\n69. 'mime'\n70. 'modelr'\n71. 'munsell'\n72. 'openssl'\n73. 'pillar'\n74. 'pkgbuild'\n75. 'pkgconfig'\n76. 'pkgload'\n77. 'praise'\n78. 'prettyunits'\n79. 'processx'\n80. 'progress'\n81. 'ps'\n82. 'purrr'\n83. 'R6'\n84. 'rappdirs'\n85. 'rcmdcheck'\n86. 'RColorBrewer'\n87. 'readr'\n88. 'readxl'\n89. 'rematch'\n90. 'rematch2'\n91. 'remotes'\n92. 'reprex'\n93. 'rlang'\n94. 'rmarkdown'\n95. 'roxygen2'\n96. 'rprojroot'\n97. 'rstudioapi'\n98. 'rversions'\n99. 'rvest'\n100. 'sass'\n101. 'scales'\n102. 'selectr'\n103. 'sessioninfo'\n104. 'stringi'\n105. 'stringr'\n106. 'svglite'\n107. 'sys'\n108. 'systemfonts'\n109. 'testthat'\n110. 'tibble'\n111. 'tidyr'\n112. 'tidyselect'\n113. 'tidyverse'\n114. 'tinytex'\n115. 'tzdb'\n116. 'usethis'\n117. 'utf8'\n118. 'uuid'\n119. 'vctrs'\n120. 'viridisLite'\n121. 'vroom'\n122. 'waldo'\n123. 'whisker'\n124. 'withr'\n125. 'xfun'\n126. 'xml2'\n127. 'xopen'\n128. 'yaml'\n129. 'zip'\n130. 'base'\n131. 'boot'\n132. 'class'\n133. 'cluster'\n134. 'codetools'\n135. 'compiler'\n136. 'datasets'\n137. 'foreign'\n138. 'graphics'\n139. 'grDevices'\n140. 'grid'\n141. 'KernSmooth'\n142. 'lattice'\n143. 'MASS'\n144. 'Matrix'\n145. 'methods'\n146. 'mgcv'\n147. 'nlme'\n148. 'nnet'\n149. 'parallel'\n150. 'rpart'\n151. 'spatial'\n152. 'splines'\n153. 'stats'\n154. 'stats4'\n155. 'survival'\n156. 'tcltk'\n157. 'tools'\n158. 'utils'\n\n\n",
            "text/latex": "\\begin{enumerate*}\n\\item 'IRdisplay'\n\\item 'IRkernel'\n\\item 'pbdZMQ'\n\\item 'repr'\n\\item 'askpass'\n\\item 'assertthat'\n\\item 'backports'\n\\item 'base64enc'\n\\item 'bit'\n\\item 'bit64'\n\\item 'blob'\n\\item 'brew'\n\\item 'brio'\n\\item 'broom'\n\\item 'bslib'\n\\item 'cachem'\n\\item 'callr'\n\\item 'cellranger'\n\\item 'cli'\n\\item 'clipr'\n\\item 'colorspace'\n\\item 'commonmark'\n\\item 'cpp11'\n\\item 'crayon'\n\\item 'credentials'\n\\item 'curl'\n\\item 'data.table'\n\\item 'DBI'\n\\item 'dbplyr'\n\\item 'desc'\n\\item 'devtools'\n\\item 'diffobj'\n\\item 'digest'\n\\item 'dplyr'\n\\item 'dtplyr'\n\\item 'ellipsis'\n\\item 'evaluate'\n\\item 'fansi'\n\\item 'farver'\n\\item 'fastmap'\n\\item 'forcats'\n\\item 'fs'\n\\item 'gargle'\n\\item 'generics'\n\\item 'gert'\n\\item 'ggplot2'\n\\item 'gh'\n\\item 'gitcreds'\n\\item 'glue'\n\\item 'googledrive'\n\\item 'googlesheets4'\n\\item 'gtable'\n\\item 'haven'\n\\item 'highr'\n\\item 'hms'\n\\item 'htmltools'\n\\item 'httr'\n\\item 'ids'\n\\item 'ini'\n\\item 'isoband'\n\\item 'jquerylib'\n\\item 'jsonlite'\n\\item 'knitr'\n\\item 'labeling'\n\\item 'lifecycle'\n\\item 'lubridate'\n\\item 'magrittr'\n\\item 'memoise'\n\\item 'mime'\n\\item 'modelr'\n\\item 'munsell'\n\\item 'openssl'\n\\item 'pillar'\n\\item 'pkgbuild'\n\\item 'pkgconfig'\n\\item 'pkgload'\n\\item 'praise'\n\\item 'prettyunits'\n\\item 'processx'\n\\item 'progress'\n\\item 'ps'\n\\item 'purrr'\n\\item 'R6'\n\\item 'rappdirs'\n\\item 'rcmdcheck'\n\\item 'RColorBrewer'\n\\item 'readr'\n\\item 'readxl'\n\\item 'rematch'\n\\item 'rematch2'\n\\item 'remotes'\n\\item 'reprex'\n\\item 'rlang'\n\\item 'rmarkdown'\n\\item 'roxygen2'\n\\item 'rprojroot'\n\\item 'rstudioapi'\n\\item 'rversions'\n\\item 'rvest'\n\\item 'sass'\n\\item 'scales'\n\\item 'selectr'\n\\item 'sessioninfo'\n\\item 'stringi'\n\\item 'stringr'\n\\item 'svglite'\n\\item 'sys'\n\\item 'systemfonts'\n\\item 'testthat'\n\\item 'tibble'\n\\item 'tidyr'\n\\item 'tidyselect'\n\\item 'tidyverse'\n\\item 'tinytex'\n\\item 'tzdb'\n\\item 'usethis'\n\\item 'utf8'\n\\item 'uuid'\n\\item 'vctrs'\n\\item 'viridisLite'\n\\item 'vroom'\n\\item 'waldo'\n\\item 'whisker'\n\\item 'withr'\n\\item 'xfun'\n\\item 'xml2'\n\\item 'xopen'\n\\item 'yaml'\n\\item 'zip'\n\\item 'base'\n\\item 'boot'\n\\item 'class'\n\\item 'cluster'\n\\item 'codetools'\n\\item 'compiler'\n\\item 'datasets'\n\\item 'foreign'\n\\item 'graphics'\n\\item 'grDevices'\n\\item 'grid'\n\\item 'KernSmooth'\n\\item 'lattice'\n\\item 'MASS'\n\\item 'Matrix'\n\\item 'methods'\n\\item 'mgcv'\n\\item 'nlme'\n\\item 'nnet'\n\\item 'parallel'\n\\item 'rpart'\n\\item 'spatial'\n\\item 'splines'\n\\item 'stats'\n\\item 'stats4'\n\\item 'survival'\n\\item 'tcltk'\n\\item 'tools'\n\\item 'utils'\n\\end{enumerate*}\n",
            "text/plain": [
              "  [1] \"IRdisplay\"     \"IRkernel\"      \"pbdZMQ\"        \"repr\"         \n",
              "  [5] \"askpass\"       \"assertthat\"    \"backports\"     \"base64enc\"    \n",
              "  [9] \"bit\"           \"bit64\"         \"blob\"          \"brew\"         \n",
              " [13] \"brio\"          \"broom\"         \"bslib\"         \"cachem\"       \n",
              " [17] \"callr\"         \"cellranger\"    \"cli\"           \"clipr\"        \n",
              " [21] \"colorspace\"    \"commonmark\"    \"cpp11\"         \"crayon\"       \n",
              " [25] \"credentials\"   \"curl\"          \"data.table\"    \"DBI\"          \n",
              " [29] \"dbplyr\"        \"desc\"          \"devtools\"      \"diffobj\"      \n",
              " [33] \"digest\"        \"dplyr\"         \"dtplyr\"        \"ellipsis\"     \n",
              " [37] \"evaluate\"      \"fansi\"         \"farver\"        \"fastmap\"      \n",
              " [41] \"forcats\"       \"fs\"            \"gargle\"        \"generics\"     \n",
              " [45] \"gert\"          \"ggplot2\"       \"gh\"            \"gitcreds\"     \n",
              " [49] \"glue\"          \"googledrive\"   \"googlesheets4\" \"gtable\"       \n",
              " [53] \"haven\"         \"highr\"         \"hms\"           \"htmltools\"    \n",
              " [57] \"httr\"          \"ids\"           \"ini\"           \"isoband\"      \n",
              " [61] \"jquerylib\"     \"jsonlite\"      \"knitr\"         \"labeling\"     \n",
              " [65] \"lifecycle\"     \"lubridate\"     \"magrittr\"      \"memoise\"      \n",
              " [69] \"mime\"          \"modelr\"        \"munsell\"       \"openssl\"      \n",
              " [73] \"pillar\"        \"pkgbuild\"      \"pkgconfig\"     \"pkgload\"      \n",
              " [77] \"praise\"        \"prettyunits\"   \"processx\"      \"progress\"     \n",
              " [81] \"ps\"            \"purrr\"         \"R6\"            \"rappdirs\"     \n",
              " [85] \"rcmdcheck\"     \"RColorBrewer\"  \"readr\"         \"readxl\"       \n",
              " [89] \"rematch\"       \"rematch2\"      \"remotes\"       \"reprex\"       \n",
              " [93] \"rlang\"         \"rmarkdown\"     \"roxygen2\"      \"rprojroot\"    \n",
              " [97] \"rstudioapi\"    \"rversions\"     \"rvest\"         \"sass\"         \n",
              "[101] \"scales\"        \"selectr\"       \"sessioninfo\"   \"stringi\"      \n",
              "[105] \"stringr\"       \"svglite\"       \"sys\"           \"systemfonts\"  \n",
              "[109] \"testthat\"      \"tibble\"        \"tidyr\"         \"tidyselect\"   \n",
              "[113] \"tidyverse\"     \"tinytex\"       \"tzdb\"          \"usethis\"      \n",
              "[117] \"utf8\"          \"uuid\"          \"vctrs\"         \"viridisLite\"  \n",
              "[121] \"vroom\"         \"waldo\"         \"whisker\"       \"withr\"        \n",
              "[125] \"xfun\"          \"xml2\"          \"xopen\"         \"yaml\"         \n",
              "[129] \"zip\"           \"base\"          \"boot\"          \"class\"        \n",
              "[133] \"cluster\"       \"codetools\"     \"compiler\"      \"datasets\"     \n",
              "[137] \"foreign\"       \"graphics\"      \"grDevices\"     \"grid\"         \n",
              "[141] \"KernSmooth\"    \"lattice\"       \"MASS\"          \"Matrix\"       \n",
              "[145] \"methods\"       \"mgcv\"          \"nlme\"          \"nnet\"         \n",
              "[149] \"parallel\"      \"rpart\"         \"spatial\"       \"splines\"      \n",
              "[153] \"stats\"         \"stats4\"        \"survival\"      \"tcltk\"        \n",
              "[157] \"tools\"         \"utils\"        "
            ]
          },
          "metadata": {}
        }
      ]
    },
    {
      "cell_type": "code",
      "source": [
        "install.packages(\"dplyr\")\n",
        "library(dplyr)"
      ],
      "metadata": {
        "colab": {
          "base_uri": "https://localhost:8080/"
        },
        "id": "AJAQ957zyY9z",
        "outputId": "30e8d784-e0cf-4e91-cda9-75d5b9c5ecd4"
      },
      "execution_count": null,
      "outputs": [
        {
          "output_type": "stream",
          "name": "stderr",
          "text": [
            "Installing package into ‘/usr/local/lib/R/site-library’\n",
            "(as ‘lib’ is unspecified)\n",
            "\n",
            "\n",
            "Attaching package: ‘dplyr’\n",
            "\n",
            "\n",
            "The following objects are masked from ‘package:stats’:\n",
            "\n",
            "    filter, lag\n",
            "\n",
            "\n",
            "The following objects are masked from ‘package:base’:\n",
            "\n",
            "    intersect, setdiff, setequal, union\n",
            "\n",
            "\n"
          ]
        }
      ]
    },
    {
      "cell_type": "code",
      "source": [
        "install.packages(\"ROCR\")\n",
        "library(ROCR)"
      ],
      "metadata": {
        "colab": {
          "base_uri": "https://localhost:8080/"
        },
        "id": "tfA-5YQB3Cyh",
        "outputId": "479d622a-9f14-4df5-9080-5983a72aa20d"
      },
      "execution_count": null,
      "outputs": [
        {
          "output_type": "stream",
          "name": "stderr",
          "text": [
            "Installing package into ‘/usr/local/lib/R/site-library’\n",
            "(as ‘lib’ is unspecified)\n",
            "\n",
            "also installing the dependencies ‘bitops’, ‘gtools’, ‘caTools’, ‘gplots’\n",
            "\n",
            "\n"
          ]
        }
      ]
    },
    {
      "cell_type": "code",
      "source": [
        "\n",
        "install.packages(\"splines\")\n",
        "library(splines)"
      ],
      "metadata": {
        "colab": {
          "base_uri": "https://localhost:8080/"
        },
        "id": "PNWhr-3p3Fm3",
        "outputId": "4011e550-07e3-497a-c998-b09bd0e20aa7"
      },
      "execution_count": null,
      "outputs": [
        {
          "output_type": "stream",
          "name": "stderr",
          "text": [
            "Installing package into ‘/usr/local/lib/R/site-library’\n",
            "(as ‘lib’ is unspecified)\n",
            "\n",
            "Warning message:\n",
            "“package ‘splines’ is a base package, and should not be updated”\n"
          ]
        }
      ]
    },
    {
      "cell_type": "code",
      "source": [
        "install.packages(\"stringr\")\n",
        "library(stringr)"
      ],
      "metadata": {
        "colab": {
          "base_uri": "https://localhost:8080/"
        },
        "id": "KvQPaOgH3HGW",
        "outputId": "8a70786f-f0a5-4dfc-c378-549706341fe3"
      },
      "execution_count": null,
      "outputs": [
        {
          "output_type": "stream",
          "name": "stderr",
          "text": [
            "Installing package into ‘/usr/local/lib/R/site-library’\n",
            "(as ‘lib’ is unspecified)\n",
            "\n"
          ]
        }
      ]
    },
    {
      "cell_type": "code",
      "source": [
        "install.packages(\"caret\")\n",
        "library(caret)"
      ],
      "metadata": {
        "colab": {
          "base_uri": "https://localhost:8080/"
        },
        "id": "7rbW2O6E3Je9",
        "outputId": "17cd004c-6033-4ee4-ae88-eb47eaed9531"
      },
      "execution_count": null,
      "outputs": [
        {
          "output_type": "stream",
          "name": "stderr",
          "text": [
            "Installing package into ‘/usr/local/lib/R/site-library’\n",
            "(as ‘lib’ is unspecified)\n",
            "\n",
            "also installing the dependencies ‘listenv’, ‘parallelly’, ‘future’, ‘globals’, ‘future.apply’, ‘progressr’, ‘numDeriv’, ‘SQUAREM’, ‘lava’, ‘prodlim’, ‘proxy’, ‘iterators’, ‘Rcpp’, ‘gower’, ‘hardhat’, ‘ipred’, ‘timeDate’, ‘e1071’, ‘foreach’, ‘ModelMetrics’, ‘plyr’, ‘pROC’, ‘recipes’, ‘reshape2’\n",
            "\n",
            "\n",
            "Loading required package: ggplot2\n",
            "\n",
            "Loading required package: lattice\n",
            "\n",
            "Warning message in system(\"timedatectl\", intern = TRUE):\n",
            "“running command 'timedatectl' had status 1”\n"
          ]
        }
      ]
    },
    {
      "cell_type": "code",
      "source": [
        "install.packages(\"readr\")\n",
        "library(readr)"
      ],
      "metadata": {
        "colab": {
          "base_uri": "https://localhost:8080/"
        },
        "id": "xUgC8E753Kof",
        "outputId": "ac954b1a-27f1-435a-bbe6-2ac3f0417532"
      },
      "execution_count": null,
      "outputs": [
        {
          "output_type": "stream",
          "name": "stderr",
          "text": [
            "Installing package into ‘/usr/local/lib/R/site-library’\n",
            "(as ‘lib’ is unspecified)\n",
            "\n"
          ]
        }
      ]
    },
    {
      "cell_type": "code",
      "source": [
        "#install.packages(\"magick\")\n",
        "#library(magick)"
      ],
      "metadata": {
        "id": "tbgmfEVh38g_"
      },
      "execution_count": null,
      "outputs": []
    },
    {
      "cell_type": "code",
      "source": [
        "#install.packages(\"summarytools\")\n",
        "#library(summarytools)"
      ],
      "metadata": {
        "id": "BqxHlRSi3KfV"
      },
      "execution_count": null,
      "outputs": []
    },
    {
      "cell_type": "code",
      "source": [
        "install.packages(\"RANN\")\n",
        "library(RANN)"
      ],
      "metadata": {
        "colab": {
          "base_uri": "https://localhost:8080/"
        },
        "id": "malSGODf3NfF",
        "outputId": "1e4d9b97-1d89-47c3-86f3-df733ace50bd"
      },
      "execution_count": null,
      "outputs": [
        {
          "output_type": "stream",
          "name": "stderr",
          "text": [
            "Installing package into ‘/usr/local/lib/R/site-library’\n",
            "(as ‘lib’ is unspecified)\n",
            "\n"
          ]
        }
      ]
    },
    {
      "cell_type": "code",
      "source": [
        "install.packages(\"skimr\")\n",
        "library(skimr)"
      ],
      "metadata": {
        "colab": {
          "base_uri": "https://localhost:8080/"
        },
        "id": "5EMiovX23PYO",
        "outputId": "2b205147-1345-4f49-a1c0-c2d3b077a481"
      },
      "execution_count": null,
      "outputs": [
        {
          "output_type": "stream",
          "name": "stderr",
          "text": [
            "Installing package into ‘/usr/local/lib/R/site-library’\n",
            "(as ‘lib’ is unspecified)\n",
            "\n"
          ]
        }
      ]
    },
    {
      "cell_type": "code",
      "source": [
        "install.packages(\"xgboost\")\n",
        "library(xgboost)"
      ],
      "metadata": {
        "id": "JawmK7tfYZfG",
        "colab": {
          "base_uri": "https://localhost:8080/"
        },
        "outputId": "dd3f5423-88e1-4972-b01c-c1aed2206070"
      },
      "execution_count": null,
      "outputs": [
        {
          "output_type": "stream",
          "name": "stderr",
          "text": [
            "Installing package into ‘/usr/local/lib/R/site-library’\n",
            "(as ‘lib’ is unspecified)\n",
            "\n",
            "\n",
            "Attaching package: ‘xgboost’\n",
            "\n",
            "\n",
            "The following object is masked from ‘package:dplyr’:\n",
            "\n",
            "    slice\n",
            "\n",
            "\n"
          ]
        }
      ]
    },
    {
      "cell_type": "code",
      "source": [
        "install.packages(\"varImp\")\n",
        "library(varImp)"
      ],
      "metadata": {
        "colab": {
          "base_uri": "https://localhost:8080/"
        },
        "id": "tVez4HvQPiG8",
        "outputId": "44bdf259-6bee-441d-baa7-2fc8892a5d33"
      },
      "execution_count": null,
      "outputs": [
        {
          "output_type": "stream",
          "name": "stderr",
          "text": [
            "Installing package into ‘/usr/local/lib/R/site-library’\n",
            "(as ‘lib’ is unspecified)\n",
            "\n",
            "also installing the dependencies ‘TH.data’, ‘libcoin’, ‘matrixStats’, ‘multcomp’, ‘mvtnorm’, ‘modeltools’, ‘strucchange’, ‘coin’, ‘zoo’, ‘sandwich’, ‘measures’, ‘party’\n",
            "\n",
            "\n",
            "Loading required package: measures\n",
            "\n",
            "\n",
            "Attaching package: ‘measures’\n",
            "\n",
            "\n",
            "The following objects are masked from ‘package:caret’:\n",
            "\n",
            "    MAE, RMSE\n",
            "\n",
            "\n",
            "Loading required package: party\n",
            "\n",
            "Loading required package: grid\n",
            "\n",
            "Loading required package: mvtnorm\n",
            "\n",
            "Loading required package: modeltools\n",
            "\n",
            "Loading required package: stats4\n",
            "\n",
            "Loading required package: strucchange\n",
            "\n",
            "Loading required package: zoo\n",
            "\n",
            "\n",
            "Attaching package: ‘zoo’\n",
            "\n",
            "\n",
            "The following objects are masked from ‘package:base’:\n",
            "\n",
            "    as.Date, as.Date.numeric\n",
            "\n",
            "\n",
            "Loading required package: sandwich\n",
            "\n",
            "\n",
            "Attaching package: ‘strucchange’\n",
            "\n",
            "\n",
            "The following object is masked from ‘package:stringr’:\n",
            "\n",
            "    boundary\n",
            "\n",
            "\n",
            "\n",
            "Attaching package: ‘varImp’\n",
            "\n",
            "\n",
            "The following object is masked from ‘package:caret’:\n",
            "\n",
            "    varImp\n",
            "\n",
            "\n"
          ]
        }
      ]
    },
    {
      "cell_type": "code",
      "source": [
        "install.packages(\"kernlab\")\n",
        "library(kernlab)"
      ],
      "metadata": {
        "colab": {
          "base_uri": "https://localhost:8080/"
        },
        "id": "0z6VznLNo3hH",
        "outputId": "a7371196-b7ca-4e4e-ef45-0ff977f7cad2"
      },
      "execution_count": null,
      "outputs": [
        {
          "output_type": "stream",
          "name": "stderr",
          "text": [
            "Installing package into ‘/usr/local/lib/R/site-library’\n",
            "(as ‘lib’ is unspecified)\n",
            "\n",
            "\n",
            "Attaching package: ‘kernlab’\n",
            "\n",
            "\n",
            "The following object is masked from ‘package:modeltools’:\n",
            "\n",
            "    prior\n",
            "\n",
            "\n",
            "The following object is masked from ‘package:ggplot2’:\n",
            "\n",
            "    alpha\n",
            "\n",
            "\n"
          ]
        }
      ]
    },
    {
      "cell_type": "code",
      "source": [
        "install.packages(\"doParallel\")\n",
        "library(doParallel)"
      ],
      "metadata": {
        "colab": {
          "base_uri": "https://localhost:8080/"
        },
        "id": "OsihRmGrTn_O",
        "outputId": "02a4275e-958f-46f2-fc00-4af07e285cef"
      },
      "execution_count": null,
      "outputs": [
        {
          "output_type": "stream",
          "name": "stderr",
          "text": [
            "Installing package into ‘/usr/local/lib/R/site-library’\n",
            "(as ‘lib’ is unspecified)\n",
            "\n",
            "Loading required package: foreach\n",
            "\n",
            "Loading required package: iterators\n",
            "\n",
            "Loading required package: parallel\n",
            "\n"
          ]
        }
      ]
    },
    {
      "cell_type": "code",
      "source": [
        "detectCores()"
      ],
      "metadata": {
        "colab": {
          "base_uri": "https://localhost:8080/",
          "height": 34
        },
        "id": "1C8sj-isUDHk",
        "outputId": "428fd4e2-a03b-4261-f5db-940550149d9e"
      },
      "execution_count": null,
      "outputs": [
        {
          "output_type": "display_data",
          "data": {
            "text/html": [
              "2"
            ],
            "text/markdown": "2",
            "text/latex": "2",
            "text/plain": [
              "[1] 2"
            ]
          },
          "metadata": {}
        }
      ]
    },
    {
      "cell_type": "code",
      "source": [
        "#cl <- makePSOCKcluster(2)\n",
        "#registerDoParallel(cl)"
      ],
      "metadata": {
        "id": "NUjxYh6AWKmb"
      },
      "execution_count": null,
      "outputs": []
    },
    {
      "cell_type": "code",
      "source": [],
      "metadata": {
        "id": "t5iUgfBOHCDo"
      },
      "execution_count": null,
      "outputs": []
    },
    {
      "cell_type": "markdown",
      "source": [
        "# 01-2.データ準備"
      ],
      "metadata": {
        "id": "lyFDjKV67P3r"
      }
    },
    {
      "cell_type": "code",
      "execution_count": null,
      "metadata": {
        "id": "wLNmP38MPc_G"
      },
      "outputs": [],
      "source": [
        "samp <-\n",
        "  read.table(\"https://raw.githubusercontent.com/PortugalJip2022/Portugal2022/main/bank-full.csv\",\n",
        "                  header=TRUE, stringsAsFactors=TRUE, sep=\";\", na.strings=\"NA\", dec=\".\",\n",
        "             strip.white=TRUE)"
      ]
    },
    {
      "cell_type": "code",
      "source": [
        "#頭にidをふる\n",
        "samp$id <- 1:nrow(samp)"
      ],
      "metadata": {
        "id": "imVuOeZYSHV3"
      },
      "execution_count": null,
      "outputs": []
    },
    {
      "cell_type": "code",
      "source": [
        "#件数確認\n",
        "nrow(samp)"
      ],
      "metadata": {
        "colab": {
          "base_uri": "https://localhost:8080/"
        },
        "id": "3jufgPsDoLBN",
        "outputId": "04baba0b-843a-48f1-f8cd-4ffe7ffbb163"
      },
      "execution_count": null,
      "outputs": [
        {
          "output_type": "display_data",
          "data": {
            "text/html": [
              "45211"
            ],
            "text/markdown": "45211",
            "text/latex": "45211",
            "text/plain": [
              "[1] 45211"
            ]
          },
          "metadata": {}
        }
      ]
    },
    {
      "cell_type": "code",
      "source": [],
      "metadata": {
        "id": "rqYB9hs2HGBE"
      },
      "execution_count": null,
      "outputs": []
    },
    {
      "cell_type": "markdown",
      "source": [
        "# 01-3.モデル投入用変数の作成"
      ],
      "metadata": {
        "id": "MXCF2Rj37Zzj"
      }
    },
    {
      "cell_type": "code",
      "execution_count": null,
      "metadata": {
        "id": "7Ad5uDA0fw7d"
      },
      "outputs": [],
      "source": [
        "# カテゴリ変数作成\n",
        "\n",
        "samp$C_job <- as.factor(samp$job)\n",
        "samp$C_marital <- as.factor(samp$marital)\n",
        "samp$C_education <- as.factor(samp$education)\n",
        "samp$C_default <- as.factor(samp$default)\n",
        "samp$C_housing <- as.factor(samp$housing)\n",
        "samp$C_loan<- as.factor(samp$loan)\n",
        "samp$C_contact <- as.factor(samp$contact)\n",
        "samp$C_day <- as.factor(samp$day)\n",
        "samp$C_month <- as.factor(samp$month)\n",
        "samp$C_poutcome <- as.factor(samp$poutcome)\n",
        "samp$C_y <- as.factor(samp$y)\n",
        "\n",
        "#目的変数をフラグに\n",
        "samp$yF <- if_else(samp$y == \"yes\",1,0)\n",
        "samp$C_yF <- as.factor(samp$yF)\n"
      ]
    },
    {
      "cell_type": "code",
      "source": [
        "# 連続値作成\n",
        "\n",
        "##年齢\n",
        "samp$age_60 <- pmin(samp$age,60)\n",
        "\n",
        "#＃平均残高\n",
        "samp$balance_5000 <- pmax(samp$balance,-1)\n",
        "samp$balance_5000 <- pmin(samp$balance_5000,5000)\n",
        "\n",
        "##現在のマーケティングキャンペーンにおける顧客への連絡回数\n",
        "samp$campaign_11 <- pmin(samp$campaign,11)\n",
        "\n",
        "##以前のマーケティングキャンペーンにおける顧客への最終連絡日からの経過日数\n",
        "samp$pdays_120 <- pmin(samp$pdays,120)\n",
        "\n",
        "##以前のマーケティングキャンペーンにおける顧客への連絡回数\n",
        "samp$previous_11 <- pmin(samp$previous,11)\n",
        "\n",
        "\n",
        "#平滑化\n",
        "library(splines)\n",
        "i <- 3\n",
        "\n",
        "B_age <- bs(samp$age_60,df=i)\n",
        "B_balance <- bs(samp$balance_5000,df = i)\n",
        "B_campaign <- bs(samp$campaign_11,df = i)\n",
        "B_pdays <- bs(samp$pdays_120,df = i)\n",
        "B_previous <- bs(samp$previous_11,df = i)\n",
        "\n",
        "samp[,\"B_age\"] <- B_age\n",
        "samp[,\"B_balance\"] <- B_balance\n",
        "samp[,\"B_campaign\"] <- B_campaign\n",
        "samp[,\"B_pdays\"] <- B_pdays\n",
        "samp[,\"B_previous\"] <- B_previous\n"
      ],
      "metadata": {
        "id": "O9niZEluVGt6"
      },
      "execution_count": null,
      "outputs": []
    },
    {
      "cell_type": "code",
      "source": [
        "summary(samp)"
      ],
      "metadata": {
        "id": "8ZNcJy-oYYGz",
        "colab": {
          "base_uri": "https://localhost:8080/"
        },
        "outputId": "3150eb05-4ffe-4b7b-9f0c-c06a900790cd"
      },
      "execution_count": null,
      "outputs": [
        {
          "output_type": "display_data",
          "data": {
            "text/plain": [
              "      age                 job           marital          education    \n",
              " Min.   :18.00   blue-collar:9732   divorced: 5207   primary  : 6851  \n",
              " 1st Qu.:33.00   management :9458   married :27214   secondary:23202  \n",
              " Median :39.00   technician :7597   single  :12790   tertiary :13301  \n",
              " Mean   :40.94   admin.     :5171                    unknown  : 1857  \n",
              " 3rd Qu.:48.00   services   :4154                                     \n",
              " Max.   :95.00   retired    :2264                                     \n",
              "                 (Other)    :6835                                     \n",
              " default        balance       housing      loan            contact     \n",
              " no :44396   Min.   : -8019   no :20081   no :37967   cellular :29285  \n",
              " yes:  815   1st Qu.:    72   yes:25130   yes: 7244   telephone: 2906  \n",
              "             Median :   448                           unknown  :13020  \n",
              "             Mean   :  1362                                            \n",
              "             3rd Qu.:  1428                                            \n",
              "             Max.   :102127                                            \n",
              "                                                                       \n",
              "      day            month          duration         campaign     \n",
              " Min.   : 1.00   may    :13766   Min.   :   0.0   Min.   : 1.000  \n",
              " 1st Qu.: 8.00   jul    : 6895   1st Qu.: 103.0   1st Qu.: 1.000  \n",
              " Median :16.00   aug    : 6247   Median : 180.0   Median : 2.000  \n",
              " Mean   :15.81   jun    : 5341   Mean   : 258.2   Mean   : 2.764  \n",
              " 3rd Qu.:21.00   nov    : 3970   3rd Qu.: 319.0   3rd Qu.: 3.000  \n",
              " Max.   :31.00   apr    : 2932   Max.   :4918.0   Max.   :63.000  \n",
              "                 (Other): 6060                                    \n",
              "     pdays          previous           poutcome       y               id       \n",
              " Min.   : -1.0   Min.   :  0.0000   failure: 4901   no :39922   Min.   :    1  \n",
              " 1st Qu.: -1.0   1st Qu.:  0.0000   other  : 1840   yes: 5289   1st Qu.:11304  \n",
              " Median : -1.0   Median :  0.0000   success: 1511               Median :22606  \n",
              " Mean   : 40.2   Mean   :  0.5803   unknown:36959               Mean   :22606  \n",
              " 3rd Qu.: -1.0   3rd Qu.:  0.0000                               3rd Qu.:33908  \n",
              " Max.   :871.0   Max.   :275.0000                               Max.   :45211  \n",
              "                                                                               \n",
              "         C_job         C_marital        C_education    C_default   C_housing  \n",
              " blue-collar:9732   divorced: 5207   primary  : 6851   no :44396   no :20081  \n",
              " management :9458   married :27214   secondary:23202   yes:  815   yes:25130  \n",
              " technician :7597   single  :12790   tertiary :13301                          \n",
              " admin.     :5171                    unknown  : 1857                          \n",
              " services   :4154                                                             \n",
              " retired    :2264                                                             \n",
              " (Other)    :6835                                                             \n",
              " C_loan          C_contact         C_day          C_month        C_poutcome   \n",
              " no :37967   cellular :29285   20     : 2752   may    :13766   failure: 4901  \n",
              " yes: 7244   telephone: 2906   18     : 2308   jul    : 6895   other  : 1840  \n",
              "             unknown  :13020   21     : 2026   aug    : 6247   success: 1511  \n",
              "                               17     : 1939   jun    : 5341   unknown:36959  \n",
              "                               6      : 1932   nov    : 3970                  \n",
              "                               5      : 1910   apr    : 2932                  \n",
              "                               (Other):32344   (Other): 6060                  \n",
              "  C_y              yF        C_yF          age_60       balance_5000 \n",
              " no :39922   Min.   :0.000   0:39922   Min.   :18.00   Min.   :  -1  \n",
              " yes: 5289   1st Qu.:0.000   1: 5289   1st Qu.:33.00   1st Qu.:  72  \n",
              "             Median :0.000             Median :39.00   Median : 448  \n",
              "             Mean   :0.117             Mean   :40.68   Mean   :1085  \n",
              "             3rd Qu.:0.000             3rd Qu.:48.00   3rd Qu.:1428  \n",
              "             Max.   :1.000             Max.   :60.00   Max.   :5000  \n",
              "                                                                     \n",
              "  campaign_11      pdays_120       previous_11     \n",
              " Min.   : 1.00   Min.   : -1.00   Min.   : 0.0000  \n",
              " 1st Qu.: 1.00   1st Qu.: -1.00   1st Qu.: 0.0000  \n",
              " Median : 2.00   Median : -1.00   Median : 0.0000  \n",
              " Mean   : 2.61   Mean   : 19.59   Mean   : 0.5402  \n",
              " 3rd Qu.: 3.00   3rd Qu.: -1.00   3rd Qu.: 0.0000  \n",
              " Max.   :11.00   Max.   :120.00   Max.   :11.0000  \n",
              "                                                   \n",
              "       B_age.1              B_age.2              B_age.3      \n",
              " Min.   :0.0000000    Min.   :0.0000000    Min.   :0.0000000  \n",
              " 1st Qu.:0.1749271    1st Qu.:0.1984532    1st Qu.:0.0455539  \n",
              " Median :0.3563330    Median :0.2925575    Median :0.1250000  \n",
              " Mean   :0.2921939    Mean   :0.2841266    Mean   :0.2532662  \n",
              " 3rd Qu.:0.4302316    3rd Qu.:0.3968659    3rd Qu.:0.3644315  \n",
              " Max.   :0.4444444    Max.   :0.4444444    Max.   :1.0000000  \n",
              "                                                              \n",
              "     B_balance.1          B_balance.2          B_balance.3    \n",
              " Min.   :0.0000000    Min.   :0.0000000    Min.   :0.0000000  \n",
              " 1st Qu.:0.0053795    1st Qu.:0.0000202    1st Qu.:0.0000031  \n",
              " Median :0.1492131    Median :0.0121296    Median :0.0007237  \n",
              " Mean   :0.1773943    Mean   :0.0797731    Mean   :0.1048345  \n",
              " 3rd Qu.:0.3262020    3rd Qu.:0.1019023    3rd Qu.:0.0233306  \n",
              " Max.   :0.4444444    Max.   :0.4444444    Max.   :1.0000000  \n",
              "                                                              \n",
              "    B_campaign.1         B_campaign.2         B_campaign.3    \n",
              " Min.   :0.0000000    Min.   :0.000000     Min.   :0.0000000  \n",
              " 1st Qu.:0.0000000    1st Qu.:0.000000     1st Qu.:0.0000000  \n",
              " Median :0.2430000    Median :0.027000     Median :0.0010000  \n",
              " Mean   :0.1838152    Mean   :0.072357     Mean   :0.0514776  \n",
              " 3rd Qu.:0.3750000    3rd Qu.:0.096000     3rd Qu.:0.0080000  \n",
              " Max.   :0.4410000    Max.   :0.441000     Max.   :1.0000000  \n",
              "                                                              \n",
              "      B_pdays.1            B_pdays.2            B_pdays.3     \n",
              " Min.   :0.0000000    Min.   :0.0000000    Min.   :0.0000000  \n",
              " 1st Qu.:0.0000000    1st Qu.:0.0000000    1st Qu.:0.0000000  \n",
              " Median :0.0000000    Median :0.0000000    Median :0.0000000  \n",
              " Mean   :0.0057055    Mean   :0.0132141    Mean   :0.1594651  \n",
              " 3rd Qu.:0.0000000    3rd Qu.:0.0000000    3rd Qu.:0.0000000  \n",
              " Max.   :0.4444216    Max.   :0.4444216    Max.   :1.0000000  \n",
              "                                                              \n",
              "    B_previous.1         B_previous.2         B_previous.3    \n",
              " Min.   :0.0000000    Min.   :0.0000000    Min.   :0.0000000  \n",
              " 1st Qu.:0.0000000    1st Qu.:0.0000000    1st Qu.:0.0000000  \n",
              " Median :0.0000000    Median :0.0000000    Median :0.0000000  \n",
              " Mean   :0.0567327    Mean   :0.0234807    Mean   :0.0145424  \n",
              " 3rd Qu.:0.0000000    3rd Qu.:0.0000000    3rd Qu.:0.0000000  \n",
              " Max.   :0.4417731    Max.   :0.4417731    Max.   :1.0000000  \n",
              "                                                              "
            ]
          },
          "metadata": {}
        }
      ]
    },
    {
      "cell_type": "markdown",
      "source": [
        "上記データをインサンプルデータとアウトサンプルデータに分割させる。"
      ],
      "metadata": {
        "id": "TBbPXoX4RnGb"
      }
    },
    {
      "cell_type": "code",
      "source": [
        "# インサンプル作成\n",
        "samp_i <- samp %>% sample_frac(0.5)\n",
        "\n",
        "# アウトサンプル作成\n",
        "samp_o <- samp[!(samp$id %in% samp_i$id), ]"
      ],
      "metadata": {
        "id": "gjgdDEbmGRQU"
      },
      "execution_count": null,
      "outputs": []
    },
    {
      "cell_type": "code",
      "source": [
        "#各件数確認\n",
        "nrow(samp_i)\n",
        "nrow(samp_o)"
      ],
      "metadata": {
        "colab": {
          "base_uri": "https://localhost:8080/"
        },
        "id": "FTsd5Y5ATuNI",
        "outputId": "09a79350-6b18-43dc-989b-e4cfefe3311f"
      },
      "execution_count": null,
      "outputs": [
        {
          "output_type": "display_data",
          "data": {
            "text/html": [
              "22606"
            ],
            "text/markdown": "22606",
            "text/latex": "22606",
            "text/plain": [
              "[1] 22606"
            ]
          },
          "metadata": {}
        },
        {
          "output_type": "display_data",
          "data": {
            "text/html": [
              "22605"
            ],
            "text/markdown": "22605",
            "text/latex": "22605",
            "text/plain": [
              "[1] 22605"
            ]
          },
          "metadata": {}
        }
      ]
    },
    {
      "cell_type": "code",
      "source": [],
      "metadata": {
        "id": "Iwys5kpkHJ2s"
      },
      "execution_count": null,
      "outputs": []
    },
    {
      "cell_type": "markdown",
      "source": [
        "## 02-1.全投入版の式を作成"
      ],
      "metadata": {
        "id": "30GNmmZH9589"
      }
    },
    {
      "cell_type": "code",
      "source": [
        "#各変数（単独）を準備\n",
        "crossstring <-\n",
        "  \"B_age + C_marital+ C_education + B_balance + C_housing + C_loan + C_contact + C_day + C_month + B_campaign + B_pdays + B_previous + C_poutcome\"\n",
        "\n",
        "#各変数（組み合わせ）を準備\n",
        "for (i in 1:5) {\n",
        "  for (j in 1:8) {\n",
        "    w <- str_flatten(c(switch(i,\n",
        "         \"1\"  = (\"B_age\"),\n",
        "         \"2\"  = (\"B_balance\"),\n",
        "         \"3\"  = (\"B_campaign\"),\n",
        "         \"4\" = (\"B_pdays\"),\n",
        "         \"5\" = (\"B_previous\"))\n",
        ",\n",
        "        switch(j,\n",
        "           \"1\"  = (\"C_marital\"),\n",
        "           \"2\"  = (\"C_education\"),\n",
        "           \"3\"  = (\"C_housing\"),\n",
        "           \"4\" = (\"C_loan\"),\n",
        "           \"5\" = (\"C_contact\"),\n",
        "           \"6\" = (\"C_day\"),\n",
        "           \"7\" = (\"C_month\"),\n",
        "           \"8\" = (\"C_poutcome\"))),\" * \")\n",
        "\n",
        "    crossstring <- str_flatten(c(w,crossstring),\" + \") }\n",
        "}"
      ],
      "metadata": {
        "id": "f9iZf0Y8rFWI"
      },
      "execution_count": null,
      "outputs": []
    },
    {
      "cell_type": "code",
      "source": [
        "#作成した数式を確認\n",
        "crossstring"
      ],
      "metadata": {
        "colab": {
          "base_uri": "https://localhost:8080/"
        },
        "id": "_qhmKboDvJJA",
        "outputId": "3a4ab46d-55e8-4b78-d6da-fbe77bf50aa4"
      },
      "execution_count": null,
      "outputs": [
        {
          "output_type": "display_data",
          "data": {
            "text/html": [
              "'B_previous * C_poutcome + B_previous * C_month + B_previous * C_day + B_previous * C_contact + B_previous * C_loan + B_previous * C_housing + B_previous * C_education + B_previous * C_marital + B_pdays * C_poutcome + B_pdays * C_month + B_pdays * C_day + B_pdays * C_contact + B_pdays * C_loan + B_pdays * C_housing + B_pdays * C_education + B_pdays * C_marital + B_campaign * C_poutcome + B_campaign * C_month + B_campaign * C_day + B_campaign * C_contact + B_campaign * C_loan + B_campaign * C_housing + B_campaign * C_education + B_campaign * C_marital + B_balance * C_poutcome + B_balance * C_month + B_balance * C_day + B_balance * C_contact + B_balance * C_loan + B_balance * C_housing + B_balance * C_education + B_balance * C_marital + B_age * C_poutcome + B_age * C_month + B_age * C_day + B_age * C_contact + B_age * C_loan + B_age * C_housing + B_age * C_education + B_age * C_marital + B_age + C_marital+ C_education + B_balance + C_housing + C_loan + C_contact + C_day + C_month + B_campaign + B_pdays + B_previous + C_poutcome'"
            ],
            "text/markdown": "'B_previous * C_poutcome + B_previous * C_month + B_previous * C_day + B_previous * C_contact + B_previous * C_loan + B_previous * C_housing + B_previous * C_education + B_previous * C_marital + B_pdays * C_poutcome + B_pdays * C_month + B_pdays * C_day + B_pdays * C_contact + B_pdays * C_loan + B_pdays * C_housing + B_pdays * C_education + B_pdays * C_marital + B_campaign * C_poutcome + B_campaign * C_month + B_campaign * C_day + B_campaign * C_contact + B_campaign * C_loan + B_campaign * C_housing + B_campaign * C_education + B_campaign * C_marital + B_balance * C_poutcome + B_balance * C_month + B_balance * C_day + B_balance * C_contact + B_balance * C_loan + B_balance * C_housing + B_balance * C_education + B_balance * C_marital + B_age * C_poutcome + B_age * C_month + B_age * C_day + B_age * C_contact + B_age * C_loan + B_age * C_housing + B_age * C_education + B_age * C_marital + B_age + C_marital+ C_education + B_balance + C_housing + C_loan + C_contact + C_day + C_month + B_campaign + B_pdays + B_previous + C_poutcome'",
            "text/latex": "'B\\_previous * C\\_poutcome + B\\_previous * C\\_month + B\\_previous * C\\_day + B\\_previous * C\\_contact + B\\_previous * C\\_loan + B\\_previous * C\\_housing + B\\_previous * C\\_education + B\\_previous * C\\_marital + B\\_pdays * C\\_poutcome + B\\_pdays * C\\_month + B\\_pdays * C\\_day + B\\_pdays * C\\_contact + B\\_pdays * C\\_loan + B\\_pdays * C\\_housing + B\\_pdays * C\\_education + B\\_pdays * C\\_marital + B\\_campaign * C\\_poutcome + B\\_campaign * C\\_month + B\\_campaign * C\\_day + B\\_campaign * C\\_contact + B\\_campaign * C\\_loan + B\\_campaign * C\\_housing + B\\_campaign * C\\_education + B\\_campaign * C\\_marital + B\\_balance * C\\_poutcome + B\\_balance * C\\_month + B\\_balance * C\\_day + B\\_balance * C\\_contact + B\\_balance * C\\_loan + B\\_balance * C\\_housing + B\\_balance * C\\_education + B\\_balance * C\\_marital + B\\_age * C\\_poutcome + B\\_age * C\\_month + B\\_age * C\\_day + B\\_age * C\\_contact + B\\_age * C\\_loan + B\\_age * C\\_housing + B\\_age * C\\_education + B\\_age * C\\_marital + B\\_age + C\\_marital+ C\\_education + B\\_balance + C\\_housing + C\\_loan + C\\_contact + C\\_day + C\\_month + B\\_campaign + B\\_pdays + B\\_previous + C\\_poutcome'",
            "text/plain": [
              "[1] \"B_previous * C_poutcome + B_previous * C_month + B_previous * C_day + B_previous * C_contact + B_previous * C_loan + B_previous * C_housing + B_previous * C_education + B_previous * C_marital + B_pdays * C_poutcome + B_pdays * C_month + B_pdays * C_day + B_pdays * C_contact + B_pdays * C_loan + B_pdays * C_housing + B_pdays * C_education + B_pdays * C_marital + B_campaign * C_poutcome + B_campaign * C_month + B_campaign * C_day + B_campaign * C_contact + B_campaign * C_loan + B_campaign * C_housing + B_campaign * C_education + B_campaign * C_marital + B_balance * C_poutcome + B_balance * C_month + B_balance * C_day + B_balance * C_contact + B_balance * C_loan + B_balance * C_housing + B_balance * C_education + B_balance * C_marital + B_age * C_poutcome + B_age * C_month + B_age * C_day + B_age * C_contact + B_age * C_loan + B_age * C_housing + B_age * C_education + B_age * C_marital + B_age + C_marital+ C_education + B_balance + C_housing + C_loan + C_contact + C_day + C_month + B_campaign + B_pdays + B_previous + C_poutcome\""
            ]
          },
          "metadata": {}
        }
      ]
    },
    {
      "cell_type": "code",
      "source": [],
      "metadata": {
        "id": "BqQ86QSlHTQ5"
      },
      "execution_count": null,
      "outputs": []
    },
    {
      "cell_type": "markdown",
      "source": [
        "## 02-4.モデル作成（サポートベクターマシン）"
      ],
      "metadata": {
        "id": "VwbNoGyQ9U39"
      }
    },
    {
      "cell_type": "code",
      "source": [
        "modelSVM <- train(\n",
        "  as.formula(paste(\"C_y ~ \",crossstring, sep=\"\")),\n",
        "  data = samp_i,\n",
        "　trControl = trainControl(classProbs =  TRUE),\n",
        "  method = \"svmRadial\"\n",
        ")"
      ],
      "metadata": {
        "id": "a4AT5F1--dIR",
        "colab": {
          "base_uri": "https://localhost:8080/"
        },
        "outputId": "4a84b64a-98a4-4a21-a464-f31b96a29d7c"
      },
      "execution_count": null,
      "outputs": [
        {
          "output_type": "stream",
          "name": "stderr",
          "text": [
            "Warning message in .local(x, ...):\n",
            "“Variable(s) `' constant. Cannot scale data.”\n",
            "Warning message in .local(x, ...):\n",
            "“Variable(s) `' constant. Cannot scale data.”\n",
            "Warning message in .local(x, ...):\n",
            "“Variable(s) `' constant. Cannot scale data.”\n",
            "Warning message in .local(x, ...):\n",
            "“Variable(s) `' constant. Cannot scale data.”\n",
            "Warning message in .local(x, ...):\n",
            "“Variable(s) `' constant. Cannot scale data.”\n",
            "Warning message in .local(x, ...):\n",
            "“Variable(s) `' constant. Cannot scale data.”\n",
            "Warning message in .local(x, ...):\n",
            "“Variable(s) `' constant. Cannot scale data.”\n",
            "Warning message in .local(x, ...):\n",
            "“Variable(s) `' constant. Cannot scale data.”\n",
            "Warning message in .local(x, ...):\n",
            "“Variable(s) `' constant. Cannot scale data.”\n",
            "Warning message in .local(x, ...):\n",
            "“Variable(s) `' constant. Cannot scale data.”\n",
            "Warning message in .local(x, ...):\n",
            "“Variable(s) `' constant. Cannot scale data.”\n",
            "Warning message in .local(x, ...):\n",
            "“Variable(s) `' constant. Cannot scale data.”\n",
            "Warning message in .local(x, ...):\n",
            "“Variable(s) `' constant. Cannot scale data.”\n",
            "Warning message in .local(x, ...):\n",
            "“Variable(s) `' constant. Cannot scale data.”\n",
            "Warning message in .local(x, ...):\n",
            "“Variable(s) `' constant. Cannot scale data.”\n",
            "Warning message in .local(x, ...):\n",
            "“Variable(s) `' constant. Cannot scale data.”\n",
            "Warning message in .local(x, ...):\n",
            "“Variable(s) `' constant. Cannot scale data.”\n",
            "Warning message in .local(x, ...):\n",
            "“Variable(s) `' constant. Cannot scale data.”\n",
            "Warning message in .local(x, ...):\n",
            "“Variable(s) `' constant. Cannot scale data.”\n",
            "Warning message in .local(x, ...):\n",
            "“Variable(s) `' constant. Cannot scale data.”\n",
            "Warning message in .local(x, ...):\n",
            "“Variable(s) `' constant. Cannot scale data.”\n",
            "Warning message in .local(x, ...):\n",
            "“Variable(s) `' constant. Cannot scale data.”\n",
            "Warning message in .local(x, ...):\n",
            "“Variable(s) `' constant. Cannot scale data.”\n",
            "Warning message in .local(x, ...):\n",
            "“Variable(s) `' constant. Cannot scale data.”\n",
            "Warning message in .local(x, ...):\n",
            "“Variable(s) `' constant. Cannot scale data.”\n",
            "Warning message in .local(x, ...):\n",
            "“Variable(s) `' constant. Cannot scale data.”\n",
            "Warning message in .local(x, ...):\n",
            "“Variable(s) `' constant. Cannot scale data.”\n",
            "Warning message in .local(x, ...):\n",
            "“Variable(s) `' constant. Cannot scale data.”\n",
            "Warning message in .local(x, ...):\n",
            "“Variable(s) `' constant. Cannot scale data.”\n",
            "Warning message in .local(x, ...):\n",
            "“Variable(s) `' constant. Cannot scale data.”\n",
            "Warning message in .local(x, ...):\n",
            "“Variable(s) `' constant. Cannot scale data.”\n",
            "Warning message in .local(x, ...):\n",
            "“Variable(s) `' constant. Cannot scale data.”\n",
            "Warning message in .local(x, ...):\n",
            "“Variable(s) `' constant. Cannot scale data.”\n",
            "Warning message in .local(x, ...):\n",
            "“Variable(s) `' constant. Cannot scale data.”\n"
          ]
        }
      ]
    },
    {
      "cell_type": "code",
      "source": [
        "modelSVM_out_result_data <- data.frame(samp_o,predict(modelSVM,samp_o,type=\"prob\"))\n",
        "write.table(modelSVM_out_result_data, file = \"/content/modelSVM_out_result_data.csv\",row.names=F,sep=\",\")\n",
        "saveRDS(modelSVM, file = \"/content/modelSVM.obj\")\n",
        "\n",
        "#目的変数名\n",
        "targetName <- \"C_yF\"\n",
        "targetPred <- modelSVM_out_result_data[,targetName]\n",
        "\n",
        "#ソートする変数、予測確率、GNO、CR\n",
        "sortName <- \"yes\"\n",
        "sortPred <- modelSVM_out_result_data[,sortName]\n",
        "\n",
        "#ARの計算\n",
        "pred <- prediction(sortPred,targetPred)\n",
        "AUC <- as.numeric( performance(pred,\"auc\")@y.values )\n",
        "AR <- 2 *(AUC-0.5) * 100 #AR値\n",
        "\n",
        "AR"
      ],
      "metadata": {
        "id": "ANtYEF_RTCpg"
      },
      "execution_count": null,
      "outputs": []
    },
    {
      "cell_type": "markdown",
      "source": [
        "↓　2022/08/25作業"
      ],
      "metadata": {
        "id": "6xG5wwkH_aP8"
      }
    },
    {
      "cell_type": "markdown",
      "metadata": {
        "id": "1qzdT8VueyEE"
      },
      "source": [
        "#事前準備\n",
        "パッケージのインストール"
      ]
    },
    {
      "cell_type": "code",
      "execution_count": null,
      "metadata": {
        "colab": {
          "base_uri": "https://localhost:8080/",
          "height": 225
        },
        "id": "gr4akiGQqYmL",
        "outputId": "74e7b0da-9b88-4ec1-f438-35789de5952e"
      },
      "outputs": [
        {
          "output_type": "display_data",
          "data": {
            "text/html": [
              "<style>\n",
              ".list-inline {list-style: none; margin:0; padding: 0}\n",
              ".list-inline>li {display: inline-block}\n",
              ".list-inline>li:not(:last-child)::after {content: \"\\00b7\"; padding: 0 .5ex}\n",
              "</style>\n",
              "<ol class=list-inline><li>'IRdisplay'</li><li>'IRkernel'</li><li>'pbdZMQ'</li><li>'repr'</li><li>'askpass'</li><li>'assertthat'</li><li>'backports'</li><li>'base64enc'</li><li>'bit'</li><li>'bit64'</li><li>'blob'</li><li>'brew'</li><li>'brio'</li><li>'broom'</li><li>'bslib'</li><li>'cachem'</li><li>'callr'</li><li>'cellranger'</li><li>'cli'</li><li>'clipr'</li><li>'colorspace'</li><li>'commonmark'</li><li>'cpp11'</li><li>'crayon'</li><li>'credentials'</li><li>'curl'</li><li>'data.table'</li><li>'DBI'</li><li>'dbplyr'</li><li>'desc'</li><li>'devtools'</li><li>'diffobj'</li><li>'digest'</li><li>'dplyr'</li><li>'dtplyr'</li><li>'ellipsis'</li><li>'evaluate'</li><li>'fansi'</li><li>'farver'</li><li>'fastmap'</li><li>'forcats'</li><li>'fs'</li><li>'gargle'</li><li>'generics'</li><li>'gert'</li><li>'ggplot2'</li><li>'gh'</li><li>'gitcreds'</li><li>'glue'</li><li>'googledrive'</li><li>'googlesheets4'</li><li>'gtable'</li><li>'haven'</li><li>'highr'</li><li>'hms'</li><li>'htmltools'</li><li>'httr'</li><li>'ids'</li><li>'ini'</li><li>'isoband'</li><li>'jquerylib'</li><li>'jsonlite'</li><li>'knitr'</li><li>'labeling'</li><li>'lifecycle'</li><li>'lubridate'</li><li>'magrittr'</li><li>'memoise'</li><li>'mime'</li><li>'modelr'</li><li>'munsell'</li><li>'openssl'</li><li>'pillar'</li><li>'pkgbuild'</li><li>'pkgconfig'</li><li>'pkgload'</li><li>'praise'</li><li>'prettyunits'</li><li>'processx'</li><li>'progress'</li><li>'ps'</li><li>'purrr'</li><li>'R6'</li><li>'rappdirs'</li><li>'rcmdcheck'</li><li>'RColorBrewer'</li><li>'readr'</li><li>'readxl'</li><li>'rematch'</li><li>'rematch2'</li><li>'remotes'</li><li>'reprex'</li><li>'rlang'</li><li>'rmarkdown'</li><li>'roxygen2'</li><li>'rprojroot'</li><li>'rstudioapi'</li><li>'rversions'</li><li>'rvest'</li><li>'sass'</li><li>'scales'</li><li>'selectr'</li><li>'sessioninfo'</li><li>'stringi'</li><li>'stringr'</li><li>'svglite'</li><li>'sys'</li><li>'systemfonts'</li><li>'testthat'</li><li>'tibble'</li><li>'tidyr'</li><li>'tidyselect'</li><li>'tidyverse'</li><li>'tinytex'</li><li>'tzdb'</li><li>'usethis'</li><li>'utf8'</li><li>'uuid'</li><li>'vctrs'</li><li>'viridisLite'</li><li>'vroom'</li><li>'waldo'</li><li>'whisker'</li><li>'withr'</li><li>'xfun'</li><li>'xml2'</li><li>'xopen'</li><li>'yaml'</li><li>'zip'</li><li>'base'</li><li>'boot'</li><li>'class'</li><li>'cluster'</li><li>'codetools'</li><li>'compiler'</li><li>'datasets'</li><li>'foreign'</li><li>'graphics'</li><li>'grDevices'</li><li>'grid'</li><li>'KernSmooth'</li><li>'lattice'</li><li>'MASS'</li><li>'Matrix'</li><li>'methods'</li><li>'mgcv'</li><li>'nlme'</li><li>'nnet'</li><li>'parallel'</li><li>'rpart'</li><li>'spatial'</li><li>'splines'</li><li>'stats'</li><li>'stats4'</li><li>'survival'</li><li>'tcltk'</li><li>'tools'</li><li>'utils'</li></ol>\n"
            ],
            "text/markdown": "1. 'IRdisplay'\n2. 'IRkernel'\n3. 'pbdZMQ'\n4. 'repr'\n5. 'askpass'\n6. 'assertthat'\n7. 'backports'\n8. 'base64enc'\n9. 'bit'\n10. 'bit64'\n11. 'blob'\n12. 'brew'\n13. 'brio'\n14. 'broom'\n15. 'bslib'\n16. 'cachem'\n17. 'callr'\n18. 'cellranger'\n19. 'cli'\n20. 'clipr'\n21. 'colorspace'\n22. 'commonmark'\n23. 'cpp11'\n24. 'crayon'\n25. 'credentials'\n26. 'curl'\n27. 'data.table'\n28. 'DBI'\n29. 'dbplyr'\n30. 'desc'\n31. 'devtools'\n32. 'diffobj'\n33. 'digest'\n34. 'dplyr'\n35. 'dtplyr'\n36. 'ellipsis'\n37. 'evaluate'\n38. 'fansi'\n39. 'farver'\n40. 'fastmap'\n41. 'forcats'\n42. 'fs'\n43. 'gargle'\n44. 'generics'\n45. 'gert'\n46. 'ggplot2'\n47. 'gh'\n48. 'gitcreds'\n49. 'glue'\n50. 'googledrive'\n51. 'googlesheets4'\n52. 'gtable'\n53. 'haven'\n54. 'highr'\n55. 'hms'\n56. 'htmltools'\n57. 'httr'\n58. 'ids'\n59. 'ini'\n60. 'isoband'\n61. 'jquerylib'\n62. 'jsonlite'\n63. 'knitr'\n64. 'labeling'\n65. 'lifecycle'\n66. 'lubridate'\n67. 'magrittr'\n68. 'memoise'\n69. 'mime'\n70. 'modelr'\n71. 'munsell'\n72. 'openssl'\n73. 'pillar'\n74. 'pkgbuild'\n75. 'pkgconfig'\n76. 'pkgload'\n77. 'praise'\n78. 'prettyunits'\n79. 'processx'\n80. 'progress'\n81. 'ps'\n82. 'purrr'\n83. 'R6'\n84. 'rappdirs'\n85. 'rcmdcheck'\n86. 'RColorBrewer'\n87. 'readr'\n88. 'readxl'\n89. 'rematch'\n90. 'rematch2'\n91. 'remotes'\n92. 'reprex'\n93. 'rlang'\n94. 'rmarkdown'\n95. 'roxygen2'\n96. 'rprojroot'\n97. 'rstudioapi'\n98. 'rversions'\n99. 'rvest'\n100. 'sass'\n101. 'scales'\n102. 'selectr'\n103. 'sessioninfo'\n104. 'stringi'\n105. 'stringr'\n106. 'svglite'\n107. 'sys'\n108. 'systemfonts'\n109. 'testthat'\n110. 'tibble'\n111. 'tidyr'\n112. 'tidyselect'\n113. 'tidyverse'\n114. 'tinytex'\n115. 'tzdb'\n116. 'usethis'\n117. 'utf8'\n118. 'uuid'\n119. 'vctrs'\n120. 'viridisLite'\n121. 'vroom'\n122. 'waldo'\n123. 'whisker'\n124. 'withr'\n125. 'xfun'\n126. 'xml2'\n127. 'xopen'\n128. 'yaml'\n129. 'zip'\n130. 'base'\n131. 'boot'\n132. 'class'\n133. 'cluster'\n134. 'codetools'\n135. 'compiler'\n136. 'datasets'\n137. 'foreign'\n138. 'graphics'\n139. 'grDevices'\n140. 'grid'\n141. 'KernSmooth'\n142. 'lattice'\n143. 'MASS'\n144. 'Matrix'\n145. 'methods'\n146. 'mgcv'\n147. 'nlme'\n148. 'nnet'\n149. 'parallel'\n150. 'rpart'\n151. 'spatial'\n152. 'splines'\n153. 'stats'\n154. 'stats4'\n155. 'survival'\n156. 'tcltk'\n157. 'tools'\n158. 'utils'\n\n\n",
            "text/latex": "\\begin{enumerate*}\n\\item 'IRdisplay'\n\\item 'IRkernel'\n\\item 'pbdZMQ'\n\\item 'repr'\n\\item 'askpass'\n\\item 'assertthat'\n\\item 'backports'\n\\item 'base64enc'\n\\item 'bit'\n\\item 'bit64'\n\\item 'blob'\n\\item 'brew'\n\\item 'brio'\n\\item 'broom'\n\\item 'bslib'\n\\item 'cachem'\n\\item 'callr'\n\\item 'cellranger'\n\\item 'cli'\n\\item 'clipr'\n\\item 'colorspace'\n\\item 'commonmark'\n\\item 'cpp11'\n\\item 'crayon'\n\\item 'credentials'\n\\item 'curl'\n\\item 'data.table'\n\\item 'DBI'\n\\item 'dbplyr'\n\\item 'desc'\n\\item 'devtools'\n\\item 'diffobj'\n\\item 'digest'\n\\item 'dplyr'\n\\item 'dtplyr'\n\\item 'ellipsis'\n\\item 'evaluate'\n\\item 'fansi'\n\\item 'farver'\n\\item 'fastmap'\n\\item 'forcats'\n\\item 'fs'\n\\item 'gargle'\n\\item 'generics'\n\\item 'gert'\n\\item 'ggplot2'\n\\item 'gh'\n\\item 'gitcreds'\n\\item 'glue'\n\\item 'googledrive'\n\\item 'googlesheets4'\n\\item 'gtable'\n\\item 'haven'\n\\item 'highr'\n\\item 'hms'\n\\item 'htmltools'\n\\item 'httr'\n\\item 'ids'\n\\item 'ini'\n\\item 'isoband'\n\\item 'jquerylib'\n\\item 'jsonlite'\n\\item 'knitr'\n\\item 'labeling'\n\\item 'lifecycle'\n\\item 'lubridate'\n\\item 'magrittr'\n\\item 'memoise'\n\\item 'mime'\n\\item 'modelr'\n\\item 'munsell'\n\\item 'openssl'\n\\item 'pillar'\n\\item 'pkgbuild'\n\\item 'pkgconfig'\n\\item 'pkgload'\n\\item 'praise'\n\\item 'prettyunits'\n\\item 'processx'\n\\item 'progress'\n\\item 'ps'\n\\item 'purrr'\n\\item 'R6'\n\\item 'rappdirs'\n\\item 'rcmdcheck'\n\\item 'RColorBrewer'\n\\item 'readr'\n\\item 'readxl'\n\\item 'rematch'\n\\item 'rematch2'\n\\item 'remotes'\n\\item 'reprex'\n\\item 'rlang'\n\\item 'rmarkdown'\n\\item 'roxygen2'\n\\item 'rprojroot'\n\\item 'rstudioapi'\n\\item 'rversions'\n\\item 'rvest'\n\\item 'sass'\n\\item 'scales'\n\\item 'selectr'\n\\item 'sessioninfo'\n\\item 'stringi'\n\\item 'stringr'\n\\item 'svglite'\n\\item 'sys'\n\\item 'systemfonts'\n\\item 'testthat'\n\\item 'tibble'\n\\item 'tidyr'\n\\item 'tidyselect'\n\\item 'tidyverse'\n\\item 'tinytex'\n\\item 'tzdb'\n\\item 'usethis'\n\\item 'utf8'\n\\item 'uuid'\n\\item 'vctrs'\n\\item 'viridisLite'\n\\item 'vroom'\n\\item 'waldo'\n\\item 'whisker'\n\\item 'withr'\n\\item 'xfun'\n\\item 'xml2'\n\\item 'xopen'\n\\item 'yaml'\n\\item 'zip'\n\\item 'base'\n\\item 'boot'\n\\item 'class'\n\\item 'cluster'\n\\item 'codetools'\n\\item 'compiler'\n\\item 'datasets'\n\\item 'foreign'\n\\item 'graphics'\n\\item 'grDevices'\n\\item 'grid'\n\\item 'KernSmooth'\n\\item 'lattice'\n\\item 'MASS'\n\\item 'Matrix'\n\\item 'methods'\n\\item 'mgcv'\n\\item 'nlme'\n\\item 'nnet'\n\\item 'parallel'\n\\item 'rpart'\n\\item 'spatial'\n\\item 'splines'\n\\item 'stats'\n\\item 'stats4'\n\\item 'survival'\n\\item 'tcltk'\n\\item 'tools'\n\\item 'utils'\n\\end{enumerate*}\n",
            "text/plain": [
              "  [1] \"IRdisplay\"     \"IRkernel\"      \"pbdZMQ\"        \"repr\"         \n",
              "  [5] \"askpass\"       \"assertthat\"    \"backports\"     \"base64enc\"    \n",
              "  [9] \"bit\"           \"bit64\"         \"blob\"          \"brew\"         \n",
              " [13] \"brio\"          \"broom\"         \"bslib\"         \"cachem\"       \n",
              " [17] \"callr\"         \"cellranger\"    \"cli\"           \"clipr\"        \n",
              " [21] \"colorspace\"    \"commonmark\"    \"cpp11\"         \"crayon\"       \n",
              " [25] \"credentials\"   \"curl\"          \"data.table\"    \"DBI\"          \n",
              " [29] \"dbplyr\"        \"desc\"          \"devtools\"      \"diffobj\"      \n",
              " [33] \"digest\"        \"dplyr\"         \"dtplyr\"        \"ellipsis\"     \n",
              " [37] \"evaluate\"      \"fansi\"         \"farver\"        \"fastmap\"      \n",
              " [41] \"forcats\"       \"fs\"            \"gargle\"        \"generics\"     \n",
              " [45] \"gert\"          \"ggplot2\"       \"gh\"            \"gitcreds\"     \n",
              " [49] \"glue\"          \"googledrive\"   \"googlesheets4\" \"gtable\"       \n",
              " [53] \"haven\"         \"highr\"         \"hms\"           \"htmltools\"    \n",
              " [57] \"httr\"          \"ids\"           \"ini\"           \"isoband\"      \n",
              " [61] \"jquerylib\"     \"jsonlite\"      \"knitr\"         \"labeling\"     \n",
              " [65] \"lifecycle\"     \"lubridate\"     \"magrittr\"      \"memoise\"      \n",
              " [69] \"mime\"          \"modelr\"        \"munsell\"       \"openssl\"      \n",
              " [73] \"pillar\"        \"pkgbuild\"      \"pkgconfig\"     \"pkgload\"      \n",
              " [77] \"praise\"        \"prettyunits\"   \"processx\"      \"progress\"     \n",
              " [81] \"ps\"            \"purrr\"         \"R6\"            \"rappdirs\"     \n",
              " [85] \"rcmdcheck\"     \"RColorBrewer\"  \"readr\"         \"readxl\"       \n",
              " [89] \"rematch\"       \"rematch2\"      \"remotes\"       \"reprex\"       \n",
              " [93] \"rlang\"         \"rmarkdown\"     \"roxygen2\"      \"rprojroot\"    \n",
              " [97] \"rstudioapi\"    \"rversions\"     \"rvest\"         \"sass\"         \n",
              "[101] \"scales\"        \"selectr\"       \"sessioninfo\"   \"stringi\"      \n",
              "[105] \"stringr\"       \"svglite\"       \"sys\"           \"systemfonts\"  \n",
              "[109] \"testthat\"      \"tibble\"        \"tidyr\"         \"tidyselect\"   \n",
              "[113] \"tidyverse\"     \"tinytex\"       \"tzdb\"          \"usethis\"      \n",
              "[117] \"utf8\"          \"uuid\"          \"vctrs\"         \"viridisLite\"  \n",
              "[121] \"vroom\"         \"waldo\"         \"whisker\"       \"withr\"        \n",
              "[125] \"xfun\"          \"xml2\"          \"xopen\"         \"yaml\"         \n",
              "[129] \"zip\"           \"base\"          \"boot\"          \"class\"        \n",
              "[133] \"cluster\"       \"codetools\"     \"compiler\"      \"datasets\"     \n",
              "[137] \"foreign\"       \"graphics\"      \"grDevices\"     \"grid\"         \n",
              "[141] \"KernSmooth\"    \"lattice\"       \"MASS\"          \"Matrix\"       \n",
              "[145] \"methods\"       \"mgcv\"          \"nlme\"          \"nnet\"         \n",
              "[149] \"parallel\"      \"rpart\"         \"spatial\"       \"splines\"      \n",
              "[153] \"stats\"         \"stats4\"        \"survival\"      \"tcltk\"        \n",
              "[157] \"tools\"         \"utils\"        "
            ]
          },
          "metadata": {}
        }
      ],
      "source": [
        "p = installed.packages()\n",
        "rownames( p )"
      ]
    },
    {
      "cell_type": "code",
      "execution_count": null,
      "metadata": {
        "colab": {
          "base_uri": "https://localhost:8080/"
        },
        "id": "P07SZxhJvzNG",
        "outputId": "42211671-d3e5-4f9f-b594-f2d489b9e0b7"
      },
      "outputs": [
        {
          "output_type": "stream",
          "name": "stderr",
          "text": [
            "Installing package into ‘/usr/local/lib/R/site-library’\n",
            "(as ‘lib’ is unspecified)\n",
            "\n",
            "also installing the dependencies ‘deldir’, ‘png’, ‘jpeg’, ‘interp’, ‘checkmate’, ‘htmlwidgets’, ‘zoo’, ‘Formula’, ‘latticeExtra’, ‘gridExtra’, ‘htmlTable’, ‘viridis’, ‘proxy’, ‘numDeriv’, ‘SparseM’, ‘MatrixModels’, ‘sp’, ‘mitools’, ‘sandwich’, ‘Hmisc’, ‘e1071’, ‘readstata13’, ‘nortest’, ‘carData’, ‘pbkrtest’, ‘quantreg’, ‘maptools’, ‘survey’, ‘estimability’, ‘insight’, ‘minqa’, ‘nloptr’, ‘Rcpp’, ‘RcppEigen’, ‘RcmdrMisc’, ‘car’, ‘effects’, ‘tcltk2’, ‘abind’, ‘relimp’, ‘lme4’\n",
            "\n",
            "\n"
          ]
        }
      ],
      "source": [
        "install.packages( \"Rcmdr\" )"
      ]
    },
    {
      "cell_type": "code",
      "execution_count": null,
      "metadata": {
        "id": "2O1yVJmWZ7du",
        "colab": {
          "base_uri": "https://localhost:8080/"
        },
        "outputId": "838e86c9-d89c-462d-a873-ba2f4fced22e"
      },
      "outputs": [
        {
          "output_type": "stream",
          "name": "stderr",
          "text": [
            "Loading required package: splines\n",
            "\n",
            "Loading required package: RcmdrMisc\n",
            "\n",
            "Loading required package: car\n",
            "\n",
            "Loading required package: carData\n",
            "\n",
            "Loading required package: sandwich\n",
            "\n",
            "Loading required package: effects\n",
            "\n",
            "lattice theme set by effectsTheme()\n",
            "See ?effectsTheme for details.\n",
            "\n",
            "Warning message:\n",
            "“no DISPLAY variable so Tk is not available”\n",
            "The Commander GUI is launched only in interactive sessions\n",
            "\n",
            "\n",
            "Attaching package: ‘Rcmdr’\n",
            "\n",
            "\n",
            "The following object is masked from ‘package:base’:\n",
            "\n",
            "    errorCondition\n",
            "\n",
            "\n"
          ]
        }
      ],
      "source": [
        "library(\"Rcmdr\")"
      ]
    },
    {
      "cell_type": "code",
      "execution_count": null,
      "metadata": {
        "id": "t4B0LtN3ezzh",
        "colab": {
          "base_uri": "https://localhost:8080/"
        },
        "outputId": "b27dc802-a5c4-416e-8276-b6dbac23d463"
      },
      "outputs": [
        {
          "output_type": "stream",
          "name": "stderr",
          "text": [
            "Installing package into ‘/usr/local/lib/R/site-library’\n",
            "(as ‘lib’ is unspecified)\n",
            "\n",
            "also installing the dependencies ‘bitops’, ‘gtools’, ‘caTools’, ‘gplots’\n",
            "\n",
            "\n"
          ]
        }
      ],
      "source": [
        "install.packages( \"ROCR\" )"
      ]
    },
    {
      "cell_type": "code",
      "execution_count": null,
      "metadata": {
        "id": "qqWoPL_1mUbm"
      },
      "outputs": [],
      "source": [
        "llrt <- function(mfull,m){\n",
        "  loglik_full <- sum(mfull$y * log(mfull$fitted.values) + (1 - mfull$y) * log(1-mfull$fitted.values))\n",
        "  logLik_dvar <- sum(m$y * log(m$fitted.values) + (1 - m$y) * log(1-m$fitted.values))\n",
        "  chisq <- -2 * (logLik_dvar  - loglik_full)\n",
        "  df <- summary(mfull)$df[1] - summary(m)$df[1]\n",
        "  p <- 1- pchisq(chisq,df)\n",
        "  round(c(chisq , df ,p ),3)\n",
        "  }"
      ]
    },
    {
      "cell_type": "code",
      "source": [
        "library(Rcmdr)\n",
        "# library(Boruta)\n",
        "library(dplyr)\n",
        "library(ROCR)\n",
        "library(splines)\n",
        "library(stringr)"
      ],
      "metadata": {
        "colab": {
          "base_uri": "https://localhost:8080/"
        },
        "id": "8gshsY9cTgBp",
        "outputId": "b83ffbb2-5e95-44a7-d506-775707d00c16"
      },
      "execution_count": null,
      "outputs": [
        {
          "output_type": "stream",
          "name": "stderr",
          "text": [
            "\n",
            "Attaching package: ‘dplyr’\n",
            "\n",
            "\n",
            "The following object is masked from ‘package:car’:\n",
            "\n",
            "    recode\n",
            "\n",
            "\n",
            "The following objects are masked from ‘package:stats’:\n",
            "\n",
            "    filter, lag\n",
            "\n",
            "\n",
            "The following objects are masked from ‘package:base’:\n",
            "\n",
            "    intersect, setdiff, setequal, union\n",
            "\n",
            "\n"
          ]
        }
      ]
    },
    {
      "cell_type": "code",
      "execution_count": null,
      "metadata": {
        "id": "W3zzA_2WPc_F"
      },
      "outputs": [],
      "source": [
        "library(Rcmdr)\n",
        "library(dplyr)\n",
        "library(ROCR)\n",
        "library(splines)\n",
        "library(stringr)"
      ]
    },
    {
      "cell_type": "markdown",
      "metadata": {
        "id": "KoWcNLGqAiJ1"
      },
      "source": [
        "#１．データ準備\n"
      ]
    },
    {
      "cell_type": "code",
      "execution_count": null,
      "metadata": {
        "id": "8FC76fWEAiJ2"
      },
      "outputs": [],
      "source": [
        "samp <-\n",
        "  read.table(\"https://raw.githubusercontent.com/PortugalJip2022/Portugal2022/main/bank-full.csv\",\n",
        "                  header=TRUE, stringsAsFactors=TRUE, sep=\";\", na.strings=\"NA\", dec=\".\",\n",
        "             strip.white=TRUE)"
      ]
    },
    {
      "cell_type": "code",
      "source": [
        "#頭にidをふる\n",
        "samp$id <- 1:nrow(samp)"
      ],
      "metadata": {
        "id": "CJQPnVl8AiJ2"
      },
      "execution_count": null,
      "outputs": []
    },
    {
      "cell_type": "markdown",
      "source": [
        "#２．モデル投入用変数の作成"
      ],
      "metadata": {
        "id": "oXEO-lIuAiJ3"
      }
    },
    {
      "cell_type": "code",
      "execution_count": null,
      "metadata": {
        "id": "zgBJiJssB_Td"
      },
      "outputs": [],
      "source": [
        "# カテゴリ変数作成\n",
        "\n",
        "samp$C_job <- as.factor(samp$job)\n",
        "samp$C_marital <- as.factor(samp$marital)\n",
        "samp$C_education <- as.factor(samp$education)\n",
        "samp$C_default <- as.factor(samp$default)\n",
        "samp$C_housing <- as.factor(samp$housing)\n",
        "samp$C_loan<- as.factor(samp$loan)\n",
        "samp$C_contact <- as.factor(samp$contact)\n",
        "samp$C_day <- as.factor(samp$day)\n",
        "samp$C_month <- as.factor(samp$month)\n",
        "samp$C_poutcome <- as.factor(samp$poutcome)\n",
        "samp$C_y <- as.factor(samp$y)\n",
        "\n",
        "#目的変数をフラグに\n",
        "samp$yF <- if_else(samp$y == \"yes\",1,0)\n",
        "samp$C_yF <- as.factor(samp$yF)\n"
      ]
    },
    {
      "cell_type": "code",
      "source": [
        "# 連続値作成\n",
        "\n",
        "##年齢\n",
        "samp$age_60 <- pmin(samp$age,60)\n",
        "\n",
        "#＃平均残高\n",
        "samp$balance_5000 <- pmax(samp$balance,-1)\n",
        "samp$balance_5000 <- pmin(samp$balance_5000,5000)\n",
        "\n",
        "##現在のマーケティングキャンペーンにおける顧客への連絡回数\n",
        "samp$campaign_11 <- pmin(samp$campaign,11)\n",
        "\n",
        "##以前のマーケティングキャンペーンにおける顧客への最終連絡日からの経過日数\n",
        "samp$pdays_120 <- pmin(samp$pdays,120)\n",
        "\n",
        "##以前のマーケティングキャンペーンにおける顧客への連絡回数\n",
        "samp$previous_11 <- pmin(samp$previous,11)\n",
        "\n",
        "\n",
        "#平滑化\n",
        "library(splines)\n",
        "i <- 3\n",
        "\n",
        "B_age <- bs(samp$age_60,df=i)\n",
        "B_balance <- bs(samp$balance_5000,df = i)\n",
        "B_campaign <- bs(samp$campaign_11,df = i)\n",
        "B_pdays <- bs(samp$pdays_120,df = i)\n",
        "B_previous <- bs(samp$previous_11,df = i)\n",
        "\n",
        "samp[,\"B_age\"] <- B_age\n",
        "samp[,\"B_balance\"] <- B_balance\n",
        "samp[,\"B_campaign\"] <- B_campaign\n",
        "samp[,\"B_pdays\"] <- B_pdays\n",
        "samp[,\"B_previous\"] <- B_previous\n"
      ],
      "metadata": {
        "id": "l16Ym4nFB_Td"
      },
      "execution_count": null,
      "outputs": []
    },
    {
      "cell_type": "markdown",
      "source": [
        "上記データをインサンプルデータとアウトサンプルデータに分割させる。"
      ],
      "metadata": {
        "id": "TonHUbnOB_Te"
      }
    },
    {
      "cell_type": "code",
      "source": [
        "# インサンプル作成\n",
        "set.seed(3)\n",
        "samp_i <- samp %>% sample_frac(0.5)\n",
        "\n",
        "# アウトサンプル作成\n",
        "samp_o <- samp[!(samp$id %in% samp_i$id), ]"
      ],
      "metadata": {
        "id": "7Kc51XM-jIM1"
      },
      "execution_count": null,
      "outputs": []
    },
    {
      "cell_type": "code",
      "source": [
        "nrow(samp_o)\n",
        "summary(samp_o$C_yF)"
      ],
      "metadata": {
        "colab": {
          "base_uri": "https://localhost:8080/",
          "height": 52
        },
        "id": "Fa70ZI60FvIb",
        "outputId": "a839ceab-6d2e-4a90-f413-6223d5e77a39"
      },
      "execution_count": null,
      "outputs": [
        {
          "output_type": "display_data",
          "data": {
            "text/html": [
              "22605"
            ],
            "text/markdown": "22605",
            "text/latex": "22605",
            "text/plain": [
              "[1] 22605"
            ]
          },
          "metadata": {}
        },
        {
          "output_type": "display_data",
          "data": {
            "text/html": [
              "<style>\n",
              ".dl-inline {width: auto; margin:0; padding: 0}\n",
              ".dl-inline>dt, .dl-inline>dd {float: none; width: auto; display: inline-block}\n",
              ".dl-inline>dt::after {content: \":\\0020\"; padding-right: .5ex}\n",
              ".dl-inline>dt:not(:first-of-type) {padding-left: .5ex}\n",
              "</style><dl class=dl-inline><dt>0</dt><dd>19946</dd><dt>1</dt><dd>2659</dd></dl>\n"
            ],
            "text/markdown": "0\n:   199461\n:   2659\n\n",
            "text/latex": "\\begin{description*}\n\\item[0] 19946\n\\item[1] 2659\n\\end{description*}\n",
            "text/plain": [
              "    0     1 \n",
              "19946  2659 "
            ]
          },
          "metadata": {}
        }
      ]
    },
    {
      "cell_type": "markdown",
      "source": [
        "##ステップワイズ　最終モデル"
      ],
      "metadata": {
        "id": "b6Gm07zbkmvF"
      }
    },
    {
      "cell_type": "code",
      "execution_count": null,
      "metadata": {
        "id": "OugB4VqgLa5Y",
        "colab": {
          "base_uri": "https://localhost:8080/"
        },
        "outputId": "0ded05d3-eb4d-4cac-e1a9-509d3831f27d"
      },
      "outputs": [
        {
          "output_type": "stream",
          "name": "stderr",
          "text": [
            "Warning message:\n",
            "“glm.fit: fitted probabilities numerically 0 or 1 occurred”\n"
          ]
        }
      ],
      "source": [
        "#モデル作成_ステップワイズ結果版\n",
        "\n",
        "mbs2 <- glm(yF  ~\n",
        "            B_previous + C_poutcome + C_month + C_day + C_contact +\n",
        "    C_loan + C_housing + C_education + C_marital + B_pdays +\n",
        "    B_campaign + B_balance + B_age + B_previous:C_contact + C_poutcome:B_pdays +\n",
        "    C_month:B_pdays + C_loan:B_pdays + C_housing:B_pdays + C_month:B_campaign +\n",
        "    C_contact:B_campaign + C_housing:B_campaign + C_education:B_campaign +\n",
        "    C_poutcome:B_balance + C_poutcome:B_age + C_contact:B_age\n",
        "            , data=samp_i,family=binomial(link=logit))"
      ]
    },
    {
      "cell_type": "code",
      "execution_count": null,
      "metadata": {
        "colab": {
          "base_uri": "https://localhost:8080/",
          "height": 34
        },
        "outputId": "c7f5ec05-f374-48c4-fcc0-27d71fee7102",
        "id": "4Qz4BSgFL8Ja"
      },
      "outputs": [
        {
          "output_type": "display_data",
          "data": {
            "text/html": [
              "<style>\n",
              ".list-inline {list-style: none; margin:0; padding: 0}\n",
              ".list-inline>li {display: inline-block}\n",
              ".list-inline>li:not(:last-child)::after {content: \"\\00b7\"; padding: 0 .5ex}\n",
              "</style>\n",
              "<ol class=list-inline><li>59.27</li><li>60.15</li><li>69.54</li><li>92.02</li></ol>\n"
            ],
            "text/markdown": "1. 59.27\n2. 60.15\n3. 69.54\n4. 92.02\n\n\n",
            "text/latex": "\\begin{enumerate*}\n\\item 59.27\n\\item 60.15\n\\item 69.54\n\\item 92.02\n\\end{enumerate*}\n",
            "text/plain": [
              "[1] 59.27 60.15 69.54 92.02"
            ]
          },
          "metadata": {}
        }
      ],
      "source": [
        "library(ROCR)\n",
        "\n",
        "df_out <- data.frame(samp_i,p=predict(mbs2,type=\"response\"),t=predict(mbs2,type=\"terms\"))\n",
        "\n",
        "d_arcap <- df_out\n",
        "\n",
        "#目的変数名\n",
        "targetName <- \"yF\"\n",
        "targetPred <- d_arcap[,targetName]\n",
        "\n",
        "#ソートする変数、予測確率、GNO、CR\n",
        "sortName <- \"p\"\n",
        "sortPred <- d_arcap[,sortName]\n",
        "\n",
        "#ARの計算\n",
        "pred <- prediction(sortPred,targetPred)\n",
        "AUC <- as.numeric( performance(pred,\"auc\")@y.values )\n",
        "AR <- 2 *(AUC-0.5) * 100 #AR値\n",
        "\n",
        "#CAP値の計算\n",
        "#予測確率（GNO、CR）を照準に件数等分１０分類\n",
        "d_arcap$CP10 <- bin.var( sortPred, bins=10, method='proportions',labels =FALSE)\n",
        "\n",
        "#区分別のデフォルト件数\n",
        "dcount <- tapply(targetPred,list(CP10=d_arcap$CP10),sum,na.rm=TRUE)\n",
        "\n",
        "#CAP20値\n",
        "CAP20 <- sum(dcount[9:10]) / sum(dcount) * 100\n",
        "\n",
        "#CAP30値\n",
        "CAP30 <- sum(dcount[8:10]) / sum(dcount) * 100\n",
        "\n",
        "#CAP70値\n",
        "CAP70 <- sum(dcount[4:10]) / sum(dcount) * 100\n",
        "\n",
        "#結果\n",
        "round(c(AR,CAP20,CAP30,CAP70),2)"
      ]
    },
    {
      "cell_type": "markdown",
      "source": [
        "##アウトサンプルあてはめ"
      ],
      "metadata": {
        "id": "sMX1VYLMUbLI"
      }
    },
    {
      "cell_type": "code",
      "execution_count": null,
      "metadata": {
        "colab": {
          "base_uri": "https://localhost:8080/",
          "height": 69
        },
        "outputId": "00184cdb-b580-4ff2-a707-03b68f1f4c2d",
        "id": "meMt-pxdUbLK"
      },
      "outputs": [
        {
          "output_type": "stream",
          "name": "stderr",
          "text": [
            "Warning message in predict.lm(object, newdata, se.fit, scale = 1, type = if (type == :\n",
            "“prediction from a rank-deficient fit may be misleading”\n"
          ]
        },
        {
          "output_type": "display_data",
          "data": {
            "text/html": [
              "<style>\n",
              ".list-inline {list-style: none; margin:0; padding: 0}\n",
              ".list-inline>li {display: inline-block}\n",
              ".list-inline>li:not(:last-child)::after {content: \"\\00b7\"; padding: 0 .5ex}\n",
              "</style>\n",
              "<ol class=list-inline><li>55.41</li><li>58.1</li><li>68.11</li><li>89.58</li></ol>\n"
            ],
            "text/markdown": "1. 55.41\n2. 58.1\n3. 68.11\n4. 89.58\n\n\n",
            "text/latex": "\\begin{enumerate*}\n\\item 55.41\n\\item 58.1\n\\item 68.11\n\\item 89.58\n\\end{enumerate*}\n",
            "text/plain": [
              "[1] 55.41 58.10 68.11 89.58"
            ]
          },
          "metadata": {}
        }
      ],
      "source": [
        "df_o_out <- data.frame(samp_o,p=predict(mbs2,newdata = samp_o,type=\"response\"))\n",
        "\n",
        "d_arcap <- df_o_out\n",
        "\n",
        "#目的変数名\n",
        "targetName <- \"yF\"\n",
        "targetPred <- d_arcap[,targetName]\n",
        "\n",
        "#ソートする変数、予測確率、GNO、CR\n",
        "sortName <- \"p\"\n",
        "sortPred <- d_arcap[,sortName]\n",
        "\n",
        "#ARの計算\n",
        "pred <- prediction(sortPred,targetPred)\n",
        "AUC <- as.numeric( performance(pred,\"auc\")@y.values )\n",
        "AR <- 2 *(AUC-0.5) * 100 #AR値\n",
        "\n",
        "#CAP値の計算\n",
        "#予測確率（GNO、CR）を照準に件数等分１０分類\n",
        "d_arcap$CP10 <- bin.var( sortPred, bins=10, method='proportions',labels =FALSE)\n",
        "\n",
        "#区分別のデフォルト件数\n",
        "dcount <- tapply(targetPred,list(CP10=d_arcap$CP10),sum,na.rm=TRUE)\n",
        "\n",
        "#CAP20値\n",
        "CAP20 <- sum(dcount[9:10]) / sum(dcount) * 100\n",
        "\n",
        "#CAP30値\n",
        "CAP30 <- sum(dcount[8:10]) / sum(dcount) * 100\n",
        "\n",
        "#CAP70値\n",
        "CAP70 <- sum(dcount[4:10]) / sum(dcount) * 100\n",
        "\n",
        "#アウトサンプル説明力結果\n",
        "round(c(AR,CAP20,CAP30,CAP70),2)"
      ]
    },
    {
      "cell_type": "code",
      "source": [
        "names(d_arcap)"
      ],
      "metadata": {
        "colab": {
          "base_uri": "https://localhost:8080/",
          "height": 86
        },
        "id": "xu9nrgQ3Cx17",
        "outputId": "b7b32b7a-9a73-4038-e0b2-846f4ed4328d"
      },
      "execution_count": null,
      "outputs": [
        {
          "output_type": "display_data",
          "data": {
            "text/html": [
              "<style>\n",
              ".list-inline {list-style: none; margin:0; padding: 0}\n",
              ".list-inline>li {display: inline-block}\n",
              ".list-inline>li:not(:last-child)::after {content: \"\\00b7\"; padding: 0 .5ex}\n",
              "</style>\n",
              "<ol class=list-inline><li>'age'</li><li>'job'</li><li>'marital'</li><li>'education'</li><li>'default'</li><li>'balance'</li><li>'housing'</li><li>'loan'</li><li>'contact'</li><li>'day'</li><li>'month'</li><li>'duration'</li><li>'campaign'</li><li>'pdays'</li><li>'previous'</li><li>'poutcome'</li><li>'y'</li><li>'id'</li><li>'C_job'</li><li>'C_marital'</li><li>'C_education'</li><li>'C_default'</li><li>'C_housing'</li><li>'C_loan'</li><li>'C_contact'</li><li>'C_day'</li><li>'C_month'</li><li>'C_poutcome'</li><li>'C_y'</li><li>'yF'</li><li>'C_yF'</li><li>'age_60'</li><li>'balance_5000'</li><li>'campaign_11'</li><li>'pdays_120'</li><li>'previous_11'</li><li>'B_age'</li><li>'B_balance'</li><li>'B_campaign'</li><li>'B_pdays'</li><li>'B_previous'</li><li>'p'</li><li>'CP10'</li></ol>\n"
            ],
            "text/markdown": "1. 'age'\n2. 'job'\n3. 'marital'\n4. 'education'\n5. 'default'\n6. 'balance'\n7. 'housing'\n8. 'loan'\n9. 'contact'\n10. 'day'\n11. 'month'\n12. 'duration'\n13. 'campaign'\n14. 'pdays'\n15. 'previous'\n16. 'poutcome'\n17. 'y'\n18. 'id'\n19. 'C_job'\n20. 'C_marital'\n21. 'C_education'\n22. 'C_default'\n23. 'C_housing'\n24. 'C_loan'\n25. 'C_contact'\n26. 'C_day'\n27. 'C_month'\n28. 'C_poutcome'\n29. 'C_y'\n30. 'yF'\n31. 'C_yF'\n32. 'age_60'\n33. 'balance_5000'\n34. 'campaign_11'\n35. 'pdays_120'\n36. 'previous_11'\n37. 'B_age'\n38. 'B_balance'\n39. 'B_campaign'\n40. 'B_pdays'\n41. 'B_previous'\n42. 'p'\n43. 'CP10'\n\n\n",
            "text/latex": "\\begin{enumerate*}\n\\item 'age'\n\\item 'job'\n\\item 'marital'\n\\item 'education'\n\\item 'default'\n\\item 'balance'\n\\item 'housing'\n\\item 'loan'\n\\item 'contact'\n\\item 'day'\n\\item 'month'\n\\item 'duration'\n\\item 'campaign'\n\\item 'pdays'\n\\item 'previous'\n\\item 'poutcome'\n\\item 'y'\n\\item 'id'\n\\item 'C\\_job'\n\\item 'C\\_marital'\n\\item 'C\\_education'\n\\item 'C\\_default'\n\\item 'C\\_housing'\n\\item 'C\\_loan'\n\\item 'C\\_contact'\n\\item 'C\\_day'\n\\item 'C\\_month'\n\\item 'C\\_poutcome'\n\\item 'C\\_y'\n\\item 'yF'\n\\item 'C\\_yF'\n\\item 'age\\_60'\n\\item 'balance\\_5000'\n\\item 'campaign\\_11'\n\\item 'pdays\\_120'\n\\item 'previous\\_11'\n\\item 'B\\_age'\n\\item 'B\\_balance'\n\\item 'B\\_campaign'\n\\item 'B\\_pdays'\n\\item 'B\\_previous'\n\\item 'p'\n\\item 'CP10'\n\\end{enumerate*}\n",
            "text/plain": [
              " [1] \"age\"          \"job\"          \"marital\"      \"education\"    \"default\"     \n",
              " [6] \"balance\"      \"housing\"      \"loan\"         \"contact\"      \"day\"         \n",
              "[11] \"month\"        \"duration\"     \"campaign\"     \"pdays\"        \"previous\"    \n",
              "[16] \"poutcome\"     \"y\"            \"id\"           \"C_job\"        \"C_marital\"   \n",
              "[21] \"C_education\"  \"C_default\"    \"C_housing\"    \"C_loan\"       \"C_contact\"   \n",
              "[26] \"C_day\"        \"C_month\"      \"C_poutcome\"   \"C_y\"          \"yF\"          \n",
              "[31] \"C_yF\"         \"age_60\"       \"balance_5000\" \"campaign_11\"  \"pdays_120\"   \n",
              "[36] \"previous_11\"  \"B_age\"        \"B_balance\"    \"B_campaign\"   \"B_pdays\"     \n",
              "[41] \"B_previous\"   \"p\"            \"CP10\"        "
            ]
          },
          "metadata": {}
        }
      ]
    },
    {
      "cell_type": "code",
      "source": [
        "write.table(d_arcap, file = \"/content/d_arcap.csv\",col.names = T,row.names=F,sep=\",\")"
      ],
      "metadata": {
        "id": "DJhmcvKnDxfu"
      },
      "execution_count": null,
      "outputs": []
    }
  ]
}