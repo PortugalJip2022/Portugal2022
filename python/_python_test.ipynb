{
  "nbformat": 4,
  "nbformat_minor": 0,
  "metadata": {
    "colab": {
      "provenance": [],
      "authorship_tag": "ABX9TyMyWKt61V+0FzlY2JZrH94b",
      "include_colab_link": true
    },
    "kernelspec": {
      "name": "python3",
      "display_name": "Python 3"
    },
    "language_info": {
      "name": "python"
    }
  },
  "cells": [
    {
      "cell_type": "markdown",
      "metadata": {
        "id": "view-in-github",
        "colab_type": "text"
      },
      "source": [
        "<a href=\"https://colab.research.google.com/github/PortugalJip2022/Portugal2022/blob/main/_python_test.ipynb\" target=\"_parent\"><img src=\"https://colab.research.google.com/assets/colab-badge.svg\" alt=\"Open In Colab\"/></a>"
      ]
    },
    {
      "cell_type": "code",
      "execution_count": null,
      "metadata": {
        "colab": {
          "base_uri": "https://localhost:8080/"
        },
        "id": "6mV1DLTs0Av5",
        "outputId": "2b0f37cb-12e2-4bfc-89b8-7c02f763aed3"
      },
      "outputs": [
        {
          "output_type": "stream",
          "name": "stdout",
          "text": [
            "Index(['age', 'job', 'marital', 'education', 'default', 'balance', 'housing',\n",
            "       'loan', 'contact', 'day', 'month', 'duration', 'campaign', 'pdays',\n",
            "       'previous', 'poutcome', 'y', 'previous_c', 'pdays_c', 'C_age',\n",
            "       'C_pdays', 'C_pdays_c', 'C_previous', 'C_previous_c', 'age_60',\n",
            "       'balance_5000', 'yF'],\n",
            "      dtype='object')\n",
            "                 Generalized Linear Model Regression Results                  \n",
            "==============================================================================\n",
            "Dep. Variable:                     yF   No. Observations:                45211\n",
            "Model:                            GLM   Df Residuals:                    45189\n",
            "Model Family:                Binomial   Df Model:                           21\n",
            "Link Function:                  logit   Scale:                          1.0000\n",
            "Method:                          IRLS   Log-Likelihood:                -14374.\n",
            "Date:                Tue, 22 Nov 2022   Deviance:                       28747.\n",
            "Time:                        07:32:47   Pearson chi2:                 4.57e+04\n",
            "No. Iterations:                     6                                         \n",
            "Covariance Type:            nonrobust                                         \n",
            "==========================================================================================\n",
            "                             coef    std err          z      P>|z|      [0.025      0.975]\n",
            "------------------------------------------------------------------------------------------\n",
            "Intercept                 -1.5223      0.093    -16.357      0.000      -1.705      -1.340\n",
            "job[T.blue-collar]        -0.2533      0.063     -3.999      0.000      -0.377      -0.129\n",
            "job[T.entrepreneur]       -0.3190      0.109     -2.917      0.004      -0.533      -0.105\n",
            "job[T.housemaid]          -0.3620      0.117     -3.091      0.002      -0.592      -0.132\n",
            "job[T.management]         -0.1110      0.064     -1.738      0.082      -0.236       0.014\n",
            "job[T.retired]             0.5548      0.075      7.433      0.000       0.409       0.701\n",
            "job[T.self-employed]      -0.1873      0.097     -1.932      0.053      -0.377       0.003\n",
            "job[T.services]           -0.1878      0.073     -2.580      0.010      -0.330      -0.045\n",
            "job[T.student]             0.4588      0.094      4.857      0.000       0.274       0.644\n",
            "job[T.technician]         -0.1695      0.060     -2.826      0.005      -0.287      -0.052\n",
            "job[T.unemployed]          0.1139      0.095      1.198      0.231      -0.072       0.300\n",
            "job[T.unknown]            -0.3336      0.201     -1.656      0.098      -0.728       0.061\n",
            "marital[T.married]        -0.1785      0.050     -3.551      0.000      -0.277      -0.080\n",
            "marital[T.single]          0.1577      0.054      2.921      0.003       0.052       0.263\n",
            "education[T.secondary]     0.1657      0.055      3.002      0.003       0.058       0.274\n",
            "education[T.tertiary]      0.4020      0.064      6.284      0.000       0.277       0.527\n",
            "education[T.unknown]       0.2101      0.090      2.347      0.019       0.035       0.386\n",
            "housing[T.yes]            -0.7034      0.033    -21.027      0.000      -0.769      -0.638\n",
            "loan[T.yes]               -0.4812      0.051     -9.361      0.000      -0.582      -0.380\n",
            "poutcome[T.other]          0.2615      0.078      3.365      0.001       0.109       0.414\n",
            "poutcome[T.success]        2.2225      0.071     31.215      0.000       2.083       2.362\n",
            "poutcome[T.unknown]       -0.4563      0.048     -9.513      0.000      -0.550      -0.362\n",
            "==========================================================================================\n"
          ]
        }
      ],
      "source": [
        "\n",
        "import pandas as pd\n",
        "\n",
        "df = pd.read_csv('https://raw.githubusercontent.com/PortugalJip2022/Portugal2022/main/bank-full.csv',sep=';')\n",
        "#print(df)\n",
        "\n",
        "df['previous_c'] = df['previous']\n",
        "df['pdays_c'] = df['pdays']\n",
        "\n",
        "df.loc[df['poutcome']=='unknown','previous_c'] = 0\n",
        "df.loc[df['poutcome']=='unknown','pdays_c'] = 0\n",
        "\n",
        "df['C_age'] = pd.cut(df['age'],bins=[0,29,34,39,44,49,54,59,999],labels=[29,34,39,44,49,54,59,60])\n",
        "\n",
        "df['C_pdays'] = pd.cut(df['pdays'],bins=[-9,-1,60,90,120,999],labels=[-1,60,90,120,999])\n",
        "df['C_pdays_c'] = pd.cut(df['pdays_c'],bins=[-9,-1,60,90,120,999],labels=[-1,60,90,120,999])\n",
        "\n",
        "df['C_previous'] = pd.cut(df['previous'],bins=[-9,-1,0,1,2,999],labels=[-1,0,1,2,3])\n",
        "df['C_previous_c'] = pd.cut(df['previous_c'],bins=[-9,-1,0,1,2,999],labels=[-1,0,1,2,3])\n",
        "\n",
        "df['age_60'] = df['age']\n",
        "df.loc[df['age']>60,'age_60'] = 60\n",
        "\n",
        "df['balance_5000'] = df['balance']\n",
        "df.loc[df['balance']<-1,'balance_5000'] = -1\n",
        "df.loc[df['balance']>5000,'balance_5000'] = 5000\n",
        "\n",
        "\n",
        "df['yF'] = 0\n",
        "df.loc[df['y']=='yes','yF'] = 1\n",
        "\n",
        "print  (df.columns)\n",
        "\n",
        "\n",
        "import statsmodels.formula.api as smf\n",
        "import statsmodels.api as sm\n",
        "\n",
        "\n",
        "log_model = smf.glm(formula = \"yF~ job + marital + education +  housing + loan + poutcome  \",\n",
        "                    data = df,\n",
        "                    family = sm.families.Binomial()).fit()\n",
        "\n",
        "\n",
        "print (log_model.summary())\n",
        "#log_model = smf.glm(formula = \"yF~bs(age_60) + job + marital + education + bs(balance_5000) + housing + loan + C_pdays + poutcome +  housing:loan + bs(balance):poutcome + marital:previous + housing:C_pdays_c + bs(balance):C_age + bs(age):housing + bs(age):poutcome\",\n",
        "#                    data = df,\n",
        "#                   family = sm.families.Binomial())\n",
        "\n"
      ]
    },
    {
      "cell_type": "code",
      "source": [
        "from pandas.core.common import random_state\n",
        "\n",
        "from sklearn.linear_model import LogisticRegression\n",
        "\n",
        "from sklearn.model_selection import train_test_split\n",
        "from sklearn.inspection import permutation_importance\n",
        "from sklearn import linear_model\n",
        "\n",
        "X = df.loc[:,['marital','education','housing','loan','C_pdays','poutcome' ]].values\n",
        "\n",
        "y =df.loc[:,['yF']].values\n",
        "\n",
        "#X_train,X_test,y_train,y_test = train_test_split(X,y, test_size =0.1,random_state = 3)\n",
        "\n",
        "model = linear_model.LogisticRegression(random_state=0)\n",
        "model.fit(X,y)\n",
        "\n",
        "#result = permutation_importance(log_model,df_X_test,df_Y_test,n_repeats=5,random_state=42)\n",
        "#result"
      ],
      "metadata": {
        "colab": {
          "base_uri": "https://localhost:8080/",
          "height": 421
        },
        "id": "zeJ7GmU7w4Gp",
        "outputId": "f457529f-2ce4-41ef-83c6-955bf38c1426"
      },
      "execution_count": null,
      "outputs": [
        {
          "output_type": "error",
          "ename": "ValueError",
          "evalue": "ignored",
          "traceback": [
            "\u001b[0;31m---------------------------------------------------------------------------\u001b[0m",
            "\u001b[0;31mValueError\u001b[0m                                Traceback (most recent call last)",
            "\u001b[0;32m<ipython-input-3-4d982230df9b>\u001b[0m in \u001b[0;36m<module>\u001b[0;34m\u001b[0m\n\u001b[1;32m     14\u001b[0m \u001b[0;34m\u001b[0m\u001b[0m\n\u001b[1;32m     15\u001b[0m \u001b[0mmodel\u001b[0m \u001b[0;34m=\u001b[0m \u001b[0mlinear_model\u001b[0m\u001b[0;34m.\u001b[0m\u001b[0mLogisticRegression\u001b[0m\u001b[0;34m(\u001b[0m\u001b[0mrandom_state\u001b[0m\u001b[0;34m=\u001b[0m\u001b[0;36m0\u001b[0m\u001b[0;34m)\u001b[0m\u001b[0;34m\u001b[0m\u001b[0;34m\u001b[0m\u001b[0m\n\u001b[0;32m---> 16\u001b[0;31m \u001b[0mmodel\u001b[0m\u001b[0;34m.\u001b[0m\u001b[0mfit\u001b[0m\u001b[0;34m(\u001b[0m\u001b[0mX\u001b[0m\u001b[0;34m,\u001b[0m\u001b[0my\u001b[0m\u001b[0;34m)\u001b[0m\u001b[0;34m\u001b[0m\u001b[0;34m\u001b[0m\u001b[0m\n\u001b[0m\u001b[1;32m     17\u001b[0m \u001b[0;34m\u001b[0m\u001b[0m\n\u001b[1;32m     18\u001b[0m \u001b[0;31m#result = permutation_importance(log_model,df_X_test,df_Y_test,n_repeats=5,random_state=42)\u001b[0m\u001b[0;34m\u001b[0m\u001b[0;34m\u001b[0m\u001b[0;34m\u001b[0m\u001b[0m\n",
            "\u001b[0;32m/usr/local/lib/python3.7/dist-packages/sklearn/linear_model/_logistic.py\u001b[0m in \u001b[0;36mfit\u001b[0;34m(self, X, y, sample_weight)\u001b[0m\n\u001b[1;32m   1512\u001b[0m             \u001b[0mdtype\u001b[0m\u001b[0;34m=\u001b[0m\u001b[0m_dtype\u001b[0m\u001b[0;34m,\u001b[0m\u001b[0;34m\u001b[0m\u001b[0;34m\u001b[0m\u001b[0m\n\u001b[1;32m   1513\u001b[0m             \u001b[0morder\u001b[0m\u001b[0;34m=\u001b[0m\u001b[0;34m\"C\"\u001b[0m\u001b[0;34m,\u001b[0m\u001b[0;34m\u001b[0m\u001b[0;34m\u001b[0m\u001b[0m\n\u001b[0;32m-> 1514\u001b[0;31m             \u001b[0maccept_large_sparse\u001b[0m\u001b[0;34m=\u001b[0m\u001b[0msolver\u001b[0m \u001b[0;32mnot\u001b[0m \u001b[0;32min\u001b[0m \u001b[0;34m[\u001b[0m\u001b[0;34m\"liblinear\"\u001b[0m\u001b[0;34m,\u001b[0m \u001b[0;34m\"sag\"\u001b[0m\u001b[0;34m,\u001b[0m \u001b[0;34m\"saga\"\u001b[0m\u001b[0;34m]\u001b[0m\u001b[0;34m,\u001b[0m\u001b[0;34m\u001b[0m\u001b[0;34m\u001b[0m\u001b[0m\n\u001b[0m\u001b[1;32m   1515\u001b[0m         )\n\u001b[1;32m   1516\u001b[0m         \u001b[0mcheck_classification_targets\u001b[0m\u001b[0;34m(\u001b[0m\u001b[0my\u001b[0m\u001b[0;34m)\u001b[0m\u001b[0;34m\u001b[0m\u001b[0;34m\u001b[0m\u001b[0m\n",
            "\u001b[0;32m/usr/local/lib/python3.7/dist-packages/sklearn/base.py\u001b[0m in \u001b[0;36m_validate_data\u001b[0;34m(self, X, y, reset, validate_separately, **check_params)\u001b[0m\n\u001b[1;32m    579\u001b[0m                 \u001b[0my\u001b[0m \u001b[0;34m=\u001b[0m \u001b[0mcheck_array\u001b[0m\u001b[0;34m(\u001b[0m\u001b[0my\u001b[0m\u001b[0;34m,\u001b[0m \u001b[0;34m**\u001b[0m\u001b[0mcheck_y_params\u001b[0m\u001b[0;34m)\u001b[0m\u001b[0;34m\u001b[0m\u001b[0;34m\u001b[0m\u001b[0m\n\u001b[1;32m    580\u001b[0m             \u001b[0;32melse\u001b[0m\u001b[0;34m:\u001b[0m\u001b[0;34m\u001b[0m\u001b[0;34m\u001b[0m\u001b[0m\n\u001b[0;32m--> 581\u001b[0;31m                 \u001b[0mX\u001b[0m\u001b[0;34m,\u001b[0m \u001b[0my\u001b[0m \u001b[0;34m=\u001b[0m \u001b[0mcheck_X_y\u001b[0m\u001b[0;34m(\u001b[0m\u001b[0mX\u001b[0m\u001b[0;34m,\u001b[0m \u001b[0my\u001b[0m\u001b[0;34m,\u001b[0m \u001b[0;34m**\u001b[0m\u001b[0mcheck_params\u001b[0m\u001b[0;34m)\u001b[0m\u001b[0;34m\u001b[0m\u001b[0;34m\u001b[0m\u001b[0m\n\u001b[0m\u001b[1;32m    582\u001b[0m             \u001b[0mout\u001b[0m \u001b[0;34m=\u001b[0m \u001b[0mX\u001b[0m\u001b[0;34m,\u001b[0m \u001b[0my\u001b[0m\u001b[0;34m\u001b[0m\u001b[0;34m\u001b[0m\u001b[0m\n\u001b[1;32m    583\u001b[0m \u001b[0;34m\u001b[0m\u001b[0m\n",
            "\u001b[0;32m/usr/local/lib/python3.7/dist-packages/sklearn/utils/validation.py\u001b[0m in \u001b[0;36mcheck_X_y\u001b[0;34m(X, y, accept_sparse, accept_large_sparse, dtype, order, copy, force_all_finite, ensure_2d, allow_nd, multi_output, ensure_min_samples, ensure_min_features, y_numeric, estimator)\u001b[0m\n\u001b[1;32m    974\u001b[0m         \u001b[0mensure_min_samples\u001b[0m\u001b[0;34m=\u001b[0m\u001b[0mensure_min_samples\u001b[0m\u001b[0;34m,\u001b[0m\u001b[0;34m\u001b[0m\u001b[0;34m\u001b[0m\u001b[0m\n\u001b[1;32m    975\u001b[0m         \u001b[0mensure_min_features\u001b[0m\u001b[0;34m=\u001b[0m\u001b[0mensure_min_features\u001b[0m\u001b[0;34m,\u001b[0m\u001b[0;34m\u001b[0m\u001b[0;34m\u001b[0m\u001b[0m\n\u001b[0;32m--> 976\u001b[0;31m         \u001b[0mestimator\u001b[0m\u001b[0;34m=\u001b[0m\u001b[0mestimator\u001b[0m\u001b[0;34m,\u001b[0m\u001b[0;34m\u001b[0m\u001b[0;34m\u001b[0m\u001b[0m\n\u001b[0m\u001b[1;32m    977\u001b[0m     )\n\u001b[1;32m    978\u001b[0m \u001b[0;34m\u001b[0m\u001b[0m\n",
            "\u001b[0;32m/usr/local/lib/python3.7/dist-packages/sklearn/utils/validation.py\u001b[0m in \u001b[0;36mcheck_array\u001b[0;34m(array, accept_sparse, accept_large_sparse, dtype, order, copy, force_all_finite, ensure_2d, allow_nd, ensure_min_samples, ensure_min_features, estimator)\u001b[0m\n\u001b[1;32m    744\u001b[0m                     \u001b[0marray\u001b[0m \u001b[0;34m=\u001b[0m \u001b[0marray\u001b[0m\u001b[0;34m.\u001b[0m\u001b[0mastype\u001b[0m\u001b[0;34m(\u001b[0m\u001b[0mdtype\u001b[0m\u001b[0;34m,\u001b[0m \u001b[0mcasting\u001b[0m\u001b[0;34m=\u001b[0m\u001b[0;34m\"unsafe\"\u001b[0m\u001b[0;34m,\u001b[0m \u001b[0mcopy\u001b[0m\u001b[0;34m=\u001b[0m\u001b[0;32mFalse\u001b[0m\u001b[0;34m)\u001b[0m\u001b[0;34m\u001b[0m\u001b[0;34m\u001b[0m\u001b[0m\n\u001b[1;32m    745\u001b[0m                 \u001b[0;32melse\u001b[0m\u001b[0;34m:\u001b[0m\u001b[0;34m\u001b[0m\u001b[0;34m\u001b[0m\u001b[0m\n\u001b[0;32m--> 746\u001b[0;31m                     \u001b[0marray\u001b[0m \u001b[0;34m=\u001b[0m \u001b[0mnp\u001b[0m\u001b[0;34m.\u001b[0m\u001b[0masarray\u001b[0m\u001b[0;34m(\u001b[0m\u001b[0marray\u001b[0m\u001b[0;34m,\u001b[0m \u001b[0morder\u001b[0m\u001b[0;34m=\u001b[0m\u001b[0morder\u001b[0m\u001b[0;34m,\u001b[0m \u001b[0mdtype\u001b[0m\u001b[0;34m=\u001b[0m\u001b[0mdtype\u001b[0m\u001b[0;34m)\u001b[0m\u001b[0;34m\u001b[0m\u001b[0;34m\u001b[0m\u001b[0m\n\u001b[0m\u001b[1;32m    747\u001b[0m             \u001b[0;32mexcept\u001b[0m \u001b[0mComplexWarning\u001b[0m \u001b[0;32mas\u001b[0m \u001b[0mcomplex_warning\u001b[0m\u001b[0;34m:\u001b[0m\u001b[0;34m\u001b[0m\u001b[0;34m\u001b[0m\u001b[0m\n\u001b[1;32m    748\u001b[0m                 raise ValueError(\n",
            "\u001b[0;31mValueError\u001b[0m: could not convert string to float: 'married'"
          ]
        }
      ]
    }
  ]
}