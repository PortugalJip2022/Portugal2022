{
  "nbformat": 4,
  "nbformat_minor": 0,
  "metadata": {
    "colab": {
      "provenance": [],
      "collapsed_sections": [
        "AUKXhxKeKmVQ",
        "mwZNavfqufU5",
        "ekKt_eYEdOtD"
      ],
      "toc_visible": true,
      "authorship_tag": "ABX9TyN/0GJeX8k85Pn/gpnSSiuN",
      "include_colab_link": true
    },
    "kernelspec": {
      "name": "python3",
      "display_name": "Python 3"
    },
    "language_info": {
      "name": "python"
    }
  },
  "cells": [
    {
      "cell_type": "markdown",
      "metadata": {
        "id": "view-in-github",
        "colab_type": "text"
      },
      "source": [
        "<a href=\"https://colab.research.google.com/github/PortugalJip2022/Portugal2022/blob/main/20230529_%E6%B0%B4%E8%B0%B7%E7%B7%A8%E9%9B%86_2_01.ipynb\" target=\"_parent\"><img src=\"https://colab.research.google.com/assets/colab-badge.svg\" alt=\"Open In Colab\"/></a>"
      ]
    },
    {
      "cell_type": "code",
      "source": [
        "!pip install category_encoders\n",
        "\n",
        "# ライブラリの読み込み\n",
        "import numpy as np\n",
        "import pandas as pd\n",
        "from sklearn.model_selection import train_test_split\n",
        "\n",
        "# 必須パッケージ\n",
        "import glob\n",
        "\n",
        "import category_encoders as ce\n",
        "from sklearn.model_selection import train_test_split\n",
        "from sklearn.metrics import mean_absolute_error as mae"
      ],
      "metadata": {
        "id": "H44TdD85-kmJ",
        "colab": {
          "base_uri": "https://localhost:8080/"
        },
        "outputId": "541001eb-f8f6-4d69-f9f2-3e89cfb461af"
      },
      "execution_count": null,
      "outputs": [
        {
          "output_type": "stream",
          "name": "stdout",
          "text": [
            "Collecting category_encoders\n",
            "  Downloading category_encoders-2.6.2-py2.py3-none-any.whl (81 kB)\n",
            "\u001b[?25l     \u001b[90m━━━━━━━━━━━━━━━━━━━━━━━━━━━━━━━━━━━━━━━━\u001b[0m \u001b[32m0.0/81.8 kB\u001b[0m \u001b[31m?\u001b[0m eta \u001b[36m-:--:--\u001b[0m\r\u001b[2K     \u001b[91m━━━━━━━━━━━━━━━━━━━━\u001b[0m\u001b[90m╺\u001b[0m\u001b[90m━━━━━━━━━━━━━━━━━━━\u001b[0m \u001b[32m41.0/81.8 kB\u001b[0m \u001b[31m1.2 MB/s\u001b[0m eta \u001b[36m0:00:01\u001b[0m\r\u001b[2K     \u001b[90m━━━━━━━━━━━━━━━━━━━━━━━━━━━━━━━━━━━━━━━━\u001b[0m \u001b[32m81.8/81.8 kB\u001b[0m \u001b[31m1.7 MB/s\u001b[0m eta \u001b[36m0:00:00\u001b[0m\n",
            "\u001b[?25hRequirement already satisfied: numpy>=1.14.0 in /usr/local/lib/python3.10/dist-packages (from category_encoders) (1.23.5)\n",
            "Requirement already satisfied: scikit-learn>=0.20.0 in /usr/local/lib/python3.10/dist-packages (from category_encoders) (1.2.2)\n",
            "Requirement already satisfied: scipy>=1.0.0 in /usr/local/lib/python3.10/dist-packages (from category_encoders) (1.10.1)\n",
            "Requirement already satisfied: statsmodels>=0.9.0 in /usr/local/lib/python3.10/dist-packages (from category_encoders) (0.14.0)\n",
            "Requirement already satisfied: pandas>=1.0.5 in /usr/local/lib/python3.10/dist-packages (from category_encoders) (1.5.3)\n",
            "Requirement already satisfied: patsy>=0.5.1 in /usr/local/lib/python3.10/dist-packages (from category_encoders) (0.5.3)\n",
            "Requirement already satisfied: python-dateutil>=2.8.1 in /usr/local/lib/python3.10/dist-packages (from pandas>=1.0.5->category_encoders) (2.8.2)\n",
            "Requirement already satisfied: pytz>=2020.1 in /usr/local/lib/python3.10/dist-packages (from pandas>=1.0.5->category_encoders) (2023.3)\n",
            "Requirement already satisfied: six in /usr/local/lib/python3.10/dist-packages (from patsy>=0.5.1->category_encoders) (1.16.0)\n",
            "Requirement already satisfied: joblib>=1.1.1 in /usr/local/lib/python3.10/dist-packages (from scikit-learn>=0.20.0->category_encoders) (1.3.2)\n",
            "Requirement already satisfied: threadpoolctl>=2.0.0 in /usr/local/lib/python3.10/dist-packages (from scikit-learn>=0.20.0->category_encoders) (3.2.0)\n",
            "Requirement already satisfied: packaging>=21.3 in /usr/local/lib/python3.10/dist-packages (from statsmodels>=0.9.0->category_encoders) (23.1)\n",
            "Installing collected packages: category_encoders\n",
            "Successfully installed category_encoders-2.6.2\n"
          ]
        }
      ]
    },
    {
      "cell_type": "markdown",
      "source": [
        "#データ読み込んではきだす"
      ],
      "metadata": {
        "id": "AUKXhxKeKmVQ"
      }
    },
    {
      "cell_type": "code",
      "source": [
        "# dataset_test.jsonを読み込み→結果をはきだす（dataset_test_o.json)\n",
        "\n",
        "!pip install category_encoders\n",
        "\n",
        "import pandas as pd\n",
        "import numpy as np\n",
        "import json\n",
        "import category_encoders as ce\n",
        "import pickle\n",
        "\n",
        "# jsonファイル参照\n",
        "with open('dataset_test.json','r') as f:\n",
        "  data = json.load(f)\n",
        "\n",
        "#dataframeに変換\n",
        "df = pd.DataFrame([data])\n",
        "\n",
        "#変数をカテゴリ変数化\n",
        "cols = [\"job\"]\n",
        "ce_df = ce.OrdinalEncoder(cols=cols, handle_unknown='impute')\n",
        "df = ce_df.fit_transform(df)\n",
        "\n",
        "#モデル読み込み\n",
        "with open('model.pkl','rb') as f:\n",
        "  model = pickle.load(f)\n",
        "\n",
        "#あてはめ\n",
        "p = model.predict(df)[0]\n",
        "p_n=round(p*100,3)\n",
        "\n",
        "#結果データ保存\n",
        "data['p']=p\n",
        "with open('dataset_test_o.json','w') as f:\n",
        "  json.dump(data,f)"
      ],
      "metadata": {
        "colab": {
          "base_uri": "https://localhost:8080/"
        },
        "id": "r3yedjv0KvRp",
        "outputId": "9c2b37fe-fbb1-4cd5-e415-1e914c78736b"
      },
      "execution_count": null,
      "outputs": [
        {
          "output_type": "stream",
          "name": "stdout",
          "text": [
            "Collecting category_encoders\n",
            "  Downloading category_encoders-2.6.2-py2.py3-none-any.whl (81 kB)\n",
            "\u001b[?25l     \u001b[90m━━━━━━━━━━━━━━━━━━━━━━━━━━━━━━━━━━━━━━━━\u001b[0m \u001b[32m0.0/81.8 kB\u001b[0m \u001b[31m?\u001b[0m eta \u001b[36m-:--:--\u001b[0m\r\u001b[2K     \u001b[91m━━━━━━━━━━━━━━━\u001b[0m\u001b[90m╺\u001b[0m\u001b[90m━━━━━━━━━━━━━━━━━━━━━━━━\u001b[0m \u001b[32m30.7/81.8 kB\u001b[0m \u001b[31m1.1 MB/s\u001b[0m eta \u001b[36m0:00:01\u001b[0m\r\u001b[2K     \u001b[90m━━━━━━━━━━━━━━━━━━━━━━━━━━━━━━━━━━━━━━━━\u001b[0m \u001b[32m81.8/81.8 kB\u001b[0m \u001b[31m1.4 MB/s\u001b[0m eta \u001b[36m0:00:00\u001b[0m\n",
            "\u001b[?25hRequirement already satisfied: numpy>=1.14.0 in /usr/local/lib/python3.10/dist-packages (from category_encoders) (1.23.5)\n",
            "Requirement already satisfied: scikit-learn>=0.20.0 in /usr/local/lib/python3.10/dist-packages (from category_encoders) (1.2.2)\n",
            "Requirement already satisfied: scipy>=1.0.0 in /usr/local/lib/python3.10/dist-packages (from category_encoders) (1.10.1)\n",
            "Requirement already satisfied: statsmodels>=0.9.0 in /usr/local/lib/python3.10/dist-packages (from category_encoders) (0.14.0)\n",
            "Requirement already satisfied: pandas>=1.0.5 in /usr/local/lib/python3.10/dist-packages (from category_encoders) (1.5.3)\n",
            "Requirement already satisfied: patsy>=0.5.1 in /usr/local/lib/python3.10/dist-packages (from category_encoders) (0.5.3)\n",
            "Requirement already satisfied: python-dateutil>=2.8.1 in /usr/local/lib/python3.10/dist-packages (from pandas>=1.0.5->category_encoders) (2.8.2)\n",
            "Requirement already satisfied: pytz>=2020.1 in /usr/local/lib/python3.10/dist-packages (from pandas>=1.0.5->category_encoders) (2023.3)\n",
            "Requirement already satisfied: six in /usr/local/lib/python3.10/dist-packages (from patsy>=0.5.1->category_encoders) (1.16.0)\n",
            "Requirement already satisfied: joblib>=1.1.1 in /usr/local/lib/python3.10/dist-packages (from scikit-learn>=0.20.0->category_encoders) (1.3.2)\n",
            "Requirement already satisfied: threadpoolctl>=2.0.0 in /usr/local/lib/python3.10/dist-packages (from scikit-learn>=0.20.0->category_encoders) (3.2.0)\n",
            "Requirement already satisfied: packaging>=21.3 in /usr/local/lib/python3.10/dist-packages (from statsmodels>=0.9.0->category_encoders) (23.1)\n",
            "Installing collected packages: category_encoders\n",
            "Successfully installed category_encoders-2.6.2\n"
          ]
        }
      ]
    },
    {
      "cell_type": "markdown",
      "metadata": {
        "id": "mwZNavfqufU5"
      },
      "source": [
        "#１．モデル作成\n",
        "lightGBMモデルを作っておく  \n",
        "変数増やしてみた"
      ]
    },
    {
      "cell_type": "code",
      "execution_count": null,
      "metadata": {
        "colab": {
          "base_uri": "https://localhost:8080/"
        },
        "id": "f5x6SfuXUhBZ",
        "outputId": "91c28e87-351c-4dcf-b5f4-9f12f12baf5f"
      },
      "outputs": [
        {
          "output_type": "stream",
          "name": "stdout",
          "text": [
            "Requirement already satisfied: category_encoders in /usr/local/lib/python3.10/dist-packages (2.6.2)\n",
            "Requirement already satisfied: numpy>=1.14.0 in /usr/local/lib/python3.10/dist-packages (from category_encoders) (1.23.5)\n",
            "Requirement already satisfied: scikit-learn>=0.20.0 in /usr/local/lib/python3.10/dist-packages (from category_encoders) (1.2.2)\n",
            "Requirement already satisfied: scipy>=1.0.0 in /usr/local/lib/python3.10/dist-packages (from category_encoders) (1.10.1)\n",
            "Requirement already satisfied: statsmodels>=0.9.0 in /usr/local/lib/python3.10/dist-packages (from category_encoders) (0.14.0)\n",
            "Requirement already satisfied: pandas>=1.0.5 in /usr/local/lib/python3.10/dist-packages (from category_encoders) (1.5.3)\n",
            "Requirement already satisfied: patsy>=0.5.1 in /usr/local/lib/python3.10/dist-packages (from category_encoders) (0.5.3)\n",
            "Requirement already satisfied: python-dateutil>=2.8.1 in /usr/local/lib/python3.10/dist-packages (from pandas>=1.0.5->category_encoders) (2.8.2)\n",
            "Requirement already satisfied: pytz>=2020.1 in /usr/local/lib/python3.10/dist-packages (from pandas>=1.0.5->category_encoders) (2023.3)\n",
            "Requirement already satisfied: six in /usr/local/lib/python3.10/dist-packages (from patsy>=0.5.1->category_encoders) (1.16.0)\n",
            "Requirement already satisfied: joblib>=1.1.1 in /usr/local/lib/python3.10/dist-packages (from scikit-learn>=0.20.0->category_encoders) (1.3.2)\n",
            "Requirement already satisfied: threadpoolctl>=2.0.0 in /usr/local/lib/python3.10/dist-packages (from scikit-learn>=0.20.0->category_encoders) (3.2.0)\n",
            "Requirement already satisfied: packaging>=21.3 in /usr/local/lib/python3.10/dist-packages (from statsmodels>=0.9.0->category_encoders) (23.1)\n"
          ]
        }
      ],
      "source": [
        "!pip install category_encoders\n",
        "\n",
        "# ライブラリの読み込み\n",
        "import numpy as np\n",
        "import pandas as pd\n",
        "from sklearn.model_selection import train_test_split\n",
        "\n",
        "# 必須パッケージ\n",
        "import glob\n",
        "\n",
        "import category_encoders as ce\n",
        "from sklearn.model_selection import train_test_split\n",
        "from sklearn.metrics import mean_absolute_error as mae\n",
        "\n",
        "#データ読込\n",
        "df = pd.read_csv('https://raw.githubusercontent.com/PortugalJip2022/Portugal2022/main/bank-full.csv',delimiter=\";\")\n",
        "\n",
        "#yのフラグを追加\n",
        "df['y_flg']=df['y'].apply(lambda x : 1 if x == 'yes' else 0)\n",
        "\n",
        "#変数加工\n",
        "\n",
        "#連続値範囲指定\n",
        "df['age_60'] = np.fmin(60,df['age'])\n",
        "df['balance_5000'] = np.fmax(-1,df['balance'])\n",
        "df['balance_5000'] = np.fmin(5000,df['balance_5000'])\n",
        "\n",
        "#カテゴリまとめ作業\n",
        "df['C_previous_b'] = df['previous'].apply(lambda x : x if x in (0,1,2) else 3)\n",
        "df['C_pdays_b'] = pd.cut(x=df['pdays'], bins=[-999,-1,60,90,120,999],labels=False)\n",
        "\n",
        "\n",
        "\n",
        "#変数をカテゴリ変数化\n",
        "cols = [\"job\", \"marital\", \"education\", \"housing\", \"loan\", \"poutcome\", \"C_previous_b\",\"C_pdays_b\"]\n",
        "#cols = [\"job\", \"marital\", \"education\", \"housing\", \"loan\", \"poutcome\", \"C_previous_b\",\"C_pdays_b\"]\n",
        "ce_df = ce.OrdinalEncoder(cols=cols, handle_unknown='impute')\n",
        "# ↑xgbモデルの場合はこれで問題なし（ダミー変数変換したものと同じ結果出力）\n",
        "#ce_df = ce.OneHotEncoder(cols=cols, handle_unknown='impute')  #ダミー変数\n",
        "\n",
        "df = ce_df.fit_transform(df)\n",
        "\n",
        "df = df.drop(\"y\", axis=1)\n",
        "df = df.drop(\"age\", axis=1)\n",
        "df = df.drop(\"default\", axis=1)\n",
        "df = df.drop(\"balance\", axis=1)\n",
        "df = df.drop(\"contact\", axis=1)\n",
        "df = df.drop(\"day\", axis=1)\n",
        "df = df.drop(\"month\", axis=1)\n",
        "df = df.drop(\"duration\", axis=1)\n",
        "df = df.drop(\"campaign\", axis=1)\n",
        "df = df.drop(\"pdays\", axis=1)\n",
        "df = df.drop(\"previous\", axis=1)\n",
        "\n",
        "# df.dtypes"
      ]
    },
    {
      "cell_type": "code",
      "execution_count": null,
      "metadata": {
        "colab": {
          "base_uri": "https://localhost:8080/",
          "height": 206
        },
        "id": "ABvD5rm_7AWS",
        "outputId": "879f8c5a-ceb1-4dac-e031-c241701f24d7"
      },
      "outputs": [
        {
          "output_type": "execute_result",
          "data": {
            "text/plain": [
              "   job  y_flg  age_60  balance_5000\n",
              "0    1      0      58          2143\n",
              "1    2      0      44            29\n",
              "2    3      0      33             2\n",
              "3    4      0      47          1506\n",
              "4    5      0      33             1"
            ],
            "text/html": [
              "\n",
              "  <div id=\"df-40dc1659-1e03-4bf5-939d-0789b02bf871\" class=\"colab-df-container\">\n",
              "    <div>\n",
              "<style scoped>\n",
              "    .dataframe tbody tr th:only-of-type {\n",
              "        vertical-align: middle;\n",
              "    }\n",
              "\n",
              "    .dataframe tbody tr th {\n",
              "        vertical-align: top;\n",
              "    }\n",
              "\n",
              "    .dataframe thead th {\n",
              "        text-align: right;\n",
              "    }\n",
              "</style>\n",
              "<table border=\"1\" class=\"dataframe\">\n",
              "  <thead>\n",
              "    <tr style=\"text-align: right;\">\n",
              "      <th></th>\n",
              "      <th>job</th>\n",
              "      <th>y_flg</th>\n",
              "      <th>age_60</th>\n",
              "      <th>balance_5000</th>\n",
              "    </tr>\n",
              "  </thead>\n",
              "  <tbody>\n",
              "    <tr>\n",
              "      <th>0</th>\n",
              "      <td>1</td>\n",
              "      <td>0</td>\n",
              "      <td>58</td>\n",
              "      <td>2143</td>\n",
              "    </tr>\n",
              "    <tr>\n",
              "      <th>1</th>\n",
              "      <td>2</td>\n",
              "      <td>0</td>\n",
              "      <td>44</td>\n",
              "      <td>29</td>\n",
              "    </tr>\n",
              "    <tr>\n",
              "      <th>2</th>\n",
              "      <td>3</td>\n",
              "      <td>0</td>\n",
              "      <td>33</td>\n",
              "      <td>2</td>\n",
              "    </tr>\n",
              "    <tr>\n",
              "      <th>3</th>\n",
              "      <td>4</td>\n",
              "      <td>0</td>\n",
              "      <td>47</td>\n",
              "      <td>1506</td>\n",
              "    </tr>\n",
              "    <tr>\n",
              "      <th>4</th>\n",
              "      <td>5</td>\n",
              "      <td>0</td>\n",
              "      <td>33</td>\n",
              "      <td>1</td>\n",
              "    </tr>\n",
              "  </tbody>\n",
              "</table>\n",
              "</div>\n",
              "    <div class=\"colab-df-buttons\">\n",
              "\n",
              "  <div class=\"colab-df-container\">\n",
              "    <button class=\"colab-df-convert\" onclick=\"convertToInteractive('df-40dc1659-1e03-4bf5-939d-0789b02bf871')\"\n",
              "            title=\"Convert this dataframe to an interactive table.\"\n",
              "            style=\"display:none;\">\n",
              "\n",
              "  <svg xmlns=\"http://www.w3.org/2000/svg\" height=\"24px\" viewBox=\"0 -960 960 960\">\n",
              "    <path d=\"M120-120v-720h720v720H120Zm60-500h600v-160H180v160Zm220 220h160v-160H400v160Zm0 220h160v-160H400v160ZM180-400h160v-160H180v160Zm440 0h160v-160H620v160ZM180-180h160v-160H180v160Zm440 0h160v-160H620v160Z\"/>\n",
              "  </svg>\n",
              "    </button>\n",
              "\n",
              "  <style>\n",
              "    .colab-df-container {\n",
              "      display:flex;\n",
              "      gap: 12px;\n",
              "    }\n",
              "\n",
              "    .colab-df-convert {\n",
              "      background-color: #E8F0FE;\n",
              "      border: none;\n",
              "      border-radius: 50%;\n",
              "      cursor: pointer;\n",
              "      display: none;\n",
              "      fill: #1967D2;\n",
              "      height: 32px;\n",
              "      padding: 0 0 0 0;\n",
              "      width: 32px;\n",
              "    }\n",
              "\n",
              "    .colab-df-convert:hover {\n",
              "      background-color: #E2EBFA;\n",
              "      box-shadow: 0px 1px 2px rgba(60, 64, 67, 0.3), 0px 1px 3px 1px rgba(60, 64, 67, 0.15);\n",
              "      fill: #174EA6;\n",
              "    }\n",
              "\n",
              "    .colab-df-buttons div {\n",
              "      margin-bottom: 4px;\n",
              "    }\n",
              "\n",
              "    [theme=dark] .colab-df-convert {\n",
              "      background-color: #3B4455;\n",
              "      fill: #D2E3FC;\n",
              "    }\n",
              "\n",
              "    [theme=dark] .colab-df-convert:hover {\n",
              "      background-color: #434B5C;\n",
              "      box-shadow: 0px 1px 3px 1px rgba(0, 0, 0, 0.15);\n",
              "      filter: drop-shadow(0px 1px 2px rgba(0, 0, 0, 0.3));\n",
              "      fill: #FFFFFF;\n",
              "    }\n",
              "  </style>\n",
              "\n",
              "    <script>\n",
              "      const buttonEl =\n",
              "        document.querySelector('#df-40dc1659-1e03-4bf5-939d-0789b02bf871 button.colab-df-convert');\n",
              "      buttonEl.style.display =\n",
              "        google.colab.kernel.accessAllowed ? 'block' : 'none';\n",
              "\n",
              "      async function convertToInteractive(key) {\n",
              "        const element = document.querySelector('#df-40dc1659-1e03-4bf5-939d-0789b02bf871');\n",
              "        const dataTable =\n",
              "          await google.colab.kernel.invokeFunction('convertToInteractive',\n",
              "                                                    [key], {});\n",
              "        if (!dataTable) return;\n",
              "\n",
              "        const docLinkHtml = 'Like what you see? Visit the ' +\n",
              "          '<a target=\"_blank\" href=https://colab.research.google.com/notebooks/data_table.ipynb>data table notebook</a>'\n",
              "          + ' to learn more about interactive tables.';\n",
              "        element.innerHTML = '';\n",
              "        dataTable['output_type'] = 'display_data';\n",
              "        await google.colab.output.renderOutput(dataTable, element);\n",
              "        const docLink = document.createElement('div');\n",
              "        docLink.innerHTML = docLinkHtml;\n",
              "        element.appendChild(docLink);\n",
              "      }\n",
              "    </script>\n",
              "  </div>\n",
              "\n",
              "\n",
              "<div id=\"df-5430d913-814f-4cea-9891-5e6658edc050\">\n",
              "  <button class=\"colab-df-quickchart\" onclick=\"quickchart('df-5430d913-814f-4cea-9891-5e6658edc050')\"\n",
              "            title=\"Suggest charts.\"\n",
              "            style=\"display:none;\">\n",
              "\n",
              "<svg xmlns=\"http://www.w3.org/2000/svg\" height=\"24px\"viewBox=\"0 0 24 24\"\n",
              "     width=\"24px\">\n",
              "    <g>\n",
              "        <path d=\"M19 3H5c-1.1 0-2 .9-2 2v14c0 1.1.9 2 2 2h14c1.1 0 2-.9 2-2V5c0-1.1-.9-2-2-2zM9 17H7v-7h2v7zm4 0h-2V7h2v10zm4 0h-2v-4h2v4z\"/>\n",
              "    </g>\n",
              "</svg>\n",
              "  </button>\n",
              "\n",
              "<style>\n",
              "  .colab-df-quickchart {\n",
              "    background-color: #E8F0FE;\n",
              "    border: none;\n",
              "    border-radius: 50%;\n",
              "    cursor: pointer;\n",
              "    display: none;\n",
              "    fill: #1967D2;\n",
              "    height: 32px;\n",
              "    padding: 0 0 0 0;\n",
              "    width: 32px;\n",
              "  }\n",
              "\n",
              "  .colab-df-quickchart:hover {\n",
              "    background-color: #E2EBFA;\n",
              "    box-shadow: 0px 1px 2px rgba(60, 64, 67, 0.3), 0px 1px 3px 1px rgba(60, 64, 67, 0.15);\n",
              "    fill: #174EA6;\n",
              "  }\n",
              "\n",
              "  [theme=dark] .colab-df-quickchart {\n",
              "    background-color: #3B4455;\n",
              "    fill: #D2E3FC;\n",
              "  }\n",
              "\n",
              "  [theme=dark] .colab-df-quickchart:hover {\n",
              "    background-color: #434B5C;\n",
              "    box-shadow: 0px 1px 3px 1px rgba(0, 0, 0, 0.15);\n",
              "    filter: drop-shadow(0px 1px 2px rgba(0, 0, 0, 0.3));\n",
              "    fill: #FFFFFF;\n",
              "  }\n",
              "</style>\n",
              "\n",
              "  <script>\n",
              "    async function quickchart(key) {\n",
              "      const charts = await google.colab.kernel.invokeFunction(\n",
              "          'suggestCharts', [key], {});\n",
              "    }\n",
              "    (() => {\n",
              "      let quickchartButtonEl =\n",
              "        document.querySelector('#df-5430d913-814f-4cea-9891-5e6658edc050 button');\n",
              "      quickchartButtonEl.style.display =\n",
              "        google.colab.kernel.accessAllowed ? 'block' : 'none';\n",
              "    })();\n",
              "  </script>\n",
              "</div>\n",
              "    </div>\n",
              "  </div>\n"
            ]
          },
          "metadata": {},
          "execution_count": 3
        }
      ],
      "source": [
        "#1テスト用に変数削除（年齢と残高だけでテスト）\n",
        "#df = df.drop(\"job\", axis=1)\n",
        "df = df.drop(\"marital\", axis=1)\n",
        "df = df.drop(\"education\", axis=1)\n",
        "df = df.drop(\"housing\", axis=1)\n",
        "df = df.drop(\"loan\", axis=1)\n",
        "df = df.drop(\"poutcome\", axis=1)\n",
        "df = df.drop(\"C_previous_b\", axis=1)\n",
        "df = df.drop(\"C_pdays_b\", axis=1)\n",
        "\n",
        "# データ中身確認\n",
        "df.head()\n"
      ]
    },
    {
      "cell_type": "code",
      "execution_count": null,
      "metadata": {
        "colab": {
          "base_uri": "https://localhost:8080/"
        },
        "id": "VA94fpNKV3oa",
        "outputId": "2ff2b0ba-aab4-4f6f-c9c6-fc14721fe06f"
      },
      "outputs": [
        {
          "output_type": "stream",
          "name": "stdout",
          "text": [
            "22605\n",
            "22606\n",
            "[LightGBM] [Info] Number of positive: 2672, number of negative: 19933\n",
            "[LightGBM] [Warning] Auto-choosing col-wise multi-threading, the overhead of testing was 0.004773 seconds.\n",
            "You can set `force_col_wise=true` to remove the overhead.\n",
            "[LightGBM] [Info] Total Bins 312\n",
            "[LightGBM] [Info] Number of data points in the train set: 22605, number of used features: 3\n",
            "[LightGBM] [Info] [binary:BoostFromScore]: pavg=0.118204 -> initscore=-2.009549\n",
            "[LightGBM] [Info] Start training from score -2.009549\n"
          ]
        }
      ],
      "source": [
        "#lightGBMモデル作成（共有会デモ用からコピーして編集）\n",
        "\n",
        "#勾配ブースティングモデルパッケージ\n",
        "import lightgbm as lgb\n",
        "import pickle\n",
        "\n",
        "#サンプリング（モデル作成データ、モデル検証データ作成）\n",
        "train_df, test_df = train_test_split(df, test_size=0.5, random_state=3)\n",
        "\n",
        "print(train_df.index.size)\n",
        "print(test_df.index.size)\n",
        "\n",
        "col = \"y_flg\"\n",
        "train_y = train_df[col]\n",
        "train_x = train_df.drop(col, axis=1)\n",
        "\n",
        "val_y = test_df[col]\n",
        "val_x = test_df.drop(col, axis=1)\n",
        "\n",
        "train_data = lgb.Dataset(train_x,label=train_y)\n",
        "eval_data = lgb.Dataset(val_x, label=val_y)\n",
        "\n",
        "#  パラメータ設定\n",
        "param = {'num_leaves': 31, 'objective': 'binary'}\n",
        "param['metric'] = ['auc', 'binary_logloss']\n",
        "\n",
        "#results_dict = {}\n",
        "\n",
        "\n",
        "#モデル作成コード\n",
        "# num_round = 10\n",
        "gbm = lgb.train(param, train_data)\n",
        "\n",
        "#モデル保存\n",
        "with open('model.pkl','wb')as f:\n",
        "  pickle.dump(gbm,f)\n",
        "\n",
        "\n"
      ]
    },
    {
      "cell_type": "code",
      "execution_count": null,
      "metadata": {
        "colab": {
          "base_uri": "https://localhost:8080/"
        },
        "id": "RTzuAgLyc-g5",
        "outputId": "7208f3c5-4896-4e7d-a532-58ed1bb22e79"
      },
      "outputs": [
        {
          "output_type": "stream",
          "name": "stdout",
          "text": [
            "【勾配ブースティングモデルAR値】\n",
            "モデル作成データ： 56.5325727414383\n",
            "モデル検証データ： 31.288846236465595\n"
          ]
        }
      ],
      "source": [
        "#データにモデルの予測値を追加\n",
        "gbm.predict\n",
        "predict = gbm.predict(train_x)\n",
        "train_df[\"p\"] = predict\n",
        "\n",
        "#AR値の計算\n",
        "from sklearn.metrics import roc_auc_score\n",
        "\n",
        "auc = roc_auc_score(train_df['y_flg'],train_df['p'])\n",
        "ar = 2 * (auc - 0.5) * 100\n",
        "ar_in = ar\n",
        "\n",
        "print('【勾配ブースティングモデルAR値】')\n",
        "\n",
        "print('モデル作成データ：',ar)\n",
        "\n",
        "#予測確率の計算（モデル検証データ)\n",
        "predict = gbm.predict(val_x)\n",
        "test_df['p']=predict\n",
        "\n",
        "#AR値の計算\n",
        "auc = roc_auc_score(test_df['y_flg'],test_df['p'])\n",
        "ar = 2 * (auc - 0.5) * 100\n",
        "ar_out = ar\n",
        "\n",
        "print('モデル検証データ：',ar)"
      ]
    },
    {
      "cell_type": "markdown",
      "metadata": {
        "id": "lCJSvptEwHsR"
      },
      "source": [
        "参考  \n",
        "【共有会時作成モデル　勾配ブースティングモデルAR値】\n",
        "\n",
        "モデル作成データ： 50.27498181783228  \n",
        "モデル検証データ： 46.55911725847381"
      ]
    },
    {
      "cell_type": "code",
      "execution_count": null,
      "metadata": {
        "id": "ewiq3bQMkr8j"
      },
      "outputs": [],
      "source": [
        "#【参考】決定木の分岐の可視化\n",
        "lgb.create_tree_digraph(gbm, 1)"
      ]
    },
    {
      "cell_type": "markdown",
      "metadata": {
        "id": "Xc_qDlgIaPjc"
      },
      "source": [
        "#１．モデル作成_work\n",
        "lightGBMモデルを作っておく  \n",
        "変数増やしてみた  \n",
        "パラメータいじり"
      ]
    },
    {
      "cell_type": "code",
      "execution_count": null,
      "metadata": {
        "id": "5CKhlWRRaPje"
      },
      "outputs": [],
      "source": [
        "\n",
        "\n",
        "#データ読込\n",
        "df = pd.read_csv('https://raw.githubusercontent.com/PortugalJip2022/Portugal2022/main/bank-full.csv',delimiter=\";\")\n",
        "\n",
        "#yのフラグを追加\n",
        "df['y_flg']=df['y'].apply(lambda x : 1 if x == 'yes' else 0)\n",
        "\n",
        "#変数加工\n",
        "\n",
        "#連続値範囲指定\n",
        "df['age_60'] = np.fmin(60,df['age'])\n",
        "df['balance_5000'] = np.fmax(-1,df['balance'])\n",
        "df['balance_5000'] = np.fmin(5000,df['balance_5000'])\n",
        "\n",
        "#カテゴリまとめ作業\n",
        "df['C_previous_b'] = df['previous'].apply(lambda x : x if x in (0,1,2) else 3)\n",
        "df['C_pdays_b'] = pd.cut(x=df['pdays'], bins=[-999,-1,60,90,120,999],labels=False)\n",
        "\n",
        "\n",
        "\n",
        "#変数をカテゴリ変数化\n",
        "cols = [\"job\", \"marital\", \"education\", \"housing\", \"loan\", \"poutcome\", \"C_previous_b\",\"C_pdays_b\"]\n",
        "#cols = [\"job\", \"marital\", \"education\", \"housing\", \"loan\", \"poutcome\", \"C_previous_b\",\"C_pdays_b\"]\n",
        "ce_df = ce.OrdinalEncoder(cols=cols, handle_unknown='impute')\n",
        "# ↑xgbモデルの場合はこれで問題なし（ダミー変数変換したものと同じ結果出力）\n",
        "#ce_df = ce.OneHotEncoder(cols=cols, handle_unknown='impute')  #ダミー変数\n",
        "\n",
        "df = ce_df.fit_transform(df)\n",
        "\n",
        "df = df.drop(\"y\", axis=1)\n",
        "df = df.drop(\"age\", axis=1)\n",
        "df = df.drop(\"default\", axis=1)\n",
        "df = df.drop(\"balance\", axis=1)\n",
        "df = df.drop(\"contact\", axis=1)\n",
        "df = df.drop(\"day\", axis=1)\n",
        "df = df.drop(\"month\", axis=1)\n",
        "df = df.drop(\"duration\", axis=1)\n",
        "df = df.drop(\"campaign\", axis=1)\n",
        "df = df.drop(\"pdays\", axis=1)\n",
        "df = df.drop(\"previous\", axis=1)\n",
        "\n",
        "# df.dtypes"
      ]
    },
    {
      "cell_type": "code",
      "execution_count": null,
      "metadata": {
        "id": "ZCw_Of0EaPjf"
      },
      "outputs": [],
      "source": [
        "#1テスト用に変数削除（年齢と残高だけでテスト）\n",
        "#df = df.drop(\"job\", axis=1)\n",
        "# df = df.drop(\"marital\", axis=1)\n",
        "# df = df.drop(\"education\", axis=1)\n",
        "# df = df.drop(\"housing\", axis=1)\n",
        "# df = df.drop(\"loan\", axis=1)\n",
        "# df = df.drop(\"poutcome\", axis=1)\n",
        "# df = df.drop(\"C_previous_b\", axis=1)\n",
        "# df = df.drop(\"C_pdays_b\", axis=1)\n",
        "\n",
        "# # データ中身確認\n",
        "# df.head()\n"
      ]
    },
    {
      "cell_type": "code",
      "execution_count": null,
      "metadata": {
        "colab": {
          "base_uri": "https://localhost:8080/"
        },
        "outputId": "8b01f425-0c6b-4e8c-af67-c346fdddb91c",
        "id": "diFH5KBmaPjg"
      },
      "outputs": [
        {
          "output_type": "stream",
          "name": "stdout",
          "text": [
            "22605\n",
            "22606\n",
            "[LightGBM] [Info] Number of positive: 2672, number of negative: 19933\n",
            "[LightGBM] [Warning] Auto-choosing row-wise multi-threading, the overhead of testing was 0.001666 seconds.\n",
            "You can set `force_row_wise=true` to remove the overhead.\n",
            "And if memory is not enough, you can set `force_col_wise=true`.\n",
            "[LightGBM] [Info] Total Bins 343\n",
            "[LightGBM] [Info] Number of data points in the train set: 22605, number of used features: 10\n",
            "[LightGBM] [Info] [binary:BoostFromScore]: pavg=0.118204 -> initscore=-2.009549\n",
            "[LightGBM] [Info] Start training from score -2.009549\n"
          ]
        }
      ],
      "source": [
        "#lightGBMモデル作成（共有会デモ用からコピーして編集）\n",
        "\n",
        "#勾配ブースティングモデルパッケージ\n",
        "import lightgbm as lgb\n",
        "import pickle\n",
        "\n",
        "#サンプリング（モデル作成データ、モデル検証データ作成）\n",
        "train_df, test_df = train_test_split(df, test_size=0.5, random_state=3)\n",
        "\n",
        "print(train_df.index.size)\n",
        "print(test_df.index.size)\n",
        "\n",
        "col = \"y_flg\"\n",
        "train_y = train_df[col]\n",
        "train_x = train_df.drop(col, axis=1)\n",
        "\n",
        "val_y = test_df[col]\n",
        "val_x = test_df.drop(col, axis=1)\n",
        "\n",
        "train_data = lgb.Dataset(train_x,label=train_y)\n",
        "eval_data = lgb.Dataset(val_x, label=val_y)\n",
        "\n",
        "#  パラメータ設定\n",
        "param = {'num_leaves': 31, 'objective': 'binary'}\n",
        "param['metric'] = ['auc', 'binary_logloss']\n",
        "\n",
        "#results_dict = {}\n",
        "\n",
        "\n",
        "#モデル作成コード\n",
        "# num_round = 10\n",
        "gbm = lgb.train(param, train_data)\n",
        "\n",
        "#モデル保存\n",
        "with open('model.pkl','wb')as f:\n",
        "  pickle.dump(gbm,f)\n",
        "\n",
        "\n"
      ]
    },
    {
      "cell_type": "code",
      "source": [
        "test_df.groupby('y_flg').count()"
      ],
      "metadata": {
        "colab": {
          "base_uri": "https://localhost:8080/",
          "height": 163
        },
        "id": "avzYUIxnAcc2",
        "outputId": "d3ed1ac4-2fa4-4a6b-a66f-567ee8b8ef9c"
      },
      "execution_count": null,
      "outputs": [
        {
          "output_type": "execute_result",
          "data": {
            "text/plain": [
              "         job  marital  education  housing   loan  poutcome  age_60  \\\n",
              "y_flg                                                                \n",
              "0      19989    19989      19989    19989  19989     19989   19989   \n",
              "1       2617     2617       2617     2617   2617      2617    2617   \n",
              "\n",
              "       balance_5000  C_previous_b  C_pdays_b  \n",
              "y_flg                                         \n",
              "0             19989         19989      19989  \n",
              "1              2617          2617       2617  "
            ],
            "text/html": [
              "\n",
              "  <div id=\"df-f2945c38-562c-4c9f-972a-494f587d4c89\" class=\"colab-df-container\">\n",
              "    <div>\n",
              "<style scoped>\n",
              "    .dataframe tbody tr th:only-of-type {\n",
              "        vertical-align: middle;\n",
              "    }\n",
              "\n",
              "    .dataframe tbody tr th {\n",
              "        vertical-align: top;\n",
              "    }\n",
              "\n",
              "    .dataframe thead th {\n",
              "        text-align: right;\n",
              "    }\n",
              "</style>\n",
              "<table border=\"1\" class=\"dataframe\">\n",
              "  <thead>\n",
              "    <tr style=\"text-align: right;\">\n",
              "      <th></th>\n",
              "      <th>job</th>\n",
              "      <th>marital</th>\n",
              "      <th>education</th>\n",
              "      <th>housing</th>\n",
              "      <th>loan</th>\n",
              "      <th>poutcome</th>\n",
              "      <th>age_60</th>\n",
              "      <th>balance_5000</th>\n",
              "      <th>C_previous_b</th>\n",
              "      <th>C_pdays_b</th>\n",
              "    </tr>\n",
              "    <tr>\n",
              "      <th>y_flg</th>\n",
              "      <th></th>\n",
              "      <th></th>\n",
              "      <th></th>\n",
              "      <th></th>\n",
              "      <th></th>\n",
              "      <th></th>\n",
              "      <th></th>\n",
              "      <th></th>\n",
              "      <th></th>\n",
              "      <th></th>\n",
              "    </tr>\n",
              "  </thead>\n",
              "  <tbody>\n",
              "    <tr>\n",
              "      <th>0</th>\n",
              "      <td>19989</td>\n",
              "      <td>19989</td>\n",
              "      <td>19989</td>\n",
              "      <td>19989</td>\n",
              "      <td>19989</td>\n",
              "      <td>19989</td>\n",
              "      <td>19989</td>\n",
              "      <td>19989</td>\n",
              "      <td>19989</td>\n",
              "      <td>19989</td>\n",
              "    </tr>\n",
              "    <tr>\n",
              "      <th>1</th>\n",
              "      <td>2617</td>\n",
              "      <td>2617</td>\n",
              "      <td>2617</td>\n",
              "      <td>2617</td>\n",
              "      <td>2617</td>\n",
              "      <td>2617</td>\n",
              "      <td>2617</td>\n",
              "      <td>2617</td>\n",
              "      <td>2617</td>\n",
              "      <td>2617</td>\n",
              "    </tr>\n",
              "  </tbody>\n",
              "</table>\n",
              "</div>\n",
              "    <div class=\"colab-df-buttons\">\n",
              "\n",
              "  <div class=\"colab-df-container\">\n",
              "    <button class=\"colab-df-convert\" onclick=\"convertToInteractive('df-f2945c38-562c-4c9f-972a-494f587d4c89')\"\n",
              "            title=\"Convert this dataframe to an interactive table.\"\n",
              "            style=\"display:none;\">\n",
              "\n",
              "  <svg xmlns=\"http://www.w3.org/2000/svg\" height=\"24px\" viewBox=\"0 -960 960 960\">\n",
              "    <path d=\"M120-120v-720h720v720H120Zm60-500h600v-160H180v160Zm220 220h160v-160H400v160Zm0 220h160v-160H400v160ZM180-400h160v-160H180v160Zm440 0h160v-160H620v160ZM180-180h160v-160H180v160Zm440 0h160v-160H620v160Z\"/>\n",
              "  </svg>\n",
              "    </button>\n",
              "\n",
              "  <style>\n",
              "    .colab-df-container {\n",
              "      display:flex;\n",
              "      gap: 12px;\n",
              "    }\n",
              "\n",
              "    .colab-df-convert {\n",
              "      background-color: #E8F0FE;\n",
              "      border: none;\n",
              "      border-radius: 50%;\n",
              "      cursor: pointer;\n",
              "      display: none;\n",
              "      fill: #1967D2;\n",
              "      height: 32px;\n",
              "      padding: 0 0 0 0;\n",
              "      width: 32px;\n",
              "    }\n",
              "\n",
              "    .colab-df-convert:hover {\n",
              "      background-color: #E2EBFA;\n",
              "      box-shadow: 0px 1px 2px rgba(60, 64, 67, 0.3), 0px 1px 3px 1px rgba(60, 64, 67, 0.15);\n",
              "      fill: #174EA6;\n",
              "    }\n",
              "\n",
              "    .colab-df-buttons div {\n",
              "      margin-bottom: 4px;\n",
              "    }\n",
              "\n",
              "    [theme=dark] .colab-df-convert {\n",
              "      background-color: #3B4455;\n",
              "      fill: #D2E3FC;\n",
              "    }\n",
              "\n",
              "    [theme=dark] .colab-df-convert:hover {\n",
              "      background-color: #434B5C;\n",
              "      box-shadow: 0px 1px 3px 1px rgba(0, 0, 0, 0.15);\n",
              "      filter: drop-shadow(0px 1px 2px rgba(0, 0, 0, 0.3));\n",
              "      fill: #FFFFFF;\n",
              "    }\n",
              "  </style>\n",
              "\n",
              "    <script>\n",
              "      const buttonEl =\n",
              "        document.querySelector('#df-f2945c38-562c-4c9f-972a-494f587d4c89 button.colab-df-convert');\n",
              "      buttonEl.style.display =\n",
              "        google.colab.kernel.accessAllowed ? 'block' : 'none';\n",
              "\n",
              "      async function convertToInteractive(key) {\n",
              "        const element = document.querySelector('#df-f2945c38-562c-4c9f-972a-494f587d4c89');\n",
              "        const dataTable =\n",
              "          await google.colab.kernel.invokeFunction('convertToInteractive',\n",
              "                                                    [key], {});\n",
              "        if (!dataTable) return;\n",
              "\n",
              "        const docLinkHtml = 'Like what you see? Visit the ' +\n",
              "          '<a target=\"_blank\" href=https://colab.research.google.com/notebooks/data_table.ipynb>data table notebook</a>'\n",
              "          + ' to learn more about interactive tables.';\n",
              "        element.innerHTML = '';\n",
              "        dataTable['output_type'] = 'display_data';\n",
              "        await google.colab.output.renderOutput(dataTable, element);\n",
              "        const docLink = document.createElement('div');\n",
              "        docLink.innerHTML = docLinkHtml;\n",
              "        element.appendChild(docLink);\n",
              "      }\n",
              "    </script>\n",
              "  </div>\n",
              "\n",
              "\n",
              "<div id=\"df-44ed17e3-9632-4e95-bb75-2962a90598fd\">\n",
              "  <button class=\"colab-df-quickchart\" onclick=\"quickchart('df-44ed17e3-9632-4e95-bb75-2962a90598fd')\"\n",
              "            title=\"Suggest charts.\"\n",
              "            style=\"display:none;\">\n",
              "\n",
              "<svg xmlns=\"http://www.w3.org/2000/svg\" height=\"24px\"viewBox=\"0 0 24 24\"\n",
              "     width=\"24px\">\n",
              "    <g>\n",
              "        <path d=\"M19 3H5c-1.1 0-2 .9-2 2v14c0 1.1.9 2 2 2h14c1.1 0 2-.9 2-2V5c0-1.1-.9-2-2-2zM9 17H7v-7h2v7zm4 0h-2V7h2v10zm4 0h-2v-4h2v4z\"/>\n",
              "    </g>\n",
              "</svg>\n",
              "  </button>\n",
              "\n",
              "<style>\n",
              "  .colab-df-quickchart {\n",
              "    background-color: #E8F0FE;\n",
              "    border: none;\n",
              "    border-radius: 50%;\n",
              "    cursor: pointer;\n",
              "    display: none;\n",
              "    fill: #1967D2;\n",
              "    height: 32px;\n",
              "    padding: 0 0 0 0;\n",
              "    width: 32px;\n",
              "  }\n",
              "\n",
              "  .colab-df-quickchart:hover {\n",
              "    background-color: #E2EBFA;\n",
              "    box-shadow: 0px 1px 2px rgba(60, 64, 67, 0.3), 0px 1px 3px 1px rgba(60, 64, 67, 0.15);\n",
              "    fill: #174EA6;\n",
              "  }\n",
              "\n",
              "  [theme=dark] .colab-df-quickchart {\n",
              "    background-color: #3B4455;\n",
              "    fill: #D2E3FC;\n",
              "  }\n",
              "\n",
              "  [theme=dark] .colab-df-quickchart:hover {\n",
              "    background-color: #434B5C;\n",
              "    box-shadow: 0px 1px 3px 1px rgba(0, 0, 0, 0.15);\n",
              "    filter: drop-shadow(0px 1px 2px rgba(0, 0, 0, 0.3));\n",
              "    fill: #FFFFFF;\n",
              "  }\n",
              "</style>\n",
              "\n",
              "  <script>\n",
              "    async function quickchart(key) {\n",
              "      const charts = await google.colab.kernel.invokeFunction(\n",
              "          'suggestCharts', [key], {});\n",
              "    }\n",
              "    (() => {\n",
              "      let quickchartButtonEl =\n",
              "        document.querySelector('#df-44ed17e3-9632-4e95-bb75-2962a90598fd button');\n",
              "      quickchartButtonEl.style.display =\n",
              "        google.colab.kernel.accessAllowed ? 'block' : 'none';\n",
              "    })();\n",
              "  </script>\n",
              "</div>\n",
              "    </div>\n",
              "  </div>\n"
            ]
          },
          "metadata": {},
          "execution_count": 4
        }
      ]
    },
    {
      "cell_type": "code",
      "execution_count": null,
      "metadata": {
        "colab": {
          "base_uri": "https://localhost:8080/"
        },
        "outputId": "46d749ed-2437-4a87-e7a7-0aede18732f9",
        "id": "p5y5sNRHacSK"
      },
      "outputs": [
        {
          "output_type": "stream",
          "name": "stdout",
          "text": [
            "【勾配ブースティングモデルAR値】\n",
            "モデル作成データ： 67.63033219669123\n",
            "モデル検証データ： 44.82730308700737\n"
          ]
        }
      ],
      "source": [
        "#データにモデルの予測値を追加\n",
        "gbm.predict\n",
        "predict = gbm.predict(train_x)\n",
        "train_df[\"p\"] = predict\n",
        "\n",
        "#AR値の計算\n",
        "from sklearn.metrics import roc_auc_score\n",
        "\n",
        "auc = roc_auc_score(train_df['y_flg'],train_df['p'])\n",
        "ar = 2 * (auc - 0.5) * 100\n",
        "ar_in = ar\n",
        "\n",
        "print('【勾配ブースティングモデルAR値】')\n",
        "\n",
        "print('モデル作成データ：',ar)\n",
        "\n",
        "#予測確率の計算（モデル検証データ)\n",
        "predict = gbm.predict(val_x)\n",
        "test_df['p']=predict\n",
        "\n",
        "#AR値の計算\n",
        "auc = roc_auc_score(test_df['y_flg'],test_df['p'])\n",
        "ar = 2 * (auc - 0.5) * 100\n",
        "ar_out = ar\n",
        "\n",
        "print('モデル検証データ：',ar)"
      ]
    },
    {
      "cell_type": "markdown",
      "source": [
        "##モデルブラッシュアップ_ver1.0\n",
        "パラメータの設定をしてみる"
      ],
      "metadata": {
        "id": "Sr7g0Ten8aRs"
      }
    },
    {
      "cell_type": "code",
      "execution_count": null,
      "metadata": {
        "colab": {
          "base_uri": "https://localhost:8080/",
          "height": 690
        },
        "outputId": "4f77b161-e58d-4a66-cb2f-247efb06539f",
        "id": "YqPl2C0YaPjg"
      },
      "outputs": [
        {
          "output_type": "stream",
          "name": "stdout",
          "text": [
            "[LightGBM] [Warning] Unknown parameter: eval_metric\n",
            "[LightGBM] [Warning] Unknown parameter: eval_metric\n",
            "[LightGBM] [Info] Number of positive: 2672, number of negative: 19933\n",
            "[LightGBM] [Warning] Auto-choosing row-wise multi-threading, the overhead of testing was 0.001506 seconds.\n",
            "You can set `force_row_wise=true` to remove the overhead.\n",
            "And if memory is not enough, you can set `force_col_wise=true`.\n",
            "[LightGBM] [Info] Total Bins 343\n",
            "[LightGBM] [Info] Number of data points in the train set: 22605, number of used features: 10\n",
            "[LightGBM] [Info] [binary:BoostFromScore]: pavg=0.118204 -> initscore=-2.009549\n",
            "[LightGBM] [Info] Start training from score -2.009549\n",
            "【勾配ブースティングモデルAR値】\n",
            "モデル作成データ： 52.85213887180738\n",
            "モデル検証データ： 45.21106975668867\n",
            "accuracy score: 0.8923\n"
          ]
        },
        {
          "output_type": "execute_result",
          "data": {
            "text/plain": [
              "<Axes: >"
            ]
          },
          "metadata": {},
          "execution_count": 8
        },
        {
          "output_type": "display_data",
          "data": {
            "text/plain": [
              "<Figure size 640x480 with 2 Axes>"
            ],
            "image/png": "[encoded data removed]"
          },
          "metadata": {}
        }
      ],
      "source": [
        "\n",
        "##################################################################\n",
        "\n",
        "#  パラメータ設定_ver1.0\n",
        "param = {\n",
        "         'objective': 'binary',\n",
        "         'learning_rate': 0.01,            # 学習率（初期値0.1）\n",
        "         'max_depth':0,\n",
        "         'eval_metric':'auc',\n",
        "         'num_leaves': 50,                 # 1本の木の最大葉枚数\n",
        "         'min_data_in_leaf': 100,          # データの最小数（初期値20）\n",
        "         'metric':'binary_logloss'\n",
        "         }\n",
        "# param['metric'] = ['auc', 'binary_logloss']\n",
        "\n",
        "#results_dict = {}\n",
        "\n",
        "\n",
        "#モデル作成コード\n",
        "# num_round = 10\n",
        "gbm = lgb.train(param,\n",
        "                train_data,\n",
        "                num_boost_round=100\n",
        "                )\n",
        "\n",
        "##################################################################\n",
        "\n",
        "#データにモデルの予測値を追加\n",
        "predict = gbm.predict(train_x)\n",
        "train_df[\"p\"] = predict\n",
        "\n",
        "#AR値の計算\n",
        "from sklearn.metrics import roc_auc_score\n",
        "\n",
        "auc = roc_auc_score(train_df['y_flg'],train_df['p'])\n",
        "ar = 2 * (auc - 0.5) * 100\n",
        "ar_in = ar\n",
        "\n",
        "print('【勾配ブースティングモデルAR値】')\n",
        "\n",
        "print('モデル作成データ：',ar)\n",
        "\n",
        "#予測確率の計算（モデル検証データ)\n",
        "predict = gbm.predict(val_x)\n",
        "test_df['p']=predict\n",
        "\n",
        "#AR値の計算\n",
        "auc = roc_auc_score(test_df['y_flg'],test_df['p'])\n",
        "ar = 2 * (auc - 0.5) * 100\n",
        "ar_out = ar\n",
        "\n",
        "print('モデル検証データ：',ar)\n",
        "\n",
        "# accuracy 算出\n",
        "y_pred = gbm.predict(val_x, num_iteration=gbm.best_iteration)\n",
        "\n",
        "\n",
        "y_pred = np.where(y_pred >= 0.3, 1, 0)\n",
        "# y_pred = y_pred.round(0)\n",
        "\n",
        "from sklearn.metrics import accuracy_score\n",
        "\n",
        "accuracy = accuracy_score(y_pred, val_y)\n",
        "print(f\"accuracy score: {accuracy:0.4f}\")\n",
        "\n",
        "from sklearn.metrics import confusion_matrix\n",
        "import seaborn as sns\n",
        "\n",
        "cm = confusion_matrix(val_y,y_pred)\n",
        "cm_matrix = pd.DataFrame(data=cm, columns=['Predict Negative:0','Predict Positive:1'],\n",
        "                                 index=['Actual Negative:0','Actual Positive:1'])\n",
        "\n",
        "sns.heatmap(cm_matrix, annot=True, fmt='d', cmap='YlGnBu')\n",
        "\n",
        "\n"
      ]
    },
    {
      "cell_type": "code",
      "source": [
        "print('【答え】positive件数:', np.count_nonzero(val_y ==1))\n",
        "print('【答え】negative件数:',np.count_nonzero(val_y ==0))\n",
        "\n",
        "print('【予測】positive件数:', np.count_nonzero(y_pred ==1))\n",
        "print('【予測】negative件数:',np.count_nonzero(y_pred ==0))"
      ],
      "metadata": {
        "colab": {
          "base_uri": "https://localhost:8080/"
        },
        "id": "11PKh9K4YZ3j",
        "outputId": "d3433618-1abc-4ffa-a018-f32b4ab01aff"
      },
      "execution_count": null,
      "outputs": [
        {
          "output_type": "stream",
          "name": "stdout",
          "text": [
            "【答え】positive件数: 2617\n",
            "【答え】negative件数: 19989\n",
            "【予測】positive件数: 862\n",
            "【予測】negative件数: 21744\n"
          ]
        }
      ]
    },
    {
      "cell_type": "code",
      "execution_count": null,
      "metadata": {
        "colab": {
          "base_uri": "https://localhost:8080/",
          "height": 1000
        },
        "outputId": "431c24da-5681-4554-f0f1-7342adcc9609",
        "id": "sYYxOTJNZwcv"
      },
      "outputs": [
        {
          "output_type": "stream",
          "name": "stdout",
          "text": [
            "[LightGBM] [Warning] Unknown parameter: eval_metric\n",
            "[LightGBM] [Warning] Unknown parameter: eval_metric\n",
            "[LightGBM] [Info] Number of positive: 2672, number of negative: 19933\n",
            "[LightGBM] [Warning] Auto-choosing row-wise multi-threading, the overhead of testing was 0.001518 seconds.\n",
            "You can set `force_row_wise=true` to remove the overhead.\n",
            "And if memory is not enough, you can set `force_col_wise=true`.\n",
            "[LightGBM] [Info] Total Bins 343\n",
            "[LightGBM] [Info] Number of data points in the train set: 22605, number of used features: 10\n",
            "[LightGBM] [Info] [binary:BoostFromScore]: pavg=0.118204 -> initscore=-2.009549\n",
            "[LightGBM] [Info] Start training from score -2.009549\n",
            "[LightGBM] [Warning] No further splits with positive gain, best gain: -inf\n",
            "[LightGBM] [Warning] No further splits with positive gain, best gain: -inf\n",
            "[LightGBM] [Warning] No further splits with positive gain, best gain: -inf\n",
            "[LightGBM] [Warning] No further splits with positive gain, best gain: -inf\n",
            "[LightGBM] [Warning] No further splits with positive gain, best gain: -inf\n",
            "[LightGBM] [Warning] No further splits with positive gain, best gain: -inf\n",
            "[LightGBM] [Warning] No further splits with positive gain, best gain: -inf\n",
            "[LightGBM] [Warning] No further splits with positive gain, best gain: -inf\n",
            "[LightGBM] [Warning] No further splits with positive gain, best gain: -inf\n",
            "[LightGBM] [Warning] No further splits with positive gain, best gain: -inf\n",
            "[LightGBM] [Warning] No further splits with positive gain, best gain: -inf\n",
            "[LightGBM] [Warning] No further splits with positive gain, best gain: -inf\n",
            "[LightGBM] [Warning] No further splits with positive gain, best gain: -inf\n",
            "[LightGBM] [Warning] No further splits with positive gain, best gain: -inf\n",
            "[LightGBM] [Warning] No further splits with positive gain, best gain: -inf\n",
            "[LightGBM] [Warning] No further splits with positive gain, best gain: -inf\n",
            "[LightGBM] [Warning] No further splits with positive gain, best gain: -inf\n",
            "[LightGBM] [Warning] No further splits with positive gain, best gain: -inf\n",
            "[LightGBM] [Warning] No further splits with positive gain, best gain: -inf\n",
            "[LightGBM] [Warning] No further splits with positive gain, best gain: -inf\n",
            "[LightGBM] [Warning] No further splits with positive gain, best gain: -inf\n",
            "[LightGBM] [Warning] No further splits with positive gain, best gain: -inf\n",
            "[LightGBM] [Warning] No further splits with positive gain, best gain: -inf\n",
            "[LightGBM] [Warning] No further splits with positive gain, best gain: -inf\n",
            "[LightGBM] [Warning] No further splits with positive gain, best gain: -inf\n",
            "[LightGBM] [Warning] No further splits with positive gain, best gain: -inf\n",
            "[LightGBM] [Warning] No further splits with positive gain, best gain: -inf\n",
            "[LightGBM] [Warning] No further splits with positive gain, best gain: -inf\n",
            "[LightGBM] [Warning] No further splits with positive gain, best gain: -inf\n",
            "[LightGBM] [Warning] No further splits with positive gain, best gain: -inf\n",
            "[LightGBM] [Warning] No further splits with positive gain, best gain: -inf\n",
            "[LightGBM] [Warning] No further splits with positive gain, best gain: -inf\n",
            "[LightGBM] [Warning] No further splits with positive gain, best gain: -inf\n",
            "[LightGBM] [Warning] No further splits with positive gain, best gain: -inf\n",
            "[LightGBM] [Warning] No further splits with positive gain, best gain: -inf\n",
            "[LightGBM] [Warning] No further splits with positive gain, best gain: -inf\n",
            "[LightGBM] [Warning] No further splits with positive gain, best gain: -inf\n",
            "[LightGBM] [Warning] No further splits with positive gain, best gain: -inf\n",
            "[LightGBM] [Warning] No further splits with positive gain, best gain: -inf\n",
            "[LightGBM] [Warning] No further splits with positive gain, best gain: -inf\n",
            "[LightGBM] [Warning] No further splits with positive gain, best gain: -inf\n",
            "[LightGBM] [Warning] No further splits with positive gain, best gain: -inf\n",
            "[LightGBM] [Warning] No further splits with positive gain, best gain: -inf\n",
            "[LightGBM] [Warning] No further splits with positive gain, best gain: -inf\n",
            "[LightGBM] [Warning] No further splits with positive gain, best gain: -inf\n",
            "[LightGBM] [Warning] No further splits with positive gain, best gain: -inf\n",
            "[LightGBM] [Warning] No further splits with positive gain, best gain: -inf\n",
            "[LightGBM] [Warning] No further splits with positive gain, best gain: -inf\n",
            "[LightGBM] [Warning] No further splits with positive gain, best gain: -inf\n",
            "[LightGBM] [Warning] No further splits with positive gain, best gain: -inf\n",
            "[LightGBM] [Warning] No further splits with positive gain, best gain: -inf\n",
            "[LightGBM] [Warning] No further splits with positive gain, best gain: -inf\n",
            "[LightGBM] [Warning] No further splits with positive gain, best gain: -inf\n",
            "[LightGBM] [Warning] No further splits with positive gain, best gain: -inf\n",
            "[LightGBM] [Warning] No further splits with positive gain, best gain: -inf\n",
            "[LightGBM] [Warning] No further splits with positive gain, best gain: -inf\n",
            "[LightGBM] [Warning] No further splits with positive gain, best gain: -inf\n",
            "[LightGBM] [Warning] No further splits with positive gain, best gain: -inf\n",
            "[LightGBM] [Warning] No further splits with positive gain, best gain: -inf\n",
            "[LightGBM] [Warning] No further splits with positive gain, best gain: -inf\n",
            "[LightGBM] [Warning] No further splits with positive gain, best gain: -inf\n",
            "[LightGBM] [Warning] No further splits with positive gain, best gain: -inf\n",
            "[LightGBM] [Warning] No further splits with positive gain, best gain: -inf\n",
            "[LightGBM] [Warning] No further splits with positive gain, best gain: -inf\n",
            "[LightGBM] [Warning] No further splits with positive gain, best gain: -inf\n",
            "[LightGBM] [Warning] No further splits with positive gain, best gain: -inf\n",
            "[LightGBM] [Warning] No further splits with positive gain, best gain: -inf\n",
            "[LightGBM] [Warning] No further splits with positive gain, best gain: -inf\n",
            "[LightGBM] [Warning] No further splits with positive gain, best gain: -inf\n",
            "[LightGBM] [Warning] No further splits with positive gain, best gain: -inf\n",
            "[LightGBM] [Warning] No further splits with positive gain, best gain: -inf\n",
            "[LightGBM] [Warning] No further splits with positive gain, best gain: -inf\n",
            "[LightGBM] [Warning] No further splits with positive gain, best gain: -inf\n",
            "[LightGBM] [Warning] No further splits with positive gain, best gain: -inf\n",
            "[LightGBM] [Warning] No further splits with positive gain, best gain: -inf\n",
            "[LightGBM] [Warning] No further splits with positive gain, best gain: -inf\n",
            "[LightGBM] [Warning] No further splits with positive gain, best gain: -inf\n",
            "[LightGBM] [Warning] No further splits with positive gain, best gain: -inf\n",
            "[LightGBM] [Warning] No further splits with positive gain, best gain: -inf\n",
            "[LightGBM] [Warning] No further splits with positive gain, best gain: -inf\n",
            "[LightGBM] [Warning] No further splits with positive gain, best gain: -inf\n",
            "[LightGBM] [Warning] No further splits with positive gain, best gain: -inf\n",
            "[LightGBM] [Warning] No further splits with positive gain, best gain: -inf\n",
            "[LightGBM] [Warning] No further splits with positive gain, best gain: -inf\n",
            "[LightGBM] [Warning] No further splits with positive gain, best gain: -inf\n",
            "[LightGBM] [Warning] No further splits with positive gain, best gain: -inf\n",
            "[LightGBM] [Warning] No further splits with positive gain, best gain: -inf\n",
            "[LightGBM] [Warning] No further splits with positive gain, best gain: -inf\n",
            "[LightGBM] [Warning] No further splits with positive gain, best gain: -inf\n",
            "[LightGBM] [Warning] No further splits with positive gain, best gain: -inf\n",
            "[LightGBM] [Warning] No further splits with positive gain, best gain: -inf\n",
            "[LightGBM] [Warning] No further splits with positive gain, best gain: -inf\n",
            "[LightGBM] [Warning] No further splits with positive gain, best gain: -inf\n",
            "[LightGBM] [Warning] No further splits with positive gain, best gain: -inf\n",
            "[LightGBM] [Warning] No further splits with positive gain, best gain: -inf\n",
            "[LightGBM] [Warning] No further splits with positive gain, best gain: -inf\n",
            "[LightGBM] [Warning] No further splits with positive gain, best gain: -inf\n",
            "[LightGBM] [Warning] No further splits with positive gain, best gain: -inf\n",
            "[LightGBM] [Warning] No further splits with positive gain, best gain: -inf\n",
            "[LightGBM] [Warning] No further splits with positive gain, best gain: -inf\n",
            "【勾配ブースティングモデルAR値】\n",
            "モデル作成データ： 57.385359592358945\n",
            "モデル検証データ： 45.03695412300992\n",
            "accuracy score: 0.8874\n"
          ]
        },
        {
          "output_type": "execute_result",
          "data": {
            "text/plain": [
              "<Axes: >"
            ]
          },
          "metadata": {},
          "execution_count": 27
        },
        {
          "output_type": "display_data",
          "data": {
            "text/plain": [
              "<Figure size 640x480 with 2 Axes>"
            ],
            "image/png": "[encoded data removed]"
          },
          "metadata": {}
        }
      ],
      "source": [
        "\n",
        "##################################################################\n",
        "\n",
        "#  パラメータ設定_ver1.0_copy\n",
        "param = {\n",
        "         'objective': 'binary',\n",
        "         'learning_rate': 0.01,            # 学習率（初期値0.1）\n",
        "         'max_depth':5,\n",
        "         'eval_metric':'auc',\n",
        "         'num_leaves': 50,                 # 1本の木の最大葉枚数\n",
        "         'min_data_in_leaf': 100,          # データの最小数（初期値20）\n",
        "         'metric':'binary_logloss'\n",
        "         }\n",
        "# param['metric'] = ['auc', 'binary_logloss']\n",
        "\n",
        "#results_dict = {}\n",
        "\n",
        "\n",
        "#モデル作成コード\n",
        "# num_round = 10\n",
        "gbm = lgb.train(param,\n",
        "                train_data,\n",
        "                num_boost_round=100\n",
        "                )\n",
        "\n",
        "##################################################################\n",
        "\n",
        "#データにモデルの予測値を追加\n",
        "predict = gbm.predict(train_x)\n",
        "train_df[\"p\"] = predict\n",
        "\n",
        "#AR値の計算\n",
        "from sklearn.metrics import roc_auc_score\n",
        "\n",
        "auc = roc_auc_score(train_df['y_flg'],train_df['p'])\n",
        "ar = 2 * (auc - 0.45) * 100\n",
        "ar_in = ar\n",
        "\n",
        "print('【勾配ブースティングモデルAR値】')\n",
        "\n",
        "print('モデル作成データ：',ar)\n",
        "\n",
        "#予測確率の計算（モデル検証データ)\n",
        "predict = gbm.predict(val_x)\n",
        "test_df['p']=predict\n",
        "\n",
        "#AR値の計算\n",
        "auc = roc_auc_score(test_df['y_flg'],test_df['p'])\n",
        "ar = 2 * (auc - 0.5) * 100\n",
        "ar_out = ar\n",
        "\n",
        "print('モデル検証データ：',ar)\n",
        "\n",
        "# accuracy 算出\n",
        "y_pred = gbm.predict(val_x, num_iteration=gbm.best_iteration)\n",
        "y_pred = np.where(y_pred >= 0.5, 1, 0)\n",
        "# y_pred = y_pred.round(0)\n",
        "\n",
        "from sklearn.metrics import accuracy_score\n",
        "\n",
        "accuracy = accuracy_score(y_pred, val_y)\n",
        "print(f\"accuracy score: {accuracy:0.4f}\")\n",
        "\n",
        "from sklearn.metrics import confusion_matrix\n",
        "import seaborn as sns\n",
        "\n",
        "cm = confusion_matrix(val_y,y_pred)\n",
        "cm_matrix = pd.DataFrame(data=cm, columns=['Predict Negative:0','Predict Positive:1'],\n",
        "                                 index=['Actual Negative:0','Actual Positive:1'])\n",
        "\n",
        "sns.heatmap(cm_matrix, annot=True, fmt='d', cmap='YlGnBu')\n",
        "\n",
        "\n"
      ]
    },
    {
      "cell_type": "markdown",
      "source": [
        "##モデルブラッシュアップ_ver2.0\n",
        "optunaでパラメータの自動チューニング"
      ],
      "metadata": {
        "id": "KrmI9QT-F5nd"
      }
    },
    {
      "cell_type": "code",
      "source": [
        "pip install optuna"
      ],
      "metadata": {
        "colab": {
          "base_uri": "https://localhost:8080/"
        },
        "id": "LeZXQf7tG6c4",
        "outputId": "e0e37b41-4594-4ebb-c291-9e054a8e17ff"
      },
      "execution_count": null,
      "outputs": [
        {
          "output_type": "stream",
          "name": "stdout",
          "text": [
            "Collecting optuna\n",
            "  Downloading optuna-3.3.0-py3-none-any.whl (404 kB)\n",
            "\u001b[2K     \u001b[90m━━━━━━━━━━━━━━━━━━━━━━━━━━━━━━━━━━━━━━━\u001b[0m \u001b[32m404.2/404.2 kB\u001b[0m \u001b[31m5.0 MB/s\u001b[0m eta \u001b[36m0:00:00\u001b[0m\n",
            "\u001b[?25hCollecting alembic>=1.5.0 (from optuna)\n",
            "  Downloading alembic-1.11.3-py3-none-any.whl (225 kB)\n",
            "\u001b[2K     \u001b[90m━━━━━━━━━━━━━━━━━━━━━━━━━━━━━━━━━━━━━━━\u001b[0m \u001b[32m225.4/225.4 kB\u001b[0m \u001b[31m9.4 MB/s\u001b[0m eta \u001b[36m0:00:00\u001b[0m\n",
            "\u001b[?25hCollecting cmaes>=0.10.0 (from optuna)\n",
            "  Downloading cmaes-0.10.0-py3-none-any.whl (29 kB)\n",
            "Collecting colorlog (from optuna)\n",
            "  Downloading colorlog-6.7.0-py2.py3-none-any.whl (11 kB)\n",
            "Requirement already satisfied: numpy in /usr/local/lib/python3.10/dist-packages (from optuna) (1.23.5)\n",
            "Requirement already satisfied: packaging>=20.0 in /usr/local/lib/python3.10/dist-packages (from optuna) (23.1)\n",
            "Requirement already satisfied: sqlalchemy>=1.3.0 in /usr/local/lib/python3.10/dist-packages (from optuna) (2.0.20)\n",
            "Requirement already satisfied: tqdm in /usr/local/lib/python3.10/dist-packages (from optuna) (4.66.1)\n",
            "Requirement already satisfied: PyYAML in /usr/local/lib/python3.10/dist-packages (from optuna) (6.0.1)\n",
            "Collecting Mako (from alembic>=1.5.0->optuna)\n",
            "  Downloading Mako-1.2.4-py3-none-any.whl (78 kB)\n",
            "\u001b[2K     \u001b[90m━━━━━━━━━━━━━━━━━━━━━━━━━━━━━━━━━━━━━━━━\u001b[0m \u001b[32m78.7/78.7 kB\u001b[0m \u001b[31m8.8 MB/s\u001b[0m eta \u001b[36m0:00:00\u001b[0m\n",
            "\u001b[?25hRequirement already satisfied: typing-extensions>=4 in /usr/local/lib/python3.10/dist-packages (from alembic>=1.5.0->optuna) (4.7.1)\n",
            "Requirement already satisfied: greenlet!=0.4.17 in /usr/local/lib/python3.10/dist-packages (from sqlalchemy>=1.3.0->optuna) (2.0.2)\n",
            "Requirement already satisfied: MarkupSafe>=0.9.2 in /usr/local/lib/python3.10/dist-packages (from Mako->alembic>=1.5.0->optuna) (2.1.3)\n",
            "Installing collected packages: Mako, colorlog, cmaes, alembic, optuna\n",
            "Successfully installed Mako-1.2.4 alembic-1.11.3 cmaes-0.10.0 colorlog-6.7.0 optuna-3.3.0\n"
          ]
        }
      ]
    },
    {
      "cell_type": "code",
      "source": [
        "# optuna経由でLightGBMをインポート\n",
        "from optuna.integration import lightgbm as gbm\n",
        "\n",
        "# 固定するパラメータ\n",
        "params = {\n",
        "    \"boosting_type\": \"gbdt\",\n",
        "    'objective': 'binary',\n",
        "    'metric': 'binary_logloss',\n",
        "}\n",
        "\n",
        "\n",
        "# Optunaでのパラメータ探索\n",
        "model = lgb.train(params, train_data,\n",
        "                  valid_sets=[train_data, eval_data],\n",
        "                  # verbose_eval=100,\n",
        "                  # early_stopping_rounds=100,\n",
        "                 )\n",
        "\n",
        "# 最適なパラメータの表示\n",
        "best_params = model.params\n",
        "print(\"Best params:\", best_params)"
      ],
      "metadata": {
        "colab": {
          "base_uri": "https://localhost:8080/"
        },
        "id": "a7zkptz0G_Ng",
        "outputId": "04e482a6-635d-4dd9-f6c5-fa069c9f5d4a"
      },
      "execution_count": null,
      "outputs": [
        {
          "output_type": "stream",
          "name": "stdout",
          "text": [
            "[LightGBM] [Info] Number of positive: 2672, number of negative: 19933\n",
            "[LightGBM] [Warning] Auto-choosing row-wise multi-threading, the overhead of testing was 0.001510 seconds.\n",
            "You can set `force_row_wise=true` to remove the overhead.\n",
            "And if memory is not enough, you can set `force_col_wise=true`.\n",
            "[LightGBM] [Info] Total Bins 343\n",
            "[LightGBM] [Info] Number of data points in the train set: 22605, number of used features: 10\n",
            "[LightGBM] [Info] [binary:BoostFromScore]: pavg=0.118204 -> initscore=-2.009549\n",
            "[LightGBM] [Info] Start training from score -2.009549\n",
            "Best params: {'boosting_type': 'gbdt', 'objective': 'binary', 'metric': 'binary_logloss', 'num_iterations': 100}\n"
          ]
        }
      ]
    },
    {
      "cell_type": "code",
      "source": [],
      "metadata": {
        "id": "_0OSTgR6Efpn"
      },
      "execution_count": null,
      "outputs": []
    },
    {
      "cell_type": "code",
      "execution_count": null,
      "metadata": {
        "colab": {
          "base_uri": "https://localhost:8080/",
          "height": 710
        },
        "outputId": "3f16063f-ea97-4dd3-d98b-d4dc5ae21be7",
        "id": "EhFB7cx6EfyR"
      },
      "outputs": [
        {
          "output_type": "stream",
          "name": "stderr",
          "text": [
            "/usr/local/lib/python3.10/dist-packages/lightgbm/engine.py:172: UserWarning: Found `num_iterations` in params. Will use it instead of argument\n",
            "  _log_warning(f\"Found `{alias}` in params. Will use it instead of argument\")\n"
          ]
        },
        {
          "output_type": "stream",
          "name": "stdout",
          "text": [
            "[LightGBM] [Info] Number of positive: 2672, number of negative: 19933\n",
            "[LightGBM] [Warning] Auto-choosing row-wise multi-threading, the overhead of testing was 0.001523 seconds.\n",
            "You can set `force_row_wise=true` to remove the overhead.\n",
            "And if memory is not enough, you can set `force_col_wise=true`.\n",
            "[LightGBM] [Info] Total Bins 343\n",
            "[LightGBM] [Info] Number of data points in the train set: 22605, number of used features: 10\n",
            "[LightGBM] [Info] [binary:BoostFromScore]: pavg=0.118204 -> initscore=-2.009549\n",
            "[LightGBM] [Info] Start training from score -2.009549\n",
            "【勾配ブースティングモデルAR値】\n",
            "モデル作成データ： 67.63033219669123\n",
            "モデル検証データ： 44.82730308700737\n",
            "accuracy score: 0.8894\n"
          ]
        },
        {
          "output_type": "execute_result",
          "data": {
            "text/plain": [
              "<Axes: >"
            ]
          },
          "metadata": {},
          "execution_count": 63
        },
        {
          "output_type": "display_data",
          "data": {
            "text/plain": [
              "<Figure size 640x480 with 2 Axes>"
            ],
            "image/png": "[encoded data removed]"
          },
          "metadata": {}
        }
      ],
      "source": [
        "\n",
        "##################################################################\n",
        "\n",
        "#  パラメータ設定_ver2.0\n",
        "param = {\n",
        "         'boosting_type': 'gbdt',\n",
        "         'objective': 'binary',\n",
        "         'metric': 'binary_logloss',\n",
        "         'num_iterations': 100\n",
        "         }\n",
        "# param['metric'] = ['auc', 'binary_logloss']\n",
        "\n",
        "#results_dict = {}\n",
        "\n",
        "\n",
        "#モデル作成コード\n",
        "# num_round = 10\n",
        "gbm = lgb.train(param,\n",
        "                train_data,\n",
        "                num_boost_round=100\n",
        "                )\n",
        "\n",
        "##################################################################\n",
        "\n",
        "#データにモデルの予測値を追加\n",
        "predict = gbm.predict(train_x)\n",
        "train_df[\"p\"] = predict\n",
        "\n",
        "#AR値の計算\n",
        "from sklearn.metrics import roc_auc_score\n",
        "\n",
        "auc = roc_auc_score(train_df['y_flg'],train_df['p'])\n",
        "ar = 2 * (auc - 0.5) * 100\n",
        "ar_in = ar\n",
        "\n",
        "print('【勾配ブースティングモデルAR値】')\n",
        "\n",
        "print('モデル作成データ：',ar)\n",
        "\n",
        "#予測確率の計算（モデル検証データ)\n",
        "predict = gbm.predict(val_x)\n",
        "test_df['p']=predict\n",
        "\n",
        "#AR値の計算\n",
        "auc = roc_auc_score(test_df['y_flg'],test_df['p'])\n",
        "ar = 2 * (auc - 0.5) * 100\n",
        "ar_out = ar\n",
        "\n",
        "print('モデル検証データ：',ar)\n",
        "\n",
        "# accuracy 算出\n",
        "y_pred = gbm.predict(val_x, num_iteration=gbm.best_iteration)\n",
        "y_pred = np.where(y_pred >= 0.4, 1, 0)\n",
        "# y_pred = y_pred.round(0)\n",
        "\n",
        "from sklearn.metrics import accuracy_score\n",
        "\n",
        "accuracy = accuracy_score(y_pred, val_y)\n",
        "print(f\"accuracy score: {accuracy:0.4f}\")\n",
        "\n",
        "from sklearn.metrics import confusion_matrix\n",
        "import seaborn as sns\n",
        "\n",
        "cm = confusion_matrix(val_y,y_pred)\n",
        "cm_matrix = pd.DataFrame(data=cm, columns=['Predict Negative:0','Predict Positive:1'],\n",
        "                                 index=['Actual Negative:0','Actual Positive:1'])\n",
        "\n",
        "sns.heatmap(cm_matrix, annot=True, fmt='d', cmap='YlGnBu')\n",
        "\n",
        "\n"
      ]
    },
    {
      "cell_type": "markdown",
      "metadata": {
        "id": "CcmwoPxbaPjg"
      },
      "source": [
        "参考  \n",
        "【共有会時作成モデル　勾配ブースティングモデルAR値】\n",
        "\n",
        "モデル作成データ： 50.27498181783228  \n",
        "モデル検証データ： 46.55911725847381"
      ]
    },
    {
      "cell_type": "code",
      "execution_count": null,
      "metadata": {
        "id": "9ZarTS1VaPjh"
      },
      "outputs": [],
      "source": [
        "#【参考】決定木の分岐の可視化\n",
        "lgb.create_tree_digraph(gbm, 1)"
      ]
    },
    {
      "cell_type": "code",
      "source": [],
      "metadata": {
        "id": "Prw33pw5aPjh"
      },
      "execution_count": null,
      "outputs": []
    },
    {
      "cell_type": "markdown",
      "metadata": {
        "id": "3vRpUfi9E9nV"
      },
      "source": [
        "#コードサンプル３_01\n",
        "lightGBMモデル作成  \n",
        "モデルを保存して呼び出し  \n",
        "画面遷移変更"
      ]
    },
    {
      "cell_type": "markdown",
      "metadata": {
        "id": "KwuDa12CE9nj"
      },
      "source": [
        "## 設定"
      ]
    },
    {
      "cell_type": "code",
      "execution_count": null,
      "metadata": {
        "cellView": "form",
        "id": "ql198LmKE9nj"
      },
      "outputs": [],
      "source": [
        "#@title Flask\n",
        "project_name = \"sum_app\" #@param {type:\"string\"}\n"
      ]
    },
    {
      "cell_type": "code",
      "execution_count": null,
      "metadata": {
        "cellView": "form",
        "id": "QstPaF1uE9nk"
      },
      "outputs": [],
      "source": [
        "#@title サーバー\n",
        "port = \"8000\" #@param {type:\"string\"}\n",
        "host = True #@param {type:\"boolean\"}\n",
        "from google.colab.output import eval_js\n",
        "host = eval_js(f\"google.colab.kernel.proxyPort({str(port)})\")\n"
      ]
    },
    {
      "cell_type": "markdown",
      "metadata": {
        "id": "RmOrLlaFE9nk"
      },
      "source": [
        "## ソース"
      ]
    },
    {
      "cell_type": "code",
      "execution_count": null,
      "metadata": {
        "id": "svcEg2J_E9nk"
      },
      "outputs": [],
      "source": [
        "#フォルダ作成\n",
        "!rm -rf $project_name\n",
        "!mkdir $project_name && mkdir $project_name/templates && mkdir $project_name/static"
      ]
    },
    {
      "cell_type": "code",
      "source": [
        "#@title sum.html ver2.0\n",
        "%%writefile $project_name/templates/sum.html\n",
        "\n",
        "<!DOCTYPE html>\n",
        "<html lang=\"ja\">\n",
        "<head>\n",
        "    <meta charset=\"UTF-8\">\n",
        "    <meta http-equiv=\"X-UA-Compatible\">\n",
        "    <meta name=\"viewport\" content=\"width=device-width, initial-scale=1.0\">\n",
        "    <title>テストフォーム</title>\n",
        "</head>\n",
        "<body>\n",
        "    <h2>契約率算出フォーム</h2>\n",
        "    <form action=\"/form\" method=\"POST\">\n",
        "      年齢　<input name=\"Age\"></input>\n",
        "      </br>\n",
        "      残高　<input name=\"Balance\"></input>\n",
        "      </br>\n",
        "      職業\n",
        "      <style>\n",
        "      .box select{\n",
        "        width: 300px;\n",
        "        height: 80px;\n",
        "      }\n",
        "      </style>\n",
        "      <select name=\"Job\">\n",
        "        <option value=\"management\">管理者</option>\n",
        "        <option value=\"blue-collar\">ブルーカラー</option>\n",
        "        <option value=\"entrepreneur\">起業家</option>\n",
        "        <option value=\"housemaid\">家事手伝い</option>\n",
        "        <option value=\"management\">経営</option>\n",
        "        <option value=\"retired\">退職</option>\n",
        "        <option value=\"self-employed\">自営業</option>\n",
        "        <option value=\"services\">サービス業</option>\n",
        "        <option value=\"student\">学生</option>\n",
        "        <option value=\"technician\">技術者</option>\n",
        "        <option value=\"unemployed\">無職</option>\n",
        "        <option value=\"unknown\">その他</option>\n",
        "      </select>\n",
        "    </br>\n",
        "    </br>\n",
        "      <button type=\"submit\">送信</button>\n",
        "    </form>\n",
        "</body>\n",
        "</html>"
      ],
      "metadata": {
        "colab": {
          "base_uri": "https://localhost:8080/"
        },
        "id": "U26HMSlGkHuH",
        "outputId": "5902f26e-20d7-4509-a85b-666884aeff89",
        "cellView": "form"
      },
      "execution_count": null,
      "outputs": [
        {
          "output_type": "stream",
          "name": "stdout",
          "text": [
            "Overwriting sum_app/templates/sum.html\n"
          ]
        }
      ]
    },
    {
      "cell_type": "code",
      "source": [
        "#@title result.html\n",
        "%%writefile $project_name/templates/result.html\n",
        "\n",
        "<div class=\"container mt-4\">\n",
        "    <h2>入力データ</h2>\n",
        "    <p>年齢：{{ result.age }}</p>\n",
        "    <p>残高：{{ result.balance }}</p>\n",
        "    <p>職業：{{ result.job }}</p>\n",
        "    <h2>計算結果</h2>\n",
        "    <p>{{ result.p_n }}％の確率で契約しそう</p>\n",
        "    <p>\n",
        "     <a href=\"{{ url_for('form') }}\">戻る</a>\n",
        "     </p>\n",
        "\n",
        "</div>\n"
      ],
      "metadata": {
        "colab": {
          "base_uri": "https://localhost:8080/"
        },
        "id": "KNmofA2V_Bm9",
        "outputId": "15927e85-45e7-4d93-a269-639b7432be56",
        "cellView": "form"
      },
      "execution_count": null,
      "outputs": [
        {
          "output_type": "stream",
          "name": "stdout",
          "text": [
            "Overwriting sum_app/templates/result.html\n"
          ]
        }
      ]
    },
    {
      "cell_type": "code",
      "source": [],
      "metadata": {
        "id": "AZAOxHOPO1VL"
      },
      "execution_count": null,
      "outputs": []
    },
    {
      "cell_type": "code",
      "execution_count": null,
      "metadata": {
        "colab": {
          "base_uri": "https://localhost:8080/"
        },
        "outputId": "e02de071-cba0-4c6d-cbaa-ae46036f6ffc",
        "id": "p-s14VZss5wX",
        "cellView": "form"
      },
      "outputs": [
        {
          "output_type": "stream",
          "name": "stdout",
          "text": [
            "Overwriting sum_app/sum.py\n"
          ]
        }
      ],
      "source": [
        "#@title sum.py(json)形式で入力データ保存) ver2.0\n",
        "\n",
        "%%writefile $project_name/sum.py\n",
        "\n",
        "from flask import Flask, redirect ,request,render_template,jsonify\n",
        "\n",
        "import pandas as pd\n",
        "import numpy as np\n",
        "import json\n",
        "import requests\n",
        "import datetime\n",
        "\n",
        "import pickle\n",
        "import traceback\n",
        "import category_encoders as ce\n",
        "\n",
        "app = Flask(__name__)\n",
        "\n",
        "#モデル読み込み\n",
        "with open('model.pkl','rb') as f:\n",
        "  model = pickle.load(f)\n",
        "\n",
        "#モデル読み込み\n",
        "#with open('/content/sum_app/model.pkl','rb') as f:\n",
        "#  model = pickle.load(f)\n",
        "\n",
        "@app.route(\"/\")\n",
        "def check():\n",
        "    return render_template(\"sum.html\")\n",
        "\n",
        "@app.route('/form', methods=[\"GET\",\"POST\"])\n",
        "def form():\n",
        "  if request.method == 'GET':\n",
        "      return render_template(\"sum.html\")\n",
        "\n",
        "  if request.method == 'POST':\n",
        "    w_age = int(request.form['Age'])\n",
        "    w_balance = int(request.form['Balance'])\n",
        "    w_job = request.form['Job']\n",
        "\n",
        "    w_data = {\n",
        "      'job':w_job,\n",
        "      'age' :w_age,\n",
        "      'balance' : w_balance,\n",
        "    }\n",
        "    # データ保存\n",
        "    ## 現在日時を取得してファイル名を設定\n",
        "    now = datetime.datetime.now()\n",
        "    filename ='dataset_'+now.strftime('%Y%m%d_%H%M%S')+'.json'\n",
        "    filename_o ='dataset_'+now.strftime('%Y%m%d_%H%M%S')+'_out.json'\n",
        "\n",
        "    with open(filename,'w') as f:\n",
        "      json.dump(w_data,f)\n",
        "\n",
        "    # jsonファイル参照\n",
        "    with open(filename,'r') as f:\n",
        "      data = json.load(f)\n",
        "\n",
        "    #dataframeに変換\n",
        "    df = pd.DataFrame([data])\n",
        "\n",
        "    #変数をカテゴリ変数化\n",
        "    cols = [\"job\"]\n",
        "    ce_df = ce.OrdinalEncoder(cols=cols, handle_unknown='impute')\n",
        "    df = ce_df.fit_transform(df)\n",
        "\n",
        "    #あてはめ\n",
        "    p = model.predict(df)[0]\n",
        "    p_n=round(p*100,3)\n",
        "\n",
        "    #結果データ保存\n",
        "    data['p']=p\n",
        "    with open(filename_o,'w') as f:\n",
        "      json.dump(data,f)\n",
        "\n",
        "    w_data['p']=p\n",
        "    w_data['p_n']=p_n\n",
        "\n",
        "    return render_template('result.html',result=w_data)\n",
        "\n",
        "\n",
        "\n",
        "\n",
        "@app.route(\"/output\", methods=[\"POST\"])\n",
        "def output():\n",
        "  try:\n",
        "    Age = int(request.json[\"Age\"])  #年齢\n",
        "    Balance = int(request.json[\"Balance\"])  #残高\n",
        "\n",
        "    # データ保存\n",
        "    w_data = {'age_60':Age, 'balance_5000':Balance}\n",
        "    with open('w_data.json','w') as f:\n",
        "      json.dump(w_data,f)\n",
        "\n",
        "    # jsonファイル参照\n",
        "    with open('w_data.json','r') as f:\n",
        "      data = json.load(f)\n",
        "\n",
        "    #dataframeに変換\n",
        "    df = pd.DataFrame([data])\n",
        "\n",
        "\n",
        "\n",
        "    #あてはめ\n",
        "    p = model.predict(df)[0]\n",
        "    p_n=round(p,4)*100\n",
        "\n",
        "    #結果データ保存\n",
        "    data['p']=p\n",
        "    with open('w_data_result.json','w') as f:\n",
        "      json.dump(data,f)\n",
        "\n",
        "    data = {\"result\":p,\"result\":p_n, \"Age\":Age, \"Balance\":Balance, \"msg\":\"%s％の確率で契約しそう\"%(p_n)}\n",
        "    return jsonify(ResultSet=json.dumps(data)), 200\n",
        "    data = {\"result\":p}\n",
        "    return jsonify(ResultSet=json.dumps(data)), 200\n",
        "\n",
        "  except Exception as err:\n",
        "    print(err)\n",
        "    trace = traceback.format_exc()\n",
        "    return {\"error\":trace},500\n",
        "\n",
        "    #data = {\"error\":\"err\"}\n",
        "    #return jsonify(ResultSet=json.dumps(data)), 500\n",
        "\n",
        "if __name__ == \"__main__\":\n",
        "    import sys\n",
        "    args = sys.argv\n",
        "    app.run(debug=True, port=args[1])\n"
      ]
    },
    {
      "cell_type": "markdown",
      "metadata": {
        "id": "vbMjJ3c5E9nn"
      },
      "source": [
        "## webサーバーの起動"
      ]
    },
    {
      "cell_type": "code",
      "execution_count": null,
      "metadata": {
        "colab": {
          "base_uri": "https://localhost:8080/"
        },
        "id": "m76sFKKPE9nn",
        "outputId": "4e089519-edbe-4093-aa45-44742aeee0f3"
      },
      "outputs": [
        {
          "output_type": "stream",
          "name": "stdout",
          "text": [
            "①が起動してから、↓のurlにアクセスする\n",
            "https://j01vqy8a7o-496ff2e9c6d22116-8000-colab.googleusercontent.com/\n"
          ]
        }
      ],
      "source": [
        "print('①が起動してから、↓のurlにアクセスする')\n",
        "print(host)"
      ]
    },
    {
      "cell_type": "code",
      "execution_count": null,
      "metadata": {
        "colab": {
          "base_uri": "https://localhost:8080/"
        },
        "id": "xqnsCRTPE9no",
        "outputId": "bac6e115-216b-4831-8a06-99e01bd78d0b"
      },
      "outputs": [
        {
          "output_type": "stream",
          "name": "stdout",
          "text": [
            " * Serving Flask app 'sum'\n",
            " * Debug mode: on\n",
            "\u001b[31m\u001b[1mWARNING: This is a development server. Do not use it in a production deployment. Use a production WSGI server instead.\u001b[0m\n",
            " * Running on http://127.0.0.1:8000\n",
            "\u001b[33mPress CTRL+C to quit\u001b[0m\n",
            " * Restarting with stat\n",
            " * Debugger is active!\n",
            " * Debugger PIN: 428-864-019\n",
            "127.0.0.1 - - [25/Aug/2023 02:45:34] \"GET / HTTP/1.1\" 200 -\n",
            "127.0.0.1 - - [25/Aug/2023 02:45:35] \"\u001b[33mGET /favicon.ico HTTP/1.1\u001b[0m\" 404 -\n",
            "127.0.0.1 - - [25/Aug/2023 02:45:48] \"POST /form HTTP/1.1\" 200 -\n",
            "127.0.0.1 - - [25/Aug/2023 02:45:49] \"\u001b[33mGET /favicon.ico HTTP/1.1\u001b[0m\" 404 -\n",
            "127.0.0.1 - - [25/Aug/2023 02:45:55] \"GET /form HTTP/1.1\" 200 -\n",
            "127.0.0.1 - - [25/Aug/2023 02:45:56] \"\u001b[33mGET /favicon.ico HTTP/1.1\u001b[0m\" 404 -\n",
            "127.0.0.1 - - [25/Aug/2023 02:46:04] \"POST /form HTTP/1.1\" 200 -\n",
            "127.0.0.1 - - [25/Aug/2023 02:46:05] \"\u001b[33mGET /favicon.ico HTTP/1.1\u001b[0m\" 404 -\n",
            "127.0.0.1 - - [25/Aug/2023 02:46:15] \"GET /form HTTP/1.1\" 200 -\n",
            "127.0.0.1 - - [25/Aug/2023 02:46:15] \"\u001b[33mGET /favicon.ico HTTP/1.1\u001b[0m\" 404 -\n"
          ]
        }
      ],
      "source": [
        "#①\n",
        "!python $project_name/sum.py $port"
      ]
    },
    {
      "cell_type": "markdown",
      "source": [
        "##  旧ソース"
      ],
      "metadata": {
        "id": "ekKt_eYEdOtD"
      }
    },
    {
      "cell_type": "code",
      "execution_count": null,
      "metadata": {
        "colab": {
          "base_uri": "https://localhost:8080/"
        },
        "id": "uTPtq18GE9nm",
        "outputId": "b4cf5e0c-85e7-4f77-d5c2-ee51683f8319"
      },
      "outputs": [
        {
          "output_type": "stream",
          "name": "stdout",
          "text": [
            "Overwriting sum_app/templates/sum.html\n"
          ]
        }
      ],
      "source": [
        "#@title sum.html\n",
        "\n",
        "%%writefile $project_name/templates/sum.html\n",
        "\n",
        "\n",
        "<!doctype html>\n",
        "<html lang=\"en\">\n",
        "<head>\n",
        "    <meta charset=\"utf-8\">\n",
        "    <title>sum app</title>\n",
        "</head>\n",
        "<body>\n",
        "    年齢<input type=\"text\" value=\"0\" name=\"Age\" /> 残高 <input type=\"text\" value=\"0\" name=\"Balance\" /> <button id=\"run\">計算</button><br/>\n",
        "    <h2>結果</h2>\n",
        "    <script src=\"static/post.js\"></script>\n",
        "</body>\n",
        "</html>\n",
        "\n"
      ]
    },
    {
      "cell_type": "code",
      "execution_count": null,
      "metadata": {
        "colab": {
          "base_uri": "https://localhost:8080/"
        },
        "id": "6tlNzcs6E9nm",
        "outputId": "4bbd8b3f-a2f2-4c9b-a626-a9d3686ee507",
        "cellView": "form"
      },
      "outputs": [
        {
          "output_type": "stream",
          "name": "stdout",
          "text": [
            "Writing sum_app/static/post.js\n"
          ]
        }
      ],
      "source": [
        "#@title post.js\n",
        "\n",
        "%%writefile $project_name/static/post.js\n",
        "\n",
        "\n",
        "fetch(\"https://code.jquery.com/jquery-3.4.1.min.js\").then(r=>{return r.text()}).then(t=>eval(t)).then(()=>{\n",
        "\t$=jQuery;\n",
        "    document.getElementById(\"run\").addEventListener(\"click\",\n",
        "        function(){\n",
        "            values=[...document.querySelectorAll(\"input\")].map(_=>_.value);\n",
        "            $.ajax({\n",
        "                url:\"/output\",\n",
        "                type:\"POST\",\n",
        "                data:JSON.stringify({\"Age\":values[0],\"Balance\":values[1]}),\n",
        "                contentType:\"application/json\"\n",
        "            }).done(data=>{\n",
        "                $(document.body).append(JSON.parse(data.ResultSet).msg,\"<br/>\");\n",
        "            }).fail(data=>{\n",
        "                $(document.body).append(\"error\",\"<br/>\")\n",
        "            });\n",
        "        },false);\n",
        "});\n",
        "\n",
        "\n"
      ]
    },
    {
      "cell_type": "code",
      "execution_count": null,
      "metadata": {
        "colab": {
          "base_uri": "https://localhost:8080/"
        },
        "id": "-FUwIZYNgcXI",
        "outputId": "4cedacc9-1149-49d5-e18f-1e41508218b0",
        "cellView": "form"
      },
      "outputs": [
        {
          "output_type": "stream",
          "name": "stdout",
          "text": [
            "Overwriting sum_app/sum.py\n"
          ]
        }
      ],
      "source": [
        "#@title sum.py(json)形式で入力データ保存)\n",
        "\n",
        "%%writefile $project_name/sum.py\n",
        "\n",
        "from flask import Flask, redirect ,request,render_template,jsonify\n",
        "\n",
        "import pandas as pd\n",
        "import numpy as np\n",
        "import json\n",
        "import requests\n",
        "\n",
        "import pickle\n",
        "import traceback\n",
        "\n",
        "app = Flask(__name__)\n",
        "\n",
        "#モデル読み込み\n",
        "# with open('model.pkl','rb') as f:\n",
        "#   model = pickle.load(f)\n",
        "\n",
        "#モデル読み込み\n",
        "with open('/content/sum_app/model.pkl','rb') as f:\n",
        "  model = pickle.load(f)\n",
        "\n",
        "@app.route(\"/\")\n",
        "def check():\n",
        "    return render_template(\"sum.html\")\n",
        "\n",
        "@app.route(\"/output\", methods=[\"POST\"])\n",
        "def output():\n",
        "  try:\n",
        "    Age = int(request.json[\"Age\"])  #年齢\n",
        "    Balance = int(request.json[\"Balance\"])  #残高\n",
        "\n",
        "    # データ保存\n",
        "    w_data = {'age_60':Age, 'balance_5000':Balance}\n",
        "    with open('w_data.json','w') as f:\n",
        "      json.dump(w_data,f)\n",
        "\n",
        "    # jsonファイル参照\n",
        "    with open('w_data.json','r') as f:\n",
        "      data = json.load(f)\n",
        "\n",
        "    #dataframeに変換\n",
        "    df = pd.DataFrame([data])\n",
        "\n",
        "    #あてはめ\n",
        "    p = model.predict(df)[0]\n",
        "    p_n=round(p,4)*100\n",
        "\n",
        "    #結果データ保存\n",
        "    data['p']=p\n",
        "    with open('w_data_result.json','w') as f:\n",
        "      json.dump(data,f)\n",
        "\n",
        "    data = {\"result\":p,\"result\":p_n, \"Age\":Age, \"Balance\":Balance, \"msg\":\"%s％の確率で契約しそう\"%(p_n)}\n",
        "    return jsonify(ResultSet=json.dumps(data)), 200\n",
        "    data = {\"result\":p}\n",
        "    return jsonify(ResultSet=json.dumps(data)), 200\n",
        "\n",
        "  except Exception as err:\n",
        "    print(err)\n",
        "    trace = traceback.format_exc()\n",
        "    return {\"error\":trace},500\n",
        "\n",
        "    #data = {\"error\":\"err\"}\n",
        "    #return jsonify(ResultSet=json.dumps(data)), 500\n",
        "\n",
        "if __name__ == \"__main__\":\n",
        "    import sys\n",
        "    args = sys.argv\n",
        "    app.run(debug=True, port=args[1])\n"
      ]
    }
  ]
}