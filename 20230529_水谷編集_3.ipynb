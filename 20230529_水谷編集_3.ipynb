{
  "nbformat": 4,
  "nbformat_minor": 0,
  "metadata": {
    "colab": {
      "provenance": [],
      "authorship_tag": "ABX9TyOS7Ihon+q5gzw1OmiCv3qG",
      "include_colab_link": true
    },
    "kernelspec": {
      "name": "python3",
      "display_name": "Python 3"
    },
    "language_info": {
      "name": "python"
    }
  },
  "cells": [
    {
      "cell_type": "markdown",
      "metadata": {
        "id": "view-in-github",
        "colab_type": "text"
      },
      "source": [
        "<a href=\"https://colab.research.google.com/github/PortugalJip2022/Portugal2022/blob/main/20230529_%E6%B0%B4%E8%B0%B7%E7%B7%A8%E9%9B%86_3.ipynb\" target=\"_parent\"><img src=\"https://colab.research.google.com/assets/colab-badge.svg\" alt=\"Open In Colab\"/></a>"
      ]
    },
    {
      "cell_type": "code",
      "execution_count": null,
      "metadata": {
        "id": "ql198LmKE9nj",
        "cellView": "form"
      },
      "outputs": [],
      "source": [
        "#@title Flask\n",
        "project_name = \"sum_app\" #@param {type:\"string\"}\n"
      ]
    },
    {
      "cell_type": "code",
      "execution_count": null,
      "metadata": {
        "cellView": "form",
        "id": "QstPaF1uE9nk"
      },
      "outputs": [],
      "source": [
        "#@title サーバー\n",
        "port = \"8000\" #@param {type:\"string\"}\n",
        "host = True #@param {type:\"boolean\"}\n",
        "from google.colab.output import eval_js\n",
        "host = eval_js(f\"google.colab.kernel.proxyPort({str(port)})\")\n"
      ]
    },
    {
      "cell_type": "code",
      "source": [
        "#フォルダ作成\n",
        "!rm -rf $project_name\n",
        "!mkdir $project_name && mkdir $project_name/templates && mkdir $project_name/static"
      ],
      "metadata": {
        "id": "etoC7AjO1383"
      },
      "execution_count": null,
      "outputs": []
    },
    {
      "cell_type": "code",
      "source": [
        "#@title sum.py(json)形式で入力データ保存)\n",
        "\n",
        "%%writefile sum.py\n",
        "\n",
        "from flask import Flask, redirect ,request,render_template,jsonify\n",
        "\n",
        "import pandas as pd\n",
        "import numpy as np\n",
        "import json\n",
        "import requests\n",
        "\n",
        "import pickle\n",
        "import traceback\n",
        "\n",
        "app = Flask(__name__)\n",
        "\n",
        "#モデル読み込み\n",
        "with open('model.pkl','rb') as f:\n",
        "  model = pickle.load(f)\n",
        "\n",
        "@app.route(\"/\")\n",
        "def check():\n",
        "    return render_template(\"sum.html\")\n",
        "\n",
        "@app.route(\"/output\", methods=[\"POST\"])\n",
        "def output():\n",
        "  try:\n",
        "    _A = int(request.json[\"_A\"])  #年齢\n",
        "    _B = int(request.json[\"_B\"])  #残高\n",
        "\n",
        "    # データ保存\n",
        "    w_data = {'age_60':_A, 'balance_5000':_B}\n",
        "    with open('w_data.json','w') as f:\n",
        "      json.dump(w_data,f)\n",
        "\n",
        "    # jsonファイル参照\n",
        "    with open('w_data.json','r') as f:\n",
        "      data = json.load(f)\n",
        "\n",
        "    #dataframeに変換\n",
        "    df = pd.DataFrame([data])\n",
        "\n",
        "    #あてはめ\n",
        "    p = model.predict(df)[0]\n",
        "    p_n=round(p,4)*100\n",
        "\n",
        "    #結果データ保存\n",
        "    data['p']=p\n",
        "    with open('w_data_result.json','w') as f:\n",
        "      json.dump(data,f)\n",
        "\n",
        "    data = {\"result\":p,\"result\":p_n, \"_A\":_A, \"_B\":_B, \"msg\":\"%s％の確率で契約しそう\"%(p_n)}\n",
        "    return jsonify(ResultSet=json.dumps(data)), 200\n",
        "    data = {\"result\":p}\n",
        "    return jsonify(ResultSet=json.dumps(data)), 200\n",
        "\n",
        "  except Exception as err:\n",
        "    print(err)\n",
        "    trace = traceback.format_exc()\n",
        "    return {\"error\":trace},500\n",
        "\n",
        "    #data = {\"error\":\"err\"}\n",
        "    #return jsonify(ResultSet=json.dumps(data)), 500\n",
        "\n",
        "if __name__ == \"__main__\":\n",
        "    import sys\n",
        "    args = sys.argv\n",
        "    app.run(debug=True, port=args[1])"
      ],
      "metadata": {
        "id": "oFuc4dwVoxuM",
        "colab": {
          "base_uri": "https://localhost:8080/"
        },
        "outputId": "5a95743d-e3eb-4cb3-9ec3-dbf868027bb0"
      },
      "execution_count": null,
      "outputs": [
        {
          "output_type": "stream",
          "name": "stdout",
          "text": [
            "Overwriting sum.py\n"
          ]
        }
      ]
    },
    {
      "cell_type": "code",
      "execution_count": null,
      "metadata": {
        "colab": {
          "base_uri": "https://localhost:8080/"
        },
        "id": "uTPtq18GE9nm",
        "outputId": "173005cb-02d7-4e8f-816d-f643f657f140"
      },
      "outputs": [
        {
          "output_type": "stream",
          "name": "stdout",
          "text": [
            "Writing sum_app/templates/sum.html\n"
          ]
        }
      ],
      "source": [
        "#@title sum.html\n",
        "\n",
        "%%writefile $project_name/templates/sum.html\n",
        "\n",
        "\n",
        "<!doctype html>\n",
        "<html lang=\"en\">\n",
        "<head>\n",
        "    <meta charset=\"utf-8\">\n",
        "    <title>sum app</title>\n",
        "</head>\n",
        "<body>\n",
        "    年齢<input type=\"text\" value=\"0\" name=\"_A\" /> 残高 <input type=\"text\" value=\"0\" name=\"_B\" /> <button id=\"run\">計算</button><br/>\n",
        "    <h2>結果</h2>\n",
        "    <script src=\"static/post.js\"></script>\n",
        "</body>\n",
        "</html>\n",
        "\n"
      ]
    },
    {
      "cell_type": "code",
      "execution_count": null,
      "metadata": {
        "colab": {
          "base_uri": "https://localhost:8080/"
        },
        "id": "6tlNzcs6E9nm",
        "outputId": "845749bd-d442-477a-b668-b8259be214b6"
      },
      "outputs": [
        {
          "output_type": "stream",
          "name": "stdout",
          "text": [
            "Overwriting sum_app/static/post.js\n"
          ]
        }
      ],
      "source": [
        "#@title post.js\n",
        "\n",
        "%%writefile $project_name/static/post.js\n",
        "\n",
        "\n",
        "fetch(\"https://code.jquery.com/jquery-3.4.1.min.js\").then(r=>{return r.text()}).then(t=>eval(t)).then(()=>{\n",
        "\t$=jQuery;\n",
        "    document.getElementById(\"run\").addEventListener(\"click\",\n",
        "        function(){\n",
        "            values=[...document.querySelectorAll(\"input\")].map(_=>_.value);\n",
        "            $.ajax({\n",
        "                url:\"/output\",\n",
        "                type:\"POST\",\n",
        "                data:JSON.stringify({\"_A\":values[0],\"_B\":values[1]}),\n",
        "                contentType:\"application/json\"\n",
        "            }).done(data=>{\n",
        "                $(document.body).append(JSON.parse(data.ResultSet).msg,\"<br/>\");\n",
        "            }).fail(data=>{\n",
        "                $(document.body).append(\"error\",\"<br/>\")\n",
        "            });\n",
        "        },false);\n",
        "});\n"
      ]
    },
    {
      "cell_type": "code",
      "source": [],
      "metadata": {
        "id": "jp7zBwCbUM6D"
      },
      "execution_count": null,
      "outputs": []
    },
    {
      "cell_type": "code",
      "execution_count": null,
      "metadata": {
        "colab": {
          "base_uri": "https://localhost:8080/"
        },
        "id": "m76sFKKPE9nn",
        "outputId": "4f241a9a-452b-44a9-caad-4ceebecd1721"
      },
      "outputs": [
        {
          "output_type": "stream",
          "name": "stdout",
          "text": [
            "①が起動してから、↓のurlにアクセスする\n",
            "https://1nprj39t077-496ff2e9c6d22116-8000-colab.googleusercontent.com/\n"
          ]
        }
      ],
      "source": [
        "print('①が起動してから、↓のurlにアクセスする')\n",
        "print(host)"
      ]
    },
    {
      "cell_type": "code",
      "execution_count": null,
      "metadata": {
        "colab": {
          "base_uri": "https://localhost:8080/"
        },
        "id": "xqnsCRTPE9no",
        "outputId": "0a405a09-7df4-4411-ba3e-c3e47b339e37"
      },
      "outputs": [
        {
          "output_type": "stream",
          "name": "stdout",
          "text": [
            " * Serving Flask app 'sum'\n",
            " * Debug mode: on\n",
            "\u001b[31m\u001b[1mWARNING: This is a development server. Do not use it in a production deployment. Use a production WSGI server instead.\u001b[0m\n",
            " * Running on http://127.0.0.1:8000\n",
            "\u001b[33mPress CTRL+C to quit\u001b[0m\n",
            " * Restarting with stat\n",
            " * Debugger is active!\n",
            " * Debugger PIN: 381-105-533\n",
            "127.0.0.1 - - [02/Aug/2023 03:42:19] \"GET / HTTP/1.1\" 200 -\n",
            "127.0.0.1 - - [02/Aug/2023 03:42:20] \"GET /static/post.js HTTP/1.1\" 200 -\n",
            "127.0.0.1 - - [02/Aug/2023 03:42:20] \"\u001b[33mGET /favicon.ico HTTP/1.1\u001b[0m\" 404 -\n",
            "127.0.0.1 - - [02/Aug/2023 03:42:21] \"POST /output HTTP/1.1\" 200 -\n"
          ]
        }
      ],
      "source": [
        "#①\n",
        "!python $project_name/sum.py $port"
      ]
    },
    {
      "cell_type": "markdown",
      "source": [
        "↓ここから"
      ],
      "metadata": {
        "id": "zXzjtCg63Opo"
      }
    },
    {
      "cell_type": "code",
      "source": [
        "# pip install -U pip"
      ],
      "metadata": {
        "colab": {
          "base_uri": "https://localhost:8080/"
        },
        "id": "s7hKU5sYCSMi",
        "outputId": "64af76d7-33d6-4d59-ebd1-277cfbd712dd"
      },
      "execution_count": null,
      "outputs": [
        {
          "output_type": "stream",
          "name": "stdout",
          "text": [
            "Requirement already satisfied: pip in /usr/local/lib/python3.10/dist-packages (23.1.2)\n",
            "Collecting pip\n",
            "  Downloading pip-23.2.1-py3-none-any.whl (2.1 MB)\n",
            "\u001b[2K     \u001b[90m━━━━━━━━━━━━━━━━━━━━━━━━━━━━━━━━━━━━━━━━\u001b[0m \u001b[32m2.1/2.1 MB\u001b[0m \u001b[31m12.7 MB/s\u001b[0m eta \u001b[36m0:00:00\u001b[0m\n",
            "\u001b[?25hInstalling collected packages: pip\n",
            "  Attempting uninstall: pip\n",
            "    Found existing installation: pip 23.1.2\n",
            "    Uninstalling pip-23.1.2:\n",
            "      Successfully uninstalled pip-23.1.2\n",
            "Successfully installed pip-23.2.1\n"
          ]
        }
      ]
    },
    {
      "cell_type": "code",
      "execution_count": null,
      "metadata": {
        "colab": {
          "base_uri": "https://localhost:8080/"
        },
        "id": "oSkV9_31oqeS",
        "outputId": "070c8184-3034-4060-e46e-e92fe59f68c9"
      },
      "outputs": [
        {
          "output_type": "stream",
          "name": "stdout",
          "text": [
            "Collecting pyinstaller\n",
            "  Obtaining dependency information for pyinstaller from https://files.pythonhosted.org/packages/54/8b/eecf92dbbd8846ce8382506b39af182e92dc470de2cff2b54dfcd4e5def7/pyinstaller-5.13.0-py3-none-manylinux2014_x86_64.whl.metadata\n",
            "  Downloading pyinstaller-5.13.0-py3-none-manylinux2014_x86_64.whl.metadata (8.3 kB)\n",
            "Requirement already satisfied: setuptools>=42.0.0 in /usr/local/lib/python3.10/dist-packages (from pyinstaller) (67.7.2)\n",
            "Collecting altgraph (from pyinstaller)\n",
            "  Downloading altgraph-0.17.3-py2.py3-none-any.whl (21 kB)\n",
            "Collecting pyinstaller-hooks-contrib>=2021.4 (from pyinstaller)\n",
            "  Obtaining dependency information for pyinstaller-hooks-contrib>=2021.4 from https://files.pythonhosted.org/packages/d9/2f/675f01ccfccabf18cfb211feb7280cc13cfc1253eda4a6ffee32b56e1bdb/pyinstaller_hooks_contrib-2023.6-py2.py3-none-any.whl.metadata\n",
            "  Downloading pyinstaller_hooks_contrib-2023.6-py2.py3-none-any.whl.metadata (15 kB)\n",
            "Downloading pyinstaller-5.13.0-py3-none-manylinux2014_x86_64.whl (654 kB)\n",
            "\u001b[2K   \u001b[90m━━━━━━━━━━━━━━━━━━━━━━━━━━━━━━━━━━━━━━━━\u001b[0m \u001b[32m655.0/655.0 kB\u001b[0m \u001b[31m9.3 MB/s\u001b[0m eta \u001b[36m0:00:00\u001b[0m\n",
            "\u001b[?25hDownloading pyinstaller_hooks_contrib-2023.6-py2.py3-none-any.whl (274 kB)\n",
            "\u001b[2K   \u001b[90m━━━━━━━━━━━━━━━━━━━━━━━━━━━━━━━━━━━━━━━━\u001b[0m \u001b[32m274.3/274.3 kB\u001b[0m \u001b[31m11.8 MB/s\u001b[0m eta \u001b[36m0:00:00\u001b[0m\n",
            "\u001b[?25hInstalling collected packages: altgraph, pyinstaller-hooks-contrib, pyinstaller\n",
            "Successfully installed altgraph-0.17.3 pyinstaller-5.13.0 pyinstaller-hooks-contrib-2023.6\n",
            "\u001b[33mWARNING: Running pip as the 'root' user can result in broken permissions and conflicting behaviour with the system package manager. It is recommended to use a virtual environment instead: https://pip.pypa.io/warnings/venv\u001b[0m\u001b[33m\n",
            "\u001b[0m"
          ]
        }
      ],
      "source": [
        "# pip install pyinstaller"
      ]
    },
    {
      "cell_type": "code",
      "source": [
        "# %%writefile $project_name/sum.py\n",
        "%%writefile sum.py\n",
        "\n",
        "import subprocess\n",
        "import sys\n",
        "import os\n",
        "\n",
        "from flask import Flask, redirect ,request,render_template,jsonify\n",
        "\n",
        "import json\n",
        "import requests\n",
        "\n",
        "app = Flask(__name__)\n",
        "\n",
        "@app.route(\"/\")\n",
        "def check():\n",
        "    return render_template(\"sum.html\")\n",
        "\n",
        "@app.route(\"/output\", methods=[\"POST\"])\n",
        "def output():\n",
        "    try:\n",
        "        _A = int(request.json[\"_A\"])\n",
        "        _B = int(request.json[\"_B\"])\n",
        "        res = _A + _B\n",
        "        data = {\"result\":res, \"_A\":_A, \"_B\":_B, \"msg\":\"%s + %s = %s\"%(_A,_B,res)}\n",
        "        return jsonify(ResultSet=json.dumps(data)), 200\n",
        "    except Exception as err:\n",
        "        print(err)\n",
        "        data = {\"error\":\"err\"}\n",
        "        return jsonify(ResultSet=json.dumps(data)), 500\n",
        "\n",
        "if __name__ == \"__main__\":\n",
        "    import sys\n",
        "    args = sys.argv\n",
        "    app.run(debug=True, port=args[1])"
      ],
      "metadata": {
        "colab": {
          "base_uri": "https://localhost:8080/"
        },
        "id": "sjmxC2vBTPYd",
        "outputId": "c0b3752c-dedb-49e7-f2d7-b6a98738d5b3"
      },
      "execution_count": null,
      "outputs": [
        {
          "output_type": "stream",
          "name": "stdout",
          "text": [
            "Overwriting sum_app/sum.py\n"
          ]
        }
      ]
    },
    {
      "cell_type": "code",
      "source": [
        "import sys\n",
        "sys.setrecursionlimit(5000)"
      ],
      "metadata": {
        "id": "npEJ9t3eQSsW"
      },
      "execution_count": null,
      "outputs": []
    },
    {
      "cell_type": "markdown",
      "source": [
        "The 'pathlib' package is an obsolete backport of a standard library package and is incompatible with PyInstaller. Please remove this package  using conda remove then try again."
      ],
      "metadata": {
        "id": "ByisXrB2uU_7"
      }
    },
    {
      "cell_type": "code",
      "source": [],
      "metadata": {
        "id": "SFlSsFFrukKD"
      },
      "execution_count": null,
      "outputs": []
    },
    {
      "cell_type": "code",
      "source": [
        "# pip install pyinstaller         #バージョン設定しないとexe化コードが動かない\n",
        "# pip install pyinstaller==5.1\n",
        "# !pip install pyinstaller==4.0\n",
        "!pip install pyinstaller==4.8"
      ],
      "metadata": {
        "colab": {
          "base_uri": "https://localhost:8080/"
        },
        "id": "NKTm_C1OqWLw",
        "outputId": "5d8adde5-efbd-49ae-d240-bce1c4f7aa8c"
      },
      "execution_count": null,
      "outputs": [
        {
          "output_type": "stream",
          "name": "stdout",
          "text": [
            "Collecting pyinstaller==4.8\n",
            "  Downloading pyinstaller-4.8-py3-none-manylinux2014_x86_64.whl (1.5 MB)\n",
            "\u001b[2K     \u001b[90m━━━━━━━━━━━━━━━━━━━━━━━━━━━━━━━━━━━━━━━━\u001b[0m \u001b[32m1.5/1.5 MB\u001b[0m \u001b[31m10.9 MB/s\u001b[0m eta \u001b[36m0:00:00\u001b[0m\n",
            "\u001b[?25hRequirement already satisfied: setuptools in /usr/local/lib/python3.10/dist-packages (from pyinstaller==4.8) (67.7.2)\n",
            "Requirement already satisfied: altgraph in /usr/local/lib/python3.10/dist-packages (from pyinstaller==4.8) (0.17.3)\n",
            "Requirement already satisfied: pyinstaller-hooks-contrib>=2020.6 in /usr/local/lib/python3.10/dist-packages (from pyinstaller==4.8) (2023.6)\n",
            "Installing collected packages: pyinstaller\n",
            "  Attempting uninstall: pyinstaller\n",
            "    Found existing installation: pyinstaller 4.0\n",
            "    Uninstalling pyinstaller-4.0:\n",
            "      Successfully uninstalled pyinstaller-4.0\n",
            "Successfully installed pyinstaller-4.8\n",
            "\u001b[33mWARNING: Running pip as the 'root' user can result in broken permissions and conflicting behaviour with the system package manager. It is recommended to use a virtual environment instead: https://pip.pypa.io/warnings/venv\u001b[0m\u001b[33m\n",
            "\u001b[0m"
          ]
        }
      ]
    },
    {
      "cell_type": "code",
      "source": [
        "#!pyinstaller --onefile app.py\n",
        "!pyinstaller --onefile app.py --exclude-module _bootlocale"
      ],
      "metadata": {
        "id": "Jv3HxaqRrJPR",
        "colab": {
          "base_uri": "https://localhost:8080/"
        },
        "outputId": "bf7714ab-2437-4032-adcc-1e9725e9a7ac"
      },
      "execution_count": null,
      "outputs": [
        {
          "output_type": "stream",
          "name": "stdout",
          "text": [
            "182 INFO: PyInstaller: 4.0\n",
            "182 INFO: Python: 3.10.12\n",
            "184 INFO: Platform: Linux-5.15.109+-x86_64-with-glibc2.35\n",
            "184 INFO: wrote /content/app.spec\n",
            "185 INFO: UPX is not available.\n",
            "186 INFO: Extending PYTHONPATH with paths\n",
            "['/content', '/content']\n",
            "pygame 2.5.0 (SDL 2.28.0, Python 3.10.12)\n",
            "Hello from the pygame community. https://www.pygame.org/contribute.html\n",
            "319 INFO: checking Analysis\n",
            "319 INFO: Building Analysis because Analysis-00.toc is non existent\n",
            "319 INFO: Initializing module dependency graph...\n",
            "324 INFO: Caching module graph hooks...\n",
            "333 WARNING: Several hooks defined for module 'pygame'. Please take care they do not conflict.\n",
            "336 INFO: Analyzing base_library.zip ...\n",
            "5539 INFO: Processing pre-find module path hook distutils from '/usr/local/lib/python3.10/dist-packages/PyInstaller/hooks/pre_find_module_path/hook-distutils.py'.\n",
            "5591 INFO: distutils: retargeting to non-venv dir '/usr/lib/python3.10'\n",
            "6949 INFO: Caching module dependency graph...\n",
            "7051 INFO: running Analysis Analysis-00.toc\n",
            "7075 INFO: Analyzing /content/app.py\n",
            "7077 INFO: Processing module hooks...\n",
            "7077 INFO: Loading module hook 'hook-lib2to3.py' from '/usr/local/lib/python3.10/dist-packages/PyInstaller/hooks'...\n",
            "7089 INFO: Loading module hook 'hook-xml.py' from '/usr/local/lib/python3.10/dist-packages/PyInstaller/hooks'...\n",
            "7202 INFO: Loading module hook 'hook-sysconfig.py' from '/usr/local/lib/python3.10/dist-packages/PyInstaller/hooks'...\n",
            "7216 INFO: Loading module hook 'hook-distutils.py' from '/usr/local/lib/python3.10/dist-packages/PyInstaller/hooks'...\n",
            "7217 INFO: Loading module hook 'hook-xml.etree.cElementTree.py' from '/usr/local/lib/python3.10/dist-packages/PyInstaller/hooks'...\n",
            "7218 INFO: Loading module hook 'hook-_tkinter.py' from '/usr/local/lib/python3.10/dist-packages/PyInstaller/hooks'...\n",
            "7331 INFO: checking Tree\n",
            "7335 INFO: checking Tree\n",
            "7337 INFO: Loading module hook 'hook-encodings.py' from '/usr/local/lib/python3.10/dist-packages/PyInstaller/hooks'...\n",
            "7405 INFO: Looking for ctypes DLLs\n",
            "7432 INFO: Analyzing run-time hooks ...\n",
            "7435 INFO: Including run-time hook '/usr/local/lib/python3.10/dist-packages/PyInstaller/hooks/rthooks/pyi_rth__tkinter.py'\n",
            "7437 INFO: Including run-time hook '/usr/local/lib/python3.10/dist-packages/PyInstaller/hooks/rthooks/pyi_rth_multiprocessing.py'\n",
            "7444 INFO: Looking for dynamic libraries\n",
            "7870 INFO: Looking for eggs\n",
            "7870 INFO: Python library not in binary dependencies. Doing additional searching...\n",
            "Traceback (most recent call last):\n",
            "  File \"/usr/local/bin/pyinstaller\", line 8, in <module>\n",
            "    sys.exit(run())\n",
            "  File \"/usr/local/lib/python3.10/dist-packages/PyInstaller/__main__.py\", line 114, in run\n",
            "    run_build(pyi_config, spec_file, **vars(args))\n",
            "  File \"/usr/local/lib/python3.10/dist-packages/PyInstaller/__main__.py\", line 65, in run_build\n",
            "    PyInstaller.building.build_main.main(pyi_config, spec_file, **kwargs)\n",
            "  File \"/usr/local/lib/python3.10/dist-packages/PyInstaller/building/build_main.py\", line 720, in main\n",
            "    build(specfile, kw.get('distpath'), kw.get('workpath'), kw.get('clean_build'))\n",
            "  File \"/usr/local/lib/python3.10/dist-packages/PyInstaller/building/build_main.py\", line 667, in build\n",
            "    exec(code, spec_namespace)\n",
            "  File \"/content/app.spec\", line 6, in <module>\n",
            "    a = Analysis(['app.py'],\n",
            "  File \"/usr/local/lib/python3.10/dist-packages/PyInstaller/building/build_main.py\", line 242, in __init__\n",
            "    self.__postinit__()\n",
            "  File \"/usr/local/lib/python3.10/dist-packages/PyInstaller/building/datastruct.py\", line 160, in __postinit__\n",
            "    self.assemble()\n",
            "  File \"/usr/local/lib/python3.10/dist-packages/PyInstaller/building/build_main.py\", line 475, in assemble\n",
            "    self._check_python_library(self.binaries)\n",
            "  File \"/usr/local/lib/python3.10/dist-packages/PyInstaller/building/build_main.py\", line 564, in _check_python_library\n",
            "    python_lib = bindepend.get_python_library_path()\n",
            "  File \"/usr/local/lib/python3.10/dist-packages/PyInstaller/depend/bindepend.py\", line 918, in get_python_library_path\n",
            "    python_libname = findLibrary(name)\n",
            "  File \"/usr/local/lib/python3.10/dist-packages/PyInstaller/depend/bindepend.py\", line 778, in findLibrary\n",
            "    utils.load_ldconfig_cache()\n",
            "  File \"/usr/local/lib/python3.10/dist-packages/PyInstaller/depend/utils.py\", line 402, in load_ldconfig_cache\n",
            "    path = m.groups()[-1]\n",
            "AttributeError: 'NoneType' object has no attribute 'groups'\n"
          ]
        }
      ]
    },
    {
      "cell_type": "code",
      "source": [
        "/dist/sum"
      ],
      "metadata": {
        "colab": {
          "base_uri": "https://localhost:8080/",
          "height": 170
        },
        "id": "Fszt75rrXE9d",
        "outputId": "8fc146ce-f0f9-4603-864e-3589a6f9b45f"
      },
      "execution_count": null,
      "outputs": [
        {
          "output_type": "error",
          "ename": "NameError",
          "evalue": "ignored",
          "traceback": [
            "\u001b[0;31m---------------------------------------------------------------------------\u001b[0m",
            "\u001b[0;31mNameError\u001b[0m                                 Traceback (most recent call last)",
            "\u001b[0;32m<ipython-input-7-3c5eb05035ce>\u001b[0m in \u001b[0;36m<cell line: 1>\u001b[0;34m()\u001b[0m\n\u001b[0;32m----> 1\u001b[0;31m \u001b[0mdist\u001b[0m\u001b[0;34m/\u001b[0m\u001b[0msum\u001b[0m\u001b[0;34m(\u001b[0m\u001b[0;34m)\u001b[0m\u001b[0;34m\u001b[0m\u001b[0;34m\u001b[0m\u001b[0m\n\u001b[0m",
            "\u001b[0;31mNameError\u001b[0m: name 'dist' is not defined"
          ]
        }
      ]
    },
    {
      "cell_type": "code",
      "source": [
        "# !pyinstaller --onefile --exclude-module pathlib sum.py"
      ],
      "metadata": {
        "colab": {
          "base_uri": "https://localhost:8080/"
        },
        "id": "omU9QKmu8YE3",
        "outputId": "ec9b2394-0c8c-46c1-aecd-0c7250ea41fa"
      },
      "execution_count": null,
      "outputs": [
        {
          "output_type": "stream",
          "name": "stdout",
          "text": [
            "The 'pathlib' package is an obsolete backport of a standard library package and is incompatible with PyInstaller. Please remove this package (located in /usr/local/lib/python3.10/dist-packages) using\n",
            "    \"/usr/bin/python3\" -m pip uninstall pathlib\n",
            "then try again.\n"
          ]
        }
      ]
    },
    {
      "cell_type": "code",
      "source": [
        "#@title app.py(お試し版）\n",
        "\n",
        "%%writefile app.py\n",
        "\n",
        "def add_numbers(a, b):\n",
        "  return a + b\n",
        "\n",
        "if __name__ == '__main__':\n",
        "  import sys\n",
        "  a = 20  #int(sys.argv[1])\n",
        "  b = 5 #int(sys.argv[2])\n",
        "  result = add_numbers(a, b)\n",
        "  # sys.stdout.write(str(result))\n"
      ],
      "metadata": {
        "colab": {
          "base_uri": "https://localhost:8080/"
        },
        "id": "11PSsatltGsk",
        "outputId": "10eb34e9-e8d9-4337-9c93-faf0f46cc687"
      },
      "execution_count": null,
      "outputs": [
        {
          "output_type": "stream",
          "name": "stdout",
          "text": [
            "Overwriting app.py\n"
          ]
        }
      ]
    },
    {
      "cell_type": "code",
      "source": [
        "#@title app.py\n",
        "\n",
        "%%writefile app.py\n",
        "\n",
        "from flask import Flask, redirect ,request,render_template,jsonify\n",
        "\n",
        "import pandas as pd\n",
        "import numpy as np\n",
        "import json\n",
        "import requests\n",
        "\n",
        "import pickle\n",
        "import traceback\n",
        "\n",
        "\n",
        "app = Flask(__name__)\n",
        "\n",
        "#モデル読み込み\n",
        "with open('model.pkl','rb') as f:\n",
        "  model = pickle.load(f)\n",
        "\n",
        "# @app.route(\"/\")\n",
        "# def check():\n",
        "#    return render_template(\"sum.html\")\n",
        "\n",
        "# @app.route(\"/output\", methods=[\"POST\"])\n",
        "\n",
        "def output(a,b):\n",
        "\n",
        "  # _A = int(request.json[\"_A\"])  #年齢\n",
        "  # _B = int(request.json[\"_B\"])  #残高\n",
        "\n",
        "  _A = int(a)  #年齢\n",
        "  _B = int(b)  #残高\n",
        "\n",
        "  # データ保存\n",
        "  w_data = {'age_60':_A, 'balance_5000':_B}\n",
        "  # with open('w_data.json','w') as f:\n",
        "  #   json.dump(w_data,f)\n",
        "\n",
        "  # jsonファイル参照\n",
        "  # with open('w_data.json','r') as f:\n",
        "  #   data = json.load(f)\n",
        "\n",
        "#dataframeに変換\n",
        "  # df = pd.DataFrame([data])\n",
        "  df = pd.DataFrame([w_data])\n",
        "\n",
        "  #あてはめ\n",
        "  p = model.predict(df)[0]\n",
        "  p_n=round(p,4)*100\n",
        "\n",
        "  return  p_n\n",
        "\n",
        "  #結果データ保存\n",
        "  # data['p']=p\n",
        "  # with open('w_data_result.json','w') as f:\n",
        "  #   json.dump(data,f)\n",
        "\n",
        "  # data = {\"result\":p,\"result\":p_n, \"_A\":_A, \"_B\":_B, \"msg\":\"%s％の確率で契約しそう\"%(p_n)}\n",
        "  # return jsonify(ResultSet=json.dumps(data)), 200\n",
        "  # data = {\"result\":p}\n",
        "  # return jsonify(ResultSet=json.dumps(data)), 200\n",
        "\n",
        "  # except Exception as err:\n",
        "  #   print(err)\n",
        "  #   trace = traceback.format_exc()\n",
        "  #   return {\"error\":trace},500\n",
        "\n",
        "    #data = {\"error\":\"err\"}\n",
        "    #return jsonify(ResultSet=json.dumps(data)), 500\n",
        "\n",
        "if __name__ == \"__main__\":\n",
        "    import sys\n",
        "\n",
        "    a=int(sys.argv[1])\n",
        "    b=int(sys.argv[2])\n",
        "    result =output(a,b)\n",
        "    # sys.stdout.write(str(result))\n",
        "\n",
        "    # args = sys.argv\n",
        "    # app.run(debug=True, port=args[1])"
      ],
      "metadata": {
        "colab": {
          "base_uri": "https://localhost:8080/"
        },
        "id": "FTF_qWafBTKt",
        "outputId": "b3935841-1c4b-4022-b2ef-520f8ffd5b39"
      },
      "execution_count": null,
      "outputs": [
        {
          "output_type": "stream",
          "name": "stdout",
          "text": [
            "Overwriting app.py\n"
          ]
        }
      ]
    },
    {
      "cell_type": "code",
      "source": [
        "#test\n",
        "_A = 20 #年齢\n",
        "_B = 300  #残高\n",
        "\n",
        "# データ保存\n",
        "w_data = {'age_60':_A, 'balance_5000':_B}"
      ],
      "metadata": {
        "id": "PGern74DjOSE"
      },
      "execution_count": null,
      "outputs": []
    },
    {
      "cell_type": "code",
      "source": [
        "import pandas as pd\n",
        "df = pd.DataFrame([w_data])\n",
        "df\n"
      ],
      "metadata": {
        "colab": {
          "base_uri": "https://localhost:8080/",
          "height": 81
        },
        "id": "37yoRyAajU-C",
        "outputId": "04fd1f09-b814-4a6b-9a47-a6916eae5d53"
      },
      "execution_count": null,
      "outputs": [
        {
          "output_type": "execute_result",
          "data": {
            "text/plain": [
              "   age_60  balance_5000\n",
              "0      20           300"
            ],
            "text/html": [
              "\n",
              "\n",
              "  <div id=\"df-678f86fa-2638-40ff-9852-b5c7d44a248d\">\n",
              "    <div class=\"colab-df-container\">\n",
              "      <div>\n",
              "<style scoped>\n",
              "    .dataframe tbody tr th:only-of-type {\n",
              "        vertical-align: middle;\n",
              "    }\n",
              "\n",
              "    .dataframe tbody tr th {\n",
              "        vertical-align: top;\n",
              "    }\n",
              "\n",
              "    .dataframe thead th {\n",
              "        text-align: right;\n",
              "    }\n",
              "</style>\n",
              "<table border=\"1\" class=\"dataframe\">\n",
              "  <thead>\n",
              "    <tr style=\"text-align: right;\">\n",
              "      <th></th>\n",
              "      <th>age_60</th>\n",
              "      <th>balance_5000</th>\n",
              "    </tr>\n",
              "  </thead>\n",
              "  <tbody>\n",
              "    <tr>\n",
              "      <th>0</th>\n",
              "      <td>20</td>\n",
              "      <td>300</td>\n",
              "    </tr>\n",
              "  </tbody>\n",
              "</table>\n",
              "</div>\n",
              "      <button class=\"colab-df-convert\" onclick=\"convertToInteractive('df-678f86fa-2638-40ff-9852-b5c7d44a248d')\"\n",
              "              title=\"Convert this dataframe to an interactive table.\"\n",
              "              style=\"display:none;\">\n",
              "\n",
              "  <svg xmlns=\"http://www.w3.org/2000/svg\" height=\"24px\"viewBox=\"0 0 24 24\"\n",
              "       width=\"24px\">\n",
              "    <path d=\"M0 0h24v24H0V0z\" fill=\"none\"/>\n",
              "    <path d=\"M18.56 5.44l.94 2.06.94-2.06 2.06-.94-2.06-.94-.94-2.06-.94 2.06-2.06.94zm-11 1L8.5 8.5l.94-2.06 2.06-.94-2.06-.94L8.5 2.5l-.94 2.06-2.06.94zm10 10l.94 2.06.94-2.06 2.06-.94-2.06-.94-.94-2.06-.94 2.06-2.06.94z\"/><path d=\"M17.41 7.96l-1.37-1.37c-.4-.4-.92-.59-1.43-.59-.52 0-1.04.2-1.43.59L10.3 9.45l-7.72 7.72c-.78.78-.78 2.05 0 2.83L4 21.41c.39.39.9.59 1.41.59.51 0 1.02-.2 1.41-.59l7.78-7.78 2.81-2.81c.8-.78.8-2.07 0-2.86zM5.41 20L4 18.59l7.72-7.72 1.47 1.35L5.41 20z\"/>\n",
              "  </svg>\n",
              "      </button>\n",
              "\n",
              "\n",
              "\n",
              "    <div id=\"df-efa23ac1-23b0-45c6-8dc3-1a3fd29b382d\">\n",
              "      <button class=\"colab-df-quickchart\" onclick=\"quickchart('df-efa23ac1-23b0-45c6-8dc3-1a3fd29b382d')\"\n",
              "              title=\"Suggest charts.\"\n",
              "              style=\"display:none;\">\n",
              "\n",
              "<svg xmlns=\"http://www.w3.org/2000/svg\" height=\"24px\"viewBox=\"0 0 24 24\"\n",
              "     width=\"24px\">\n",
              "    <g>\n",
              "        <path d=\"M19 3H5c-1.1 0-2 .9-2 2v14c0 1.1.9 2 2 2h14c1.1 0 2-.9 2-2V5c0-1.1-.9-2-2-2zM9 17H7v-7h2v7zm4 0h-2V7h2v10zm4 0h-2v-4h2v4z\"/>\n",
              "    </g>\n",
              "</svg>\n",
              "      </button>\n",
              "    </div>\n",
              "\n",
              "<style>\n",
              "  .colab-df-quickchart {\n",
              "    background-color: #E8F0FE;\n",
              "    border: none;\n",
              "    border-radius: 50%;\n",
              "    cursor: pointer;\n",
              "    display: none;\n",
              "    fill: #1967D2;\n",
              "    height: 32px;\n",
              "    padding: 0 0 0 0;\n",
              "    width: 32px;\n",
              "  }\n",
              "\n",
              "  .colab-df-quickchart:hover {\n",
              "    background-color: #E2EBFA;\n",
              "    box-shadow: 0px 1px 2px rgba(60, 64, 67, 0.3), 0px 1px 3px 1px rgba(60, 64, 67, 0.15);\n",
              "    fill: #174EA6;\n",
              "  }\n",
              "\n",
              "  [theme=dark] .colab-df-quickchart {\n",
              "    background-color: #3B4455;\n",
              "    fill: #D2E3FC;\n",
              "  }\n",
              "\n",
              "  [theme=dark] .colab-df-quickchart:hover {\n",
              "    background-color: #434B5C;\n",
              "    box-shadow: 0px 1px 3px 1px rgba(0, 0, 0, 0.15);\n",
              "    filter: drop-shadow(0px 1px 2px rgba(0, 0, 0, 0.3));\n",
              "    fill: #FFFFFF;\n",
              "  }\n",
              "</style>\n",
              "\n",
              "    <script>\n",
              "      async function quickchart(key) {\n",
              "        const containerElement = document.querySelector('#' + key);\n",
              "        const charts = await google.colab.kernel.invokeFunction(\n",
              "            'suggestCharts', [key], {});\n",
              "      }\n",
              "    </script>\n",
              "\n",
              "      <script>\n",
              "\n",
              "function displayQuickchartButton(domScope) {\n",
              "  let quickchartButtonEl =\n",
              "    domScope.querySelector('#df-efa23ac1-23b0-45c6-8dc3-1a3fd29b382d button.colab-df-quickchart');\n",
              "  quickchartButtonEl.style.display =\n",
              "    google.colab.kernel.accessAllowed ? 'block' : 'none';\n",
              "}\n",
              "\n",
              "        displayQuickchartButton(document);\n",
              "      </script>\n",
              "      <style>\n",
              "    .colab-df-container {\n",
              "      display:flex;\n",
              "      flex-wrap:wrap;\n",
              "      gap: 12px;\n",
              "    }\n",
              "\n",
              "    .colab-df-convert {\n",
              "      background-color: #E8F0FE;\n",
              "      border: none;\n",
              "      border-radius: 50%;\n",
              "      cursor: pointer;\n",
              "      display: none;\n",
              "      fill: #1967D2;\n",
              "      height: 32px;\n",
              "      padding: 0 0 0 0;\n",
              "      width: 32px;\n",
              "    }\n",
              "\n",
              "    .colab-df-convert:hover {\n",
              "      background-color: #E2EBFA;\n",
              "      box-shadow: 0px 1px 2px rgba(60, 64, 67, 0.3), 0px 1px 3px 1px rgba(60, 64, 67, 0.15);\n",
              "      fill: #174EA6;\n",
              "    }\n",
              "\n",
              "    [theme=dark] .colab-df-convert {\n",
              "      background-color: #3B4455;\n",
              "      fill: #D2E3FC;\n",
              "    }\n",
              "\n",
              "    [theme=dark] .colab-df-convert:hover {\n",
              "      background-color: #434B5C;\n",
              "      box-shadow: 0px 1px 3px 1px rgba(0, 0, 0, 0.15);\n",
              "      filter: drop-shadow(0px 1px 2px rgba(0, 0, 0, 0.3));\n",
              "      fill: #FFFFFF;\n",
              "    }\n",
              "  </style>\n",
              "\n",
              "      <script>\n",
              "        const buttonEl =\n",
              "          document.querySelector('#df-678f86fa-2638-40ff-9852-b5c7d44a248d button.colab-df-convert');\n",
              "        buttonEl.style.display =\n",
              "          google.colab.kernel.accessAllowed ? 'block' : 'none';\n",
              "\n",
              "        async function convertToInteractive(key) {\n",
              "          const element = document.querySelector('#df-678f86fa-2638-40ff-9852-b5c7d44a248d');\n",
              "          const dataTable =\n",
              "            await google.colab.kernel.invokeFunction('convertToInteractive',\n",
              "                                                     [key], {});\n",
              "          if (!dataTable) return;\n",
              "\n",
              "          const docLinkHtml = 'Like what you see? Visit the ' +\n",
              "            '<a target=\"_blank\" href=https://colab.research.google.com/notebooks/data_table.ipynb>data table notebook</a>'\n",
              "            + ' to learn more about interactive tables.';\n",
              "          element.innerHTML = '';\n",
              "          dataTable['output_type'] = 'display_data';\n",
              "          await google.colab.output.renderOutput(dataTable, element);\n",
              "          const docLink = document.createElement('div');\n",
              "          docLink.innerHTML = docLinkHtml;\n",
              "          element.appendChild(docLink);\n",
              "        }\n",
              "      </script>\n",
              "    </div>\n",
              "  </div>\n"
            ]
          },
          "metadata": {},
          "execution_count": 13
        }
      ]
    },
    {
      "cell_type": "code",
      "source": [
        "%%writefile app_1.py\n",
        "\n",
        "print(\"hello world!\")"
      ],
      "metadata": {
        "id": "eVG4xvXVjXCA",
        "colab": {
          "base_uri": "https://localhost:8080/"
        },
        "outputId": "a47e1d26-4bb7-474b-f484-93625d02653a"
      },
      "execution_count": null,
      "outputs": [
        {
          "output_type": "stream",
          "name": "stdout",
          "text": [
            "Writing app_1.py\n"
          ]
        }
      ]
    },
    {
      "cell_type": "code",
      "source": [
        "# !pyinstaller --onefile app_1.py\n",
        "!pyinstaller --onefile app_1.py --exclude-module _bootlocale"
      ],
      "metadata": {
        "colab": {
          "base_uri": "https://localhost:8080/"
        },
        "id": "KPnO437DEuCh",
        "outputId": "f4d4c3e8-baa0-4e9b-94b5-77fdeda36242"
      },
      "execution_count": null,
      "outputs": [
        {
          "output_type": "stream",
          "name": "stdout",
          "text": [
            "225 INFO: PyInstaller: 4.8\n",
            "225 INFO: Python: 3.10.12\n",
            "226 INFO: Platform: Linux-5.15.109+-x86_64-with-glibc2.35\n",
            "227 INFO: wrote /content/app_1.spec\n",
            "228 INFO: UPX is not available.\n",
            "229 INFO: Extending PYTHONPATH with paths\n",
            "['/content']\n",
            "Traceback (most recent call last):\n",
            "  File \"<string>\", line 3, in <module>\n",
            "  File \"/usr/local/lib/python3.10/dist-packages/pkg_resources/__init__.py\", line 29, in <module>\n",
            "    import zipfile\n",
            "  File \"/usr/lib/python3.10/zipfile.py\", line 19, in <module>\n",
            "    import pathlib\n",
            "  File \"/usr/local/lib/python3.10/dist-packages/pathlib.py\", line 10, in <module>\n",
            "    from collections import Sequence\n",
            "ImportError: cannot import name 'Sequence' from 'collections' (/usr/lib/python3.10/collections/__init__.py)\n",
            "283 INFO: checking Analysis\n",
            "283 INFO: Building Analysis because Analysis-00.toc is non existent\n",
            "283 INFO: Initializing module dependency graph...\n",
            "286 INFO: Caching module graph hooks...\n",
            "289 INFO: Analyzing base_library.zip ...\n",
            "6845 INFO: Processing pre-find module path hook distutils from '/usr/local/lib/python3.10/dist-packages/PyInstaller/hooks/pre_find_module_path/hook-distutils.py'.\n",
            "6883 INFO: distutils: retargeting to non-venv dir '/usr/lib/python3.10'\n",
            "8653 INFO: Caching module dependency graph...\n",
            "8804 INFO: running Analysis Analysis-00.toc\n",
            "8830 INFO: Analyzing /content/app_1.py\n",
            "8831 INFO: Processing module hooks...\n",
            "8831 INFO: Loading module hook 'hook-multiprocessing.util.py' from '/usr/local/lib/python3.10/dist-packages/PyInstaller/hooks'...\n",
            "8833 INFO: Loading module hook 'hook-lib2to3.py' from '/usr/local/lib/python3.10/dist-packages/PyInstaller/hooks'...\n",
            "8844 INFO: Loading module hook 'hook-xml.py' from '/usr/local/lib/python3.10/dist-packages/PyInstaller/hooks'...\n",
            "8931 INFO: Loading module hook 'hook-heapq.py' from '/usr/local/lib/python3.10/dist-packages/PyInstaller/hooks'...\n",
            "8933 INFO: Loading module hook 'hook-difflib.py' from '/usr/local/lib/python3.10/dist-packages/PyInstaller/hooks'...\n",
            "8934 INFO: Loading module hook 'hook-distutils.util.py' from '/usr/local/lib/python3.10/dist-packages/PyInstaller/hooks'...\n",
            "8935 INFO: Loading module hook 'hook-sysconfig.py' from '/usr/local/lib/python3.10/dist-packages/PyInstaller/hooks'...\n",
            "8948 INFO: Loading module hook 'hook-pickle.py' from '/usr/local/lib/python3.10/dist-packages/PyInstaller/hooks'...\n",
            "8949 INFO: Loading module hook 'hook-distutils.py' from '/usr/local/lib/python3.10/dist-packages/PyInstaller/hooks'...\n",
            "8950 INFO: Loading module hook 'hook-xml.etree.cElementTree.py' from '/usr/local/lib/python3.10/dist-packages/PyInstaller/hooks'...\n",
            "8950 INFO: Loading module hook 'hook-_tkinter.py' from '/usr/local/lib/python3.10/dist-packages/PyInstaller/hooks'...\n",
            "9051 INFO: checking Tree\n",
            "9051 INFO: Building Tree because Tree-00.toc is non existent\n",
            "9051 INFO: Building Tree Tree-00.toc\n",
            "9057 INFO: checking Tree\n",
            "9057 INFO: Building Tree because Tree-01.toc is non existent\n",
            "9057 INFO: Building Tree Tree-01.toc\n",
            "9110 WARNING: Tcl modules directory /usr/share/tcltk/tcl8.6/../tcl8 does not exist.\n",
            "9111 INFO: Loading module hook 'hook-encodings.py' from '/usr/local/lib/python3.10/dist-packages/PyInstaller/hooks'...\n",
            "9180 INFO: Looking for ctypes DLLs\n",
            "9210 INFO: Analyzing run-time hooks ...\n",
            "9214 INFO: Including run-time hook '/usr/local/lib/python3.10/dist-packages/PyInstaller/hooks/rthooks/pyi_rth_inspect.py'\n",
            "9215 INFO: Including run-time hook '/usr/local/lib/python3.10/dist-packages/PyInstaller/hooks/rthooks/pyi_rth_subprocess.py'\n",
            "9217 INFO: Including run-time hook '/usr/local/lib/python3.10/dist-packages/PyInstaller/hooks/rthooks/pyi_rth_pkgutil.py'\n",
            "9220 INFO: Including run-time hook '/usr/local/lib/python3.10/dist-packages/PyInstaller/hooks/rthooks/pyi_rth_multiprocessing.py'\n",
            "9230 INFO: Looking for dynamic libraries\n",
            "9493 INFO: Looking for eggs\n",
            "9493 INFO: Python library not in binary dependencies. Doing additional searching...\n",
            "9521 INFO: Using Python library /lib/x86_64-linux-gnu/libpython3.10.so.1.0\n",
            "9526 INFO: Warnings written to /content/build/app_1/warn-app_1.txt\n",
            "9549 INFO: Graph cross-reference written to /content/build/app_1/xref-app_1.html\n",
            "9554 INFO: checking PYZ\n",
            "9554 INFO: Building PYZ because PYZ-00.toc is non existent\n",
            "9554 INFO: Building PYZ (ZlibArchive) /content/build/app_1/PYZ-00.pyz\n",
            "9973 INFO: Building PYZ (ZlibArchive) /content/build/app_1/PYZ-00.pyz completed successfully.\n",
            "9976 INFO: checking PKG\n",
            "9976 INFO: Building PKG because PKG-00.toc is non existent\n",
            "9977 INFO: Building PKG (CArchive) app_1.pkg\n",
            "13245 INFO: Building PKG (CArchive) app_1.pkg completed successfully.\n",
            "13247 INFO: Bootloader /usr/local/lib/python3.10/dist-packages/PyInstaller/bootloader/Linux-64bit-intel/run\n",
            "13247 INFO: checking EXE\n",
            "13247 INFO: Building EXE because EXE-00.toc is non existent\n",
            "13247 INFO: Building EXE from EXE-00.toc\n",
            "13247 INFO: Copying bootloader EXE to /content/dist/app_1\n",
            "13247 INFO: Appending PKG archive to custom ELF section in EXE\n",
            "13275 INFO: Building EXE from EXE-00.toc completed successfully.\n"
          ]
        }
      ]
    },
    {
      "cell_type": "code",
      "source": [
        "%%writefile app_t.py\n",
        "\n",
        "from flask import Flask\n",
        "import sys\n",
        "port = 6000 #int(sys.argv[1]) #コマンド引数でPORT番号を取得\n",
        "app = Flask(__name__)\n",
        "\n",
        "@app.route('/')\n",
        "def hello_world():\n",
        "    return 'hello_world'\n",
        "\n",
        "def main():\n",
        "    app.debug = True\n",
        "    app.run(port=port)\n",
        "\n",
        "if __name__ == '__main__':\n",
        "    main()"
      ],
      "metadata": {
        "colab": {
          "base_uri": "https://localhost:8080/"
        },
        "id": "NMXtwG2nCsOi",
        "outputId": "547155a5-9a99-40c5-a998-17ca31b9fe86"
      },
      "execution_count": null,
      "outputs": [
        {
          "output_type": "stream",
          "name": "stdout",
          "text": [
            "Overwriting app_t.py\n"
          ]
        }
      ]
    },
    {
      "cell_type": "code",
      "source": [
        "from google.colab import output\n",
        "PORT = 6000\n",
        "PATH = ''\n",
        "# output.serve_kernel_port_as_window(6000, path=PATH)\n",
        "\n",
        "# サーバー起動\n",
        "# !python3 /content/app_t.py $PORT\n",
        "!python3 /content/app_t.py"
      ],
      "metadata": {
        "colab": {
          "base_uri": "https://localhost:8080/"
        },
        "id": "NVysE53WC3Ts",
        "outputId": "a5d64790-fd37-431f-d7ef-e0c73ae88798"
      },
      "execution_count": null,
      "outputs": [
        {
          "output_type": "stream",
          "name": "stdout",
          "text": [
            " * Serving Flask app 'app_t'\n",
            " * Debug mode: on\n",
            "\u001b[31m\u001b[1mWARNING: This is a development server. Do not use it in a production deployment. Use a production WSGI server instead.\u001b[0m\n",
            " * Running on http://127.0.0.1:6000\n",
            "\u001b[33mPress CTRL+C to quit\u001b[0m\n",
            " * Restarting with stat\n",
            " * Debugger is active!\n",
            " * Debugger PIN: 381-105-533\n"
          ]
        }
      ]
    },
    {
      "cell_type": "code",
      "source": [],
      "metadata": {
        "id": "5J3yThFOKhxQ"
      },
      "execution_count": null,
      "outputs": []
    }
  ]
}