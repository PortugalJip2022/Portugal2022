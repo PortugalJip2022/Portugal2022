{
  "nbformat": 4,
  "nbformat_minor": 0,
  "metadata": {
    "colab": {
      "provenance": [],
      "collapsed_sections": [
        "Q7ymWm-OG1YO",
        "VGTb0KLXEMan",
        "J7rRAWEtOATZ",
        "UzJOxaijLgYi",
        "VD87p88B90Kz",
        "5A0B5F_CwETa"
      ],
      "authorship_tag": "ABX9TyMpsJpQA/Vu+sipb69Cl5ad",
      "include_colab_link": true
    },
    "kernelspec": {
      "name": "python3",
      "display_name": "Python 3"
    },
    "language_info": {
      "name": "python"
    }
  },
  "cells": [
    {
      "cell_type": "markdown",
      "metadata": {
        "id": "view-in-github",
        "colab_type": "text"
      },
      "source": [
        "<a href=\"https://colab.research.google.com/github/PortugalJip2022/Portugal2022/blob/main/%E6%89%8B%E6%9B%B8%E3%81%8D%E6%96%87%E5%AD%97%E3%83%81%E3%83%A5%E3%83%BC%E3%83%88%E3%83%AA%E3%82%A2%E3%83%AB_%E6%B0%B4%E8%B0%B7_3.ipynb\" target=\"_parent\"><img src=\"https://colab.research.google.com/assets/colab-badge.svg\" alt=\"Open In Colab\"/></a>"
      ]
    },
    {
      "cell_type": "code",
      "execution_count": null,
      "metadata": {
        "id": "836gnXVb-GUK"
      },
      "outputs": [],
      "source": []
    },
    {
      "cell_type": "markdown",
      "source": [
        "# CNN　具体的に何してる？？  \n",
        "・「事前準備」と「チュートリアル実行」は何も考えずそのまま実行  \n",
        "・「テスト用」から、具体的に何してる？を実行"
      ],
      "metadata": {
        "id": "IJ6LtUDWvnC8"
      }
    },
    {
      "cell_type": "code",
      "source": [],
      "metadata": {
        "id": "zPeLN05h_ExG"
      },
      "execution_count": null,
      "outputs": []
    },
    {
      "cell_type": "code",
      "source": [],
      "metadata": {
        "id": "8LeEv9AF_Rtd"
      },
      "execution_count": null,
      "outputs": []
    },
    {
      "cell_type": "markdown",
      "source": [
        "# チュートリアル実行"
      ],
      "metadata": {
        "id": "Q7ymWm-OG1YO"
      }
    },
    {
      "cell_type": "code",
      "source": [
        "!pip install chainer"
      ],
      "metadata": {
        "colab": {
          "base_uri": "https://localhost:8080/"
        },
        "id": "-v3yoxRHL3c7",
        "outputId": "84863960-b728-48f8-8b0a-5ddaba9180c4"
      },
      "execution_count": null,
      "outputs": [
        {
          "output_type": "stream",
          "name": "stdout",
          "text": [
            "Collecting chainer\n",
            "  Downloading chainer-7.8.1.tar.gz (1.0 MB)\n",
            "\u001b[2K     \u001b[90m━━━━━━━━━━━━━━━━━━━━━━━━━━━━━━━━━━━━━━━━\u001b[0m \u001b[32m1.0/1.0 MB\u001b[0m \u001b[31m11.3 MB/s\u001b[0m eta \u001b[36m0:00:00\u001b[0m\n",
            "\u001b[?25h  Preparing metadata (setup.py) ... \u001b[?25l\u001b[?25hdone\n",
            "Requirement already satisfied: setuptools in /usr/local/lib/python3.10/dist-packages (from chainer) (67.7.2)\n",
            "Requirement already satisfied: typing_extensions in /usr/local/lib/python3.10/dist-packages (from chainer) (4.11.0)\n",
            "Requirement already satisfied: filelock in /usr/local/lib/python3.10/dist-packages (from chainer) (3.14.0)\n",
            "Requirement already satisfied: numpy>=1.9.0 in /usr/local/lib/python3.10/dist-packages (from chainer) (1.25.2)\n",
            "Requirement already satisfied: protobuf>=3.0.0 in /usr/local/lib/python3.10/dist-packages (from chainer) (3.20.3)\n",
            "Requirement already satisfied: six>=1.9.0 in /usr/local/lib/python3.10/dist-packages (from chainer) (1.16.0)\n",
            "Building wheels for collected packages: chainer\n",
            "  Building wheel for chainer (setup.py) ... \u001b[?25l\u001b[?25hdone\n",
            "  Created wheel for chainer: filename=chainer-7.8.1-py3-none-any.whl size=967716 sha256=ec3420eeb331b27a6dac0b3634c0750ad1bbf478952e825220feba218f7b2ce3\n",
            "  Stored in directory: /root/.cache/pip/wheels/c4/95/6a/16014db6f761c4e742755b64aac60dbe142da1df6c5919f790\n",
            "Successfully built chainer\n",
            "Installing collected packages: chainer\n",
            "Successfully installed chainer-7.8.1\n"
          ]
        }
      ]
    },
    {
      "cell_type": "code",
      "source": [
        "import numpy as np\n",
        "from chainer import Chain\n",
        "import chainer.links as L\n",
        "import chainer.functions as F"
      ],
      "metadata": {
        "id": "GBc5goikLpoI"
      },
      "execution_count": null,
      "outputs": []
    },
    {
      "cell_type": "code",
      "source": [
        "import os\n",
        "\n",
        "# チュートリアル記載コード\n",
        "# _train_images_path = os.path.join('..', 'data', 'image','mnist','open','train')\n",
        "# _test_images_path = os.path.join('..', 'data', 'image', 'mnist','open','test')\n",
        "# _train_meta_path = os.path.join('..','data','image','mnist','open','train_master.tsv')\n",
        "_train_images_path = '/content/train'\n",
        "_test_images_path = '/content/test'\n",
        "_train_meta_path = '/content/image-recognition/mnist/train_master.tsv'"
      ],
      "metadata": {
        "id": "6EdCKZu1HCHG"
      },
      "execution_count": null,
      "outputs": []
    },
    {
      "cell_type": "markdown",
      "source": [
        "学習用画像データと数字の対応表を確認してみます."
      ],
      "metadata": {
        "id": "XcBOU_y9JG88"
      }
    },
    {
      "cell_type": "code",
      "source": [
        "import pandas as pd"
      ],
      "metadata": {
        "id": "9RIs0tOBI7Cq"
      },
      "execution_count": null,
      "outputs": []
    },
    {
      "cell_type": "code",
      "source": [
        "train_master = pd.read_csv(_train_meta_path, sep='\\t')\n",
        "train_master.head()"
      ],
      "metadata": {
        "colab": {
          "base_uri": "https://localhost:8080/"
        },
        "id": "antRpyCkJKwa",
        "outputId": "4ba2b7f5-0a9e-4b62-e6f3-2592e3eae023"
      },
      "execution_count": null,
      "outputs": [
        {
          "output_type": "execute_result",
          "data": {
            "text/plain": [
              "     file_name  category_id\n",
              "0  train_0.jpg            5\n",
              "1  train_1.jpg            0\n",
              "2  train_2.jpg            4\n",
              "3  train_3.jpg            1\n",
              "4  train_4.jpg            9"
            ],
            "text/html": [
              "\n",
              "  <div id=\"df-2c8f69cc-6fbc-447b-b180-7e46d40fc735\" class=\"colab-df-container\">\n",
              "    <div>\n",
              "<style scoped>\n",
              "    .dataframe tbody tr th:only-of-type {\n",
              "        vertical-align: middle;\n",
              "    }\n",
              "\n",
              "    .dataframe tbody tr th {\n",
              "        vertical-align: top;\n",
              "    }\n",
              "\n",
              "    .dataframe thead th {\n",
              "        text-align: right;\n",
              "    }\n",
              "</style>\n",
              "<table border=\"1\" class=\"dataframe\">\n",
              "  <thead>\n",
              "    <tr style=\"text-align: right;\">\n",
              "      <th></th>\n",
              "      <th>file_name</th>\n",
              "      <th>category_id</th>\n",
              "    </tr>\n",
              "  </thead>\n",
              "  <tbody>\n",
              "    <tr>\n",
              "      <th>0</th>\n",
              "      <td>train_0.jpg</td>\n",
              "      <td>5</td>\n",
              "    </tr>\n",
              "    <tr>\n",
              "      <th>1</th>\n",
              "      <td>train_1.jpg</td>\n",
              "      <td>0</td>\n",
              "    </tr>\n",
              "    <tr>\n",
              "      <th>2</th>\n",
              "      <td>train_2.jpg</td>\n",
              "      <td>4</td>\n",
              "    </tr>\n",
              "    <tr>\n",
              "      <th>3</th>\n",
              "      <td>train_3.jpg</td>\n",
              "      <td>1</td>\n",
              "    </tr>\n",
              "    <tr>\n",
              "      <th>4</th>\n",
              "      <td>train_4.jpg</td>\n",
              "      <td>9</td>\n",
              "    </tr>\n",
              "  </tbody>\n",
              "</table>\n",
              "</div>\n",
              "    <div class=\"colab-df-buttons\">\n",
              "\n",
              "  <div class=\"colab-df-container\">\n",
              "    <button class=\"colab-df-convert\" onclick=\"convertToInteractive('df-2c8f69cc-6fbc-447b-b180-7e46d40fc735')\"\n",
              "            title=\"Convert this dataframe to an interactive table.\"\n",
              "            style=\"display:none;\">\n",
              "\n",
              "  <svg xmlns=\"http://www.w3.org/2000/svg\" height=\"24px\" viewBox=\"0 -960 960 960\">\n",
              "    <path d=\"M120-120v-720h720v720H120Zm60-500h600v-160H180v160Zm220 220h160v-160H400v160Zm0 220h160v-160H400v160ZM180-400h160v-160H180v160Zm440 0h160v-160H620v160ZM180-180h160v-160H180v160Zm440 0h160v-160H620v160Z\"/>\n",
              "  </svg>\n",
              "    </button>\n",
              "\n",
              "  <style>\n",
              "    .colab-df-container {\n",
              "      display:flex;\n",
              "      gap: 12px;\n",
              "    }\n",
              "\n",
              "    .colab-df-convert {\n",
              "      background-color: #E8F0FE;\n",
              "      border: none;\n",
              "      border-radius: 50%;\n",
              "      cursor: pointer;\n",
              "      display: none;\n",
              "      fill: #1967D2;\n",
              "      height: 32px;\n",
              "      padding: 0 0 0 0;\n",
              "      width: 32px;\n",
              "    }\n",
              "\n",
              "    .colab-df-convert:hover {\n",
              "      background-color: #E2EBFA;\n",
              "      box-shadow: 0px 1px 2px rgba(60, 64, 67, 0.3), 0px 1px 3px 1px rgba(60, 64, 67, 0.15);\n",
              "      fill: #174EA6;\n",
              "    }\n",
              "\n",
              "    .colab-df-buttons div {\n",
              "      margin-bottom: 4px;\n",
              "    }\n",
              "\n",
              "    [theme=dark] .colab-df-convert {\n",
              "      background-color: #3B4455;\n",
              "      fill: #D2E3FC;\n",
              "    }\n",
              "\n",
              "    [theme=dark] .colab-df-convert:hover {\n",
              "      background-color: #434B5C;\n",
              "      box-shadow: 0px 1px 3px 1px rgba(0, 0, 0, 0.15);\n",
              "      filter: drop-shadow(0px 1px 2px rgba(0, 0, 0, 0.3));\n",
              "      fill: #FFFFFF;\n",
              "    }\n",
              "  </style>\n",
              "\n",
              "    <script>\n",
              "      const buttonEl =\n",
              "        document.querySelector('#df-2c8f69cc-6fbc-447b-b180-7e46d40fc735 button.colab-df-convert');\n",
              "      buttonEl.style.display =\n",
              "        google.colab.kernel.accessAllowed ? 'block' : 'none';\n",
              "\n",
              "      async function convertToInteractive(key) {\n",
              "        const element = document.querySelector('#df-2c8f69cc-6fbc-447b-b180-7e46d40fc735');\n",
              "        const dataTable =\n",
              "          await google.colab.kernel.invokeFunction('convertToInteractive',\n",
              "                                                    [key], {});\n",
              "        if (!dataTable) return;\n",
              "\n",
              "        const docLinkHtml = 'Like what you see? Visit the ' +\n",
              "          '<a target=\"_blank\" href=https://colab.research.google.com/notebooks/data_table.ipynb>data table notebook</a>'\n",
              "          + ' to learn more about interactive tables.';\n",
              "        element.innerHTML = '';\n",
              "        dataTable['output_type'] = 'display_data';\n",
              "        await google.colab.output.renderOutput(dataTable, element);\n",
              "        const docLink = document.createElement('div');\n",
              "        docLink.innerHTML = docLinkHtml;\n",
              "        element.appendChild(docLink);\n",
              "      }\n",
              "    </script>\n",
              "  </div>\n",
              "\n",
              "\n",
              "<div id=\"df-f1a869cf-c8dd-47f5-beb4-f9475a600c3e\">\n",
              "  <button class=\"colab-df-quickchart\" onclick=\"quickchart('df-f1a869cf-c8dd-47f5-beb4-f9475a600c3e')\"\n",
              "            title=\"Suggest charts\"\n",
              "            style=\"display:none;\">\n",
              "\n",
              "<svg xmlns=\"http://www.w3.org/2000/svg\" height=\"24px\"viewBox=\"0 0 24 24\"\n",
              "     width=\"24px\">\n",
              "    <g>\n",
              "        <path d=\"M19 3H5c-1.1 0-2 .9-2 2v14c0 1.1.9 2 2 2h14c1.1 0 2-.9 2-2V5c0-1.1-.9-2-2-2zM9 17H7v-7h2v7zm4 0h-2V7h2v10zm4 0h-2v-4h2v4z\"/>\n",
              "    </g>\n",
              "</svg>\n",
              "  </button>\n",
              "\n",
              "<style>\n",
              "  .colab-df-quickchart {\n",
              "      --bg-color: #E8F0FE;\n",
              "      --fill-color: #1967D2;\n",
              "      --hover-bg-color: #E2EBFA;\n",
              "      --hover-fill-color: #174EA6;\n",
              "      --disabled-fill-color: #AAA;\n",
              "      --disabled-bg-color: #DDD;\n",
              "  }\n",
              "\n",
              "  [theme=dark] .colab-df-quickchart {\n",
              "      --bg-color: #3B4455;\n",
              "      --fill-color: #D2E3FC;\n",
              "      --hover-bg-color: #434B5C;\n",
              "      --hover-fill-color: #FFFFFF;\n",
              "      --disabled-bg-color: #3B4455;\n",
              "      --disabled-fill-color: #666;\n",
              "  }\n",
              "\n",
              "  .colab-df-quickchart {\n",
              "    background-color: var(--bg-color);\n",
              "    border: none;\n",
              "    border-radius: 50%;\n",
              "    cursor: pointer;\n",
              "    display: none;\n",
              "    fill: var(--fill-color);\n",
              "    height: 32px;\n",
              "    padding: 0;\n",
              "    width: 32px;\n",
              "  }\n",
              "\n",
              "  .colab-df-quickchart:hover {\n",
              "    background-color: var(--hover-bg-color);\n",
              "    box-shadow: 0 1px 2px rgba(60, 64, 67, 0.3), 0 1px 3px 1px rgba(60, 64, 67, 0.15);\n",
              "    fill: var(--button-hover-fill-color);\n",
              "  }\n",
              "\n",
              "  .colab-df-quickchart-complete:disabled,\n",
              "  .colab-df-quickchart-complete:disabled:hover {\n",
              "    background-color: var(--disabled-bg-color);\n",
              "    fill: var(--disabled-fill-color);\n",
              "    box-shadow: none;\n",
              "  }\n",
              "\n",
              "  .colab-df-spinner {\n",
              "    border: 2px solid var(--fill-color);\n",
              "    border-color: transparent;\n",
              "    border-bottom-color: var(--fill-color);\n",
              "    animation:\n",
              "      spin 1s steps(1) infinite;\n",
              "  }\n",
              "\n",
              "  @keyframes spin {\n",
              "    0% {\n",
              "      border-color: transparent;\n",
              "      border-bottom-color: var(--fill-color);\n",
              "      border-left-color: var(--fill-color);\n",
              "    }\n",
              "    20% {\n",
              "      border-color: transparent;\n",
              "      border-left-color: var(--fill-color);\n",
              "      border-top-color: var(--fill-color);\n",
              "    }\n",
              "    30% {\n",
              "      border-color: transparent;\n",
              "      border-left-color: var(--fill-color);\n",
              "      border-top-color: var(--fill-color);\n",
              "      border-right-color: var(--fill-color);\n",
              "    }\n",
              "    40% {\n",
              "      border-color: transparent;\n",
              "      border-right-color: var(--fill-color);\n",
              "      border-top-color: var(--fill-color);\n",
              "    }\n",
              "    60% {\n",
              "      border-color: transparent;\n",
              "      border-right-color: var(--fill-color);\n",
              "    }\n",
              "    80% {\n",
              "      border-color: transparent;\n",
              "      border-right-color: var(--fill-color);\n",
              "      border-bottom-color: var(--fill-color);\n",
              "    }\n",
              "    90% {\n",
              "      border-color: transparent;\n",
              "      border-bottom-color: var(--fill-color);\n",
              "    }\n",
              "  }\n",
              "</style>\n",
              "\n",
              "  <script>\n",
              "    async function quickchart(key) {\n",
              "      const quickchartButtonEl =\n",
              "        document.querySelector('#' + key + ' button');\n",
              "      quickchartButtonEl.disabled = true;  // To prevent multiple clicks.\n",
              "      quickchartButtonEl.classList.add('colab-df-spinner');\n",
              "      try {\n",
              "        const charts = await google.colab.kernel.invokeFunction(\n",
              "            'suggestCharts', [key], {});\n",
              "      } catch (error) {\n",
              "        console.error('Error during call to suggestCharts:', error);\n",
              "      }\n",
              "      quickchartButtonEl.classList.remove('colab-df-spinner');\n",
              "      quickchartButtonEl.classList.add('colab-df-quickchart-complete');\n",
              "    }\n",
              "    (() => {\n",
              "      let quickchartButtonEl =\n",
              "        document.querySelector('#df-f1a869cf-c8dd-47f5-beb4-f9475a600c3e button');\n",
              "      quickchartButtonEl.style.display =\n",
              "        google.colab.kernel.accessAllowed ? 'block' : 'none';\n",
              "    })();\n",
              "  </script>\n",
              "</div>\n",
              "\n",
              "    </div>\n",
              "  </div>\n"
            ],
            "application/vnd.google.colaboratory.intrinsic+json": {
              "type": "dataframe",
              "variable_name": "train_master",
              "summary": "{\n  \"name\": \"train_master\",\n  \"rows\": 60000,\n  \"fields\": [\n    {\n      \"column\": \"file_name\",\n      \"properties\": {\n        \"dtype\": \"string\",\n        \"num_unique_values\": 60000,\n        \"samples\": [\n          \"train_12628.jpg\",\n          \"train_37730.jpg\",\n          \"train_39991.jpg\"\n        ],\n        \"semantic_type\": \"\",\n        \"description\": \"\"\n      }\n    },\n    {\n      \"column\": \"category_id\",\n      \"properties\": {\n        \"dtype\": \"number\",\n        \"std\": 2,\n        \"min\": 0,\n        \"max\": 9,\n        \"num_unique_values\": 10,\n        \"samples\": [\n          7,\n          0,\n          2\n        ],\n        \"semantic_type\": \"\",\n        \"description\": \"\"\n      }\n    }\n  ]\n}"
            }
          },
          "metadata": {},
          "execution_count": 7
        }
      ]
    },
    {
      "cell_type": "markdown",
      "source": [
        "実際に画像を確認してみます."
      ],
      "metadata": {
        "id": "UPqLN-HdJQrs"
      }
    },
    {
      "cell_type": "code",
      "source": [
        "from PIL import Image"
      ],
      "metadata": {
        "id": "OiRkSCQZJNep"
      },
      "execution_count": null,
      "outputs": []
    },
    {
      "cell_type": "code",
      "source": [
        "image = Image.open(os.path.join(_test_images_path, 'test_0.jpg'))\n",
        "print('width, height:', image.size)\n",
        "image"
      ],
      "metadata": {
        "colab": {
          "base_uri": "https://localhost:8080/"
        },
        "id": "h1SlvKxFJUgj",
        "outputId": "db988261-65cf-44f0-ef51-04e8c14ad7a1"
      },
      "execution_count": null,
      "outputs": [
        {
          "output_type": "stream",
          "name": "stdout",
          "text": [
            "width, height: (28, 28)\n"
          ]
        },
        {
          "output_type": "execute_result",
          "data": {
            "text/plain": [
              "<PIL.JpegImagePlugin.JpegImageFile image mode=L size=28x28>"
            ],
            "image/png": "[encoded data removed]"
          },
          "metadata": {},
          "execution_count": 9
        }
      ]
    },
    {
      "cell_type": "code",
      "source": [
        "image = Image.open(os.path.join(_train_images_path, 'train_1.jpg'))\n",
        "print('width, height:', image.size)\n",
        "image"
      ],
      "metadata": {
        "colab": {
          "base_uri": "https://localhost:8080/"
        },
        "id": "xSfYIP1tJWo-",
        "outputId": "fc9d6e5e-5e52-46b8-d756-b5343af3793d"
      },
      "execution_count": null,
      "outputs": [
        {
          "output_type": "stream",
          "name": "stdout",
          "text": [
            "width, height: (28, 28)\n"
          ]
        },
        {
          "output_type": "execute_result",
          "data": {
            "text/plain": [
              "<PIL.JpegImagePlugin.JpegImageFile image mode=L size=28x28>"
            ],
            "image/png": "[encoded data removed]"
          },
          "metadata": {},
          "execution_count": 10
        }
      ]
    },
    {
      "cell_type": "code",
      "source": [
        "image = Image.open(os.path.join(_train_images_path, 'train_2.jpg'))\n",
        "print('width, height:', image.size)\n",
        "image"
      ],
      "metadata": {
        "colab": {
          "base_uri": "https://localhost:8080/"
        },
        "id": "1TjMvd7cJadf",
        "outputId": "3b1df864-3eac-4f0d-87f5-8ca4b8c6baf4"
      },
      "execution_count": null,
      "outputs": [
        {
          "output_type": "stream",
          "name": "stdout",
          "text": [
            "width, height: (28, 28)\n"
          ]
        },
        {
          "output_type": "execute_result",
          "data": {
            "text/plain": [
              "<PIL.JpegImagePlugin.JpegImageFile image mode=L size=28x28>"
            ],
            "image/png": "[encoded data removed]"
          },
          "metadata": {},
          "execution_count": 11
        }
      ]
    },
    {
      "cell_type": "markdown",
      "source": [
        "学習用画像データにおけるそれぞれの数字の分布をみてみます."
      ],
      "metadata": {
        "id": "gosCz6KKJi1J"
      }
    },
    {
      "cell_type": "code",
      "source": [
        "train_master['category_id'].value_counts().sort_index()"
      ],
      "metadata": {
        "colab": {
          "base_uri": "https://localhost:8080/"
        },
        "id": "JqRKwPkrJdn5",
        "outputId": "dae540ba-eef3-4e93-d0d9-6a046eb9bcea"
      },
      "execution_count": null,
      "outputs": [
        {
          "output_type": "execute_result",
          "data": {
            "text/plain": [
              "category_id\n",
              "0    5923\n",
              "1    6742\n",
              "2    5958\n",
              "3    6131\n",
              "4    5842\n",
              "5    5421\n",
              "6    5918\n",
              "7    6265\n",
              "8    5851\n",
              "9    5949\n",
              "Name: count, dtype: int64"
            ]
          },
          "metadata": {},
          "execution_count": 12
        }
      ]
    },
    {
      "cell_type": "markdown",
      "source": [
        "# テスト用"
      ],
      "metadata": {
        "id": "VGTb0KLXEMan"
      }
    },
    {
      "cell_type": "markdown",
      "source": [
        "## 画像指定"
      ],
      "metadata": {
        "id": "J7rRAWEtOATZ"
      }
    },
    {
      "cell_type": "code",
      "source": [
        "# 画像1ファイルのみ抽出\n",
        "data =  train_master[0:1]"
      ],
      "metadata": {
        "id": "BQmMDzcUIdH7"
      },
      "execution_count": null,
      "outputs": []
    },
    {
      "cell_type": "code",
      "source": [
        "# 中身確認\n",
        "print(data)"
      ],
      "metadata": {
        "colab": {
          "base_uri": "https://localhost:8080/"
        },
        "id": "OnCWzSSkJLk_",
        "outputId": "b7954a7c-67cc-4518-c86f-db46381a37d3"
      },
      "execution_count": null,
      "outputs": [
        {
          "output_type": "stream",
          "name": "stdout",
          "text": [
            "     file_name  category_id\n",
            "0  train_0.jpg            5\n"
          ]
        }
      ]
    },
    {
      "cell_type": "code",
      "source": [
        "# 配列を作成して、画像ファイルを数値配列に変更→格納\n",
        "\n",
        "import numpy as np\n",
        "\n",
        "num_train = len(train_master)\n",
        "image_size = (28,28)\n",
        "\n",
        "## 0で初期化した配列作成\n",
        "train_X = np.zeros((num_train,)+(1,)+image_size)\n",
        "train_Y = np.zeros((num_train,))\n",
        "\n",
        "data =  train_master[0:1]\n",
        "image =Image.open('/content/train/train_0.jpg')\n",
        "image_array = np.array(image).reshape((1,1,)+image_size)\n",
        "train_X= image_array/255\n",
        "train_Y = data['category_id']"
      ],
      "metadata": {
        "id": "Tf5t_UpBEIzp"
      },
      "execution_count": null,
      "outputs": []
    },
    {
      "cell_type": "code",
      "source": [
        "train_X = train_X.astype(np.float32)\n",
        "train_Y = train_Y.astype(np.int32)"
      ],
      "metadata": {
        "id": "Fc2jBKarKjSa"
      },
      "execution_count": null,
      "outputs": []
    },
    {
      "cell_type": "code",
      "source": [
        "print(train_X.shape)\n",
        "print(train_Y.shape)"
      ],
      "metadata": {
        "colab": {
          "base_uri": "https://localhost:8080/"
        },
        "id": "rpVBWbnyLsfS",
        "outputId": "95479fae-8a64-4626-b200-e34f8558df48"
      },
      "execution_count": null,
      "outputs": [
        {
          "output_type": "stream",
          "name": "stdout",
          "text": [
            "(1, 1, 28, 28)\n",
            "(1,)\n"
          ]
        }
      ]
    },
    {
      "cell_type": "markdown",
      "source": [
        "## 以下コードでやってること\n",
        " LeNetのクラスを定義  \n",
        "各層で何が出力されてくるかを見たかったので、それぞれについて以下を実行  \n",
        "１．**returnの値をそれぞれ変えて**、LeNetクラスを定義\n",
        "（return以外のコードは変えていないはず…）  \n",
        "２．LeNetクラスのインスタンスを作成  \n",
        "３．結果表示  \n"
      ],
      "metadata": {
        "id": "2HTAZ3Ibw354"
      }
    },
    {
      "cell_type": "markdown",
      "source": [
        "### 畳み込み層１"
      ],
      "metadata": {
        "id": "P_GosGqiQe1Q"
      }
    },
    {
      "cell_type": "code",
      "source": [
        "from chainer import Chain\n",
        "import chainer.links as L\n",
        "import chainer.functions as F\n",
        "\n",
        "# シード値を設定（算出される値を固定したい）\n",
        "np.random.seed(3)\n",
        "\n",
        "class LeNet(Chain):\n",
        "    def __init__(self, out_size=10, act_func = ''):\n",
        "        super(LeNet, self).__init__(\n",
        "                    conv1 = L.Convolution2D(None, 6, 5, stride=1),\n",
        "                    conv2 = L.Convolution2D(None, 16, 5, stride=1),\n",
        "                    fc3 = L.Linear(None, 120),\n",
        "                    fc4 = L.Linear(None, 84),\n",
        "                    fc5 = L.Linear(None, out_size))\n",
        "        self.train = True\n",
        "        if act_func == 'sigmoid':\n",
        "            print('activation function is', act_func)\n",
        "            self.act_func = F.sigmoid\n",
        "        elif act_func == 'relu':\n",
        "            print('activation function is', act_func)\n",
        "            self.act_func = F.relu\n",
        "        else:\n",
        "            print('activation function is', 'tanh')\n",
        "            self.act_func = F.tanh\n",
        "\n",
        "    def __call__(self, x):\n",
        "        with chainer.using_config('enable_backprop', self.train):\n",
        "           # h = F.max_pooling_2d(self.act_func(self.conv1(x)), 2, stride=2)\n",
        "            c1_b = self.conv1(x)                            #畳み込み層１\n",
        "            c1_f = self.act_func(c1_b)                      #畳み込み層１に活性化関数適用\n",
        "            c1_p = F.max_pooling_2d(c1_f, 2, stride=2)      #畳み込み層１にプーリング実施\n",
        "\n",
        "            # h = F.max_pooling_2d(self.act_func(self.conv2(x)), 2, stride=2)\n",
        "            c2_b = self.conv2(c1_p)                         #畳み込み層２\n",
        "            c2_f = self.act_func(c2_b)                      #畳み込み層２に活性化関数適用\n",
        "            c2_p = F.max_pooling_2d(c2_f, 2, stride=2)      #畳み込み層２にプーリング実施\n",
        "\n",
        "            # h = self.act_func(self.fc3(h))\n",
        "            f3_b = self.fc3(c2_p)                           #全結合層３\n",
        "            f3_f = self.act_func(f3_b)                      #全結合層３に活性化関数適用\n",
        "\n",
        "            # h = self.act_func(self.fc4(h))\n",
        "            f4_b = self.fc4(f3_f)                           #全結合層４\n",
        "            f4_f = self.act_func(f4_b)                      #全結合層４に活性化関数適用\n",
        "\n",
        "            # y = self.fc5(h4)\n",
        "            f5_b = self.fc5(f4_f)                           #全結合層５\n",
        "\n",
        "            return c1_b"
      ],
      "metadata": {
        "id": "LBQMQESQQrGG"
      },
      "execution_count": null,
      "outputs": []
    },
    {
      "cell_type": "code",
      "source": [
        "import chainer\n",
        "\n",
        "lenet_c1_b = LeNet()\n",
        "\n",
        "with chainer.using_config('train',False):\n",
        "  result_c1_b =lenet_c1_b(train_X).array\n",
        "\n",
        "# print(result_c1_b)"
      ],
      "metadata": {
        "colab": {
          "base_uri": "https://localhost:8080/"
        },
        "id": "2Eg0VWkwSTFW",
        "outputId": "d44b55d5-0a85-4f0b-818a-c60d8358aa84"
      },
      "execution_count": null,
      "outputs": [
        {
          "output_type": "stream",
          "name": "stdout",
          "text": [
            "activation function is tanh\n"
          ]
        }
      ]
    },
    {
      "cell_type": "markdown",
      "source": [
        "### 畳み込み層１に活性化関数適用"
      ],
      "metadata": {
        "id": "Kvlj52GRylWs"
      }
    },
    {
      "cell_type": "code",
      "source": [
        "from chainer import Chain\n",
        "import chainer.links as L\n",
        "import chainer.functions as F\n",
        "\n",
        "# シード値を設定（算出される値を固定したい）\n",
        "np.random.seed(3)\n",
        "\n",
        "class LeNet(Chain):\n",
        "    def __init__(self, out_size=10, act_func = ''):\n",
        "        super(LeNet, self).__init__(\n",
        "                    conv1 = L.Convolution2D(None, 6, 5, stride=1),\n",
        "                    conv2 = L.Convolution2D(None, 16, 5, stride=1),\n",
        "                    fc3 = L.Linear(None, 120),\n",
        "                    fc4 = L.Linear(None, 84),\n",
        "                    fc5 = L.Linear(None, out_size))\n",
        "        self.train = True\n",
        "        if act_func == 'sigmoid':\n",
        "            print('activation function is', act_func)\n",
        "            self.act_func = F.sigmoid\n",
        "        elif act_func == 'relu':\n",
        "            print('activation function is', act_func)\n",
        "            self.act_func = F.relu\n",
        "        else:\n",
        "            print('activation function is', 'tanh')\n",
        "            self.act_func = F.tanh\n",
        "\n",
        "    def __call__(self, x):\n",
        "        with chainer.using_config('enable_backprop', self.train):\n",
        "           # h = F.max_pooling_2d(self.act_func(self.conv1(x)), 2, stride=2)\n",
        "            c1_b = self.conv1(x)                            #畳み込み層１\n",
        "            c1_f = self.act_func(c1_b)                      #畳み込み層１に活性化関数適用\n",
        "            c1_p = F.max_pooling_2d(c1_f, 2, stride=2)      #畳み込み層１にプーリング実施\n",
        "\n",
        "            # h = F.max_pooling_2d(self.act_func(self.conv2(x)), 2, stride=2)\n",
        "            c2_b = self.conv2(c1_p)                         #畳み込み層２\n",
        "            c2_f = self.act_func(c2_b)                      #畳み込み層２に活性化関数適用\n",
        "            c2_p = F.max_pooling_2d(c2_f, 2, stride=2)      #畳み込み層２にプーリング実施\n",
        "\n",
        "            # h = self.act_func(self.fc3(h))\n",
        "            f3_b = self.fc3(c2_p)                           #全結合層３\n",
        "            f3_f = self.act_func(f3_b)                      #全結合層３に活性化関数適用\n",
        "\n",
        "            # h = self.act_func(self.fc4(h))\n",
        "            f4_b = self.fc4(f3_f)                           #全結合層４\n",
        "            f4_f = self.act_func(f4_b)                      #全結合層４に活性化関数適用\n",
        "\n",
        "            # y = self.fc5(h4)\n",
        "            f5_b = self.fc5(f4_f)                           #全結合層５\n",
        "\n",
        "            return c1_f"
      ],
      "metadata": {
        "id": "ptTG72LWylW7"
      },
      "execution_count": null,
      "outputs": []
    },
    {
      "cell_type": "code",
      "source": [
        "import chainer\n",
        "\n",
        "lenet_c1_f = LeNet()\n",
        "\n",
        "with chainer.using_config('train',False):\n",
        "  result_c1_f =lenet_c1_f(train_X).array\n",
        "\n",
        "# print(result_c1_f)"
      ],
      "metadata": {
        "colab": {
          "base_uri": "https://localhost:8080/"
        },
        "id": "YCSFKyPjylW9",
        "outputId": "82154501-dedb-426d-bbd8-5cb0e9024909"
      },
      "execution_count": null,
      "outputs": [
        {
          "output_type": "stream",
          "name": "stdout",
          "text": [
            "activation function is tanh\n"
          ]
        }
      ]
    },
    {
      "cell_type": "markdown",
      "source": [
        "### 畳み込み層１にプーリング実施"
      ],
      "metadata": {
        "id": "wFtdLn2nzZuQ"
      }
    },
    {
      "cell_type": "code",
      "source": [
        "from chainer import Chain\n",
        "import chainer.links as L\n",
        "import chainer.functions as F\n",
        "\n",
        "# シード値を設定（算出される値を固定したい）\n",
        "np.random.seed(3)\n",
        "\n",
        "class LeNet(Chain):\n",
        "    def __init__(self, out_size=10, act_func = ''):\n",
        "        super(LeNet, self).__init__(\n",
        "                    conv1 = L.Convolution2D(None, 6, 5, stride=1),\n",
        "                    conv2 = L.Convolution2D(None, 16, 5, stride=1),\n",
        "                    fc3 = L.Linear(None, 120),\n",
        "                    fc4 = L.Linear(None, 84),\n",
        "                    fc5 = L.Linear(None, out_size))\n",
        "        self.train = True\n",
        "        if act_func == 'sigmoid':\n",
        "            print('activation function is', act_func)\n",
        "            self.act_func = F.sigmoid\n",
        "        elif act_func == 'relu':\n",
        "            print('activation function is', act_func)\n",
        "            self.act_func = F.relu\n",
        "        else:\n",
        "            print('activation function is', 'tanh')\n",
        "            self.act_func = F.tanh\n",
        "\n",
        "    def __call__(self, x):\n",
        "        with chainer.using_config('enable_backprop', self.train):\n",
        "           # h = F.max_pooling_2d(self.act_func(self.conv1(x)), 2, stride=2)\n",
        "            c1_b = self.conv1(x)                            #畳み込み層１\n",
        "            c1_f = self.act_func(c1_b)                      #畳み込み層１に活性化関数適用\n",
        "            c1_p = F.max_pooling_2d(c1_f, 2, stride=2)      #畳み込み層１にプーリング実施\n",
        "\n",
        "            # h = F.max_pooling_2d(self.act_func(self.conv2(x)), 2, stride=2)\n",
        "            c2_b = self.conv2(c1_p)                         #畳み込み層２\n",
        "            c2_f = self.act_func(c2_b)                      #畳み込み層２に活性化関数適用\n",
        "            c2_p = F.max_pooling_2d(c2_f, 2, stride=2)      #畳み込み層２にプーリング実施\n",
        "\n",
        "            # h = self.act_func(self.fc3(h))\n",
        "            f3_b = self.fc3(c2_p)                           #全結合層３\n",
        "            f3_f = self.act_func(f3_b)                      #全結合層３に活性化関数適用\n",
        "\n",
        "            # h = self.act_func(self.fc4(h))\n",
        "            f4_b = self.fc4(f3_f)                           #全結合層４\n",
        "            f4_f = self.act_func(f4_b)                      #全結合層４に活性化関数適用\n",
        "\n",
        "            # y = self.fc5(h4)\n",
        "            f5_b = self.fc5(f4_f)                           #全結合層５\n",
        "\n",
        "            return c1_p"
      ],
      "metadata": {
        "id": "Op5oqIU9zZub"
      },
      "execution_count": null,
      "outputs": []
    },
    {
      "cell_type": "code",
      "source": [
        "import chainer\n",
        "\n",
        "lenet_c1_p = LeNet()\n",
        "\n",
        "with chainer.using_config('train',False):\n",
        "  result_c1_p =lenet_c1_p(train_X).array\n",
        "\n",
        "# print(result_c1_p)"
      ],
      "metadata": {
        "colab": {
          "base_uri": "https://localhost:8080/"
        },
        "id": "7_DHZnf5zZuc",
        "outputId": "5641fd5f-81cc-4568-e1b0-54b76fbef011"
      },
      "execution_count": null,
      "outputs": [
        {
          "output_type": "stream",
          "name": "stdout",
          "text": [
            "activation function is tanh\n"
          ]
        }
      ]
    },
    {
      "cell_type": "markdown",
      "source": [
        "### 畳み込み層２"
      ],
      "metadata": {
        "id": "DVGHslY50K8y"
      }
    },
    {
      "cell_type": "code",
      "source": [
        "from chainer import Chain\n",
        "import chainer.links as L\n",
        "import chainer.functions as F\n",
        "\n",
        "# シード値を設定（算出される値を固定したい）\n",
        "np.random.seed(3)\n",
        "\n",
        "class LeNet(Chain):\n",
        "    def __init__(self, out_size=10, act_func = ''):\n",
        "        super(LeNet, self).__init__(\n",
        "                    conv1 = L.Convolution2D(None, 6, 5, stride=1),\n",
        "                    conv2 = L.Convolution2D(None, 16, 5, stride=1),\n",
        "                    fc3 = L.Linear(None, 120),\n",
        "                    fc4 = L.Linear(None, 84),\n",
        "                    fc5 = L.Linear(None, out_size))\n",
        "        self.train = True\n",
        "        if act_func == 'sigmoid':\n",
        "            print('activation function is', act_func)\n",
        "            self.act_func = F.sigmoid\n",
        "        elif act_func == 'relu':\n",
        "            print('activation function is', act_func)\n",
        "            self.act_func = F.relu\n",
        "        else:\n",
        "            print('activation function is', 'tanh')\n",
        "            self.act_func = F.tanh\n",
        "\n",
        "    def __call__(self, x):\n",
        "        with chainer.using_config('enable_backprop', self.train):\n",
        "           # h = F.max_pooling_2d(self.act_func(self.conv1(x)), 2, stride=2)\n",
        "            c1_b = self.conv1(x)                            #畳み込み層１\n",
        "            c1_f = self.act_func(c1_b)                      #畳み込み層１に活性化関数適用\n",
        "            c1_p = F.max_pooling_2d(c1_f, 2, stride=2)      #畳み込み層１にプーリング実施\n",
        "\n",
        "            # h = F.max_pooling_2d(self.act_func(self.conv2(x)), 2, stride=2)\n",
        "            c2_b = self.conv2(c1_p)                         #畳み込み層２\n",
        "            c2_f = self.act_func(c2_b)                      #畳み込み層２に活性化関数適用\n",
        "            c2_p = F.max_pooling_2d(c2_f, 2, stride=2)      #畳み込み層２にプーリング実施\n",
        "\n",
        "            # h = self.act_func(self.fc3(h))\n",
        "            f3_b = self.fc3(c2_p)                           #全結合層３\n",
        "            f3_f = self.act_func(f3_b)                      #全結合層３に活性化関数適用\n",
        "\n",
        "            # h = self.act_func(self.fc4(h))\n",
        "            f4_b = self.fc4(f3_f)                           #全結合層４\n",
        "            f4_f = self.act_func(f4_b)                      #全結合層４に活性化関数適用\n",
        "\n",
        "            # y = self.fc5(h4)\n",
        "            f5_b = self.fc5(f4_f)                           #全結合層５\n",
        "\n",
        "            return c2_b"
      ],
      "metadata": {
        "id": "QW6XmoTY0K89"
      },
      "execution_count": null,
      "outputs": []
    },
    {
      "cell_type": "code",
      "source": [
        "import chainer\n",
        "\n",
        "lenet_c2_b = LeNet()\n",
        "\n",
        "with chainer.using_config('train',False):\n",
        "  result_c2_b =lenet_c2_b(train_X).array\n",
        "\n",
        "# print(result_c2_b)"
      ],
      "metadata": {
        "colab": {
          "base_uri": "https://localhost:8080/"
        },
        "id": "IYNu7v0f0K8-",
        "outputId": "c96ac2a2-57a7-462e-a614-a056c39ce0af"
      },
      "execution_count": null,
      "outputs": [
        {
          "output_type": "stream",
          "name": "stdout",
          "text": [
            "activation function is tanh\n"
          ]
        }
      ]
    },
    {
      "cell_type": "markdown",
      "source": [
        "### 畳み込み層２に活性化関数適用"
      ],
      "metadata": {
        "id": "UGZS6Pk_07-c"
      }
    },
    {
      "cell_type": "code",
      "source": [
        "from chainer import Chain\n",
        "import chainer.links as L\n",
        "import chainer.functions as F\n",
        "\n",
        "# シード値を設定（算出される値を固定したい）\n",
        "np.random.seed(3)\n",
        "\n",
        "class LeNet(Chain):\n",
        "    def __init__(self, out_size=10, act_func = ''):\n",
        "        super(LeNet, self).__init__(\n",
        "                    conv1 = L.Convolution2D(None, 6, 5, stride=1),\n",
        "                    conv2 = L.Convolution2D(None, 16, 5, stride=1),\n",
        "                    fc3 = L.Linear(None, 120),\n",
        "                    fc4 = L.Linear(None, 84),\n",
        "                    fc5 = L.Linear(None, out_size))\n",
        "        self.train = True\n",
        "        if act_func == 'sigmoid':\n",
        "            print('activation function is', act_func)\n",
        "            self.act_func = F.sigmoid\n",
        "        elif act_func == 'relu':\n",
        "            print('activation function is', act_func)\n",
        "            self.act_func = F.relu\n",
        "        else:\n",
        "            print('activation function is', 'tanh')\n",
        "            self.act_func = F.tanh\n",
        "\n",
        "    def __call__(self, x):\n",
        "        with chainer.using_config('enable_backprop', self.train):\n",
        "           # h = F.max_pooling_2d(self.act_func(self.conv1(x)), 2, stride=2)\n",
        "            c1_b = self.conv1(x)                            #畳み込み層１\n",
        "            c1_f = self.act_func(c1_b)                      #畳み込み層１に活性化関数適用\n",
        "            c1_p = F.max_pooling_2d(c1_f, 2, stride=2)      #畳み込み層１にプーリング実施\n",
        "\n",
        "            # h = F.max_pooling_2d(self.act_func(self.conv2(x)), 2, stride=2)\n",
        "            c2_b = self.conv2(c1_p)                         #畳み込み層２\n",
        "            c2_f = self.act_func(c2_b)                      #畳み込み層２に活性化関数適用\n",
        "            c2_p = F.max_pooling_2d(c2_f, 2, stride=2)      #畳み込み層２にプーリング実施\n",
        "\n",
        "            # h = self.act_func(self.fc3(h))\n",
        "            f3_b = self.fc3(c2_p)                           #全結合層３\n",
        "            f3_f = self.act_func(f3_b)                      #全結合層３に活性化関数適用\n",
        "\n",
        "            # h = self.act_func(self.fc4(h))\n",
        "            f4_b = self.fc4(f3_f)                           #全結合層４\n",
        "            f4_f = self.act_func(f4_b)                      #全結合層４に活性化関数適用\n",
        "\n",
        "            # y = self.fc5(h4)\n",
        "            f5_b = self.fc5(f4_f)                           #全結合層５\n",
        "\n",
        "            return c2_f"
      ],
      "metadata": {
        "id": "GXb2iT-G07-o"
      },
      "execution_count": null,
      "outputs": []
    },
    {
      "cell_type": "code",
      "source": [
        "import chainer\n",
        "\n",
        "lenet_c2_f = LeNet()\n",
        "\n",
        "with chainer.using_config('train',False):\n",
        "  result_c2_f =lenet_c2_f(train_X).array\n",
        "\n",
        "# print(result_c2_f)"
      ],
      "metadata": {
        "colab": {
          "base_uri": "https://localhost:8080/"
        },
        "outputId": "f8bece82-76e6-454b-fccd-a7edb8b6fb6a",
        "id": "6asm4G8A07-p"
      },
      "execution_count": null,
      "outputs": [
        {
          "output_type": "stream",
          "name": "stdout",
          "text": [
            "activation function is tanh\n"
          ]
        }
      ]
    },
    {
      "cell_type": "markdown",
      "source": [
        "### 畳み込み層２にプーリング実施"
      ],
      "metadata": {
        "id": "9CaSztDM1JjH"
      }
    },
    {
      "cell_type": "code",
      "source": [
        "from chainer import Chain\n",
        "import chainer.links as L\n",
        "import chainer.functions as F\n",
        "\n",
        "# シード値を設定（算出される値を固定したい）\n",
        "np.random.seed(3)\n",
        "\n",
        "class LeNet(Chain):\n",
        "    def __init__(self, out_size=10, act_func = ''):\n",
        "        super(LeNet, self).__init__(\n",
        "                    conv1 = L.Convolution2D(None, 6, 5, stride=1),\n",
        "                    conv2 = L.Convolution2D(None, 16, 5, stride=1),\n",
        "                    fc3 = L.Linear(None, 120),\n",
        "                    fc4 = L.Linear(None, 84),\n",
        "                    fc5 = L.Linear(None, out_size))\n",
        "        self.train = True\n",
        "        if act_func == 'sigmoid':\n",
        "            print('activation function is', act_func)\n",
        "            self.act_func = F.sigmoid\n",
        "        elif act_func == 'relu':\n",
        "            print('activation function is', act_func)\n",
        "            self.act_func = F.relu\n",
        "        else:\n",
        "            print('activation function is', 'tanh')\n",
        "            self.act_func = F.tanh\n",
        "\n",
        "    def __call__(self, x):\n",
        "        with chainer.using_config('enable_backprop', self.train):\n",
        "           # h = F.max_pooling_2d(self.act_func(self.conv1(x)), 2, stride=2)\n",
        "            c1_b = self.conv1(x)                            #畳み込み層１\n",
        "            c1_f = self.act_func(c1_b)                      #畳み込み層１に活性化関数適用\n",
        "            c1_p = F.max_pooling_2d(c1_f, 2, stride=2)      #畳み込み層１にプーリング実施\n",
        "\n",
        "            # h = F.max_pooling_2d(self.act_func(self.conv2(x)), 2, stride=2)\n",
        "            c2_b = self.conv2(c1_p)                         #畳み込み層２\n",
        "            c2_f = self.act_func(c2_b)                      #畳み込み層２に活性化関数適用\n",
        "            c2_p = F.max_pooling_2d(c2_f, 2, stride=2)      #畳み込み層２にプーリング実施\n",
        "\n",
        "            # h = self.act_func(self.fc3(h))\n",
        "            f3_b = self.fc3(c2_p)                           #全結合層３\n",
        "            f3_f = self.act_func(f3_b)                      #全結合層３に活性化関数適用\n",
        "\n",
        "            # h = self.act_func(self.fc4(h))\n",
        "            f4_b = self.fc4(f3_f)                           #全結合層４\n",
        "            f4_f = self.act_func(f4_b)                      #全結合層４に活性化関数適用\n",
        "\n",
        "            # y = self.fc5(h4)\n",
        "            f5_b = self.fc5(f4_f)                           #全結合層５\n",
        "\n",
        "            return c2_p"
      ],
      "metadata": {
        "id": "kXwh9aUB1JjQ"
      },
      "execution_count": null,
      "outputs": []
    },
    {
      "cell_type": "code",
      "source": [
        "import chainer\n",
        "\n",
        "lenet_c2_p = LeNet()\n",
        "\n",
        "with chainer.using_config('train',False):\n",
        "  result_c2_p =lenet_c2_p(train_X).array\n",
        "\n",
        "# print(result_c2_p)"
      ],
      "metadata": {
        "colab": {
          "base_uri": "https://localhost:8080/"
        },
        "outputId": "1efd91d6-f40e-45e7-d47f-a3a285e920b1",
        "id": "d1mgb-6l1JjR"
      },
      "execution_count": null,
      "outputs": [
        {
          "output_type": "stream",
          "name": "stdout",
          "text": [
            "activation function is tanh\n"
          ]
        }
      ]
    },
    {
      "cell_type": "markdown",
      "source": [
        "###全結合層３"
      ],
      "metadata": {
        "id": "5Cu_SweV1bv5"
      }
    },
    {
      "cell_type": "code",
      "source": [
        "from chainer import Chain\n",
        "import chainer.links as L\n",
        "import chainer.functions as F\n",
        "\n",
        "# シード値を設定（算出される値を固定したい）\n",
        "np.random.seed(3)\n",
        "\n",
        "class LeNet(Chain):\n",
        "    def __init__(self, out_size=10, act_func = ''):\n",
        "        super(LeNet, self).__init__(\n",
        "                    conv1 = L.Convolution2D(None, 6, 5, stride=1),\n",
        "                    conv2 = L.Convolution2D(None, 16, 5, stride=1),\n",
        "                    fc3 = L.Linear(None, 120),\n",
        "                    fc4 = L.Linear(None, 84),\n",
        "                    fc5 = L.Linear(None, out_size))\n",
        "        self.train = True\n",
        "        if act_func == 'sigmoid':\n",
        "            print('activation function is', act_func)\n",
        "            self.act_func = F.sigmoid\n",
        "        elif act_func == 'relu':\n",
        "            print('activation function is', act_func)\n",
        "            self.act_func = F.relu\n",
        "        else:\n",
        "            print('activation function is', 'tanh')\n",
        "            self.act_func = F.tanh\n",
        "\n",
        "    def __call__(self, x):\n",
        "        with chainer.using_config('enable_backprop', self.train):\n",
        "           # h = F.max_pooling_2d(self.act_func(self.conv1(x)), 2, stride=2)\n",
        "            c1_b = self.conv1(x)                            #畳み込み層１\n",
        "            c1_f = self.act_func(c1_b)                      #畳み込み層１に活性化関数適用\n",
        "            c1_p = F.max_pooling_2d(c1_f, 2, stride=2)      #畳み込み層１にプーリング実施\n",
        "\n",
        "            # h = F.max_pooling_2d(self.act_func(self.conv2(x)), 2, stride=2)\n",
        "            c2_b = self.conv2(c1_p)                         #畳み込み層２\n",
        "            c2_f = self.act_func(c2_b)                      #畳み込み層２に活性化関数適用\n",
        "            c2_p = F.max_pooling_2d(c2_f, 2, stride=2)      #畳み込み層２にプーリング実施\n",
        "\n",
        "            # h = self.act_func(self.fc3(h))\n",
        "            f3_b = self.fc3(c2_p)                           #全結合層３\n",
        "            f3_f = self.act_func(f3_b)                      #全結合層３に活性化関数適用\n",
        "\n",
        "            # h = self.act_func(self.fc4(h))\n",
        "            f4_b = self.fc4(f3_f)                           #全結合層４\n",
        "            f4_f = self.act_func(f4_b)                      #全結合層４に活性化関数適用\n",
        "\n",
        "            # y = self.fc5(h4)\n",
        "            f5_b = self.fc5(f4_f)                           #全結合層５\n",
        "\n",
        "            return f3_b"
      ],
      "metadata": {
        "id": "vj2oHQuE1bwH"
      },
      "execution_count": null,
      "outputs": []
    },
    {
      "cell_type": "code",
      "source": [
        "import chainer\n",
        "\n",
        "lenet_f3_b = LeNet()\n",
        "\n",
        "with chainer.using_config('train',False):\n",
        "  result_f3_b =lenet_f3_b(train_X).array\n",
        "\n",
        "# print(result_f3_b)"
      ],
      "metadata": {
        "colab": {
          "base_uri": "https://localhost:8080/"
        },
        "outputId": "cc47052c-4f58-4e9d-eadf-cd363da46613",
        "id": "DuJiyiht1bwH"
      },
      "execution_count": null,
      "outputs": [
        {
          "output_type": "stream",
          "name": "stdout",
          "text": [
            "activation function is tanh\n"
          ]
        }
      ]
    },
    {
      "cell_type": "markdown",
      "source": [
        "###全結合層３に活性化関数適用"
      ],
      "metadata": {
        "id": "FRjF1RBL1n6a"
      }
    },
    {
      "cell_type": "code",
      "source": [
        "from chainer import Chain\n",
        "import chainer.links as L\n",
        "import chainer.functions as F\n",
        "\n",
        "# シード値を設定（算出される値を固定したい）\n",
        "np.random.seed(3)\n",
        "\n",
        "class LeNet(Chain):\n",
        "    def __init__(self, out_size=10, act_func = ''):\n",
        "        super(LeNet, self).__init__(\n",
        "                    conv1 = L.Convolution2D(None, 6, 5, stride=1),\n",
        "                    conv2 = L.Convolution2D(None, 16, 5, stride=1),\n",
        "                    fc3 = L.Linear(None, 120),\n",
        "                    fc4 = L.Linear(None, 84),\n",
        "                    fc5 = L.Linear(None, out_size))\n",
        "        self.train = True\n",
        "        if act_func == 'sigmoid':\n",
        "            print('activation function is', act_func)\n",
        "            self.act_func = F.sigmoid\n",
        "        elif act_func == 'relu':\n",
        "            print('activation function is', act_func)\n",
        "            self.act_func = F.relu\n",
        "        else:\n",
        "            print('activation function is', 'tanh')\n",
        "            self.act_func = F.tanh\n",
        "\n",
        "    def __call__(self, x):\n",
        "        with chainer.using_config('enable_backprop', self.train):\n",
        "           # h = F.max_pooling_2d(self.act_func(self.conv1(x)), 2, stride=2)\n",
        "            c1_b = self.conv1(x)                            #畳み込み層１\n",
        "            c1_f = self.act_func(c1_b)                      #畳み込み層１に活性化関数適用\n",
        "            c1_p = F.max_pooling_2d(c1_f, 2, stride=2)      #畳み込み層１にプーリング実施\n",
        "\n",
        "            # h = F.max_pooling_2d(self.act_func(self.conv2(x)), 2, stride=2)\n",
        "            c2_b = self.conv2(c1_p)                         #畳み込み層２\n",
        "            c2_f = self.act_func(c2_b)                      #畳み込み層２に活性化関数適用\n",
        "            c2_p = F.max_pooling_2d(c2_f, 2, stride=2)      #畳み込み層２にプーリング実施\n",
        "\n",
        "            # h = self.act_func(self.fc3(h))\n",
        "            f3_b = self.fc3(c2_p)                           #全結合層３\n",
        "            f3_f = self.act_func(f3_b)                      #全結合層３に活性化関数適用\n",
        "\n",
        "            # h = self.act_func(self.fc4(h))\n",
        "            f4_b = self.fc4(f3_f)                           #全結合層４\n",
        "            f4_f = self.act_func(f4_b)                      #全結合層４に活性化関数適用\n",
        "\n",
        "            # y = self.fc5(h4)\n",
        "            f5_b = self.fc5(f4_f)                           #全結合層５\n",
        "\n",
        "            return f3_f"
      ],
      "metadata": {
        "id": "zfqprk2R1n6k"
      },
      "execution_count": null,
      "outputs": []
    },
    {
      "cell_type": "code",
      "source": [
        "import chainer\n",
        "\n",
        "lenet_f3_f = LeNet()\n",
        "\n",
        "with chainer.using_config('train',False):\n",
        "  result_f3_f =lenet_f3_f(train_X).array\n",
        "\n",
        "# print(result_f3_f)"
      ],
      "metadata": {
        "colab": {
          "base_uri": "https://localhost:8080/"
        },
        "outputId": "411c25e5-2df0-4bd9-9f17-d565a1b4ec8a",
        "id": "LQGg1Ls41n6l"
      },
      "execution_count": null,
      "outputs": [
        {
          "output_type": "stream",
          "name": "stdout",
          "text": [
            "activation function is tanh\n"
          ]
        }
      ]
    },
    {
      "cell_type": "markdown",
      "source": [
        "###全結合層４"
      ],
      "metadata": {
        "id": "AMQIBtKa11y6"
      }
    },
    {
      "cell_type": "code",
      "source": [
        "from chainer import Chain\n",
        "import chainer.links as L\n",
        "import chainer.functions as F\n",
        "\n",
        "# シード値を設定（算出される値を固定したい）\n",
        "np.random.seed(3)\n",
        "\n",
        "class LeNet(Chain):\n",
        "    def __init__(self, out_size=10, act_func = ''):\n",
        "        super(LeNet, self).__init__(\n",
        "                    conv1 = L.Convolution2D(None, 6, 5, stride=1),\n",
        "                    conv2 = L.Convolution2D(None, 16, 5, stride=1),\n",
        "                    fc3 = L.Linear(None, 120),\n",
        "                    fc4 = L.Linear(None, 84),\n",
        "                    fc5 = L.Linear(None, out_size))\n",
        "        self.train = True\n",
        "        if act_func == 'sigmoid':\n",
        "            print('activation function is', act_func)\n",
        "            self.act_func = F.sigmoid\n",
        "        elif act_func == 'relu':\n",
        "            print('activation function is', act_func)\n",
        "            self.act_func = F.relu\n",
        "        else:\n",
        "            print('activation function is', 'tanh')\n",
        "            self.act_func = F.tanh\n",
        "\n",
        "    def __call__(self, x):\n",
        "        with chainer.using_config('enable_backprop', self.train):\n",
        "           # h = F.max_pooling_2d(self.act_func(self.conv1(x)), 2, stride=2)\n",
        "            c1_b = self.conv1(x)                            #畳み込み層１\n",
        "            c1_f = self.act_func(c1_b)                      #畳み込み層１に活性化関数適用\n",
        "            c1_p = F.max_pooling_2d(c1_f, 2, stride=2)      #畳み込み層１にプーリング実施\n",
        "\n",
        "            # h = F.max_pooling_2d(self.act_func(self.conv2(x)), 2, stride=2)\n",
        "            c2_b = self.conv2(c1_p)                         #畳み込み層２\n",
        "            c2_f = self.act_func(c2_b)                      #畳み込み層２に活性化関数適用\n",
        "            c2_p = F.max_pooling_2d(c2_f, 2, stride=2)      #畳み込み層２にプーリング実施\n",
        "\n",
        "            # h = self.act_func(self.fc3(h))\n",
        "            f3_b = self.fc3(c2_p)                           #全結合層３\n",
        "            f3_f = self.act_func(f3_b)                      #全結合層３に活性化関数適用\n",
        "\n",
        "            # h = self.act_func(self.fc4(h))\n",
        "            f4_b = self.fc4(f3_f)                           #全結合層４\n",
        "            f4_f = self.act_func(f4_b)                      #全結合層４に活性化関数適用\n",
        "\n",
        "            # y = self.fc5(h4)\n",
        "            f5_b = self.fc5(f4_f)                           #全結合層５\n",
        "\n",
        "            return f4_b"
      ],
      "metadata": {
        "id": "RKj0VOD911zG"
      },
      "execution_count": null,
      "outputs": []
    },
    {
      "cell_type": "code",
      "source": [
        "import chainer\n",
        "\n",
        "lenet_f4_b = LeNet()\n",
        "\n",
        "with chainer.using_config('train',False):\n",
        "  result_f4_b =lenet_f4_b(train_X).array\n",
        "\n",
        "# print(result_f4_b)"
      ],
      "metadata": {
        "colab": {
          "base_uri": "https://localhost:8080/"
        },
        "outputId": "ae87405a-647c-4ec5-f5d9-ff2a670143e5",
        "id": "igA5zf3B11zH"
      },
      "execution_count": null,
      "outputs": [
        {
          "output_type": "stream",
          "name": "stdout",
          "text": [
            "activation function is tanh\n"
          ]
        }
      ]
    },
    {
      "cell_type": "markdown",
      "source": [
        "###全結合層４に活性化関数適用"
      ],
      "metadata": {
        "id": "Nn0L2jsJ2A8C"
      }
    },
    {
      "cell_type": "code",
      "source": [
        "from chainer import Chain\n",
        "import chainer.links as L\n",
        "import chainer.functions as F\n",
        "\n",
        "# シード値を設定（算出される値を固定したい）\n",
        "np.random.seed(3)\n",
        "\n",
        "class LeNet(Chain):\n",
        "    def __init__(self, out_size=10, act_func = ''):\n",
        "        super(LeNet, self).__init__(\n",
        "                    conv1 = L.Convolution2D(None, 6, 5, stride=1),\n",
        "                    conv2 = L.Convolution2D(None, 16, 5, stride=1),\n",
        "                    fc3 = L.Linear(None, 120),\n",
        "                    fc4 = L.Linear(None, 84),\n",
        "                    fc5 = L.Linear(None, out_size))\n",
        "        self.train = True\n",
        "        if act_func == 'sigmoid':\n",
        "            print('activation function is', act_func)\n",
        "            self.act_func = F.sigmoid\n",
        "        elif act_func == 'relu':\n",
        "            print('activation function is', act_func)\n",
        "            self.act_func = F.relu\n",
        "        else:\n",
        "            print('activation function is', 'tanh')\n",
        "            self.act_func = F.tanh\n",
        "\n",
        "    def __call__(self, x):\n",
        "        with chainer.using_config('enable_backprop', self.train):\n",
        "           # h = F.max_pooling_2d(self.act_func(self.conv1(x)), 2, stride=2)\n",
        "            c1_b = self.conv1(x)                            #畳み込み層１\n",
        "            c1_f = self.act_func(c1_b)                      #畳み込み層１に活性化関数適用\n",
        "            c1_p = F.max_pooling_2d(c1_f, 2, stride=2)      #畳み込み層１にプーリング実施\n",
        "\n",
        "            # h = F.max_pooling_2d(self.act_func(self.conv2(x)), 2, stride=2)\n",
        "            c2_b = self.conv2(c1_p)                         #畳み込み層２\n",
        "            c2_f = self.act_func(c2_b)                      #畳み込み層２に活性化関数適用\n",
        "            c2_p = F.max_pooling_2d(c2_f, 2, stride=2)      #畳み込み層２にプーリング実施\n",
        "\n",
        "            # h = self.act_func(self.fc3(h))\n",
        "            f3_b = self.fc3(c2_p)                           #全結合層３\n",
        "            f3_f = self.act_func(f3_b)                      #全結合層３に活性化関数適用\n",
        "\n",
        "            # h = self.act_func(self.fc4(h))\n",
        "            f4_b = self.fc4(f3_f)                           #全結合層４\n",
        "            f4_f = self.act_func(f4_b)                      #全結合層４に活性化関数適用\n",
        "\n",
        "            # y = self.fc5(h4)\n",
        "            f5_b = self.fc5(f4_f)                           #全結合層５\n",
        "\n",
        "            return f4_f"
      ],
      "metadata": {
        "id": "A8X_m4WX2A8N"
      },
      "execution_count": null,
      "outputs": []
    },
    {
      "cell_type": "code",
      "source": [
        "import chainer\n",
        "\n",
        "lenet_f4_f = LeNet()\n",
        "\n",
        "with chainer.using_config('train',False):\n",
        "  result_f4_f =lenet_f4_f(train_X).array\n",
        "\n",
        "# print(result_f4_f)"
      ],
      "metadata": {
        "colab": {
          "base_uri": "https://localhost:8080/"
        },
        "outputId": "255dbb70-b9d6-4ba0-dda5-badf66a02d33",
        "id": "P7AXjjn02A8N"
      },
      "execution_count": null,
      "outputs": [
        {
          "output_type": "stream",
          "name": "stdout",
          "text": [
            "activation function is tanh\n"
          ]
        }
      ]
    },
    {
      "cell_type": "markdown",
      "source": [
        "###全結合層５"
      ],
      "metadata": {
        "id": "hQa6Q6r02MB9"
      }
    },
    {
      "cell_type": "code",
      "source": [
        "from chainer import Chain\n",
        "import chainer.links as L\n",
        "import chainer.functions as F\n",
        "\n",
        "# シード値を設定（算出される値を固定したい）\n",
        "np.random.seed(3)\n",
        "\n",
        "class LeNet(Chain):\n",
        "    def __init__(self, out_size=10, act_func = ''):\n",
        "        super(LeNet, self).__init__(\n",
        "                    conv1 = L.Convolution2D(None, 6, 5, stride=1),\n",
        "                    conv2 = L.Convolution2D(None, 16, 5, stride=1),\n",
        "                    fc3 = L.Linear(None, 120),\n",
        "                    fc4 = L.Linear(None, 84),\n",
        "                    fc5 = L.Linear(None, out_size))\n",
        "        self.train = True\n",
        "        if act_func == 'sigmoid':\n",
        "            print('activation function is', act_func)\n",
        "            self.act_func = F.sigmoid\n",
        "        elif act_func == 'relu':\n",
        "            print('activation function is', act_func)\n",
        "            self.act_func = F.relu\n",
        "        else:\n",
        "            print('activation function is', 'tanh')\n",
        "            self.act_func = F.tanh\n",
        "\n",
        "    def __call__(self, x):\n",
        "        with chainer.using_config('enable_backprop', self.train):\n",
        "           # h = F.max_pooling_2d(self.act_func(self.conv1(x)), 2, stride=2)\n",
        "            c1_b = self.conv1(x)                            #畳み込み層１\n",
        "            c1_f = self.act_func(c1_b)                      #畳み込み層１に活性化関数適用\n",
        "            c1_p = F.max_pooling_2d(c1_f, 2, stride=2)      #畳み込み層１にプーリング実施\n",
        "\n",
        "            # h = F.max_pooling_2d(self.act_func(self.conv2(x)), 2, stride=2)\n",
        "            c2_b = self.conv2(c1_p)                         #畳み込み層２\n",
        "            c2_f = self.act_func(c2_b)                      #畳み込み層２に活性化関数適用\n",
        "            c2_p = F.max_pooling_2d(c2_f, 2, stride=2)      #畳み込み層２にプーリング実施\n",
        "\n",
        "            # h = self.act_func(self.fc3(h))\n",
        "            f3_b = self.fc3(c2_p)                           #全結合層３\n",
        "            f3_f = self.act_func(f3_b)                      #全結合層３に活性化関数適用\n",
        "\n",
        "            # h = self.act_func(self.fc4(h))\n",
        "            f4_b = self.fc4(f3_f)                           #全結合層４\n",
        "            f4_f = self.act_func(f4_b)                      #全結合層４に活性化関数適用\n",
        "\n",
        "            # y = self.fc5(h4)\n",
        "            f5_b = self.fc5(f4_f)                           #全結合層５\n",
        "\n",
        "            return f5_b"
      ],
      "metadata": {
        "id": "6lPP03fo2MCJ"
      },
      "execution_count": null,
      "outputs": []
    },
    {
      "cell_type": "code",
      "source": [
        "import chainer\n",
        "\n",
        "lenet_f5_b = LeNet()\n",
        "\n",
        "# with chainer.using_config('train',False):\n",
        "with chainer.using_config('enable_backprop',False):\n",
        "  result_f5_b =lenet_f5_b(train_X).array\n",
        "\n",
        "# print(result_f5_b)"
      ],
      "metadata": {
        "colab": {
          "base_uri": "https://localhost:8080/"
        },
        "outputId": "aee84572-f9d9-419b-b1b7-be25246e8241",
        "id": "phDfGEKF2MCJ"
      },
      "execution_count": null,
      "outputs": [
        {
          "output_type": "stream",
          "name": "stdout",
          "text": [
            "activation function is tanh\n"
          ]
        }
      ]
    },
    {
      "cell_type": "markdown",
      "source": [
        "# 結果確認"
      ],
      "metadata": {
        "id": "UzJOxaijLgYi"
      }
    },
    {
      "cell_type": "code",
      "source": [
        "# 今回みる画像\n",
        "image"
      ],
      "metadata": {
        "colab": {
          "base_uri": "https://localhost:8080/",
          "height": 45
        },
        "id": "PziuELmxKC3z",
        "outputId": "e493cae4-f4ed-43c8-9db6-0b3f32383484"
      },
      "execution_count": null,
      "outputs": [
        {
          "output_type": "execute_result",
          "data": {
            "text/plain": [
              "<PIL.JpegImagePlugin.JpegImageFile image mode=L size=28x28>"
            ],
            "image/png": "[encoded data removed]"
          },
          "metadata": {},
          "execution_count": 43
        }
      ]
    },
    {
      "cell_type": "code",
      "source": [
        "# 画像を配列に変換\n",
        "image_array"
      ],
      "metadata": {
        "colab": {
          "base_uri": "https://localhost:8080/"
        },
        "id": "y1RzMoPoKXPP",
        "outputId": "49849b80-84a2-4ea3-a753-014e5ef3db96"
      },
      "execution_count": null,
      "outputs": [
        {
          "output_type": "execute_result",
          "data": {
            "text/plain": [
              "array([[[[  0,   0,   1,   1,   3,   5,   3,   0,   0,   0,   0,   1,\n",
              "            1,   0,   0,   1,   0,   0,   4,   8,   0,  17,   0,   0,\n",
              "            0,   0,   0,   0],\n",
              "         [  0,   2,   2,   0,   0,   0,   0,   0,   0,   0,   0,   1,\n",
              "            1,   1,   1,   3,   0,   0,   1,   0,   0,   0,   9,   5,\n",
              "            0,   0,   0,   0],\n",
              "         [  1,   2,   3,   0,   0,   0,   0,   2,   6,   5,   3,   1,\n",
              "            0,   0,   0,   0,   7,   2,   6,  10,  17,   0,   1,   0,\n",
              "            0,   0,   0,   0],\n",
              "         [  3,   0,   0,   2,   2,   0,   1,   4,   1,   3,   2,   0,\n",
              "            0,   2,   3,   1,   0,   0,   0,   0,   0,   0,   0,  12,\n",
              "            0,   0,   0,   0],\n",
              "         [  5,   0,   0,   2,   5,   1,   0,   0,   0,   2,   2,   0,\n",
              "            0,   1,   0,   0,   5,   0,  18,   0,  16,   4,   0,  11,\n",
              "            0,   0,   0,   0],\n",
              "         [  6,   0,   0,   1,   2,   0,   0,   0,   0,   0,   5,   6,\n",
              "           12,  22,  24,  19, 113, 158, 172,  25, 151, 255, 255, 120,\n",
              "            0,   0,   0,   0],\n",
              "         [  3,   0,   0,   2,   0,   0,   1,  15,  28,  56,  92, 131,\n",
              "          177, 223, 251, 255, 255, 250, 211, 176, 255, 245, 187,  62,\n",
              "            0,   0,   0,   0],\n",
              "         [  0,   0,   1,   4,   0,   0,  12,  37, 235, 248, 255, 254,\n",
              "          255, 255, 255, 249, 250, 251, 105,  84,  75,  52,  46,   0,\n",
              "            0,   0,   0,   0],\n",
              "         [  0,   0,   0,   0,   0,   2,   5,   8, 214, 255, 251, 238,\n",
              "          255, 245, 210, 180, 249, 247,   5,   1,   0,   7,   0,   4,\n",
              "            0,   0,   0,   0],\n",
              "         [  0,   0,   0,   0,   0,   2,   4,   6,  83, 149, 104, 255,\n",
              "          255, 200,   4,   0,  41, 140,   3,   0,   7,  10,   0,  11,\n",
              "            0,   0,   0,   0],\n",
              "         [  1,   0,   0,   0,   0,   1,   2,   4,   9,  19,   0, 157,\n",
              "          236,  94,   5,   0,   0,  26,   0,   2,   0,   5,   0,   0,\n",
              "            0,   0,   0,   0],\n",
              "         [  2,   1,   0,   0,   0,   0,   0,   1,   0,   0,  10, 139,\n",
              "          255, 182,  22,   0,  12,   0,   1,   9,   0,   0,  12,   0,\n",
              "            0,   0,   0,   0],\n",
              "         [  1,   1,   0,   0,   0,   0,   0,   0,   8,   0,  10,   0,\n",
              "          185, 255,  54,   0,   0,   0,  20,   1,   3,   0,   0,   5,\n",
              "            0,   0,   0,   0],\n",
              "         [  0,   0,   0,   0,   0,   0,   0,   0,   0,   5,   0,  11,\n",
              "           52, 246, 225, 167, 108,  12,   0,   0,  12,   0,   0,   4,\n",
              "            0,   0,   0,   0],\n",
              "         [  0,   0,   0,   0,   0,   0,   0,   0,   3,   5,  10,   0,\n",
              "            0,  61, 255, 248, 255, 108,  25,   1,   0,   0,   2,   0,\n",
              "            0,   0,   0,   0],\n",
              "         [  0,   0,   0,   0,   0,   0,   0,   0,   0,   3,   2,   0,\n",
              "            8,   9,  45, 181, 255, 246, 150,  23,   0,   3,   0,   6,\n",
              "            0,   0,   0,   0],\n",
              "         [  6,   2,   0,   3,   0,   0,   4,   0,   0,   4,   4,   0,\n",
              "            0,   0,   2,  11,  92, 255, 255, 177,   4,   0,   5,   0,\n",
              "            0,   0,   0,   0],\n",
              "         [  0,   0,   0,   6,   0,   0,   0,   8,   9,   0,   0,  11,\n",
              "            7,   3,   8,   4,   0, 255, 254, 230,  73,   1,   0,  13,\n",
              "            0,   0,   0,   0],\n",
              "         [  6,  10,   4,   0,   0,  15,  10,   0,   4,   8,   0,   0,\n",
              "            2,   0,  41, 131, 191, 239, 252, 224,   0,   5,  11,   0,\n",
              "            0,   0,   0,   0],\n",
              "         [  0,   0,   4,   5,   3,   0,   0,   8,   0,   0,  12,   5,\n",
              "           29, 140, 237, 243, 253, 247, 255, 182,   0,   0,   0,  18,\n",
              "            0,   0,   0,   0],\n",
              "         [  0,   0,   6,   0,   5,  14,   0,   1,  12,   4,  16, 108,\n",
              "          225, 255, 245, 255, 255, 209,  69,   9,   4,   0,   0,   0,\n",
              "            0,   0,   0,   0],\n",
              "         [ 11,   5,   7,   0,   0,   1,   0,  17,   3,  84, 198, 253,\n",
              "          253, 255, 245, 190,  72,  15,   0,   0,   0,   6,  17,   0,\n",
              "            0,   0,   0,   0],\n",
              "         [  6,   0,   0,  12,  12,   0,  25, 158, 231, 243, 247, 255,\n",
              "          255, 193,  83,  16,   0,   0,  22,   4,   6,   6,   0,   4,\n",
              "            0,   0,   0,   0],\n",
              "         [  0,   5,   4,   0,  62, 177, 214, 255, 248, 252, 255, 233,\n",
              "          130,  24,   0,   0,   0,   7,   0,   8,   0,   0,  15,   0,\n",
              "            0,   0,   0,   0],\n",
              "         [  2,   0,   0,  20, 125, 240, 255, 246, 198, 145, 118,  22,\n",
              "           11,   0,   0,   3,   0,   0,   0,   0,   0,   0,   0,   0,\n",
              "            0,   0,   0,   0],\n",
              "         [  3,  11,   7,   0,   0,   9,   6,   0,  13,   0,  20,   0,\n",
              "            4,   0,   1,   0,   0,   0,   0,   0,   0,   0,   0,   0,\n",
              "            0,   0,   0,   0],\n",
              "         [  0,   0,   0,   4,   2,   0,   0,   6,   0,   0,   2,   0,\n",
              "            1,   5,   0,   0,   0,   0,   0,   0,   0,   0,   0,   0,\n",
              "            0,   0,   0,   0],\n",
              "         [ 17,   0,   0,   0,   0,   0,   0,   0,  13,  12,   2,   3,\n",
              "            0,   4,   0,   5,   0,   0,   0,   0,   0,   0,   0,   0,\n",
              "            0,   0,   0,   0]]]], dtype=uint8)"
            ]
          },
          "metadata": {},
          "execution_count": 44
        }
      ]
    },
    {
      "cell_type": "code",
      "source": [
        "# 配列に変換後、正規化\n",
        "train_X"
      ],
      "metadata": {
        "colab": {
          "base_uri": "https://localhost:8080/"
        },
        "id": "x_kJ3ErlKckz",
        "outputId": "0bb527b5-5d41-4fee-975f-844915801b4b"
      },
      "execution_count": null,
      "outputs": [
        {
          "output_type": "execute_result",
          "data": {
            "text/plain": [
              "array([[[[0.        , 0.        , 0.00392157, 0.00392157, 0.01176471,\n",
              "          0.01960784, 0.01176471, 0.        , 0.        , 0.        ,\n",
              "          0.        , 0.00392157, 0.00392157, 0.        , 0.        ,\n",
              "          0.00392157, 0.        , 0.        , 0.01568628, 0.03137255,\n",
              "          0.        , 0.06666667, 0.        , 0.        , 0.        ,\n",
              "          0.        , 0.        , 0.        ],\n",
              "         [0.        , 0.00784314, 0.00784314, 0.        , 0.        ,\n",
              "          0.        , 0.        , 0.        , 0.        , 0.        ,\n",
              "          0.        , 0.00392157, 0.00392157, 0.00392157, 0.00392157,\n",
              "          0.01176471, 0.        , 0.        , 0.00392157, 0.        ,\n",
              "          0.        , 0.        , 0.03529412, 0.01960784, 0.        ,\n",
              "          0.        , 0.        , 0.        ],\n",
              "         [0.00392157, 0.00784314, 0.01176471, 0.        , 0.        ,\n",
              "          0.        , 0.        , 0.00784314, 0.02352941, 0.01960784,\n",
              "          0.01176471, 0.00392157, 0.        , 0.        , 0.        ,\n",
              "          0.        , 0.02745098, 0.00784314, 0.02352941, 0.03921569,\n",
              "          0.06666667, 0.        , 0.00392157, 0.        , 0.        ,\n",
              "          0.        , 0.        , 0.        ],\n",
              "         [0.01176471, 0.        , 0.        , 0.00784314, 0.00784314,\n",
              "          0.        , 0.00392157, 0.01568628, 0.00392157, 0.01176471,\n",
              "          0.00784314, 0.        , 0.        , 0.00784314, 0.01176471,\n",
              "          0.00392157, 0.        , 0.        , 0.        , 0.        ,\n",
              "          0.        , 0.        , 0.        , 0.04705882, 0.        ,\n",
              "          0.        , 0.        , 0.        ],\n",
              "         [0.01960784, 0.        , 0.        , 0.00784314, 0.01960784,\n",
              "          0.00392157, 0.        , 0.        , 0.        , 0.00784314,\n",
              "          0.00784314, 0.        , 0.        , 0.00392157, 0.        ,\n",
              "          0.        , 0.01960784, 0.        , 0.07058824, 0.        ,\n",
              "          0.0627451 , 0.01568628, 0.        , 0.04313726, 0.        ,\n",
              "          0.        , 0.        , 0.        ],\n",
              "         [0.02352941, 0.        , 0.        , 0.00392157, 0.00784314,\n",
              "          0.        , 0.        , 0.        , 0.        , 0.        ,\n",
              "          0.01960784, 0.02352941, 0.04705882, 0.08627451, 0.09411765,\n",
              "          0.07450981, 0.44313726, 0.61960787, 0.6745098 , 0.09803922,\n",
              "          0.5921569 , 1.        , 1.        , 0.47058824, 0.        ,\n",
              "          0.        , 0.        , 0.        ],\n",
              "         [0.01176471, 0.        , 0.        , 0.00784314, 0.        ,\n",
              "          0.        , 0.00392157, 0.05882353, 0.10980392, 0.21960784,\n",
              "          0.36078432, 0.5137255 , 0.69411767, 0.8745098 , 0.9843137 ,\n",
              "          1.        , 1.        , 0.98039216, 0.827451  , 0.6901961 ,\n",
              "          1.        , 0.9607843 , 0.73333335, 0.24313726, 0.        ,\n",
              "          0.        , 0.        , 0.        ],\n",
              "         [0.        , 0.        , 0.00392157, 0.01568628, 0.        ,\n",
              "          0.        , 0.04705882, 0.14509805, 0.92156863, 0.972549  ,\n",
              "          1.        , 0.99607843, 1.        , 1.        , 1.        ,\n",
              "          0.9764706 , 0.98039216, 0.9843137 , 0.4117647 , 0.32941177,\n",
              "          0.29411766, 0.20392157, 0.18039216, 0.        , 0.        ,\n",
              "          0.        , 0.        , 0.        ],\n",
              "         [0.        , 0.        , 0.        , 0.        , 0.        ,\n",
              "          0.00784314, 0.01960784, 0.03137255, 0.8392157 , 1.        ,\n",
              "          0.9843137 , 0.93333334, 1.        , 0.9607843 , 0.8235294 ,\n",
              "          0.7058824 , 0.9764706 , 0.96862745, 0.01960784, 0.00392157,\n",
              "          0.        , 0.02745098, 0.        , 0.01568628, 0.        ,\n",
              "          0.        , 0.        , 0.        ],\n",
              "         [0.        , 0.        , 0.        , 0.        , 0.        ,\n",
              "          0.00784314, 0.01568628, 0.02352941, 0.3254902 , 0.58431375,\n",
              "          0.40784314, 1.        , 1.        , 0.78431374, 0.01568628,\n",
              "          0.        , 0.16078432, 0.54901963, 0.01176471, 0.        ,\n",
              "          0.02745098, 0.03921569, 0.        , 0.04313726, 0.        ,\n",
              "          0.        , 0.        , 0.        ],\n",
              "         [0.00392157, 0.        , 0.        , 0.        , 0.        ,\n",
              "          0.00392157, 0.00784314, 0.01568628, 0.03529412, 0.07450981,\n",
              "          0.        , 0.6156863 , 0.9254902 , 0.36862746, 0.01960784,\n",
              "          0.        , 0.        , 0.10196079, 0.        , 0.00784314,\n",
              "          0.        , 0.01960784, 0.        , 0.        , 0.        ,\n",
              "          0.        , 0.        , 0.        ],\n",
              "         [0.00784314, 0.00392157, 0.        , 0.        , 0.        ,\n",
              "          0.        , 0.        , 0.00392157, 0.        , 0.        ,\n",
              "          0.03921569, 0.54509807, 1.        , 0.7137255 , 0.08627451,\n",
              "          0.        , 0.04705882, 0.        , 0.00392157, 0.03529412,\n",
              "          0.        , 0.        , 0.04705882, 0.        , 0.        ,\n",
              "          0.        , 0.        , 0.        ],\n",
              "         [0.00392157, 0.00392157, 0.        , 0.        , 0.        ,\n",
              "          0.        , 0.        , 0.        , 0.03137255, 0.        ,\n",
              "          0.03921569, 0.        , 0.7254902 , 1.        , 0.21176471,\n",
              "          0.        , 0.        , 0.        , 0.07843138, 0.00392157,\n",
              "          0.01176471, 0.        , 0.        , 0.01960784, 0.        ,\n",
              "          0.        , 0.        , 0.        ],\n",
              "         [0.        , 0.        , 0.        , 0.        , 0.        ,\n",
              "          0.        , 0.        , 0.        , 0.        , 0.01960784,\n",
              "          0.        , 0.04313726, 0.20392157, 0.9647059 , 0.88235295,\n",
              "          0.654902  , 0.42352942, 0.04705882, 0.        , 0.        ,\n",
              "          0.04705882, 0.        , 0.        , 0.01568628, 0.        ,\n",
              "          0.        , 0.        , 0.        ],\n",
              "         [0.        , 0.        , 0.        , 0.        , 0.        ,\n",
              "          0.        , 0.        , 0.        , 0.01176471, 0.01960784,\n",
              "          0.03921569, 0.        , 0.        , 0.23921569, 1.        ,\n",
              "          0.972549  , 1.        , 0.42352942, 0.09803922, 0.00392157,\n",
              "          0.        , 0.        , 0.00784314, 0.        , 0.        ,\n",
              "          0.        , 0.        , 0.        ],\n",
              "         [0.        , 0.        , 0.        , 0.        , 0.        ,\n",
              "          0.        , 0.        , 0.        , 0.        , 0.01176471,\n",
              "          0.00784314, 0.        , 0.03137255, 0.03529412, 0.1764706 ,\n",
              "          0.70980394, 1.        , 0.9647059 , 0.5882353 , 0.09019608,\n",
              "          0.        , 0.01176471, 0.        , 0.02352941, 0.        ,\n",
              "          0.        , 0.        , 0.        ],\n",
              "         [0.02352941, 0.00784314, 0.        , 0.01176471, 0.        ,\n",
              "          0.        , 0.01568628, 0.        , 0.        , 0.01568628,\n",
              "          0.01568628, 0.        , 0.        , 0.        , 0.00784314,\n",
              "          0.04313726, 0.36078432, 1.        , 1.        , 0.69411767,\n",
              "          0.01568628, 0.        , 0.01960784, 0.        , 0.        ,\n",
              "          0.        , 0.        , 0.        ],\n",
              "         [0.        , 0.        , 0.        , 0.02352941, 0.        ,\n",
              "          0.        , 0.        , 0.03137255, 0.03529412, 0.        ,\n",
              "          0.        , 0.04313726, 0.02745098, 0.01176471, 0.03137255,\n",
              "          0.01568628, 0.        , 1.        , 0.99607843, 0.9019608 ,\n",
              "          0.28627452, 0.00392157, 0.        , 0.05098039, 0.        ,\n",
              "          0.        , 0.        , 0.        ],\n",
              "         [0.02352941, 0.03921569, 0.01568628, 0.        , 0.        ,\n",
              "          0.05882353, 0.03921569, 0.        , 0.01568628, 0.03137255,\n",
              "          0.        , 0.        , 0.00784314, 0.        , 0.16078432,\n",
              "          0.5137255 , 0.7490196 , 0.9372549 , 0.9882353 , 0.8784314 ,\n",
              "          0.        , 0.01960784, 0.04313726, 0.        , 0.        ,\n",
              "          0.        , 0.        , 0.        ],\n",
              "         [0.        , 0.        , 0.01568628, 0.01960784, 0.01176471,\n",
              "          0.        , 0.        , 0.03137255, 0.        , 0.        ,\n",
              "          0.04705882, 0.01960784, 0.11372549, 0.54901963, 0.92941177,\n",
              "          0.9529412 , 0.99215686, 0.96862745, 1.        , 0.7137255 ,\n",
              "          0.        , 0.        , 0.        , 0.07058824, 0.        ,\n",
              "          0.        , 0.        , 0.        ],\n",
              "         [0.        , 0.        , 0.02352941, 0.        , 0.01960784,\n",
              "          0.05490196, 0.        , 0.00392157, 0.04705882, 0.01568628,\n",
              "          0.0627451 , 0.42352942, 0.88235295, 1.        , 0.9607843 ,\n",
              "          1.        , 1.        , 0.81960785, 0.27058825, 0.03529412,\n",
              "          0.01568628, 0.        , 0.        , 0.        , 0.        ,\n",
              "          0.        , 0.        , 0.        ],\n",
              "         [0.04313726, 0.01960784, 0.02745098, 0.        , 0.        ,\n",
              "          0.00392157, 0.        , 0.06666667, 0.01176471, 0.32941177,\n",
              "          0.7764706 , 0.99215686, 0.99215686, 1.        , 0.9607843 ,\n",
              "          0.74509805, 0.28235295, 0.05882353, 0.        , 0.        ,\n",
              "          0.        , 0.02352941, 0.06666667, 0.        , 0.        ,\n",
              "          0.        , 0.        , 0.        ],\n",
              "         [0.02352941, 0.        , 0.        , 0.04705882, 0.04705882,\n",
              "          0.        , 0.09803922, 0.61960787, 0.90588236, 0.9529412 ,\n",
              "          0.96862745, 1.        , 1.        , 0.75686276, 0.3254902 ,\n",
              "          0.0627451 , 0.        , 0.        , 0.08627451, 0.01568628,\n",
              "          0.02352941, 0.02352941, 0.        , 0.01568628, 0.        ,\n",
              "          0.        , 0.        , 0.        ],\n",
              "         [0.        , 0.01960784, 0.01568628, 0.        , 0.24313726,\n",
              "          0.69411767, 0.8392157 , 1.        , 0.972549  , 0.9882353 ,\n",
              "          1.        , 0.9137255 , 0.50980395, 0.09411765, 0.        ,\n",
              "          0.        , 0.        , 0.02745098, 0.        , 0.03137255,\n",
              "          0.        , 0.        , 0.05882353, 0.        , 0.        ,\n",
              "          0.        , 0.        , 0.        ],\n",
              "         [0.00784314, 0.        , 0.        , 0.07843138, 0.49019608,\n",
              "          0.9411765 , 1.        , 0.9647059 , 0.7764706 , 0.5686275 ,\n",
              "          0.4627451 , 0.08627451, 0.04313726, 0.        , 0.        ,\n",
              "          0.01176471, 0.        , 0.        , 0.        , 0.        ,\n",
              "          0.        , 0.        , 0.        , 0.        , 0.        ,\n",
              "          0.        , 0.        , 0.        ],\n",
              "         [0.01176471, 0.04313726, 0.02745098, 0.        , 0.        ,\n",
              "          0.03529412, 0.02352941, 0.        , 0.05098039, 0.        ,\n",
              "          0.07843138, 0.        , 0.01568628, 0.        , 0.00392157,\n",
              "          0.        , 0.        , 0.        , 0.        , 0.        ,\n",
              "          0.        , 0.        , 0.        , 0.        , 0.        ,\n",
              "          0.        , 0.        , 0.        ],\n",
              "         [0.        , 0.        , 0.        , 0.01568628, 0.00784314,\n",
              "          0.        , 0.        , 0.02352941, 0.        , 0.        ,\n",
              "          0.00784314, 0.        , 0.00392157, 0.01960784, 0.        ,\n",
              "          0.        , 0.        , 0.        , 0.        , 0.        ,\n",
              "          0.        , 0.        , 0.        , 0.        , 0.        ,\n",
              "          0.        , 0.        , 0.        ],\n",
              "         [0.06666667, 0.        , 0.        , 0.        , 0.        ,\n",
              "          0.        , 0.        , 0.        , 0.05098039, 0.04705882,\n",
              "          0.00784314, 0.01176471, 0.        , 0.01568628, 0.        ,\n",
              "          0.01960784, 0.        , 0.        , 0.        , 0.        ,\n",
              "          0.        , 0.        , 0.        , 0.        , 0.        ,\n",
              "          0.        , 0.        , 0.        ]]]], dtype=float32)"
            ]
          },
          "metadata": {},
          "execution_count": 45
        }
      ]
    },
    {
      "cell_type": "markdown",
      "source": [
        "##  畳み込み層１\n",
        "画像をフィルターに通して、特徴を抽出する  \n",
        "　　　↓  \n",
        "活性化関数適用  \n",
        "　　　↓  \n",
        "プーリングを実行してダウンサンプリング"
      ],
      "metadata": {
        "id": "AMXEnWxZCl21"
      }
    },
    {
      "cell_type": "code",
      "source": [
        "# 畳み込み層１のフィルターの値を取得\n",
        "conv1_param = lenet_c1_b.conv1.W.data\n",
        "print(conv1_param)"
      ],
      "metadata": {
        "colab": {
          "base_uri": "https://localhost:8080/"
        },
        "id": "aaK7AR97Fez_",
        "outputId": "f7ee733f-e665-482e-9109-9abbb37b84a7"
      },
      "execution_count": null,
      "outputs": [
        {
          "output_type": "stream",
          "name": "stdout",
          "text": [
            "[[[[ 0.35772568  0.08730197  0.01929949 -0.37269855 -0.05547764]\n",
            "   [-0.0709518  -0.0165483  -0.12540014 -0.00876363 -0.09544361]\n",
            "   [-0.26277295  0.17692448  0.17626362  0.34191462  0.01000673]\n",
            "   [-0.08093549 -0.10907199 -0.30929548  0.1964735  -0.22021353]\n",
            "   [-0.2370093  -0.04112998  0.29722968  0.04734325 -0.20475703]]]\n",
            "\n",
            "\n",
            " [[[-0.14259864  0.125049   -0.03210267 -0.15376727 -0.04600614]\n",
            "   [ 0.14901125  0.39522216 -0.24882467 -0.12528338 -0.16075322]\n",
            "   [-0.48381662 -0.18475841 -0.20477515  0.2247956  -0.02638285]\n",
            "   [-0.32465708  0.12933509 -0.07125415 -0.3486282  -0.11932993]\n",
            "   [-0.11771888 -0.17477646  0.00594276 -0.44965154 -0.05355237]]]\n",
            "\n",
            "\n",
            " [[[ 0.20263669  0.17055957  0.2216375   0.22387813  0.29750863]\n",
            "   [-0.22366014  0.16916668 -0.3721779  -0.12057702 -0.3828944 ]\n",
            "   [ 0.2096295   0.26674756 -0.03948294  0.354929   -0.1349455 ]\n",
            "   [ 0.03012337  0.03058914 -0.21283905  0.08758932  0.3877957 ]\n",
            "   [-0.20498617  0.17986768 -0.03090137  0.35392547  0.09675767]]]\n",
            "\n",
            "\n",
            " [[[ 0.13524328  0.12863265  0.04981734 -0.2791527   0.2783326 ]\n",
            "   [-0.2741338   0.04771264  0.12281542 -0.16758245  0.02901264]\n",
            "   [ 0.23357646 -0.00482089 -0.17773148 -0.5831475  -0.1943681 ]\n",
            "   [-0.11821575 -0.10328347 -0.19199924  0.07545905 -0.11494169]\n",
            "   [-0.02189087  0.13581432 -0.17108743 -0.06004122  0.43162987]]]\n",
            "\n",
            "\n",
            " [[[ 0.17485714 -0.2587073  -0.01594819  0.11289711  0.2466942 ]\n",
            "   [ 0.02979728 -0.10611643 -0.14610533  0.12901239  0.06261207]\n",
            "   [-0.10332958 -0.03781433 -0.0832396   0.14493152 -0.13799213]\n",
            "   [ 0.09728289  0.17030379  0.09724987 -0.16684797  0.2689985 ]\n",
            "   [-0.13564253  0.08528701 -0.15066695 -0.34882206  0.04515005]]]\n",
            "\n",
            "\n",
            " [[[ 0.05740703 -0.01548819  0.0552137  -0.12968218 -0.14749296]\n",
            "   [-0.03361802  0.38185537  0.16296291 -0.10399835  0.11174264]\n",
            "   [-0.09567294 -0.09145216  0.1718568  -0.10505293 -0.33512694]\n",
            "   [-0.18129894  0.01768304  0.02560156  0.2483233  -0.14320517]\n",
            "   [ 0.14629315  0.08519335 -0.02980275  0.16716878  0.09842378]]]]\n"
          ]
        }
      ]
    },
    {
      "cell_type": "code",
      "source": [
        "# 畳み込み１後\n",
        "result_c1_b"
      ],
      "metadata": {
        "colab": {
          "base_uri": "https://localhost:8080/"
        },
        "id": "hoAreBCdClYV",
        "outputId": "b75e1733-ba81-43fc-c861-b387df8852b1"
      },
      "execution_count": null,
      "outputs": [
        {
          "output_type": "execute_result",
          "data": {
            "text/plain": [
              "array([[[[-1.01501718e-02, -4.14855033e-03, -8.08995496e-03, ...,\n",
              "           1.60481147e-02, -1.07661746e-02, -1.54238716e-02],\n",
              "         [-1.27393985e-02,  8.90330318e-03,  8.00629205e-04, ...,\n",
              "          -1.41188711e-01, -2.38684610e-01, -1.20376684e-01],\n",
              "         [-6.89000636e-03,  1.35656781e-02,  4.92642447e-03, ...,\n",
              "          -5.23244739e-01, -3.07814389e-01, -1.10387288e-01],\n",
              "         ...,\n",
              "         [-6.98096380e-02, -6.32069334e-02,  7.16619417e-02, ...,\n",
              "           2.10080128e-02,  8.13156459e-03, -1.11296948e-03],\n",
              "         [-2.25797128e-02,  9.49627385e-02,  3.15100402e-01, ...,\n",
              "           7.74638308e-03, -2.80419225e-03,  5.61138336e-03],\n",
              "         [-6.45706952e-02, -2.34137833e-01, -4.60457951e-01, ...,\n",
              "           5.13541000e-03,  2.10426878e-02,  0.00000000e+00]],\n",
              "\n",
              "        [[-2.02521533e-02, -1.63196754e-02, -1.15560722e-02, ...,\n",
              "          -6.10436965e-03,  9.65833571e-03, -1.74342599e-02],\n",
              "         [-1.90431830e-02, -5.52827073e-03, -4.91268001e-03, ...,\n",
              "          -3.02167654e-01, -2.05078572e-01, -9.49658304e-02],\n",
              "         [-2.35409606e-02, -2.85037910e-03, -7.37501914e-03, ...,\n",
              "          -4.96322006e-01, -3.82545829e-01, -1.95259869e-01],\n",
              "         ...,\n",
              "         [-1.24930501e-01, -2.93751448e-01, -4.29469138e-01, ...,\n",
              "          -6.28378987e-03, -3.17668132e-02,  2.33743154e-03],\n",
              "         [-5.47612235e-02, -9.04655084e-02, -2.36566395e-01, ...,\n",
              "           1.93895288e-02,  1.07269213e-02, -2.23684171e-03],\n",
              "         [-1.30231202e-01, -3.33106458e-01, -5.29524028e-01, ...,\n",
              "           7.35582318e-03, -8.38815514e-03,  0.00000000e+00]],\n",
              "\n",
              "        [[ 1.08413473e-02,  2.04547942e-02,  1.49570350e-02, ...,\n",
              "          -1.33625965e-03,  5.44367032e-03, -1.18104639e-02],\n",
              "         [ 9.54387058e-03,  9.86070000e-03, -2.91563128e-03, ...,\n",
              "          -3.91981155e-02, -9.68510956e-02, -8.13264549e-02],\n",
              "         [ 6.86602574e-03,  5.46161877e-03,  2.24081078e-03, ...,\n",
              "          -1.27265111e-01, -4.18102033e-02, -3.71464118e-02],\n",
              "         ...,\n",
              "         [ 1.62716091e-01,  3.78293455e-01,  4.63591099e-01, ...,\n",
              "           2.07289178e-02,  2.84938551e-02, -3.50839458e-03],\n",
              "         [-1.00839302e-01, -2.13859215e-01, -2.35106155e-01, ...,\n",
              "           1.81955695e-02, -1.04810344e-02,  3.17861489e-03],\n",
              "         [-1.16109259e-01, -1.72129333e-01, -1.89495459e-01, ...,\n",
              "           1.00329155e-02,  1.19198048e-02,  0.00000000e+00]],\n",
              "\n",
              "        [[ 8.36258382e-03,  1.13204471e-03, -5.27189346e-03, ...,\n",
              "          -3.66945169e-03, -6.82552299e-03, -1.18825790e-02],\n",
              "         [-2.55160732e-03, -7.10568903e-03, -9.44648031e-03, ...,\n",
              "           2.06151027e-02,  4.35599908e-02, -1.75742561e-03],\n",
              "         [-1.01070879e-02, -1.28704878e-02, -1.92028098e-03, ...,\n",
              "          -2.72603691e-01, -1.47283807e-01, -6.37779906e-02],\n",
              "         ...,\n",
              "         [-1.03836156e-01, -3.35258693e-01, -7.32655287e-01, ...,\n",
              "           6.95043243e-03,  2.35044453e-02, -4.30013845e-03],\n",
              "         [-1.34797052e-01, -5.33903480e-01, -8.63940001e-01, ...,\n",
              "           6.77026901e-03, -1.41077507e-02,  2.12146342e-03],\n",
              "         [ 6.63886517e-02,  8.54466408e-02, -3.25851925e-02, ...,\n",
              "           7.56662665e-03,  7.95548689e-03,  0.00000000e+00]],\n",
              "\n",
              "        [[-2.94135627e-03, -5.15578082e-03,  3.11765610e-03, ...,\n",
              "           8.48134048e-04,  1.02590844e-02, -6.88967353e-04],\n",
              "         [-4.08172049e-03, -5.96911367e-03,  1.97242433e-03, ...,\n",
              "          -1.29313380e-01, -8.87249336e-02, -6.10692576e-02],\n",
              "         [-3.85973393e-03, -2.26740097e-03,  1.24067615e-03, ...,\n",
              "           1.95837513e-01,  9.27519053e-02,  9.74530447e-03],\n",
              "         ...,\n",
              "         [ 9.36390907e-02,  1.10423870e-01,  1.20468028e-01, ...,\n",
              "          -1.69479772e-02,  3.91436089e-03,  4.67408303e-04],\n",
              "         [-1.91565100e-02,  2.62175072e-02,  7.62110502e-02, ...,\n",
              "          -2.37802509e-03, -2.30537332e-03,  2.74285721e-03],\n",
              "         [ 8.10200796e-02,  2.98616976e-01,  3.90817165e-01, ...,\n",
              "          -1.52180772e-02,  1.02857137e-02,  0.00000000e+00]],\n",
              "\n",
              "        [[ 7.97625072e-03,  2.22156267e-03, -4.33599576e-03, ...,\n",
              "           2.23550647e-02,  1.04328049e-02, -2.88020680e-03],\n",
              "         [ 9.68451845e-04,  1.07840188e-02,  1.08598999e-03, ...,\n",
              "           2.25842983e-01,  1.84433907e-01,  5.76464683e-02],\n",
              "         [-1.02355396e-02,  5.18601271e-04,  8.95146560e-03, ...,\n",
              "           5.77378049e-02, -3.07323840e-02, -5.54569252e-02],\n",
              "         ...,\n",
              "         [-1.24883689e-01, -2.57496595e-01, -1.59538448e-01, ...,\n",
              "          -3.29606235e-03,  4.18920489e-03, -5.27341501e-04],\n",
              "         [-1.45021200e-01, -3.10874164e-01, -3.07315409e-01, ...,\n",
              "           2.46789325e-02, -2.22048257e-03,  9.00502549e-04],\n",
              "         [ 2.32288186e-02, -8.21703002e-02, -8.95142555e-02, ...,\n",
              "          -9.11070150e-04,  3.37688439e-03,  0.00000000e+00]]]],\n",
              "      dtype=float32)"
            ]
          },
          "metadata": {},
          "execution_count": 47
        }
      ]
    },
    {
      "cell_type": "code",
      "source": [
        "# 畳み込み層１に活性化関数適用\n",
        "result_c1_f"
      ],
      "metadata": {
        "colab": {
          "base_uri": "https://localhost:8080/"
        },
        "id": "zyqY-rMz6iR5",
        "outputId": "4eb8b94e-389a-4436-8a87-12147c54243b"
      },
      "execution_count": null,
      "outputs": [
        {
          "output_type": "execute_result",
          "data": {
            "text/plain": [
              "array([[[[-1.01498235e-02, -4.14852658e-03, -8.08977894e-03, ...,\n",
              "           1.60467383e-02, -1.07657593e-02, -1.54226488e-02],\n",
              "         [-1.27387093e-02,  8.90306849e-03,  8.00629030e-04, ...,\n",
              "          -1.40257969e-01, -2.34252915e-01, -1.19798593e-01],\n",
              "         [-6.88989740e-03,  1.35648465e-02,  4.92638443e-03, ...,\n",
              "          -4.80200440e-01, -2.98447460e-01, -1.09941088e-01],\n",
              "         ...,\n",
              "         [-6.96964562e-02, -6.31228983e-02,  7.15395212e-02, ...,\n",
              "           2.10049227e-02,  8.13138485e-03, -1.11296901e-03],\n",
              "         [-2.25758757e-02,  9.46783051e-02,  3.05069983e-01, ...,\n",
              "           7.74622802e-03, -2.80418480e-03,  5.61132468e-03],\n",
              "         [-6.44811094e-02, -2.29951084e-01, -4.30457383e-01, ...,\n",
              "           5.13536483e-03,  2.10395828e-02,  0.00000000e+00]],\n",
              "\n",
              "        [[-2.02493854e-02, -1.63182262e-02, -1.15555581e-02, ...,\n",
              "          -6.10429375e-03,  9.65803489e-03, -1.74324941e-02],\n",
              "         [-1.90408807e-02, -5.52821439e-03, -4.91264043e-03, ...,\n",
              "          -2.93295056e-01, -2.02251121e-01, -9.46813747e-02],\n",
              "         [-2.35366132e-02, -2.85037141e-03, -7.37488549e-03, ...,\n",
              "          -4.59219694e-01, -3.64916354e-01, -1.92815617e-01],\n",
              "         ...,\n",
              "         [-1.24284573e-01, -2.85583973e-01, -4.04877573e-01, ...,\n",
              "          -6.28370699e-03, -3.17561328e-02,  2.33742711e-03],\n",
              "         [-5.47065511e-02, -9.02195275e-02, -2.32249945e-01, ...,\n",
              "           1.93870999e-02,  1.07265105e-02, -2.23683799e-03],\n",
              "         [-1.29499912e-01, -3.21309298e-01, -4.85017180e-01, ...,\n",
              "           7.35569047e-03, -8.38795863e-03,  0.00000000e+00]],\n",
              "\n",
              "        [[ 1.08409226e-02,  2.04519425e-02,  1.49559192e-02, ...,\n",
              "          -1.33625884e-03,  5.44361630e-03, -1.18099144e-02],\n",
              "         [ 9.54358093e-03,  9.86038055e-03, -2.91562290e-03, ...,\n",
              "          -3.91780511e-02, -9.65493992e-02, -8.11476335e-02],\n",
              "         [ 6.86591770e-03,  5.46156429e-03,  2.24080705e-03, ...,\n",
              "          -1.26582459e-01, -4.17858586e-02, -3.71293351e-02],\n",
              "         ...,\n",
              "         [ 1.61295086e-01,  3.61224532e-01,  4.33006525e-01, ...,\n",
              "           2.07259487e-02,  2.84861457e-02, -3.50838015e-03],\n",
              "         [-1.00498885e-01, -2.10657433e-01, -2.30868012e-01, ...,\n",
              "           1.81935616e-02, -1.04806507e-02,  3.17860418e-03],\n",
              "         [-1.15590282e-01, -1.70449272e-01, -1.87259406e-01, ...,\n",
              "           1.00325784e-02,  1.19192405e-02,  0.00000000e+00]],\n",
              "\n",
              "        [[ 8.36238917e-03,  1.13204424e-03, -5.27184457e-03, ...,\n",
              "          -3.66943539e-03, -6.82541681e-03, -1.18820192e-02],\n",
              "         [-2.55160173e-03, -7.10556982e-03, -9.44619905e-03, ...,\n",
              "           2.06121840e-02,  4.35324609e-02, -1.75742386e-03],\n",
              "         [-1.01067442e-02, -1.28697772e-02, -1.92027853e-03, ...,\n",
              "          -2.66045898e-01, -1.46227986e-01, -6.36916608e-02],\n",
              "         ...,\n",
              "         [-1.03464574e-01, -3.23238015e-01, -6.24687135e-01, ...,\n",
              "           6.95032068e-03,  2.35001184e-02, -4.30011190e-03],\n",
              "         [-1.33986503e-01, -4.88359302e-01, -6.98282123e-01, ...,\n",
              "           6.77016564e-03, -1.41068147e-02,  2.12146016e-03],\n",
              "         [ 6.62912875e-02,  8.52392912e-02, -3.25736664e-02, ...,\n",
              "           7.56648229e-03,  7.95531925e-03,  0.00000000e+00]],\n",
              "\n",
              "        [[-2.94134789e-03, -5.15573518e-03,  3.11764609e-03, ...,\n",
              "           8.48133874e-04,  1.02587240e-02, -6.88967237e-04],\n",
              "         [-4.08169767e-03, -5.96904289e-03,  1.97242177e-03, ...,\n",
              "          -1.28597379e-01, -8.84928480e-02, -6.09934516e-02],\n",
              "         [-3.85971484e-03, -2.26739701e-03,  1.24067545e-03, ...,\n",
              "           1.93371728e-01,  9.24868360e-02,  9.74499620e-03],\n",
              "         ...,\n",
              "         [ 9.33663622e-02,  1.09977230e-01,  1.19888626e-01, ...,\n",
              "          -1.69463549e-02,  3.91434086e-03,  4.67408274e-04],\n",
              "         [-1.91541668e-02,  2.62115020e-02,  7.60638490e-02, ...,\n",
              "          -2.37802067e-03, -2.30536913e-03,  2.74285045e-03],\n",
              "         [ 8.08432624e-02,  2.90046453e-01,  3.72064501e-01, ...,\n",
              "          -1.52169028e-02,  1.02853505e-02,  0.00000000e+00]],\n",
              "\n",
              "        [[ 7.97608122e-03,  2.22155894e-03, -4.33596876e-03, ...,\n",
              "           2.23513413e-02,  1.04324259e-02, -2.88019888e-03],\n",
              "         [ 9.68451553e-04,  1.07836006e-02,  1.08598953e-03, ...,\n",
              "           2.22080022e-01,  1.82370752e-01,  5.75826988e-02],\n",
              "         [-1.02351820e-02,  5.18601213e-04,  8.95122625e-03, ...,\n",
              "           5.76737337e-02, -3.07227112e-02, -5.54001443e-02],\n",
              "         ...,\n",
              "         [-1.24238484e-01, -2.51952529e-01, -1.58198535e-01, ...,\n",
              "          -3.29605048e-03,  4.18918021e-03, -5.27341443e-04],\n",
              "         [-1.44013017e-01, -3.01232159e-01, -2.97992855e-01, ...,\n",
              "           2.46739239e-02, -2.22047884e-03,  9.00502258e-04],\n",
              "         [ 2.32246406e-02, -8.19858611e-02, -8.92759338e-02, ...,\n",
              "          -9.11069859e-04,  3.37687158e-03,  0.00000000e+00]]]],\n",
              "      dtype=float32)"
            ]
          },
          "metadata": {},
          "execution_count": 48
        }
      ]
    },
    {
      "cell_type": "code",
      "source": [
        "# 畳み込み層１にプーリング実施\n",
        "result_c1_p"
      ],
      "metadata": {
        "colab": {
          "base_uri": "https://localhost:8080/"
        },
        "id": "AFjUq-V_6vOb",
        "outputId": "d63098b0-0b1c-4bfa-a81d-9dfdadbf53ba"
      },
      "execution_count": null,
      "outputs": [
        {
          "output_type": "execute_result",
          "data": {
            "text/plain": [
              "array([[[[ 8.90306849e-03,  8.00629030e-04,  8.02978128e-03,\n",
              "           1.26732364e-02, -3.40483524e-03,  1.09898252e-02,\n",
              "           4.58953390e-03,  1.66630611e-01,  2.68690065e-02,\n",
              "           1.60343513e-01,  1.42973512e-01, -1.07657593e-02],\n",
              "         [ 1.35648465e-02,  4.92638443e-03, -2.94060092e-02,\n",
              "           1.84901301e-02, -4.71868739e-02, -7.93704018e-02,\n",
              "          -1.90517813e-01, -1.09260112e-01, -3.75890046e-01,\n",
              "           1.96970761e-01, -5.33460714e-02, -1.09941088e-01],\n",
              "         [ 1.16709983e-02,  2.07646587e-03,  1.60419866e-01,\n",
              "           2.13815510e-01, -2.07141444e-01, -9.81800184e-02,\n",
              "          -2.76725471e-01,  2.11043879e-02, -2.66044199e-01,\n",
              "           1.42309606e-01,  3.07787895e-01,  2.83852130e-01],\n",
              "         [-2.73271056e-04,  1.03369362e-04,  4.78229932e-02,\n",
              "           1.13117322e-01,  1.31199300e-01,  2.43781745e-01,\n",
              "          -2.20179468e-01,  2.50443518e-01,  2.51519799e-01,\n",
              "           9.98299345e-02,  3.53419065e-01,  2.62535423e-01],\n",
              "         [-2.15728045e-03, -4.15746216e-03, -3.59461643e-02,\n",
              "          -2.07026958e-01, -8.74221772e-02,  3.51274252e-01,\n",
              "           1.07370131e-01,  2.78581768e-01,  4.23478067e-01,\n",
              "          -9.21217725e-04,  2.03906149e-02,  1.01261958e-02],\n",
              "         [ 2.80490727e-03,  0.00000000e+00, -4.41837963e-03,\n",
              "          -1.22765489e-02, -3.21933419e-01,  3.86959463e-01,\n",
              "           3.21378380e-01, -2.27410600e-01, -4.81358692e-02,\n",
              "          -7.63039244e-03,  7.76409311e-03,  1.76805649e-02],\n",
              "         [ 3.04075982e-03, -2.04570265e-03,  3.03966831e-03,\n",
              "           3.80053045e-03, -4.64502089e-02,  5.53823151e-02,\n",
              "           4.72721428e-01,  4.00111288e-01,  2.95112003e-02,\n",
              "          -1.77724630e-01,  1.33128641e-02,  3.99687421e-03],\n",
              "         [ 1.32297655e-03,  1.27988942e-02,  1.16473604e-02,\n",
              "          -8.58328678e-03,  1.00448309e-03, -1.77199975e-01,\n",
              "          -3.61006886e-01,  4.49246347e-01,  5.83941162e-01,\n",
              "          -3.54455709e-01,  2.69760117e-02,  3.28799267e-03],\n",
              "         [ 7.41978502e-03,  2.24018600e-02,  2.99215177e-03,\n",
              "          -1.49259483e-02, -6.88553974e-02, -5.63631319e-02,\n",
              "          -3.88960429e-02, -4.73130763e-01,  8.58451799e-02,\n",
              "           1.68916523e-01,  1.19160168e-01, -3.11682874e-04],\n",
              "         [ 3.14896256e-02, -1.48280105e-02, -4.77736890e-02,\n",
              "          -3.72372642e-02, -1.06122971e-01, -5.19858710e-02,\n",
              "          -4.09692556e-01, -2.79763043e-01,  3.39176893e-01,\n",
              "           3.64715815e-01,  4.58797486e-03,  2.39770524e-02],\n",
              "         [-6.31228983e-02,  7.15395212e-02, -1.21661872e-02,\n",
              "          -1.25510618e-01, -3.57623428e-01, -2.70949602e-01,\n",
              "           2.47056812e-01,  3.51433247e-01,  3.99829298e-01,\n",
              "           6.94209114e-02,  2.10049227e-02,  8.13138485e-03],\n",
              "         [ 9.46783051e-02,  3.13655525e-01,  3.04599889e-02,\n",
              "          -8.10745060e-02,  2.04740167e-01,  3.45840454e-01,\n",
              "           3.42955261e-01,  1.18097484e-01,  1.04250172e-02,\n",
              "           1.77814122e-02,  7.74622802e-03,  2.10395828e-02]],\n",
              "\n",
              "        [[-5.52821439e-03, -4.91264043e-03, -2.42219283e-03,\n",
              "          -1.23548908e-02, -1.11511322e-02, -8.47543124e-03,\n",
              "          -5.12837106e-03, -7.08242273e-03, -2.40395740e-02,\n",
              "          -6.09530546e-02, -6.10429375e-03,  9.65803489e-03],\n",
              "         [-2.85037141e-03, -7.37488549e-03, -4.97147180e-02,\n",
              "          -1.28484920e-01, -3.22294772e-01, -5.56577086e-01,\n",
              "          -6.77465320e-01, -7.36590981e-01, -7.17788219e-01,\n",
              "          -6.38358891e-01, -4.59219694e-01, -1.92815617e-01],\n",
              "         [-8.25479045e-04, -1.16420249e-02, -1.67603508e-01,\n",
              "          -7.41023421e-01, -9.11660612e-01, -9.41342890e-01,\n",
              "          -9.32523370e-01, -7.52306402e-01, -7.40378976e-01,\n",
              "          -2.41443992e-01,  1.91084370e-01,  2.88207941e-02],\n",
              "         [-2.41051568e-03, -5.52426651e-03, -2.22505614e-01,\n",
              "          -5.18700480e-01, -7.69568980e-01, -8.28573227e-01,\n",
              "          -6.85938835e-01, -3.92606854e-02,  2.31285185e-01,\n",
              "          -4.92679998e-02,  1.39644183e-02, -1.85309686e-02],\n",
              "         [-3.45989829e-03, -3.67978308e-03, -2.90099382e-02,\n",
              "          -1.45553589e-01, -3.99110645e-01, -6.26404107e-01,\n",
              "          -6.61816299e-01, -1.42459780e-01,  1.65843025e-01,\n",
              "          -2.11712811e-02, -1.97175867e-03,  1.88287953e-03],\n",
              "         [ 1.50621508e-03,  0.00000000e+00, -5.74614899e-03,\n",
              "          -2.90719084e-02, -2.54168570e-01, -4.73762572e-01,\n",
              "          -6.69268250e-01, -4.34886813e-01, -1.33427426e-01,\n",
              "          -6.74631540e-03,  9.29866359e-03,  4.49505076e-03],\n",
              "         [-1.41258002e-03, -2.89622298e-03, -1.66049518e-03,\n",
              "          -1.90789066e-02, -4.25103903e-02, -3.30287963e-01,\n",
              "          -3.99638325e-01, -7.89098382e-01, -6.38247728e-01,\n",
              "          -1.09800674e-01, -5.53662889e-03,  5.59177110e-03],\n",
              "         [-2.61692237e-03, -2.99321078e-02, -1.03313327e-02,\n",
              "          -2.21039765e-02, -2.26250272e-02, -1.47311643e-01,\n",
              "          -6.41257644e-01, -8.22343647e-01, -7.66651809e-01,\n",
              "          -6.13306642e-01, -7.38741318e-03,  2.09807549e-04],\n",
              "         [ 1.07867509e-05, -1.60854422e-02, -3.16478498e-02,\n",
              "          -2.92552635e-02, -2.78498501e-01, -7.18805790e-01,\n",
              "          -8.40949357e-01, -9.01538253e-01, -6.80208385e-01,\n",
              "          -2.61982262e-01, -3.95703688e-03,  5.61148487e-03],\n",
              "         [-3.20309028e-02, -3.24472860e-02, -3.56619805e-01,\n",
              "          -6.69095874e-01, -8.48052621e-01, -9.13648367e-01,\n",
              "          -8.14260125e-01, -3.86210263e-01,  1.48143500e-01,\n",
              "           2.11626306e-01, -1.66576244e-02,  8.67165346e-03],\n",
              "         [-8.61795917e-02, -4.04877573e-01, -7.68206537e-01,\n",
              "          -8.82462382e-01, -7.84062445e-01, -4.70231116e-01,\n",
              "           8.53218585e-02,  1.02072597e-01, -5.71195688e-03,\n",
              "          -3.78049235e-03,  2.28621736e-02,  2.33742711e-03],\n",
              "         [-5.47065511e-02, -2.32249945e-01, -1.50347680e-01,\n",
              "          -2.61555314e-02,  9.12289843e-02,  1.67905271e-01,\n",
              "           1.76245272e-02, -2.87971180e-03,  1.86865660e-03,\n",
              "           1.21686165e-03,  1.93870999e-02,  1.07265105e-02]],\n",
              "\n",
              "        [[ 2.04519425e-02,  1.74214095e-02,  1.30168386e-02,\n",
              "           1.62875094e-02,  3.23473923e-02,  4.97897193e-02,\n",
              "           2.14564845e-01,  2.80511171e-01,  2.83623785e-01,\n",
              "           4.46001768e-01,  2.09672153e-01,  5.44361630e-03],\n",
              "         [ 6.86591770e-03,  6.22790232e-02,  4.70936358e-01,\n",
              "           6.37297332e-01,  6.18232012e-01,  6.42360985e-01,\n",
              "           6.71499848e-01,  6.05923533e-01,  7.16161728e-01,\n",
              "           6.36687577e-01,  4.12760735e-01,  3.30181032e-01],\n",
              "         [ 9.81464144e-03,  7.18223155e-02,  6.82801127e-01,\n",
              "           7.33158946e-01,  7.60882139e-01,  7.76682854e-01,\n",
              "           7.62259960e-01,  5.07111847e-01,  3.48345369e-01,\n",
              "           3.74650806e-01,  3.64448398e-01,  2.03199551e-01],\n",
              "         [ 3.59672518e-03,  4.79469933e-02,  1.11640051e-01,\n",
              "           5.21097064e-01,  8.73362482e-01,  7.70176113e-01,\n",
              "           7.47502685e-01,  7.90253699e-01,  8.21533263e-01,\n",
              "           6.18149102e-01,  4.67817724e-01,  1.53992027e-01],\n",
              "         [ 2.05120863e-03,  3.67485941e-03,  2.36891940e-01,\n",
              "           4.05798346e-01,  8.42152417e-01,  8.22149932e-01,\n",
              "           8.35839927e-01,  5.30552149e-01,  4.17024821e-01,\n",
              "           5.92513196e-02,  2.13416032e-02,  2.06406992e-02],\n",
              "         [ 2.04446586e-03,  5.79026481e-03,  5.89498915e-02,\n",
              "           1.66206360e-01,  3.97687465e-01,  7.54446089e-01,\n",
              "           8.70711207e-01,  5.99535167e-01,  8.37630033e-02,\n",
              "           5.95791591e-03,  2.96326242e-02,  2.15022415e-02],\n",
              "         [ 1.03064561e-02,  1.06747178e-02,  1.34037519e-02,\n",
              "           2.53796075e-02,  2.71288395e-01,  2.03900710e-01,\n",
              "           7.51898766e-01,  8.24815750e-01,  6.56215608e-01,\n",
              "           1.42937943e-01,  4.56120865e-03,  1.69564132e-02],\n",
              "         [ 2.37857662e-02,  3.29584293e-02,  3.01927906e-02,\n",
              "           3.53462324e-02,  1.28983349e-01,  7.18951583e-01,\n",
              "           8.19841146e-01,  8.45120847e-01,  6.95412755e-01,\n",
              "           4.26490426e-01,  9.17629749e-02,  2.72158291e-02],\n",
              "         [ 2.47823372e-02,  4.20738421e-02,  6.66771680e-02,\n",
              "           5.03408730e-01,  6.96943343e-01,  6.83906913e-01,\n",
              "           7.10497499e-01,  7.74439573e-01,  6.83374166e-01,\n",
              "           6.34780586e-01,  8.48481655e-02,  2.51225904e-02],\n",
              "         [ 1.46219343e-01,  5.75247645e-01,  7.17348814e-01,\n",
              "           6.78254366e-01,  6.12898052e-01,  4.19482470e-01,\n",
              "           5.75100064e-01,  7.30399847e-01,  5.74689269e-01,\n",
              "           3.36862266e-01,  4.62781340e-02,  2.55065151e-02],\n",
              "         [ 5.31343937e-01,  6.50431275e-01,  7.10971832e-01,\n",
              "           5.18672705e-01,  6.34744942e-01,  7.46823132e-01,\n",
              "           7.24466980e-01,  6.21660948e-01,  3.49033713e-01,\n",
              "           8.91898870e-02,  2.07259487e-02,  2.84861457e-02],\n",
              "         [-1.00498885e-01, -7.72083253e-02,  3.71004492e-01,\n",
              "           6.36846960e-01,  6.65471435e-01,  6.09832227e-01,\n",
              "           3.23358268e-01,  1.01916738e-01,  3.04852184e-02,\n",
              "           2.28474196e-02,  1.81935616e-02,  1.19192405e-02]],\n",
              "\n",
              "        [[ 8.36238917e-03, -3.21202795e-03, -5.29145962e-03,\n",
              "           5.65943588e-03,  2.79010031e-02,  2.21544728e-02,\n",
              "           2.33911470e-01,  1.80893496e-01,  4.18695629e-01,\n",
              "           2.57749081e-01,  2.62108911e-02,  4.35324609e-02],\n",
              "         [-5.26303984e-03,  5.74899726e-02,  3.51093918e-01,\n",
              "           2.14488313e-01,  2.74708867e-01,  2.87553757e-01,\n",
              "           2.29703635e-01,  9.20130163e-02,  4.66382466e-02,\n",
              "          -7.07143992e-02, -6.74056932e-02,  1.23040147e-01],\n",
              "         [-1.35383336e-03,  1.74097822e-03,  1.96133882e-01,\n",
              "          -2.26486638e-01, -5.29417276e-01, -7.50357211e-01,\n",
              "          -7.11960077e-01, -7.55435169e-01, -1.37092650e-01,\n",
              "          -1.95384562e-01,  1.20464399e-01,  5.26706614e-02],\n",
              "         [ 1.77105435e-03,  1.25710508e-02,  1.54145345e-01,\n",
              "          -1.86560929e-01, -3.32299024e-01, -6.26651347e-02,\n",
              "           2.18400508e-01,  1.47437885e-01,  3.09718281e-01,\n",
              "           9.65965912e-02,  1.77465349e-01,  7.63225034e-02],\n",
              "         [ 2.74916389e-03,  1.74693088e-03,  2.27002546e-01,\n",
              "           1.49003088e-01, -1.46440059e-01,  1.72178610e-03,\n",
              "           2.21448690e-01,  2.97512561e-01,  2.19952524e-01,\n",
              "           2.13392712e-02, -4.59350785e-03,  1.66444108e-02],\n",
              "         [ 9.32451687e-04,  2.48570065e-03,  4.66275960e-03,\n",
              "           1.52845383e-01,  8.31587166e-02, -1.92941353e-02,\n",
              "           1.46593675e-02, -1.28243193e-01,  1.75827313e-02,\n",
              "           6.45582797e-03,  5.80309599e-04,  9.49247368e-03],\n",
              "         [ 8.78571358e-04,  1.28184464e-02,  1.06795160e-02,\n",
              "           2.36097910e-02,  1.94057629e-01, -7.70625398e-02,\n",
              "          -4.09931481e-01, -2.87972897e-01, -1.14763290e-01,\n",
              "           3.90070528e-02, -3.79860634e-04,  6.50128396e-03],\n",
              "         [ 2.18818393e-02,  7.51547143e-03,  1.26670832e-02,\n",
              "           5.29341446e-03,  2.01424941e-01,  3.53479058e-01,\n",
              "           2.89997756e-01, -3.74003053e-01, -3.97275925e-01,\n",
              "          -4.15940620e-02,  1.56250652e-02,  1.35439495e-02],\n",
              "         [ 2.34017503e-02,  2.60735955e-02,  9.43706408e-02,\n",
              "           2.81542867e-01,  3.03924739e-01,  1.40126482e-01,\n",
              "          -3.41596156e-01, -8.09121072e-01,  1.00823984e-01,\n",
              "           2.46538430e-01, -1.47256337e-03,  2.33782474e-02],\n",
              "         [ 2.76645571e-01,  2.44506389e-01,  3.25296521e-01,\n",
              "           1.82744741e-01, -3.02974015e-01, -7.63675272e-01,\n",
              "          -2.16789842e-01,  2.18928948e-01,  3.41478974e-01,\n",
              "           1.43889815e-01,  1.08863898e-02,  2.17404589e-02],\n",
              "         [ 2.64640093e-01,  1.60880476e-01, -5.42303860e-01,\n",
              "          -7.57036030e-01, -3.91176552e-01,  2.39966080e-01,\n",
              "           2.19372123e-01,  1.21781431e-01,  1.43548533e-01,\n",
              "           3.20682228e-02,  6.95032068e-03,  2.35001184e-02],\n",
              "         [ 8.52392912e-02,  6.23588562e-02,  5.82435317e-02,\n",
              "           4.80951667e-02,  1.32805213e-01,  1.69915855e-01,\n",
              "           1.18860878e-01,  7.08648562e-02,  8.18747934e-03,\n",
              "           2.04052068e-02,  9.05416906e-03,  7.95531925e-03]],\n",
              "\n",
              "        [[-2.94134789e-03,  3.25686624e-03,  4.96239588e-03,\n",
              "           2.21977406e-03,  2.13344721e-03, -1.32447458e-04,\n",
              "           1.03124895e-03, -3.80857353e-04,  1.01089373e-03,\n",
              "           2.17897240e-02,  8.48133874e-04,  1.02587240e-02],\n",
              "         [ 1.93373708e-03,  4.47344128e-03,  7.41394330e-03,\n",
              "          -6.43557236e-02, -1.89359203e-01, -1.52461365e-01,\n",
              "          -8.70048255e-02,  1.00204930e-01,  8.69679675e-02,\n",
              "           1.29545704e-01,  1.93371728e-01,  9.24868360e-02],\n",
              "         [ 9.80098639e-03,  1.32613461e-02,  2.43624941e-01,\n",
              "           9.06542689e-02, -5.63582964e-02,  4.22509760e-02,\n",
              "           2.74496257e-01, -2.48192698e-02,  1.67809725e-01,\n",
              "           3.11011434e-01, -2.08482176e-01,  8.49996954e-02],\n",
              "         [ 3.86142125e-03,  4.90023680e-02,  4.41356093e-01,\n",
              "           3.56709927e-01,  1.38652936e-01,  2.94732004e-01,\n",
              "           1.79033861e-01,  8.15070421e-02,  2.22991183e-01,\n",
              "           2.01606452e-01, -6.91190967e-03,  7.73011371e-02],\n",
              "         [ 2.15667859e-03,  1.18790800e-02,  3.74124408e-01,\n",
              "           3.83112222e-01,  4.81516898e-01, -4.33503315e-02,\n",
              "           2.68735588e-01,  1.09694742e-01,  1.82257250e-01,\n",
              "           1.64302848e-02,  4.51737037e-03,  7.32250791e-03],\n",
              "         [ 8.02566181e-04,  4.93813632e-03,  2.67956909e-02,\n",
              "           1.83878183e-01,  4.59967464e-01,  2.08316147e-01,\n",
              "          -1.80217832e-01,  4.80764173e-03, -3.75533141e-02,\n",
              "           1.35909934e-02, -1.00288575e-03,  8.32425430e-03],\n",
              "         [-1.63798418e-03,  8.22972506e-03,  8.97942577e-03,\n",
              "           1.10426433e-02,  3.53009880e-01,  3.66736799e-01,\n",
              "           1.04069225e-01, -3.28340679e-01, -1.37911653e-02,\n",
              "           5.92969805e-02,  2.20388663e-03,  6.18491042e-03],\n",
              "         [ 1.31451627e-02, -1.12363067e-03,  1.82178821e-02,\n",
              "           1.86071768e-02,  5.16003072e-02,  3.62439156e-01,\n",
              "           1.92085117e-01,  2.19341554e-02, -6.04492761e-02,\n",
              "           1.07209876e-01,  1.35926623e-02,  5.66057209e-03],\n",
              "         [ 1.76524669e-02,  1.36701763e-02,  5.46308188e-03,\n",
              "           7.69365346e-03, -9.01171342e-02, -9.35239270e-02,\n",
              "           2.84436077e-01,  3.99432302e-01, -1.00713558e-01,\n",
              "           1.16929896e-01,  5.00916392e-02,  8.38590879e-03],\n",
              "         [ 1.25538651e-02,  2.29814779e-02, -2.17738360e-01,\n",
              "          -1.10147372e-01,  1.34811610e-01,  2.79359430e-01,\n",
              "           2.54106373e-01,  2.60156602e-01, -1.06886849e-01,\n",
              "           1.66253522e-01,  5.55910822e-03,  1.38679743e-02],\n",
              "         [ 1.09977230e-01,  2.38018706e-01,  3.60577613e-01,\n",
              "           3.44174445e-01,  3.37388813e-01,  2.61580884e-01,\n",
              "           4.24174853e-02,  6.47227988e-02,  7.88974985e-02,\n",
              "           5.81871979e-02, -9.24494525e-05,  7.11572217e-03],\n",
              "         [ 2.90046453e-01,  3.72064501e-01,  1.75079018e-01,\n",
              "           1.77735448e-01,  6.58228770e-02,  2.45812535e-02,\n",
              "           6.37820885e-02,  6.53499663e-02,  7.33389845e-03,\n",
              "           1.36617823e-02, -9.38128389e-04,  1.02853505e-02]],\n",
              "\n",
              "        [[ 1.07836006e-02,  1.08598953e-03, -2.47330940e-03,\n",
              "           1.76315941e-02,  1.53345698e-02,  2.48454902e-02,\n",
              "           1.54085979e-01,  1.81908250e-01,  3.49874794e-01,\n",
              "           3.52401197e-01,  2.22080022e-01,  1.82370752e-01],\n",
              "         [ 5.18601213e-04,  1.98449865e-02,  2.41309017e-01,\n",
              "           3.27363253e-01,  4.33392167e-01,  4.45856899e-01,\n",
              "           4.24040735e-01,  5.03514349e-01,  3.24194372e-01,\n",
              "           4.55605865e-01,  2.79279798e-01, -3.07227112e-02],\n",
              "         [ 2.46347534e-03, -2.73494422e-03,  2.52802402e-01,\n",
              "           2.31025398e-01,  1.62631482e-01,  1.21290945e-01,\n",
              "           8.43802840e-02,  3.00041258e-01,  1.35740221e-01,\n",
              "           2.72488445e-01,  4.16407168e-01,  1.04618065e-01],\n",
              "         [ 1.12115266e-03,  4.15035803e-03, -1.63758785e-01,\n",
              "           1.17636852e-01,  4.05679554e-01,  4.82022017e-01,\n",
              "           1.57548532e-01,  5.27491271e-01,  2.55377322e-01,\n",
              "           5.68276867e-02,  1.51626244e-01,  3.15860510e-02],\n",
              "         [-8.20004905e-04, -2.86214612e-03, -5.00888452e-02,\n",
              "          -1.28021896e-01,  3.51127118e-01,  6.63156152e-01,\n",
              "           1.01477340e-01,  2.45430872e-01,  2.35981315e-01,\n",
              "           3.25212218e-02,  2.31877435e-02,  9.36770905e-03],\n",
              "         [ 1.75514829e-03,  0.00000000e+00,  1.31232652e-03,\n",
              "           3.88300302e-03, -1.98531553e-01,  7.59283245e-01,\n",
              "           5.48945427e-01,  1.59070536e-01,  1.35726318e-01,\n",
              "           7.83196166e-02,  2.35304665e-02,  9.33664944e-03],\n",
              "         [ 6.24137325e-03,  8.29214603e-03,  1.04341256e-02,\n",
              "           1.56652052e-02, -1.69771351e-02, -2.06122279e-01,\n",
              "           4.74265814e-01,  6.39499307e-01,  4.22308803e-01,\n",
              "           1.04767233e-01,  4.67580669e-02,  8.22020229e-03],\n",
              "         [ 1.47357788e-02,  1.38546312e-02,  1.74277183e-02,\n",
              "           8.49470589e-03,  6.99473917e-02,  1.25874400e-01,\n",
              "           1.23634502e-01,  6.72472537e-01,  7.52063394e-01,\n",
              "           1.78261980e-01,  1.29514905e-02,  1.47702433e-02],\n",
              "         [ 1.62576437e-02,  1.06412806e-02,  4.99383546e-02,\n",
              "           1.73547059e-01,  2.28313446e-01,  2.77981430e-01,\n",
              "           2.25313723e-01, -9.77822021e-02,  5.55456638e-01,\n",
              "           1.63539007e-01,  4.00842875e-02,  1.77120566e-02],\n",
              "         [ 1.31977618e-01,  1.74769402e-01,  3.85071874e-01,\n",
              "           2.86066443e-01,  2.54806727e-01,  9.60425287e-02,\n",
              "           6.36836514e-02,  2.34123990e-01,  4.21953529e-01,\n",
              "           2.54490882e-01,  1.18479300e-02,  1.86784770e-02],\n",
              "         [ 1.31573021e-01,  2.62050807e-01,  1.18194297e-01,\n",
              "           7.44771734e-02,  7.99626485e-02,  1.72857791e-01,\n",
              "           1.95504874e-01,  1.80815592e-01,  7.91360438e-02,\n",
              "           4.86967945e-03,  2.61448994e-02,  4.18918021e-03],\n",
              "         [ 2.32246406e-02,  1.16940849e-01,  2.94301957e-01,\n",
              "           2.46087015e-01,  2.26736933e-01,  2.75620639e-01,\n",
              "           6.83508590e-02,  2.22777925e-03,  6.47840183e-03,\n",
              "           2.15071682e-02,  2.46739239e-02,  3.37687158e-03]]]],\n",
              "      dtype=float32)"
            ]
          },
          "metadata": {},
          "execution_count": 49
        }
      ]
    },
    {
      "cell_type": "markdown",
      "source": [
        "##  畳み込み層２\n"
      ],
      "metadata": {
        "id": "UNRx3191HOK1"
      }
    },
    {
      "cell_type": "code",
      "source": [
        "# 畳み込み層２のフィルターの値を取得\n",
        "conv2_param = lenet_c1_b.conv2.W.data\n",
        "print(conv2_param)"
      ],
      "metadata": {
        "colab": {
          "base_uri": "https://localhost:8080/"
        },
        "id": "5asQ_vjXoXqX",
        "outputId": "7ec58a1a-dcf5-4bd3-b72f-69f3cbb2682d"
      },
      "execution_count": null,
      "outputs": [
        {
          "output_type": "stream",
          "name": "stdout",
          "text": [
            "[[[[-7.04071894e-02  8.75026286e-02 -9.96862277e-02  4.86757979e-03\n",
            "     1.99564995e-04]\n",
            "   [ 3.46713625e-02 -5.92313968e-02 -2.85311555e-03 -1.14815775e-02\n",
            "     8.14119279e-02]\n",
            "   [-6.49861619e-02  5.93964756e-03 -2.13301964e-02 -1.05985068e-01\n",
            "     2.18503669e-01]\n",
            "   [-5.81500912e-03 -1.21385120e-01  1.15013912e-01 -8.74129385e-02\n",
            "     3.02814059e-02]\n",
            "   [ 7.04499483e-02 -5.29442541e-02 -3.51820253e-02 -4.41128835e-02\n",
            "    -1.05622821e-02]]\n",
            "\n",
            "  [[-1.32473394e-01 -1.00889310e-01 -1.14951646e-02  8.48300830e-02\n",
            "     5.15816957e-02]\n",
            "   [ 1.41206339e-01  5.66691309e-02 -4.17335071e-02 -1.00301225e-02\n",
            "    -1.65780947e-01]\n",
            "   [-7.84469619e-02 -8.33119899e-02  2.20938604e-02  5.28950803e-02\n",
            "    -4.57542986e-02]\n",
            "   [-4.80509549e-02 -1.26275748e-01 -1.04317283e-02  2.02628337e-02\n",
            "     3.63978632e-02]\n",
            "   [-6.39079288e-02  1.62359506e-01  9.75761041e-02 -7.77611742e-03\n",
            "    -4.30447012e-02]]\n",
            "\n",
            "  [[-2.62572803e-02  1.23397429e-02 -1.52094662e-03  3.94799598e-02\n",
            "     6.27857447e-02]\n",
            "   [ 1.11553259e-01  9.36737806e-02 -9.00017284e-03  3.17005143e-02\n",
            "    -3.16088013e-02]\n",
            "   [-4.79463376e-02  1.56018361e-01 -3.75462808e-02  1.62543058e-01\n",
            "    -2.84986198e-02]\n",
            "   [ 2.06430815e-02  8.89499187e-02  1.95322488e-03  3.20985466e-02\n",
            "    -1.97089855e-02]\n",
            "   [-3.88264433e-02 -1.35356374e-02 -5.30492067e-02  1.33201867e-01\n",
            "    -1.36925336e-02]]\n",
            "\n",
            "  [[ 1.40655354e-01 -2.19238207e-01  1.50405162e-03  4.58831601e-02\n",
            "    -2.39904039e-02]\n",
            "   [ 8.93780515e-02  5.22306636e-02 -2.24210061e-02  3.55183557e-02\n",
            "     2.29588911e-01]\n",
            "   [ 2.05753166e-02  2.44542621e-02 -3.59251387e-02  1.08999880e-02\n",
            "    -1.05267733e-01]\n",
            "   [-1.61903314e-02  2.00661182e-01  8.71377885e-02  5.23717776e-02\n",
            "     9.01348293e-02]\n",
            "   [ 1.53644651e-01  4.84662652e-02  1.69086531e-01  8.73486698e-02\n",
            "     1.35962609e-02]]\n",
            "\n",
            "  [[ 1.40394673e-01 -1.92629084e-01 -4.66504470e-02  2.17014216e-02\n",
            "    -7.44719133e-02]\n",
            "   [-1.27421152e-02 -5.21570593e-02 -5.34327775e-02  2.21427858e-01\n",
            "     5.12330271e-02]\n",
            "   [-4.40482330e-03  1.07382953e-01 -1.93785243e-02  7.22876787e-02\n",
            "     2.86439937e-02]\n",
            "   [ 1.32809177e-01 -1.15932010e-01  6.25208616e-02  9.98164993e-03\n",
            "    -9.44999605e-02]\n",
            "   [ 8.69911909e-02 -7.12291747e-02  1.32210270e-01  4.18938696e-02\n",
            "     5.67860305e-02]]\n",
            "\n",
            "  [[ 6.56931847e-03  7.38544390e-02 -1.52329788e-01  6.10149885e-03\n",
            "    -5.12964651e-02]\n",
            "   [ 2.30791178e-02 -3.85034527e-03  5.03433719e-02 -6.83923215e-02\n",
            "     1.50166124e-01]\n",
            "   [ 1.89089060e-01 -1.70062706e-02 -1.22255553e-03  2.34789830e-02\n",
            "     1.03212170e-01]\n",
            "   [ 1.54881313e-01 -9.84533876e-02 -5.02234027e-02 -8.67246836e-02\n",
            "    -9.08581987e-02]\n",
            "   [-1.33847982e-01  2.96227802e-02 -9.46349278e-02  1.22740828e-01\n",
            "     7.41639137e-02]]]\n",
            "\n",
            "\n",
            " [[[-8.40754285e-02 -8.41161832e-02 -5.00009768e-02  1.14306703e-01\n",
            "    -6.93701506e-02]\n",
            "   [-1.21947818e-01 -4.03544353e-03  3.04871611e-02 -5.36648482e-02\n",
            "     1.32225975e-01]\n",
            "   [ 1.96332131e-02  3.69903818e-02 -6.98539540e-02 -3.24392784e-03\n",
            "    -1.27797080e-02]\n",
            "   [-1.85527951e-01  2.34871153e-02 -1.46545380e-01 -2.35033804e-03\n",
            "    -1.20346926e-01]\n",
            "   [ 1.64903790e-01  2.66392026e-02  7.03295544e-02  7.50366971e-02\n",
            "    -1.08144052e-01]]\n",
            "\n",
            "  [[-1.86307564e-01 -2.69099437e-02  7.32519701e-02  7.43293669e-03\n",
            "     6.41302764e-02]\n",
            "   [ 7.64757320e-02 -1.21853717e-01  2.34892778e-02  1.60561979e-01\n",
            "    -4.65837680e-02]\n",
            "   [-1.65673047e-01 -1.89349279e-02 -3.79400440e-02  3.41606662e-02\n",
            "    -7.28646740e-02]\n",
            "   [ 7.40699330e-03 -1.81051388e-01  6.97258189e-02  1.29567116e-01\n",
            "     1.05971262e-01]\n",
            "   [-1.23716839e-01  2.60622595e-02 -2.43640140e-01  2.31220331e-02\n",
            "    -5.25498623e-03]]\n",
            "\n",
            "  [[-8.13062564e-02  2.80707050e-02  1.12688495e-02  7.67100900e-02\n",
            "     1.03946971e-02]\n",
            "   [ 1.91898756e-02 -1.58814490e-01 -9.46909860e-02 -3.88570204e-02\n",
            "     2.42372546e-02]\n",
            "   [-5.14293148e-04  1.22547187e-01 -7.10482001e-02 -1.95658766e-02\n",
            "     2.08272524e-02]\n",
            "   [-1.89016853e-02  4.04639691e-02 -4.65862602e-02  1.15970463e-01\n",
            "    -2.60944255e-02]\n",
            "   [ 9.11165401e-02 -2.47425959e-03  1.21782288e-01 -1.14155695e-01\n",
            "     4.21963446e-02]]\n",
            "\n",
            "  [[-3.53197120e-02  1.88937932e-02  9.73921344e-02 -9.30068642e-02\n",
            "    -1.07943274e-01]\n",
            "   [-8.15163106e-02  2.07706578e-02 -1.54059589e-01  7.88684562e-03\n",
            "    -1.05020188e-01]\n",
            "   [-9.33844969e-02 -3.01432367e-02  3.10756620e-02 -5.11465296e-02\n",
            "    -4.01752144e-02]\n",
            "   [-3.41656688e-03 -2.22687628e-02 -2.18537048e-01 -3.51175666e-02\n",
            "     6.93728635e-03]\n",
            "   [ 8.96333233e-02  1.67082369e-01  5.44593297e-02  6.45785034e-03\n",
            "    -7.87726045e-02]]\n",
            "\n",
            "  [[ 7.27117714e-03  6.35966659e-02  1.03257827e-01 -7.18934461e-02\n",
            "     1.93024352e-02]\n",
            "   [ 6.65938258e-02  1.51934639e-01  2.08688751e-02 -4.42135930e-02\n",
            "    -5.63055761e-02]\n",
            "   [-2.91849133e-02 -5.32290600e-02  6.74863681e-02  8.73084441e-02\n",
            "     5.91843128e-02]\n",
            "   [ 9.73415971e-02 -3.70500460e-02  3.10542267e-02 -3.14076170e-02\n",
            "     3.56471702e-03]\n",
            "   [ 1.00019664e-01 -2.42787809e-03 -1.52260751e-01 -2.06423383e-02\n",
            "    -5.82039431e-02]]\n",
            "\n",
            "  [[-1.23202570e-01 -6.45330846e-02  7.84346834e-02  1.37245774e-01\n",
            "    -3.99271771e-02]\n",
            "   [ 8.18567052e-02  9.62014347e-02 -9.46966410e-02 -3.21395136e-03\n",
            "    -3.63015779e-03]\n",
            "   [ 1.40752317e-02 -1.30129203e-01 -2.85073444e-02  8.63707364e-02\n",
            "     1.03058457e-01]\n",
            "   [ 1.49530083e-01 -2.75574978e-02  1.52644649e-01  5.43709248e-02\n",
            "    -1.10978313e-01]\n",
            "   [ 6.21851385e-02 -2.87635438e-02  4.23824005e-02 -8.37104488e-03\n",
            "     9.86522734e-02]]]\n",
            "\n",
            "\n",
            " [[[ 2.09480487e-02 -2.30664387e-02  7.87891224e-02  2.09204201e-02\n",
            "    -3.37177478e-02]\n",
            "   [ 1.04289018e-01 -3.33412476e-02 -5.20218424e-02 -4.40560840e-02\n",
            "    -1.19655296e-01]\n",
            "   [-4.51691747e-02  1.51940033e-01 -7.41610751e-02  6.87400636e-04\n",
            "    -9.04827937e-02]\n",
            "   [-4.99167740e-02  1.24000698e-01  7.31871426e-02 -4.98267338e-02\n",
            "     5.07870340e-04]\n",
            "   [-6.74429387e-02 -6.40300959e-02 -7.46949166e-02 -7.32511580e-02\n",
            "     2.66136471e-02]]\n",
            "\n",
            "  [[ 4.87279594e-02  3.98648344e-02 -1.38344616e-02 -1.10883929e-01\n",
            "    -5.47954720e-03]\n",
            "   [-7.54682645e-02  7.19579384e-02  4.54333760e-02  6.09834380e-02\n",
            "    -2.84441542e-02]\n",
            "   [-1.47869095e-01  7.82119110e-02  1.00128718e-01 -1.21112294e-01\n",
            "     1.12607982e-02]\n",
            "   [ 9.74286646e-02 -8.78324583e-02  1.44330695e-01 -2.84983814e-02\n",
            "    -8.78052339e-02]\n",
            "   [ 1.11995406e-01  2.40484476e-02 -5.33285066e-02  7.18343854e-02\n",
            "    -1.59687713e-01]]\n",
            "\n",
            "  [[ 1.48219138e-01 -6.66465387e-02  2.33505182e-02 -3.25468741e-02\n",
            "     3.56182046e-02]\n",
            "   [ 7.24988282e-02 -6.72700182e-02  6.42062649e-02 -2.40077134e-02\n",
            "    -5.61634935e-02]\n",
            "   [-1.82930846e-02 -8.20259526e-02 -6.49659857e-02  7.74964541e-02\n",
            "    -1.23146502e-02]\n",
            "   [ 9.32057872e-02  3.52528095e-02 -8.37699622e-02 -1.54960558e-01\n",
            "    -5.61130606e-02]\n",
            "   [ 2.15658378e-02  7.19571894e-04 -6.77770227e-02  8.26957747e-02\n",
            "    -1.42537728e-01]]\n",
            "\n",
            "  [[-1.02768064e-01  1.03936018e-02  1.79120004e-01  3.37975807e-02\n",
            "    -8.20774734e-02]\n",
            "   [ 4.83902544e-02  5.57990968e-02  7.65756965e-02 -3.34652998e-02\n",
            "    -6.52973875e-02]\n",
            "   [ 9.65240039e-03  3.39070521e-02  1.30495355e-01  1.70619115e-01\n",
            "    -5.98549098e-02]\n",
            "   [-4.27004546e-02 -5.19072032e-03 -2.03938074e-02  3.96646000e-02\n",
            "     3.96602750e-02]\n",
            "   [ 2.10571997e-02  1.09742962e-01 -1.29423626e-02 -8.57981071e-02\n",
            "    -1.27422556e-01]]\n",
            "\n",
            "  [[-8.39472711e-02 -8.52633044e-02 -1.53780907e-01  5.41490540e-02\n",
            "     1.51270553e-02]\n",
            "   [-3.45208831e-02 -7.26591274e-02 -1.29083648e-01 -7.50947893e-02\n",
            "     1.50881141e-01]\n",
            "   [-1.80510387e-01  1.15787806e-02  6.07177056e-02  1.11151496e-02\n",
            "    -2.58670133e-02]\n",
            "   [ 6.27129748e-02 -9.00863782e-02  4.53600585e-02  1.16815954e-01\n",
            "    -8.50278661e-02]\n",
            "   [-6.69391155e-02  1.10994847e-02  8.07982832e-02  1.09341003e-01\n",
            "     5.55729568e-02]]\n",
            "\n",
            "  [[-5.46646714e-02 -9.09914151e-02  1.98391173e-02  3.25176008e-02\n",
            "    -8.98597166e-02]\n",
            "   [ 4.88187280e-03  2.71270759e-02  8.53291154e-02 -8.08791071e-02\n",
            "     4.54759635e-02]\n",
            "   [-9.54709724e-02 -3.48306000e-02 -6.39126962e-03  1.23937346e-01\n",
            "     2.70611823e-01]\n",
            "   [ 2.07019169e-02  4.04403806e-02  8.22654292e-02 -1.11178763e-01\n",
            "     6.25161529e-02]\n",
            "   [-1.01387635e-01  1.33016437e-01  1.17860608e-01  4.09505442e-02\n",
            "    -6.58666566e-02]]]\n",
            "\n",
            "\n",
            " ...\n",
            "\n",
            "\n",
            " [[[-5.35217253e-03 -1.47663265e-01  1.23989016e-01  1.03914946e-01\n",
            "     9.39212218e-02]\n",
            "   [-1.51511192e-01  8.11882596e-03  1.05588526e-01 -8.50947648e-02\n",
            "    -6.59050494e-02]\n",
            "   [-2.00290736e-02 -1.65530294e-01  1.72508471e-02  8.05870369e-02\n",
            "     5.39191402e-02]\n",
            "   [ 1.21804506e-01  7.34939286e-03 -2.80774757e-03 -1.57500561e-02\n",
            "    -5.75982146e-02]\n",
            "   [-8.81616324e-02 -6.11127764e-02 -7.33042136e-03 -4.45678569e-02\n",
            "     8.24076869e-03]]\n",
            "\n",
            "  [[ 5.97323664e-03  5.17951362e-02 -4.26232107e-02 -1.69724375e-01\n",
            "    -7.91599602e-02]\n",
            "   [ 1.55871391e-01  6.10465668e-02 -3.37744951e-02 -1.71445291e-02\n",
            "    -7.42738927e-03]\n",
            "   [-3.87748815e-02  1.57122165e-02  5.58460467e-02  9.94377285e-02\n",
            "    -2.98571195e-02]\n",
            "   [-2.39836387e-02 -2.73050740e-02  2.20840680e-03  8.66929740e-02\n",
            "    -6.18900172e-02]\n",
            "   [ 1.80198491e-01  4.52989452e-02  9.07212645e-02 -7.37490132e-02\n",
            "    -3.06536779e-02]]\n",
            "\n",
            "  [[-4.28351462e-02  3.84568493e-03 -1.66363165e-01  4.08106893e-02\n",
            "    -1.37330085e-01]\n",
            "   [ 3.11926063e-02  8.39112550e-02 -3.94476438e-03 -1.29812611e-02\n",
            "    -1.26050049e-02]\n",
            "   [-1.66824404e-02  2.31148396e-02  7.62077644e-02  5.51879853e-02\n",
            "     1.25386357e-01]\n",
            "   [ 1.07429298e-02 -3.82659435e-02 -3.42924707e-02 -9.68988687e-02\n",
            "    -2.70960853e-02]\n",
            "   [-4.34089489e-02  1.50970563e-01  4.82549593e-02  1.52438372e-01\n",
            "    -1.49817616e-01]]\n",
            "\n",
            "  [[ 3.06836460e-02  9.02584791e-02  3.29423957e-02 -3.09739839e-02\n",
            "     2.06726026e-02]\n",
            "   [ 1.52065549e-02  1.78167652e-02  2.88137961e-02  8.45369846e-02\n",
            "     2.58969106e-02]\n",
            "   [ 3.11847609e-02  9.34746023e-03  4.53330576e-02 -4.94361408e-02\n",
            "     5.57121672e-02]\n",
            "   [-1.72659513e-02  7.86389858e-02 -3.85223664e-02  5.03873127e-03\n",
            "    -4.63189604e-03]\n",
            "   [-7.28366524e-02  9.50374752e-02  4.02293466e-02  1.29617956e-02\n",
            "     1.10081971e-01]]\n",
            "\n",
            "  [[-1.67207476e-02  8.33136961e-03  9.98905599e-02  2.08686203e-01\n",
            "     1.70284249e-02]\n",
            "   [ 1.41800731e-01  2.43978500e-02 -5.46720140e-02  5.12409471e-02\n",
            "     1.10770106e-01]\n",
            "   [ 2.61963159e-02  4.81346622e-02 -7.78962672e-02 -1.74775273e-01\n",
            "     2.86873337e-02]\n",
            "   [-1.08388439e-01  8.66243325e-04 -4.77463789e-02  1.65315215e-02\n",
            "     7.34062120e-02]\n",
            "   [-1.34178564e-01 -1.09702926e-02 -1.14575643e-02  1.09457828e-01\n",
            "     5.22387633e-03]]\n",
            "\n",
            "  [[-6.68262616e-02 -4.75977957e-02  1.45758986e-01 -7.25347027e-02\n",
            "     3.37757729e-03]\n",
            "   [ 2.10540444e-02 -9.37582850e-02 -6.70255423e-02 -1.61069348e-01\n",
            "    -7.43537769e-02]\n",
            "   [ 5.28256856e-02  1.69134438e-02 -1.54204592e-01  1.16201140e-01\n",
            "    -1.08185217e-01]\n",
            "   [-7.76668414e-02  1.30142376e-01  3.76478136e-02 -6.19990425e-03\n",
            "     1.21384554e-01]\n",
            "   [-6.05448429e-03  2.82443333e-02 -4.61252630e-02 -9.81524866e-03\n",
            "    -5.74332802e-03]]]\n",
            "\n",
            "\n",
            " [[[ 8.95093828e-02 -5.09832837e-02 -1.62600968e-02 -1.76653430e-01\n",
            "    -1.39430016e-01]\n",
            "   [ 5.61590791e-02 -3.22012715e-02 -2.88597438e-02  4.85512577e-02\n",
            "    -2.77715642e-02]\n",
            "   [ 6.94093481e-03 -2.38564499e-02 -1.64922923e-01  4.84131463e-02\n",
            "     1.19127974e-01]\n",
            "   [ 9.41412896e-02  3.19031882e-03  1.94009095e-02  2.92255171e-02\n",
            "     1.20202936e-01]\n",
            "   [ 9.45828855e-02 -3.05355694e-02 -1.36285722e-02 -1.93911921e-02\n",
            "    -5.01523875e-02]]\n",
            "\n",
            "  [[-5.36364168e-02 -1.45952227e-02 -1.99914455e-01  2.53317244e-02\n",
            "    -4.22826037e-02]\n",
            "   [-1.04096688e-01 -2.11797338e-02 -6.70723021e-02  9.12981778e-02\n",
            "    -9.59982052e-02]\n",
            "   [-1.03800604e-03  2.12581512e-02 -7.43127391e-02 -1.06531106e-01\n",
            "     2.38480158e-02]\n",
            "   [-3.91483158e-02 -8.27280208e-02 -1.23277552e-01  4.27600965e-02\n",
            "     1.14817344e-01]\n",
            "   [-4.90046293e-02  3.62824947e-02  8.20405334e-02  7.47586042e-02\n",
            "    -5.27099632e-02]]\n",
            "\n",
            "  [[ 3.73934172e-02  5.00512049e-02  1.99801311e-01  1.31587712e-02\n",
            "     8.06594566e-02]\n",
            "   [ 6.28436133e-02  4.97688167e-02 -8.13279226e-02  2.18156092e-02\n",
            "     1.19224019e-01]\n",
            "   [-3.02523300e-02  1.87743437e-02 -6.25217557e-02  2.19455641e-02\n",
            "     2.83472408e-02]\n",
            "   [ 5.61916903e-02 -3.06713339e-02 -3.30996253e-02 -4.41076197e-02\n",
            "     2.25028843e-02]\n",
            "   [ 1.50717869e-02  1.79865137e-01 -4.91448753e-02  5.57013266e-02\n",
            "    -4.23101485e-02]]\n",
            "\n",
            "  [[-3.62932794e-02  8.65830779e-02  3.44807878e-02  4.31885682e-02\n",
            "    -1.05183169e-01]\n",
            "   [ 2.06621215e-01  1.65999308e-01 -5.53026460e-02 -1.04882926e-01\n",
            "    -5.57393730e-02]\n",
            "   [ 2.01101992e-02 -7.25410655e-02  2.31155939e-02 -5.08069955e-02\n",
            "     2.19468608e-01]\n",
            "   [-1.71403810e-02 -3.49798240e-02  1.59933016e-01  2.73334887e-02\n",
            "     1.76618586e-03]\n",
            "   [-2.04015686e-03  4.57691960e-02 -3.29698324e-02  1.00919567e-02\n",
            "    -4.22489792e-02]]\n",
            "\n",
            "  [[-1.05558582e-01 -2.44820528e-02  1.42677845e-02  1.26998529e-01\n",
            "     1.87319648e-02]\n",
            "   [-2.62779109e-02  1.08530466e-02  4.78797033e-02 -1.77155823e-01\n",
            "    -3.22572552e-02]\n",
            "   [-1.69703022e-01 -1.37367889e-01 -5.74265905e-02 -9.54556465e-03\n",
            "     4.44617821e-03]\n",
            "   [ 1.09367482e-02  1.04816273e-01  3.65951397e-02  3.17545123e-02\n",
            "    -2.38122381e-02]\n",
            "   [ 1.54794142e-01  1.04020685e-01 -4.44203205e-02 -4.40264717e-02\n",
            "     6.31703511e-02]]\n",
            "\n",
            "  [[ 8.08706284e-02 -2.31890772e-02  9.10016820e-02 -9.16679502e-02\n",
            "    -1.01808198e-02]\n",
            "   [ 8.27274919e-02 -4.28015664e-02  1.42435450e-02  1.54764031e-03\n",
            "    -1.78121421e-02]\n",
            "   [-1.45306543e-01 -2.28168722e-02  1.69559121e-02  1.89922992e-02\n",
            "     6.34663552e-02]\n",
            "   [ 7.74276108e-02 -2.43970938e-02 -1.36796860e-02  1.37082055e-01\n",
            "     7.41209537e-02]\n",
            "   [ 6.04171352e-03 -1.25447158e-02  8.87008235e-02  8.91901106e-02\n",
            "    -2.05030572e-03]]]\n",
            "\n",
            "\n",
            " [[[ 4.11000997e-02  8.03287607e-03  2.15431699e-03  1.53041646e-01\n",
            "    -9.61455405e-02]\n",
            "   [ 6.54127374e-02 -7.84461349e-02 -5.01460955e-02  7.22308904e-02\n",
            "    -9.92558077e-02]\n",
            "   [-6.99204579e-02 -8.56879726e-02 -4.27384861e-02  2.86531951e-02\n",
            "     9.71105397e-02]\n",
            "   [-4.74880375e-02  7.69343525e-02 -9.26242247e-02  1.73231795e-01\n",
            "    -3.25477496e-02]\n",
            "   [-3.57486568e-02  2.32818481e-02  9.01060179e-03 -1.21144848e-02\n",
            "    -1.33832946e-01]]\n",
            "\n",
            "  [[ 6.81235790e-02  5.69505356e-02 -3.16359177e-02 -9.33559239e-02\n",
            "     2.03627553e-02]\n",
            "   [ 8.82883966e-02 -1.39569864e-01 -9.02968124e-02  5.89485653e-03\n",
            "    -6.60726503e-02]\n",
            "   [-2.89852843e-02 -9.67704877e-03  6.04782850e-02  6.06592782e-02\n",
            "     7.69536123e-02]\n",
            "   [ 7.07115233e-02 -5.15880883e-02 -1.92890197e-01  2.35095806e-02\n",
            "     3.42618935e-02]\n",
            "   [ 3.40608731e-02 -5.52161820e-02  1.51321411e-01 -1.34978935e-01\n",
            "     6.30660951e-02]]\n",
            "\n",
            "  [[ 4.84938473e-02  7.21563399e-02  1.10101260e-01  3.81670967e-02\n",
            "     2.55535152e-02]\n",
            "   [-2.41051242e-02  6.01040833e-02  2.99533568e-02  6.27589598e-02\n",
            "    -9.21548083e-02]\n",
            "   [-1.22786127e-01  3.75213451e-03  4.09087390e-02 -1.23242125e-01\n",
            "    -8.20042938e-02]\n",
            "   [-2.87605040e-02  2.23437846e-02  2.47200038e-02  7.82886595e-02\n",
            "    -1.37542114e-02]\n",
            "   [ 3.32776830e-02  1.01704039e-01 -2.20012125e-02  1.80314973e-01\n",
            "    -2.92448588e-02]]\n",
            "\n",
            "  [[ 1.00653451e-02 -1.50238544e-01 -6.58288179e-03 -4.21912074e-02\n",
            "    -5.06725572e-02]\n",
            "   [ 2.35522017e-02 -8.72063562e-02  1.81890652e-02 -1.58337429e-01\n",
            "    -3.91746610e-02]\n",
            "   [ 1.08330451e-01  1.07215969e-02  4.84900214e-02 -7.18873665e-02\n",
            "    -1.03762299e-01]\n",
            "   [ 1.10612094e-01  8.12959075e-02  6.86641186e-02  1.40328461e-06\n",
            "     9.35559496e-02]\n",
            "   [-3.31554487e-02  5.51866293e-02  5.25071546e-02 -7.07261190e-02\n",
            "     1.13265894e-01]]\n",
            "\n",
            "  [[ 1.06266076e-02  6.52203411e-02 -1.18732974e-01 -9.41520333e-02\n",
            "    -3.32091413e-02]\n",
            "   [ 4.11076285e-02  9.28081870e-02  3.03162597e-02 -9.34551936e-03\n",
            "     4.64294180e-02]\n",
            "   [-1.74451433e-02  1.37880035e-02  3.23513485e-02 -5.39974980e-02\n",
            "     3.29979062e-02]\n",
            "   [-1.14815444e-01 -6.45856261e-02  5.30921146e-02 -5.10982983e-02\n",
            "     3.89418527e-02]\n",
            "   [ 1.84283908e-02 -1.52969388e-02  1.20994888e-01  3.84304971e-02\n",
            "    -4.60375510e-02]]\n",
            "\n",
            "  [[-4.03974652e-02  1.00536877e-02 -1.18298903e-01  9.17740241e-02\n",
            "    -5.43015171e-03]\n",
            "   [-1.36425361e-01 -7.86439255e-02  1.12303905e-01  1.78146120e-02\n",
            "     1.72354847e-01]\n",
            "   [ 1.63231662e-03  3.69403586e-02  1.55213729e-01  1.69570848e-01\n",
            "    -7.44842216e-02]\n",
            "   [ 6.99715018e-02 -8.39871690e-02 -3.75188179e-02 -1.39389336e-01\n",
            "     4.59561944e-02]\n",
            "   [-8.14036056e-02 -6.25733063e-02  1.52618647e-01  7.01949373e-02\n",
            "    -1.38189439e-02]]]]\n"
          ]
        }
      ]
    },
    {
      "cell_type": "code",
      "source": [
        "#畳み込み層２実施\n",
        "result_c2_b"
      ],
      "metadata": {
        "colab": {
          "base_uri": "https://localhost:8080/"
        },
        "id": "CDgw6NOF60fA",
        "outputId": "f6249606-fafd-4bee-bdbd-51136206d39d"
      },
      "execution_count": null,
      "outputs": [
        {
          "output_type": "execute_result",
          "data": {
            "text/plain": [
              "array([[[[ 0.36370158,  0.68130046,  0.7420022 , ...,  0.9158568 ,\n",
              "           0.6925121 ,  0.47942808],\n",
              "         [ 0.2413388 ,  0.39931366,  0.50895673, ...,  0.5388336 ,\n",
              "           0.495736  ,  0.14113139],\n",
              "         [ 0.19258305,  0.5157807 ,  0.53010595, ...,  0.60153717,\n",
              "           0.5135061 ,  0.1962746 ],\n",
              "         ...,\n",
              "         [ 0.2225973 ,  0.08134315, -0.0384531 , ...,  0.3260627 ,\n",
              "           0.612241  ,  0.6340414 ],\n",
              "         [-0.04729144,  0.04259328,  0.29123944, ...,  0.9744519 ,\n",
              "           0.9125798 ,  0.38496056],\n",
              "         [ 0.38843858,  0.60650015,  0.5349707 , ...,  0.43557623,\n",
              "           0.6299126 ,  0.41714558]],\n",
              "\n",
              "        [[-0.34363186, -0.24621347,  0.06433733, ...,  0.7607323 ,\n",
              "           0.5127211 ,  0.25273252],\n",
              "         [-0.0799017 , -0.12360006,  0.03203174, ...,  0.6825424 ,\n",
              "           0.42345366,  0.2844266 ],\n",
              "         [ 0.29902953, -0.06874385, -0.289788  , ...,  0.687844  ,\n",
              "           0.46343178,  0.4062244 ],\n",
              "         ...,\n",
              "         [ 0.26225865,  0.17509325,  0.45608807, ...,  0.05895193,\n",
              "           0.32210168,  0.5548971 ],\n",
              "         [ 0.11391596, -0.02219661,  0.1003051 , ...,  0.49593437,\n",
              "           0.30431515,  0.35964918],\n",
              "         [ 0.11901729,  0.33920783,  0.2958372 , ...,  0.6625658 ,\n",
              "          -0.06853436, -0.10260111]],\n",
              "\n",
              "        [[ 0.11417567, -0.16639638, -0.3405675 , ..., -0.3599313 ,\n",
              "          -0.00297179, -0.1420478 ],\n",
              "         [ 0.19735   , -0.04338237, -0.20840286, ..., -0.34580284,\n",
              "          -0.15332451, -0.14738205],\n",
              "         [ 0.13033976,  0.3130137 , -0.3644271 , ...,  0.0367908 ,\n",
              "          -0.08771545, -0.10903711],\n",
              "         ...,\n",
              "         [ 0.12793583,  0.2834305 ,  0.09140364, ..., -0.85992754,\n",
              "          -0.2780801 ,  0.14452697],\n",
              "         [ 0.2397092 ,  0.1534556 , -0.09655172, ..., -0.44681653,\n",
              "          -0.3138621 ,  0.12123582],\n",
              "         [-0.07167593, -0.24538831, -0.23553702, ..., -0.21089923,\n",
              "          -0.07252139, -0.01755423]],\n",
              "\n",
              "        ...,\n",
              "\n",
              "        [[-0.07921591,  0.0141513 , -0.14621827, ..., -0.3333846 ,\n",
              "          -0.4635459 , -0.00691986],\n",
              "         [-0.1250489 , -0.0301847 , -0.21458809, ...,  0.04432082,\n",
              "          -0.24746925, -0.12121305],\n",
              "         [ 0.04709322,  0.12072483, -0.05230422, ..., -0.05618936,\n",
              "          -0.20287411, -0.21367778],\n",
              "         ...,\n",
              "         [ 0.12747562,  0.3535953 ,  0.01984646, ..., -0.391875  ,\n",
              "          -0.558966  , -0.37824622],\n",
              "         [ 0.07252151,  0.15569516,  0.16264129, ..., -0.03236373,\n",
              "          -0.15233713, -0.4466124 ],\n",
              "         [-0.0388425 , -0.27526927, -0.12412116, ...,  0.05374923,\n",
              "           0.02538338, -0.37749115]],\n",
              "\n",
              "        [[-0.02827821,  0.12125692,  0.34076482, ...,  0.90670645,\n",
              "           0.81792605,  0.5961035 ],\n",
              "         [ 0.34892428,  0.64740694,  0.8167546 , ...,  0.7986562 ,\n",
              "           0.49996412,  0.5003321 ],\n",
              "         [ 0.34862047,  0.86941564,  0.7685647 , ...,  0.7985079 ,\n",
              "           0.37277892,  0.40018684],\n",
              "         ...,\n",
              "         [ 0.37668544,  0.35247675,  0.09909935, ...,  0.5554084 ,\n",
              "           0.73568714,  0.4455793 ],\n",
              "         [ 0.14554882,  0.25352907,  0.18531176, ...,  1.3973345 ,\n",
              "           0.734928  ,  0.34318638],\n",
              "         [ 0.00457296,  0.29667583,  0.9232203 , ...,  0.7614658 ,\n",
              "           0.286217  ,  0.21252298]],\n",
              "\n",
              "        [[ 0.065377  ,  0.22308771,  0.22239044, ...,  0.10680611,\n",
              "           0.25697038,  0.32560614],\n",
              "         [ 0.19445145,  0.2938985 ,  0.6944123 , ...,  0.3643368 ,\n",
              "           0.22858077,  0.11252584],\n",
              "         [ 0.19991122,  0.41354653,  0.7740177 , ...,  0.49762553,\n",
              "           0.0292999 , -0.14460477],\n",
              "         ...,\n",
              "         [ 0.13960782, -0.13899717,  0.1999547 , ...,  0.6826761 ,\n",
              "           0.25860444, -0.156458  ],\n",
              "         [ 0.08257416,  0.00557506,  0.20990631, ...,  0.83089584,\n",
              "           0.15756732, -0.03768497],\n",
              "         [ 0.12187731,  0.16302755,  0.05117999, ...,  0.6582759 ,\n",
              "           0.5991145 ,  0.15733668]]]], dtype=float32)"
            ]
          },
          "metadata": {},
          "execution_count": 51
        }
      ]
    },
    {
      "cell_type": "code",
      "source": [
        "# 畳み込み層２実施後に活性化関数適用\n",
        "result_c2_f"
      ],
      "metadata": {
        "colab": {
          "base_uri": "https://localhost:8080/"
        },
        "id": "tbZhBYHm65Yz",
        "outputId": "d15d3ad1-4537-42f8-8a32-4bc4e2ee7f8d"
      },
      "execution_count": null,
      "outputs": [
        {
          "output_type": "execute_result",
          "data": {
            "text/plain": [
              "array([[[[ 0.34847033,  0.5923642 ,  0.63035333, ...,  0.72393143,\n",
              "           0.5995934 ,  0.44578546],\n",
              "         [ 0.2367599 ,  0.37936157,  0.46913195, ...,  0.4921046 ,\n",
              "           0.45875713,  0.14020176],\n",
              "         [ 0.190237  ,  0.474437  ,  0.4854621 , ...,  0.5381425 ,\n",
              "           0.47267252,  0.19379243],\n",
              "         ...,\n",
              "         [ 0.2189922 ,  0.08116422, -0.03843416, ...,  0.31497854,\n",
              "           0.5457027 ,  0.5608288 ],\n",
              "         [-0.04725622,  0.04256754,  0.2832752 , ...,  0.7506541 ,\n",
              "           0.7223681 ,  0.36700767],\n",
              "         [ 0.3700134 ,  0.5416588 ,  0.48917156, ...,  0.4099709 ,\n",
              "           0.55799204,  0.39452302]],\n",
              "\n",
              "        [[-0.33071592, -0.24135597,  0.0642487 , ...,  0.6415081 ,\n",
              "           0.47206268,  0.24748555],\n",
              "         [-0.0797321 , -0.12297447,  0.03202078, ...,  0.59316975,\n",
              "           0.39983597,  0.27699703],\n",
              "         [ 0.29042426, -0.06863577, -0.2819397 , ...,  0.59659517,\n",
              "           0.43287706,  0.3852622 ],\n",
              "         ...,\n",
              "         [ 0.2564069 ,  0.17332561,  0.42689052, ...,  0.05888373,\n",
              "           0.31140605,  0.5041815 ],\n",
              "         [ 0.11342575, -0.02219296,  0.09997005, ...,  0.45891374,\n",
              "           0.29525658,  0.344905  ],\n",
              "         [ 0.11845849,  0.32677   ,  0.28749847, ...,  0.5800684 ,\n",
              "          -0.06842726, -0.10224259]],\n",
              "\n",
              "        [[ 0.11368211, -0.16487749, -0.32798395, ..., -0.3451535 ,\n",
              "          -0.00297178, -0.14110005],\n",
              "         [ 0.19482723, -0.04335517, -0.20543727, ..., -0.33264807,\n",
              "          -0.15213422, -0.14632413],\n",
              "         [ 0.12960665,  0.30317628, -0.34910756, ...,  0.03677421,\n",
              "          -0.08749118, -0.10860703],\n",
              "         ...,\n",
              "         [ 0.12724236,  0.2760771 ,  0.09114994, ..., -0.69622034,\n",
              "          -0.27112725,  0.14352901],\n",
              "         [ 0.23522104,  0.15226229, -0.09625281, ..., -0.41927868,\n",
              "          -0.3039465 ,  0.12064531],\n",
              "         [-0.07155344, -0.24057873, -0.23127587, ..., -0.20782706,\n",
              "          -0.07239452, -0.01755243]],\n",
              "\n",
              "        ...,\n",
              "\n",
              "        [[-0.07905063,  0.01415036, -0.14518507, ..., -0.3215587 ,\n",
              "          -0.43296978, -0.00691975],\n",
              "         [-0.12440115, -0.03017553, -0.21135387, ...,  0.04429182,\n",
              "          -0.24253824, -0.12062287],\n",
              "         [ 0.04705844,  0.12014172, -0.05225657, ..., -0.0561303 ,\n",
              "          -0.20013589, -0.21048404],\n",
              "         ...,\n",
              "         [ 0.12678958,  0.33956018,  0.01984386, ..., -0.37297553,\n",
              "          -0.50720984, -0.36118346],\n",
              "         [ 0.07239464,  0.15444916,  0.16122223, ..., -0.03235243,\n",
              "          -0.15116955, -0.4191104 ],\n",
              "         [-0.03882298, -0.26852107, -0.12348765, ...,  0.05369753,\n",
              "           0.02537793, -0.3605267 ]],\n",
              "\n",
              "        [[-0.02827067,  0.1206661 ,  0.32816005, ...,  0.7195477 ,\n",
              "           0.6739395 ,  0.5342711 ],\n",
              "         [ 0.3354212 ,  0.56992173,  0.6732996 , ...,  0.6632849 ,\n",
              "           0.4620889 ,  0.46237832],\n",
              "         [ 0.33515155,  0.70107716,  0.6460941 , ...,  0.6632018 ,\n",
              "           0.35642   ,  0.38010883],\n",
              "         ...,\n",
              "         [ 0.35982552,  0.33857024,  0.09877621, ...,  0.50456274,\n",
              "           0.6265324 ,  0.4182584 ],\n",
              "         [ 0.14452966,  0.24823317,  0.18321928, ...,  0.88477415,\n",
              "           0.626071  ,  0.3303191 ],\n",
              "         [ 0.00457293,  0.2882676 ,  0.72741723, ...,  0.6419396 ,\n",
              "           0.27864924,  0.20938015]],\n",
              "\n",
              "        [[ 0.06528402,  0.21945904,  0.21879525, ...,  0.10640182,\n",
              "           0.25145966,  0.3145672 ],\n",
              "         [ 0.19203714,  0.28571904,  0.60080904, ...,  0.34902826,\n",
              "           0.2246812 ,  0.11205329],\n",
              "         [ 0.19729   ,  0.39147985,  0.6492596 , ...,  0.4602477 ,\n",
              "           0.02929151, -0.1436052 ],\n",
              "         ...,\n",
              "         [ 0.13870783, -0.13810888,  0.19733179, ...,  0.59325635,\n",
              "           0.25298977, -0.15519375],\n",
              "         [ 0.08238699,  0.005575  ,  0.20687683, ...,  0.6809568 ,\n",
              "           0.15627615, -0.03766714],\n",
              "         [ 0.12127741,  0.16159844,  0.05113535, ...,  0.5772149 ,\n",
              "           0.53641915,  0.15605113]]]], dtype=float32)"
            ]
          },
          "metadata": {},
          "execution_count": 52
        }
      ]
    },
    {
      "cell_type": "code",
      "source": [
        "# 畳み込み層２に活性化関数適用後、プーリング実装\n",
        "result_c2_p"
      ],
      "metadata": {
        "colab": {
          "base_uri": "https://localhost:8080/"
        },
        "id": "tpi4Qny67A9E",
        "outputId": "f325dc71-a129-4e32-fd09-4e8d1ffe432b"
      },
      "execution_count": null,
      "outputs": [
        {
          "output_type": "execute_result",
          "data": {
            "text/plain": [
              "array([[[[ 5.9236419e-01,  7.2940493e-01,  7.2393143e-01,\n",
              "           5.9959340e-01],\n",
              "         [ 4.7443700e-01,  6.8908906e-01,  5.7906246e-01,\n",
              "           4.7267252e-01],\n",
              "         [ 4.6093869e-01,  4.4037083e-01,  5.4093540e-01,\n",
              "           5.6082880e-01],\n",
              "         [ 5.4165882e-01,  5.1088655e-01,  7.7230740e-01,\n",
              "           7.2236812e-01]],\n",
              "\n",
              "        [[-7.9732098e-02,  3.1087673e-01,  6.4150810e-01,\n",
              "           4.7206268e-01],\n",
              "         [ 2.9042426e-01,  2.4938057e-03,  6.7315358e-01,\n",
              "           5.6306970e-01],\n",
              "         [ 2.5640690e-01,  5.6872338e-01,  3.6428291e-01,\n",
              "           5.5890751e-01],\n",
              "         [ 3.2677001e-01,  4.9641928e-01,  5.8056802e-01,\n",
              "           3.4490499e-01]],\n",
              "\n",
              "        [[ 1.9482723e-01, -2.5823677e-03,  1.1258263e-01,\n",
              "          -2.9717798e-03],\n",
              "         [ 3.0317628e-01,  1.0918457e-01,  3.6774207e-02,\n",
              "           1.2258055e-01],\n",
              "         [ 2.7607709e-01,  2.6865101e-01, -2.2912897e-01,\n",
              "           1.4352901e-01],\n",
              "         [ 2.3522104e-01, -9.6252806e-02, -1.7284493e-01,\n",
              "           1.2064531e-01]],\n",
              "\n",
              "        [[ 6.3951480e-01,  7.6195443e-01,  6.8114889e-01,\n",
              "           4.6233842e-01],\n",
              "         [ 5.3609949e-01,  7.1273142e-01,  5.8932996e-01,\n",
              "           3.0715948e-01],\n",
              "         [ 2.9630044e-01,  8.4275270e-01,  8.3080268e-01,\n",
              "           5.7557172e-01],\n",
              "         [ 7.6505262e-01,  7.7545214e-01,  4.2644715e-01,\n",
              "           2.2275434e-01]],\n",
              "\n",
              "        [[-2.4907120e-01, -3.3218783e-01, -1.0697824e-01,\n",
              "           7.6067060e-02],\n",
              "         [-9.6843489e-02, -2.8267217e-01, -3.2618603e-01,\n",
              "           1.8518770e-01],\n",
              "         [-1.1438923e-01, -1.0200820e-01, -2.3509988e-01,\n",
              "           1.8396068e-02],\n",
              "         [-1.4647768e-01, -1.6130884e-01, -1.5708406e-01,\n",
              "           1.9988249e-01]],\n",
              "\n",
              "        [[ 6.7181402e-01,  7.6740777e-01,  3.7323239e-01,\n",
              "           3.4870663e-01],\n",
              "         [ 5.6753469e-01,  7.6068360e-01,  5.7120872e-01,\n",
              "           4.1505715e-01],\n",
              "         [ 4.3767899e-01,  5.9165525e-01,  5.6733531e-01,\n",
              "           2.3521984e-01],\n",
              "         [ 4.7561851e-01,  6.7409241e-01,  6.7572904e-01,\n",
              "           4.4997159e-01]],\n",
              "\n",
              "        [[ 2.6673082e-01,  3.5181499e-01,  5.7341546e-01,\n",
              "           1.7029412e-02],\n",
              "         [ 1.8811271e-01,  5.9366018e-02, -3.7858330e-02,\n",
              "           8.0411442e-02],\n",
              "         [ 2.0339085e-01,  1.9833760e-01,  3.0633312e-01,\n",
              "           2.3122603e-01],\n",
              "         [ 3.3902323e-01,  5.1399797e-01,  3.8696584e-01,\n",
              "          -2.1805629e-02]],\n",
              "\n",
              "        [[ 1.4455247e-01, -6.1755233e-02,  1.2262965e-01,\n",
              "           1.5311073e-01],\n",
              "         [ 3.8858461e-01,  4.0703082e-01, -4.8363481e-02,\n",
              "           3.7681464e-02],\n",
              "         [ 7.8730308e-02,  1.9086151e-01, -2.5875110e-02,\n",
              "          -1.3394615e-01],\n",
              "         [-9.9238474e-03,  7.4099548e-02,  2.4276718e-01,\n",
              "           1.8703558e-01]],\n",
              "\n",
              "        [[ 2.1511307e-02, -2.3303439e-01,  5.0186294e-01,\n",
              "           4.2715499e-01],\n",
              "         [ 2.2336584e-01, -1.1076088e-01, -1.8780969e-01,\n",
              "           4.0139702e-01],\n",
              "         [-2.1300712e-01, -5.0227653e-02, -1.9587551e-01,\n",
              "           1.4619392e-01],\n",
              "         [-1.1902879e-01, -1.1297644e-01,  4.8417634e-01,\n",
              "           2.5944939e-01]],\n",
              "\n",
              "        [[ 3.5119295e-01,  3.7935492e-01,  4.2933833e-02,\n",
              "           7.3856704e-02],\n",
              "         [ 1.8827942e-01,  1.9993208e-01,  4.9212569e-04,\n",
              "           1.8156104e-01],\n",
              "         [ 1.8823420e-01,  4.6250454e-01,  2.5503391e-01,\n",
              "          -7.4695364e-02],\n",
              "         [ 4.4744134e-01,  5.5691981e-01,  1.5715922e-01,\n",
              "           1.3277067e-01]],\n",
              "\n",
              "        [[-8.2348228e-02, -7.0407182e-02, -3.4361440e-01,\n",
              "          -7.6379441e-02],\n",
              "         [ 1.9584553e-01, -5.8408622e-02, -1.1430056e-01,\n",
              "          -9.2561230e-02],\n",
              "         [ 1.3764866e-01,  9.5151607e-03, -1.7045996e-01,\n",
              "          -1.3942376e-01],\n",
              "         [-2.0531955e-01, -1.8050388e-02, -9.7162426e-02,\n",
              "           1.5212333e-01]],\n",
              "\n",
              "        [[ 2.8478038e-01,  7.2864705e-01,  6.8087423e-01,\n",
              "           6.7258286e-01],\n",
              "         [ 4.5153672e-01,  2.5942835e-01,  4.3808118e-01,\n",
              "           4.3107921e-01],\n",
              "         [ 3.9619792e-01,  5.5732495e-01,  5.0423294e-01,\n",
              "           6.2402785e-01],\n",
              "         [ 4.1249409e-01,  6.7187357e-01,  6.4496559e-01,\n",
              "           4.2893907e-01]],\n",
              "\n",
              "        [[ 2.6646391e-01,  6.7032349e-01,  6.5727562e-01,\n",
              "           5.1911551e-01],\n",
              "         [ 3.9823836e-01,  4.9008697e-01,  5.4304081e-01,\n",
              "           4.9744815e-01],\n",
              "         [ 4.0913597e-01,  5.8568555e-01,  5.5549669e-01,\n",
              "           6.8379402e-01],\n",
              "         [ 5.1269966e-01,  8.0040479e-01,  6.0484815e-01,\n",
              "           3.8401848e-01]],\n",
              "\n",
              "        [[ 1.4150357e-02, -1.3830408e-01,  4.4291824e-02,\n",
              "          -6.9197472e-03],\n",
              "         [ 3.0883569e-01,  2.5991860e-01, -5.6130305e-02,\n",
              "          -5.1942743e-02],\n",
              "         [ 3.3956018e-01,  2.6822454e-01,  1.0412868e-02,\n",
              "          -5.2332621e-02],\n",
              "         [ 1.5444916e-01,  1.6122223e-01,  5.3697534e-02,\n",
              "           2.5377933e-02]],\n",
              "\n",
              "        [[ 5.6992173e-01,  7.8725666e-01,  8.5238373e-01,\n",
              "           6.7393953e-01],\n",
              "         [ 7.0107716e-01,  6.9236231e-01,  6.7450863e-01,\n",
              "           5.5036908e-01],\n",
              "         [ 3.5982552e-01,  6.3313210e-01,  5.8944803e-01,\n",
              "           6.2653238e-01],\n",
              "         [ 2.8826761e-01,  8.6356258e-01,  8.8477415e-01,\n",
              "           6.2607098e-01]],\n",
              "\n",
              "        [[ 2.8571904e-01,  6.3094556e-01,  6.8179852e-01,\n",
              "           3.1456721e-01],\n",
              "         [ 3.9147985e-01,  6.4925963e-01,  4.8576945e-01,\n",
              "           1.6326088e-01],\n",
              "         [ 2.3312585e-01,  5.4553592e-01,  6.9920748e-01,\n",
              "           2.5298977e-01],\n",
              "         [ 1.6159844e-01,  3.7101609e-01,  6.8095678e-01,\n",
              "           5.3641915e-01]]]], dtype=float32)"
            ]
          },
          "metadata": {},
          "execution_count": 53
        }
      ]
    },
    {
      "cell_type": "markdown",
      "source": [
        "##  全結合層\n",
        "画像をフィルターに通して、特徴を抽出する\n"
      ],
      "metadata": {
        "id": "wjoRptUKHT37"
      }
    },
    {
      "cell_type": "code",
      "source": [
        "# 全結合層３適用\n",
        "result_f3_b"
      ],
      "metadata": {
        "colab": {
          "base_uri": "https://localhost:8080/"
        },
        "id": "VGV_E72z7Fqc",
        "outputId": "e4ef85e4-f831-44ff-f7e2-ffde50cb208e"
      },
      "execution_count": null,
      "outputs": [
        {
          "output_type": "execute_result",
          "data": {
            "text/plain": [
              "array([[-0.11841824,  0.12413573, -0.7327121 , -0.0766784 , -0.28022045,\n",
              "        -0.7631141 , -0.4265145 , -0.42986453, -0.49313015,  0.18111277,\n",
              "        -0.3113046 , -0.26944822,  0.11774178, -0.21433072,  0.0817202 ,\n",
              "         0.01706874,  0.48212114,  0.13500175,  0.36638495,  0.5631454 ,\n",
              "        -0.71969646,  0.02166072, -0.06697031,  0.6878482 ,  0.06480342,\n",
              "        -0.46253166, -0.6210935 , -0.11814918, -0.09267758, -1.1587496 ,\n",
              "        -0.29255626, -0.07809073, -0.18060465,  0.4439042 , -0.17348395,\n",
              "         0.27848163, -0.65467775,  0.3653211 ,  0.15392694,  0.1666226 ,\n",
              "         0.08944474,  0.73643136,  0.53874546,  0.6831459 ,  0.01411144,\n",
              "        -0.11056022,  0.69523335,  0.44611987,  0.07772309,  0.24205542,\n",
              "        -0.7751996 , -0.658366  , -0.5707408 , -0.45794702, -0.39657816,\n",
              "        -0.6863048 , -0.55463254, -0.13705939, -0.04399385,  0.79379034,\n",
              "         0.06783703, -0.51770747,  0.06722143,  0.71744794, -0.25753862,\n",
              "         0.70999587,  0.2258731 ,  0.03390104, -0.31742826,  0.47893   ,\n",
              "         0.45391577,  0.41229126,  0.19890893, -0.40722036, -0.34855098,\n",
              "         0.5134055 , -0.82005227,  0.10124543, -0.23346443, -0.28924882,\n",
              "         0.13989481,  0.08106978,  0.5497638 , -0.194839  , -0.0751448 ,\n",
              "         0.07102729, -0.32099688, -0.29740041, -0.7306158 , -0.3008623 ,\n",
              "        -0.47514609, -0.31529146,  0.86273193, -0.16881973,  0.25977278,\n",
              "         0.5727732 ,  0.28410614, -0.0196553 ,  0.31522506, -0.02598844,\n",
              "         0.8224934 ,  0.77816075, -0.0152639 ,  0.23464015, -0.11911711,\n",
              "         0.7648063 , -0.36160555,  0.19225161,  0.22250605, -0.11767834,\n",
              "        -0.0742907 ,  0.3659646 ,  0.70245194,  0.36478016,  0.43361187,\n",
              "        -0.5046805 , -1.054313  , -0.08332275, -0.97737235,  0.30039907]],\n",
              "      dtype=float32)"
            ]
          },
          "metadata": {},
          "execution_count": 54
        }
      ]
    },
    {
      "cell_type": "code",
      "source": [
        "# 全結合層３適用後、活性化関数適用\n",
        "result_f3_f"
      ],
      "metadata": {
        "colab": {
          "base_uri": "https://localhost:8080/"
        },
        "id": "TVVg0hKL7Jkk",
        "outputId": "3e431eca-65ee-4b7a-8995-0efdfabd26d0"
      },
      "execution_count": null,
      "outputs": [
        {
          "output_type": "execute_result",
          "data": {
            "text/plain": [
              "array([[-0.11786781,  0.12350201, -0.62472177, -0.07652847, -0.2731091 ,\n",
              "        -0.6429076 , -0.40240434, -0.40520808, -0.45669726,  0.17915814,\n",
              "        -0.30162346, -0.26311132,  0.11720069, -0.21110797,  0.08153877,\n",
              "         0.01706709,  0.44794074,  0.13418752,  0.35082564,  0.5103075 ,\n",
              "        -0.6167213 ,  0.02165733, -0.06687037,  0.59659785,  0.06471286,\n",
              "        -0.43214533, -0.55188894, -0.11760247, -0.09241315, -0.820632  ,\n",
              "        -0.28448588, -0.07793238, -0.1786663 ,  0.41687536, -0.17176422,\n",
              "         0.27149922, -0.57481056,  0.34989238,  0.15272266,  0.16509755,\n",
              "         0.08920697,  0.62698424,  0.49203777,  0.59356076,  0.01411051,\n",
              "        -0.11011193,  0.6013335 ,  0.4187043 ,  0.07756696,  0.23743622,\n",
              "        -0.6499428 , -0.577275  , -0.5159032 , -0.4284095 , -0.37701732,\n",
              "        -0.5956029 , -0.50398415, -0.13620755, -0.04396548,  0.66055095,\n",
              "         0.06773316, -0.47592872,  0.06712037,  0.615326  , -0.25199187,\n",
              "         0.61067426,  0.22210865,  0.03388806, -0.3071797 ,  0.44538626,\n",
              "         0.42511243,  0.39041644,  0.19632652, -0.38610998, -0.33508986,\n",
              "         0.47259438, -0.67509836,  0.1009009 , -0.2293132 , -0.2814433 ,\n",
              "         0.1389893 ,  0.08089264,  0.5003432 , -0.19241036, -0.07500368,\n",
              "         0.07090809, -0.31040803, -0.28893185, -0.62344193, -0.29210156,\n",
              "        -0.44234785, -0.30524325,  0.6976626 , -0.16723402,  0.254083  ,\n",
              "         0.51739305,  0.27670112, -0.01965277,  0.30518305, -0.0259826 ,\n",
              "         0.67642474,  0.6516498 , -0.01526271,  0.23042679, -0.11855691,\n",
              "         0.64389926, -0.34662747,  0.18991752,  0.21890531, -0.11713813,\n",
              "        -0.07415433,  0.35045695,  0.6059218 ,  0.34941757,  0.4083354 ,\n",
              "        -0.46579018, -0.7834775 , -0.08313046, -0.7519261 ,  0.29167777]],\n",
              "      dtype=float32)"
            ]
          },
          "metadata": {},
          "execution_count": 55
        }
      ]
    },
    {
      "cell_type": "code",
      "source": [
        "# 全結合層４適用\n",
        "result_f4_b"
      ],
      "metadata": {
        "colab": {
          "base_uri": "https://localhost:8080/"
        },
        "id": "uxfgikuu7Pbx",
        "outputId": "ebb36480-1a9e-4ae7-b5f9-c370a35b765b"
      },
      "execution_count": null,
      "outputs": [
        {
          "output_type": "execute_result",
          "data": {
            "text/plain": [
              "array([[-2.53450304e-01, -4.18239653e-01, -3.10470402e-01,\n",
              "        -3.17944765e-01,  3.13775912e-02, -9.76134390e-02,\n",
              "        -6.57458484e-01, -5.10378838e-01,  6.80726588e-01,\n",
              "        -3.03379744e-02, -1.59661993e-02,  6.98698223e-01,\n",
              "        -3.94231752e-02,  2.46704206e-01,  4.05388176e-01,\n",
              "         1.43239468e-01, -8.21740091e-01, -2.77840018e-01,\n",
              "         2.34773159e-02,  5.15425086e-01,  8.20461661e-03,\n",
              "        -7.22381920e-02, -5.44030607e-01, -1.80098280e-01,\n",
              "         2.41294086e-01,  2.41898835e-01,  6.29953295e-02,\n",
              "        -2.97152251e-01,  3.13007653e-01,  6.25004053e-01,\n",
              "         7.86899924e-02, -2.31314972e-01, -1.19345188e-02,\n",
              "        -3.98611188e-01,  4.39256489e-01,  1.98712163e-02,\n",
              "         1.27809912e-01,  6.11841440e-01,  4.98913378e-02,\n",
              "        -5.56094348e-01, -1.49379700e-01, -1.29558802e-01,\n",
              "         3.54315490e-01,  4.02260035e-01,  5.23567498e-01,\n",
              "        -3.26164722e-01,  7.14984715e-01,  3.81257474e-01,\n",
              "         3.08721781e-01,  4.59064513e-01,  2.87373364e-01,\n",
              "         9.65442210e-02, -8.64154398e-02, -5.97445965e-01,\n",
              "        -4.48385924e-02, -9.56566930e-02,  7.20046043e-01,\n",
              "        -7.80662179e-01,  1.54686913e-01, -3.63328576e-01,\n",
              "        -3.74317169e-04,  4.27757829e-01,  1.55520946e-01,\n",
              "         5.95484614e-01, -9.03559268e-01,  4.47760105e-01,\n",
              "         5.35610080e-01,  1.13078207e-01,  4.21592653e-01,\n",
              "         4.78923857e-01,  2.92260349e-02, -1.09012410e-01,\n",
              "         8.82500783e-02,  5.24639845e-01, -3.08967292e-01,\n",
              "        -5.09914637e-01,  3.19525123e-01,  2.36031950e-01,\n",
              "         2.96938419e-03, -2.29271904e-01,  8.60561132e-02,\n",
              "         3.91124964e-01, -1.14123784e-01,  2.07219303e-01]], dtype=float32)"
            ]
          },
          "metadata": {},
          "execution_count": 56
        }
      ]
    },
    {
      "cell_type": "code",
      "source": [
        "# 全結合層４適用後、活性化関数適用\n",
        "result_f4_f"
      ],
      "metadata": {
        "colab": {
          "base_uri": "https://localhost:8080/"
        },
        "id": "uBM332cT7TIM",
        "outputId": "1ea96a75-3cb7-4ede-c1da-656548f0bdf1"
      },
      "execution_count": null,
      "outputs": [
        {
          "output_type": "execute_result",
          "data": {
            "text/plain": [
              "array([[-2.48159245e-01, -3.95446420e-01, -3.00864995e-01,\n",
              "        -3.07647407e-01,  3.13672982e-02, -9.73045826e-02,\n",
              "        -5.76669574e-01, -4.70240355e-01,  5.91991544e-01,\n",
              "        -3.03286705e-02, -1.59648433e-02,  6.03540838e-01,\n",
              "        -3.94027643e-02,  2.41818070e-01,  3.84549856e-01,\n",
              "         1.42267793e-01, -6.76015913e-01, -2.70904779e-01,\n",
              "         2.34730039e-02,  4.74161386e-01,  8.20443314e-03,\n",
              "        -7.21127987e-02, -4.96032953e-01, -1.78176031e-01,\n",
              "         2.36717686e-01,  2.37288460e-01,  6.29121363e-02,\n",
              "        -2.88704365e-01,  3.03170800e-01,  5.54602504e-01,\n",
              "         7.85279721e-02, -2.27275759e-01, -1.19339526e-02,\n",
              "        -3.78760040e-01,  4.13027942e-01,  1.98686011e-02,\n",
              "         1.27118483e-01,  5.45422077e-01,  4.98499833e-02,\n",
              "        -5.05073905e-01, -1.48278430e-01, -1.28838733e-01,\n",
              "         3.40197176e-01,  3.81881088e-01,  4.80448753e-01,\n",
              "        -3.15070421e-01,  6.13793135e-01,  3.63799036e-01,\n",
              "         2.99273819e-01,  4.29321438e-01,  2.79715478e-01,\n",
              "         9.62453783e-02, -8.62009749e-02, -5.35229683e-01,\n",
              "        -4.48085703e-02, -9.53659937e-02,  6.16937816e-01,\n",
              "        -6.53086662e-01,  1.53464824e-01, -3.48142564e-01,\n",
              "        -3.74317140e-04,  4.03445810e-01,  1.54279113e-01,\n",
              "         5.33828735e-01, -7.18026519e-01,  4.20056045e-01,\n",
              "         4.89657789e-01,  1.12598695e-01,  3.98271322e-01,\n",
              "         4.45381343e-01,  2.92177163e-02, -1.08582631e-01,\n",
              "         8.80216882e-02,  4.81273144e-01, -2.99497306e-01,\n",
              "        -4.69878703e-01,  3.09077471e-01,  2.31744260e-01,\n",
              "         2.96937558e-03, -2.25337327e-01,  8.58443081e-02,\n",
              "         3.72329652e-01, -1.13630891e-01,  2.04303384e-01]], dtype=float32)"
            ]
          },
          "metadata": {},
          "execution_count": 57
        }
      ]
    },
    {
      "cell_type": "code",
      "source": [
        "# 全結合層５\n",
        "result_f5_b"
      ],
      "metadata": {
        "colab": {
          "base_uri": "https://localhost:8080/"
        },
        "id": "D_PMJRsL7Z-J",
        "outputId": "c1feb153-605a-40a3-92a5-1fff0a1c38b4"
      },
      "execution_count": null,
      "outputs": [
        {
          "output_type": "execute_result",
          "data": {
            "text/plain": [
              "array([[ 0.75922954,  0.24937296,  0.39605224,  0.7561294 , -1.144773  ,\n",
              "         0.33356044, -0.15276298, -0.302677  ,  0.2132766 ,  0.00884873]],\n",
              "      dtype=float32)"
            ]
          },
          "metadata": {},
          "execution_count": 58
        }
      ]
    },
    {
      "cell_type": "markdown",
      "source": [
        "##  全結合層_（具体的作業）\n",
        "画像をフィルターに通して、特徴を抽出する\n"
      ],
      "metadata": {
        "id": "9x7Lmx7ZQKmz"
      }
    },
    {
      "cell_type": "code",
      "source": [
        "# 重み行列を取得\n",
        "fc3_param = lenet_f3_b.fc3.W.array\n",
        "fc3_param"
      ],
      "metadata": {
        "colab": {
          "base_uri": "https://localhost:8080/"
        },
        "outputId": "c207f1ea-7f92-4f88-dc4a-7fae79453aed",
        "id": "B28rzuoUQKm0"
      },
      "execution_count": null,
      "outputs": [
        {
          "output_type": "execute_result",
          "data": {
            "text/plain": [
              "array([[-0.10998389,  0.01890443, -0.14056483, ...,  0.03191006,\n",
              "        -0.07066448, -0.0562632 ],\n",
              "       [-0.0933558 , -0.07609827,  0.03450594, ...,  0.0459023 ,\n",
              "         0.02369725,  0.00934355],\n",
              "       [-0.08900501,  0.09135668,  0.07288211, ...,  0.05576422,\n",
              "         0.05392596, -0.06035112],\n",
              "       ...,\n",
              "       [ 0.00143112, -0.02391433, -0.04665549, ..., -0.09615854,\n",
              "        -0.02860799,  0.03966358],\n",
              "       [-0.00375559, -0.09385591,  0.00350007, ..., -0.03089405,\n",
              "         0.14441688, -0.00863796],\n",
              "       [-0.02390633, -0.08560088,  0.01598963, ...,  0.02259114,\n",
              "        -0.01573039, -0.02768728]], dtype=float32)"
            ]
          },
          "metadata": {},
          "execution_count": 59
        }
      ]
    },
    {
      "cell_type": "code",
      "source": [
        "# バイアスベクトルを取得\n",
        "fc3_param_b = lenet_f3_b.fc3.b.array\n",
        "fc3_param_b"
      ],
      "metadata": {
        "colab": {
          "base_uri": "https://localhost:8080/"
        },
        "outputId": "3dad7369-b902-4321-edb2-e7dc923068be",
        "id": "l5duB_hnQKm0"
      },
      "execution_count": null,
      "outputs": [
        {
          "output_type": "execute_result",
          "data": {
            "text/plain": [
              "array([0., 0., 0., 0., 0., 0., 0., 0., 0., 0., 0., 0., 0., 0., 0., 0., 0.,\n",
              "       0., 0., 0., 0., 0., 0., 0., 0., 0., 0., 0., 0., 0., 0., 0., 0., 0.,\n",
              "       0., 0., 0., 0., 0., 0., 0., 0., 0., 0., 0., 0., 0., 0., 0., 0., 0.,\n",
              "       0., 0., 0., 0., 0., 0., 0., 0., 0., 0., 0., 0., 0., 0., 0., 0., 0.,\n",
              "       0., 0., 0., 0., 0., 0., 0., 0., 0., 0., 0., 0., 0., 0., 0., 0., 0.,\n",
              "       0., 0., 0., 0., 0., 0., 0., 0., 0., 0., 0., 0., 0., 0., 0., 0., 0.,\n",
              "       0., 0., 0., 0., 0., 0., 0., 0., 0., 0., 0., 0., 0., 0., 0., 0., 0.,\n",
              "       0.], dtype=float32)"
            ]
          },
          "metadata": {},
          "execution_count": 60
        }
      ]
    },
    {
      "cell_type": "code",
      "source": [
        "# Excel作業用\n",
        "fc3_param_new = fc3_param\n",
        "np.savetxt('weight_param.csv', fc3_param_new)"
      ],
      "metadata": {
        "id": "QHus5HUeomjC"
      },
      "execution_count": null,
      "outputs": []
    },
    {
      "cell_type": "code",
      "source": [
        "# 入力ベクトル作成（16×4×4配列を1次元ベクトルに変換）\n",
        "input_array = np.array(result_c2_p).reshape(16,4,4)\n",
        "input_array_flat = input_array.flatten()"
      ],
      "metadata": {
        "id": "0vGfa93NQPwi"
      },
      "execution_count": null,
      "outputs": []
    },
    {
      "cell_type": "code",
      "source": [
        "input_array_flat"
      ],
      "metadata": {
        "colab": {
          "base_uri": "https://localhost:8080/"
        },
        "id": "dLZbOhME5TPV",
        "outputId": "2bd9320e-3d90-4b7e-b81d-3d1cd0e63215"
      },
      "execution_count": null,
      "outputs": [
        {
          "output_type": "execute_result",
          "data": {
            "text/plain": [
              "array([ 5.9236419e-01,  7.2940493e-01,  7.2393143e-01,  5.9959340e-01,\n",
              "        4.7443700e-01,  6.8908906e-01,  5.7906246e-01,  4.7267252e-01,\n",
              "        4.6093869e-01,  4.4037083e-01,  5.4093540e-01,  5.6082880e-01,\n",
              "        5.4165882e-01,  5.1088655e-01,  7.7230740e-01,  7.2236812e-01,\n",
              "       -7.9732098e-02,  3.1087673e-01,  6.4150810e-01,  4.7206268e-01,\n",
              "        2.9042426e-01,  2.4938057e-03,  6.7315358e-01,  5.6306970e-01,\n",
              "        2.5640690e-01,  5.6872338e-01,  3.6428291e-01,  5.5890751e-01,\n",
              "        3.2677001e-01,  4.9641928e-01,  5.8056802e-01,  3.4490499e-01,\n",
              "        1.9482723e-01, -2.5823677e-03,  1.1258263e-01, -2.9717798e-03,\n",
              "        3.0317628e-01,  1.0918457e-01,  3.6774207e-02,  1.2258055e-01,\n",
              "        2.7607709e-01,  2.6865101e-01, -2.2912897e-01,  1.4352901e-01,\n",
              "        2.3522104e-01, -9.6252806e-02, -1.7284493e-01,  1.2064531e-01,\n",
              "        6.3951480e-01,  7.6195443e-01,  6.8114889e-01,  4.6233842e-01,\n",
              "        5.3609949e-01,  7.1273142e-01,  5.8932996e-01,  3.0715948e-01,\n",
              "        2.9630044e-01,  8.4275270e-01,  8.3080268e-01,  5.7557172e-01,\n",
              "        7.6505262e-01,  7.7545214e-01,  4.2644715e-01,  2.2275434e-01,\n",
              "       -2.4907120e-01, -3.3218783e-01, -1.0697824e-01,  7.6067060e-02,\n",
              "       -9.6843489e-02, -2.8267217e-01, -3.2618603e-01,  1.8518770e-01,\n",
              "       -1.1438923e-01, -1.0200820e-01, -2.3509988e-01,  1.8396068e-02,\n",
              "       -1.4647768e-01, -1.6130884e-01, -1.5708406e-01,  1.9988249e-01,\n",
              "        6.7181402e-01,  7.6740777e-01,  3.7323239e-01,  3.4870663e-01,\n",
              "        5.6753469e-01,  7.6068360e-01,  5.7120872e-01,  4.1505715e-01,\n",
              "        4.3767899e-01,  5.9165525e-01,  5.6733531e-01,  2.3521984e-01,\n",
              "        4.7561851e-01,  6.7409241e-01,  6.7572904e-01,  4.4997159e-01,\n",
              "        2.6673082e-01,  3.5181499e-01,  5.7341546e-01,  1.7029412e-02,\n",
              "        1.8811271e-01,  5.9366018e-02, -3.7858330e-02,  8.0411442e-02,\n",
              "        2.0339085e-01,  1.9833760e-01,  3.0633312e-01,  2.3122603e-01,\n",
              "        3.3902323e-01,  5.1399797e-01,  3.8696584e-01, -2.1805629e-02,\n",
              "        1.4455247e-01, -6.1755233e-02,  1.2262965e-01,  1.5311073e-01,\n",
              "        3.8858461e-01,  4.0703082e-01, -4.8363481e-02,  3.7681464e-02,\n",
              "        7.8730308e-02,  1.9086151e-01, -2.5875110e-02, -1.3394615e-01,\n",
              "       -9.9238474e-03,  7.4099548e-02,  2.4276718e-01,  1.8703558e-01,\n",
              "        2.1511307e-02, -2.3303439e-01,  5.0186294e-01,  4.2715499e-01,\n",
              "        2.2336584e-01, -1.1076088e-01, -1.8780969e-01,  4.0139702e-01,\n",
              "       -2.1300712e-01, -5.0227653e-02, -1.9587551e-01,  1.4619392e-01,\n",
              "       -1.1902879e-01, -1.1297644e-01,  4.8417634e-01,  2.5944939e-01,\n",
              "        3.5119295e-01,  3.7935492e-01,  4.2933833e-02,  7.3856704e-02,\n",
              "        1.8827942e-01,  1.9993208e-01,  4.9212569e-04,  1.8156104e-01,\n",
              "        1.8823420e-01,  4.6250454e-01,  2.5503391e-01, -7.4695364e-02,\n",
              "        4.4744134e-01,  5.5691981e-01,  1.5715922e-01,  1.3277067e-01,\n",
              "       -8.2348228e-02, -7.0407182e-02, -3.4361440e-01, -7.6379441e-02,\n",
              "        1.9584553e-01, -5.8408622e-02, -1.1430056e-01, -9.2561230e-02,\n",
              "        1.3764866e-01,  9.5151607e-03, -1.7045996e-01, -1.3942376e-01,\n",
              "       -2.0531955e-01, -1.8050388e-02, -9.7162426e-02,  1.5212333e-01,\n",
              "        2.8478038e-01,  7.2864705e-01,  6.8087423e-01,  6.7258286e-01,\n",
              "        4.5153672e-01,  2.5942835e-01,  4.3808118e-01,  4.3107921e-01,\n",
              "        3.9619792e-01,  5.5732495e-01,  5.0423294e-01,  6.2402785e-01,\n",
              "        4.1249409e-01,  6.7187357e-01,  6.4496559e-01,  4.2893907e-01,\n",
              "        2.6646391e-01,  6.7032349e-01,  6.5727562e-01,  5.1911551e-01,\n",
              "        3.9823836e-01,  4.9008697e-01,  5.4304081e-01,  4.9744815e-01,\n",
              "        4.0913597e-01,  5.8568555e-01,  5.5549669e-01,  6.8379402e-01,\n",
              "        5.1269966e-01,  8.0040479e-01,  6.0484815e-01,  3.8401848e-01,\n",
              "        1.4150357e-02, -1.3830408e-01,  4.4291824e-02, -6.9197472e-03,\n",
              "        3.0883569e-01,  2.5991860e-01, -5.6130305e-02, -5.1942743e-02,\n",
              "        3.3956018e-01,  2.6822454e-01,  1.0412868e-02, -5.2332621e-02,\n",
              "        1.5444916e-01,  1.6122223e-01,  5.3697534e-02,  2.5377933e-02,\n",
              "        5.6992173e-01,  7.8725666e-01,  8.5238373e-01,  6.7393953e-01,\n",
              "        7.0107716e-01,  6.9236231e-01,  6.7450863e-01,  5.5036908e-01,\n",
              "        3.5982552e-01,  6.3313210e-01,  5.8944803e-01,  6.2653238e-01,\n",
              "        2.8826761e-01,  8.6356258e-01,  8.8477415e-01,  6.2607098e-01,\n",
              "        2.8571904e-01,  6.3094556e-01,  6.8179852e-01,  3.1456721e-01,\n",
              "        3.9147985e-01,  6.4925963e-01,  4.8576945e-01,  1.6326088e-01,\n",
              "        2.3312585e-01,  5.4553592e-01,  6.9920748e-01,  2.5298977e-01,\n",
              "        1.6159844e-01,  3.7101609e-01,  6.8095678e-01,  5.3641915e-01],\n",
              "      dtype=float32)"
            ]
          },
          "metadata": {},
          "execution_count": 63
        }
      ]
    },
    {
      "cell_type": "code",
      "source": [
        "# 入力kベクトルと重み行列の行列積\n",
        "output = np.dot(fc3_param,input_array_flat)\n",
        "\n",
        "# バイアスを加算\n",
        "output += fc3_param_b"
      ],
      "metadata": {
        "id": "9DOygERDRR3E"
      },
      "execution_count": null,
      "outputs": []
    },
    {
      "cell_type": "code",
      "source": [
        "# 結果表示（result_fc3_b)\n",
        "output"
      ],
      "metadata": {
        "colab": {
          "base_uri": "https://localhost:8080/"
        },
        "id": "-MNpGn-rUoAZ",
        "outputId": "bf200daf-c3b9-4cf9-c5bd-716232ff6986"
      },
      "execution_count": null,
      "outputs": [
        {
          "output_type": "execute_result",
          "data": {
            "text/plain": [
              "array([-0.11841824,  0.12413573, -0.7327121 , -0.0766784 , -0.28022045,\n",
              "       -0.7631141 , -0.4265145 , -0.42986453, -0.49313015,  0.18111277,\n",
              "       -0.3113046 , -0.26944822,  0.11774178, -0.21433072,  0.0817202 ,\n",
              "        0.01706874,  0.48212114,  0.13500175,  0.36638495,  0.5631454 ,\n",
              "       -0.71969646,  0.02166072, -0.06697031,  0.6878482 ,  0.06480342,\n",
              "       -0.46253166, -0.6210935 , -0.11814918, -0.09267758, -1.1587496 ,\n",
              "       -0.29255626, -0.07809073, -0.18060465,  0.4439042 , -0.17348395,\n",
              "        0.27848163, -0.65467775,  0.3653211 ,  0.15392694,  0.1666226 ,\n",
              "        0.08944474,  0.73643136,  0.53874546,  0.6831459 ,  0.01411144,\n",
              "       -0.11056022,  0.69523335,  0.44611987,  0.07772309,  0.24205542,\n",
              "       -0.7751996 , -0.658366  , -0.5707408 , -0.45794702, -0.39657816,\n",
              "       -0.6863048 , -0.55463254, -0.13705939, -0.04399385,  0.79379034,\n",
              "        0.06783703, -0.51770747,  0.06722143,  0.71744794, -0.25753862,\n",
              "        0.70999587,  0.2258731 ,  0.03390104, -0.31742826,  0.47893   ,\n",
              "        0.45391577,  0.41229126,  0.19890893, -0.40722036, -0.34855098,\n",
              "        0.5134055 , -0.82005227,  0.10124543, -0.23346443, -0.28924882,\n",
              "        0.13989481,  0.08106978,  0.5497638 , -0.194839  , -0.0751448 ,\n",
              "        0.07102729, -0.32099688, -0.29740041, -0.7306158 , -0.3008623 ,\n",
              "       -0.47514609, -0.31529146,  0.86273193, -0.16881973,  0.25977278,\n",
              "        0.5727732 ,  0.28410614, -0.0196553 ,  0.31522506, -0.02598844,\n",
              "        0.8224934 ,  0.77816075, -0.0152639 ,  0.23464015, -0.11911711,\n",
              "        0.7648063 , -0.36160555,  0.19225161,  0.22250605, -0.11767834,\n",
              "       -0.0742907 ,  0.3659646 ,  0.70245194,  0.36478016,  0.43361187,\n",
              "       -0.5046805 , -1.054313  , -0.08332275, -0.97737235,  0.30039907],\n",
              "      dtype=float32)"
            ]
          },
          "metadata": {},
          "execution_count": 65
        }
      ]
    },
    {
      "cell_type": "markdown",
      "source": [
        "# 元コード"
      ],
      "metadata": {
        "id": "VD87p88B90Kz"
      }
    },
    {
      "cell_type": "code",
      "source": [
        "\n",
        "\n",
        "from chainer import Chain\n",
        "import chainer.links as L\n",
        "import chainer.functions as F\n",
        "\n",
        "class LeNet(Chain):\n",
        "    def __init__(self, out_size=10, act_func = ''):\n",
        "        super(LeNet, self).__init__(\n",
        "                    conv1 = L.Convolution2D(None, 6, 5, stride=1),\n",
        "                    conv2 = L.Convolution2D(None, 16, 5, stride=1),\n",
        "                    fc3 = L.Linear(None, 120),\n",
        "                    fc4 = L.Linear(None, 84),\n",
        "                    fc5 = L.Linear(None, out_size))\n",
        "        self.train = True\n",
        "        if act_func == 'sigmoid':\n",
        "            print('activation function is', act_func)\n",
        "            self.act_func = F.sigmoid\n",
        "        elif act_func == 'relu':\n",
        "            print('activation function is', act_func)\n",
        "            self.act_func = F.relu\n",
        "        else:\n",
        "            print('activation function is', 'tanh')\n",
        "            self.act_func = F.tanh\n",
        "\n",
        "    def __call__(self, x):\n",
        "        with chainer.using_config('enable_backprop', self.train):\n",
        "            c1 = self.conv1(x) #畳み込み層１\n",
        "            # c1 = self.act_func(self.conv1(x)) #畳み込み層１\n",
        "            # y = F.max_pooling_2d(self.act_func(self.conv1(x)), 2, stride=2)\n",
        "            # h = F.max_pooling_2d(self.act_func(self.conv2(x)), 2, stride=2)\n",
        "            # h = self.act_func(self.fc3(h))\n",
        "            # h = self.act_func(self.fc4(h))\n",
        "            # y = self.fc5(h4)\n",
        "\n",
        "            return c1"
      ],
      "metadata": {
        "id": "tSS0sltjK7dA"
      },
      "execution_count": null,
      "outputs": []
    },
    {
      "cell_type": "code",
      "source": [
        "lenet1 = LeNet()"
      ],
      "metadata": {
        "colab": {
          "base_uri": "https://localhost:8080/"
        },
        "id": "Qi1ckXnwNbjW",
        "outputId": "f1b127c0-30cf-4ee6-b73e-4d47ce179960"
      },
      "execution_count": null,
      "outputs": [
        {
          "output_type": "stream",
          "name": "stdout",
          "text": [
            "activation function is tanh\n"
          ]
        }
      ]
    },
    {
      "cell_type": "code",
      "source": [
        "# cpuに変更\n",
        "import chainer\n",
        "import chainer.functions as F\n",
        "import chainer.cuda as cuda\n",
        "from chainer import Chain, optimizers, serializers\n",
        "#from time import clock\n",
        "from time import perf_counter\n",
        "\n",
        "def train_model(model, train, model_name, val = False, batchsize = 128, init_lr = 0.01, num_epochs = 50, cpu = True):\n",
        "    \"\"\"\n",
        "    train: (np.array, np.array)\n",
        "    val: (np.array, np.array)\n",
        "    \"\"\"\n",
        "    X_train, Y_train = train\n",
        "\n",
        "    if val:\n",
        "        X_train, X_val = np.split(X_train,[54000])\n",
        "        Y_train, Y_val = np.split(Y_train,[54000])\n",
        "        n_val = len(X_val)\n",
        "    n_train = len(X_train)\n",
        "    optimizer = optimizers.NesterovAG(lr=init_lr)\n",
        "    optimizer.setup(model)\n",
        "\n",
        "\n",
        "    if cpu:\n",
        "        model.to_cpu()\n",
        "    update_start =perf_counter()\n",
        "    for epoch in range(num_epochs):\n",
        "        print('-'*20, 'epoch:', epoch+1, '-'*20)\n",
        "        # training\n",
        "        count = 0\n",
        "        num_samples = 0\n",
        "        train_loss = 0\n",
        "        train_acc = 0\n",
        "        train_start = perf_counter()\n",
        "        print('training...')\n",
        "        for t in range(0, n_train, batchsize):\n",
        "            model.cleargrads()\n",
        "            minibatch, labels = X_train[t:t+batchsize], Y_train[t:t+batchsize]\n",
        "            if cpu:\n",
        "                minibatch = cuda.to_cpu(minibatch)\n",
        "                labels = cuda.to_cpu(labels)\n",
        "            y = model(minibatch)\n",
        "            loss = F.softmax_cross_entropy(y, labels)\n",
        "            loss.backward()\n",
        "            optimizer.update()\n",
        "            y_pred = F.softmax(y)\n",
        "            preds = cuda.to_cpu(y_pred.data).argmax(axis=1)\n",
        "            labels = cuda.to_cpu(labels)\n",
        "            train_loss += float(loss.data)*len(minibatch)\n",
        "            train_acc += (labels==preds).sum()\n",
        "            count += 1\n",
        "            num_samples += len(minibatch)\n",
        "        print('train_acc:', round(train_acc/num_samples, 4), 'train_loss:', round(train_loss/num_samples, 4))\n",
        "        print('Took', perf_counter() - train_start, 'seconds.')\n",
        "\n",
        "        index = np.random.permutation(np.arange(n_train))\n",
        "        X_train = X_train[index]\n",
        "        Y_train = Y_train[index]\n",
        "\n",
        "        if val:\n",
        "            # validation\n",
        "            val_acc = 0\n",
        "            val_loss = 0\n",
        "            num_samples = 0\n",
        "            count = 0\n",
        "            model.train = False\n",
        "            val_start = perf_counter()\n",
        "            print('\\n')\n",
        "            print('validating...')\n",
        "            for v in range(0, n_val, batchsize):\n",
        "                minibatch, labels = X_val[v:v+batchsize], Y_val[v:v+batchsize]\n",
        "                if cpu:\n",
        "                    minibatch = cuda.to_cpu(minibatch)\n",
        "                    labels = cuda.to_cpu(labels)\n",
        "                y = model(minibatch)\n",
        "                loss = F.softmax_cross_entropy(y, labels)\n",
        "                y_pred = F.softmax(y)\n",
        "                preds = cuda.to_cpu(y_pred.data).argmax(axis=1)\n",
        "                val_loss += float(loss.data)*len(minibatch)\n",
        "                labels = cuda.to_cpu(labels)\n",
        "                val_acc += (labels==preds).sum()\n",
        "                count+=1\n",
        "                num_samples += len(minibatch)\n",
        "            val_acc /= num_samples\n",
        "            print('val_acc:', round(val_acc, 4), 'val_loss:', round(val_loss/num_samples, 4))\n",
        "            print('Took', perf_counter()-val_start, 'seconds.')\n",
        "            model.train = True\n",
        "        serializers.save_npz(model_name+'.npz', model)\n",
        "\n",
        "    print('\\nTook',perf_counter()-update_start, 'seconds.')"
      ],
      "metadata": {
        "id": "GCknQQftPedH"
      },
      "execution_count": null,
      "outputs": []
    },
    {
      "cell_type": "markdown",
      "source": [
        "#  テスト"
      ],
      "metadata": {
        "id": "5A0B5F_CwETa"
      }
    },
    {
      "cell_type": "code",
      "source": [
        "test_conv1 = result_c1_p[0,1,:6,:6] #ひとつめの畳み込み1後マップ\n",
        "# test_n=np.array(test_conv1).reshape(6,6,6)\n",
        "test_conv1"
      ],
      "metadata": {
        "colab": {
          "base_uri": "https://localhost:8080/"
        },
        "id": "WUwd8cuvwETb",
        "outputId": "a15f2013-9cba-4b82-d430-a4459b9e8648"
      },
      "execution_count": null,
      "outputs": [
        {
          "output_type": "execute_result",
          "data": {
            "text/plain": [
              "array([[-5.5282144e-03, -4.9126404e-03, -2.4221928e-03, -1.2354891e-02,\n",
              "        -1.1151132e-02, -8.4754312e-03],\n",
              "       [-2.8503714e-03, -7.3748855e-03, -4.9714718e-02, -1.2848492e-01,\n",
              "        -3.2229477e-01, -5.5657709e-01],\n",
              "       [-8.2547904e-04, -1.1642025e-02, -1.6760351e-01, -7.4102342e-01,\n",
              "        -9.1166061e-01, -9.4134289e-01],\n",
              "       [-2.4105157e-03, -5.5242665e-03, -2.2250561e-01, -5.1870048e-01,\n",
              "        -7.6956898e-01, -8.2857323e-01],\n",
              "       [-3.4598983e-03, -3.6797831e-03, -2.9009938e-02, -1.4555359e-01,\n",
              "        -3.9911065e-01, -6.2640411e-01],\n",
              "       [ 1.5062151e-03,  0.0000000e+00, -5.7461490e-03, -2.9071908e-02,\n",
              "        -2.5416857e-01, -4.7376257e-01]], dtype=float32)"
            ]
          },
          "metadata": {},
          "execution_count": 71
        }
      ]
    },
    {
      "cell_type": "code",
      "source": [
        "test2 = conv2_param[0:1]\n",
        "test2"
      ],
      "metadata": {
        "colab": {
          "base_uri": "https://localhost:8080/"
        },
        "id": "M7_cp49wwETc",
        "outputId": "76ab4c59-917f-476e-d97b-6c2bd55339c3"
      },
      "execution_count": null,
      "outputs": [
        {
          "output_type": "execute_result",
          "data": {
            "text/plain": [
              "array([[[[-7.04071894e-02,  8.75026286e-02, -9.96862277e-02,\n",
              "           4.86757979e-03,  1.99564995e-04],\n",
              "         [ 3.46713625e-02, -5.92313968e-02, -2.85311555e-03,\n",
              "          -1.14815775e-02,  8.14119279e-02],\n",
              "         [-6.49861619e-02,  5.93964756e-03, -2.13301964e-02,\n",
              "          -1.05985068e-01,  2.18503669e-01],\n",
              "         [-5.81500912e-03, -1.21385120e-01,  1.15013912e-01,\n",
              "          -8.74129385e-02,  3.02814059e-02],\n",
              "         [ 7.04499483e-02, -5.29442541e-02, -3.51820253e-02,\n",
              "          -4.41128835e-02, -1.05622821e-02]],\n",
              "\n",
              "        [[-1.32473394e-01, -1.00889310e-01, -1.14951646e-02,\n",
              "           8.48300830e-02,  5.15816957e-02],\n",
              "         [ 1.41206339e-01,  5.66691309e-02, -4.17335071e-02,\n",
              "          -1.00301225e-02, -1.65780947e-01],\n",
              "         [-7.84469619e-02, -8.33119899e-02,  2.20938604e-02,\n",
              "           5.28950803e-02, -4.57542986e-02],\n",
              "         [-4.80509549e-02, -1.26275748e-01, -1.04317283e-02,\n",
              "           2.02628337e-02,  3.63978632e-02],\n",
              "         [-6.39079288e-02,  1.62359506e-01,  9.75761041e-02,\n",
              "          -7.77611742e-03, -4.30447012e-02]],\n",
              "\n",
              "        [[-2.62572803e-02,  1.23397429e-02, -1.52094662e-03,\n",
              "           3.94799598e-02,  6.27857447e-02],\n",
              "         [ 1.11553259e-01,  9.36737806e-02, -9.00017284e-03,\n",
              "           3.17005143e-02, -3.16088013e-02],\n",
              "         [-4.79463376e-02,  1.56018361e-01, -3.75462808e-02,\n",
              "           1.62543058e-01, -2.84986198e-02],\n",
              "         [ 2.06430815e-02,  8.89499187e-02,  1.95322488e-03,\n",
              "           3.20985466e-02, -1.97089855e-02],\n",
              "         [-3.88264433e-02, -1.35356374e-02, -5.30492067e-02,\n",
              "           1.33201867e-01, -1.36925336e-02]],\n",
              "\n",
              "        [[ 1.40655354e-01, -2.19238207e-01,  1.50405162e-03,\n",
              "           4.58831601e-02, -2.39904039e-02],\n",
              "         [ 8.93780515e-02,  5.22306636e-02, -2.24210061e-02,\n",
              "           3.55183557e-02,  2.29588911e-01],\n",
              "         [ 2.05753166e-02,  2.44542621e-02, -3.59251387e-02,\n",
              "           1.08999880e-02, -1.05267733e-01],\n",
              "         [-1.61903314e-02,  2.00661182e-01,  8.71377885e-02,\n",
              "           5.23717776e-02,  9.01348293e-02],\n",
              "         [ 1.53644651e-01,  4.84662652e-02,  1.69086531e-01,\n",
              "           8.73486698e-02,  1.35962609e-02]],\n",
              "\n",
              "        [[ 1.40394673e-01, -1.92629084e-01, -4.66504470e-02,\n",
              "           2.17014216e-02, -7.44719133e-02],\n",
              "         [-1.27421152e-02, -5.21570593e-02, -5.34327775e-02,\n",
              "           2.21427858e-01,  5.12330271e-02],\n",
              "         [-4.40482330e-03,  1.07382953e-01, -1.93785243e-02,\n",
              "           7.22876787e-02,  2.86439937e-02],\n",
              "         [ 1.32809177e-01, -1.15932010e-01,  6.25208616e-02,\n",
              "           9.98164993e-03, -9.44999605e-02],\n",
              "         [ 8.69911909e-02, -7.12291747e-02,  1.32210270e-01,\n",
              "           4.18938696e-02,  5.67860305e-02]],\n",
              "\n",
              "        [[ 6.56931847e-03,  7.38544390e-02, -1.52329788e-01,\n",
              "           6.10149885e-03, -5.12964651e-02],\n",
              "         [ 2.30791178e-02, -3.85034527e-03,  5.03433719e-02,\n",
              "          -6.83923215e-02,  1.50166124e-01],\n",
              "         [ 1.89089060e-01, -1.70062706e-02, -1.22255553e-03,\n",
              "           2.34789830e-02,  1.03212170e-01],\n",
              "         [ 1.54881313e-01, -9.84533876e-02, -5.02234027e-02,\n",
              "          -8.67246836e-02, -9.08581987e-02],\n",
              "         [-1.33847982e-01,  2.96227802e-02, -9.46349278e-02,\n",
              "           1.22740828e-01,  7.41639137e-02]]]], dtype=float32)"
            ]
          },
          "metadata": {},
          "execution_count": 60
        }
      ]
    },
    {
      "cell_type": "code",
      "source": [
        "data = result_c1_p[0,5]\n",
        "data"
      ],
      "metadata": {
        "id": "_a-ANYMT6xOm"
      },
      "execution_count": null,
      "outputs": []
    },
    {
      "cell_type": "code",
      "source": [
        "np.savetxt('out6.csv',result_c1_p[0,5],delimiter=',')"
      ],
      "metadata": {
        "id": "EDxXU-Wx6DWs"
      },
      "execution_count": null,
      "outputs": []
    },
    {
      "cell_type": "code",
      "source": [
        "test = conv2_param[0,5]\n",
        "test"
      ],
      "metadata": {
        "colab": {
          "base_uri": "https://localhost:8080/"
        },
        "id": "8P9SH67V8-mU",
        "outputId": "b1e7f206-8ded-44cc-bb41-3561b27bd479"
      },
      "execution_count": null,
      "outputs": [
        {
          "output_type": "execute_result",
          "data": {
            "text/plain": [
              "array([[ 0.00656932,  0.07385444, -0.15232979,  0.0061015 , -0.05129647],\n",
              "       [ 0.02307912, -0.00385035,  0.05034337, -0.06839232,  0.15016612],\n",
              "       [ 0.18908906, -0.01700627, -0.00122256,  0.02347898,  0.10321217],\n",
              "       [ 0.15488131, -0.09845339, -0.0502234 , -0.08672468, -0.0908582 ],\n",
              "       [-0.13384798,  0.02962278, -0.09463493,  0.12274083,  0.07416391]],\n",
              "      dtype=float32)"
            ]
          },
          "metadata": {},
          "execution_count": 108
        }
      ]
    },
    {
      "cell_type": "code",
      "source": [
        "np.savetxt('param16.csv',conv2_param[0,5],delimiter=',')"
      ],
      "metadata": {
        "id": "RCERLvOb9mx6"
      },
      "execution_count": null,
      "outputs": []
    },
    {
      "cell_type": "markdown",
      "source": [
        "# 事前準備"
      ],
      "metadata": {
        "id": "MJgmz9swFbVL"
      }
    },
    {
      "cell_type": "code",
      "source": [
        "# train_1とtrain_2を1つのフォルダにまとめる\n",
        "\n",
        "import os\n",
        "import shutil\n",
        "\n",
        "# フォルダ作成\n",
        "!mkdir train\n",
        "\n",
        "# train_1からtrainへファイル移動\n",
        "for filename in os.listdir('/content/train_1'):\n",
        "  shutil.move(os.path.join('/content/train_1',filename),'/content/train')\n",
        "\n",
        "# train_2からtrainへファイル移動\n",
        "for filename in os.listdir('/content/train_2'):\n",
        "  shutil.move(os.path.join('/content/train_2',filename),'/content/train')\n",
        "\n",
        "# train_1とtrain_2のフォルダを削除\n",
        "shutil.rmtree('/content/train_1')\n",
        "shutil.rmtree('/content/train_2')\n",
        "\n",
        "\n",
        "# フォルダ内のファイル数確認\n",
        "import os\n",
        "\n",
        "path_1 =  \"/content/train\"\n",
        "files_1 = os.listdir(path_1)\n",
        "num_1 = len(files_1)\n",
        "\n",
        "path_2 =  \"/content/test\"\n",
        "files_2 = os.listdir(path_2)\n",
        "num_2 = len(files_2)\n",
        "\n",
        "print('trainフォルダ画像数：',num_1)  # 60000になったらOK\n",
        "print('test フォルダ画像数：',num_2)  # 10000になったらOK"
      ],
      "metadata": {
        "colab": {
          "base_uri": "https://localhost:8080/"
        },
        "id": "lKoLaSgtFyEH",
        "outputId": "cc2f0d24-e071-4c22-a21f-ccf8319ee587"
      },
      "execution_count": null,
      "outputs": [
        {
          "output_type": "stream",
          "name": "stdout",
          "text": [
            "trainフォルダ画像数： 60000\n",
            "test フォルダ画像数： 10000\n"
          ]
        }
      ]
    }
  ]
}